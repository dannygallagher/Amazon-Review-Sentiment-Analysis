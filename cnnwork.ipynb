{
 "cells": [
  {
   "cell_type": "code",
   "execution_count": 1,
   "metadata": {},
   "outputs": [
    {
     "name": "stdout",
     "output_type": "stream",
     "text": [
      "Requirement already satisfied: pandas in /usr/local/lib/python3.6/site-packages (1.1.5)\n",
      "Requirement already satisfied: pytz>=2017.2 in /usr/local/lib/python3.6/site-packages (from pandas) (2021.1)\n",
      "Requirement already satisfied: python-dateutil>=2.7.3 in /usr/local/lib/python3.6/site-packages (from pandas) (2.8.1)\n",
      "Requirement already satisfied: numpy>=1.15.4 in /usr/local/lib/python3.6/site-packages (from pandas) (1.19.5)\n",
      "Requirement already satisfied: six>=1.5 in /usr/local/lib/python3.6/site-packages (from python-dateutil>=2.7.3->pandas) (1.15.0)\n",
      "Note: you may need to restart the kernel to use updated packages.\n",
      "Requirement already satisfied: matplotlib in /usr/local/lib/python3.6/site-packages (3.3.4)\n",
      "Requirement already satisfied: cycler>=0.10 in /usr/local/lib/python3.6/site-packages (from matplotlib) (0.10.0)\n",
      "Requirement already satisfied: pillow>=6.2.0 in /usr/local/lib/python3.6/site-packages (from matplotlib) (8.2.0)\n",
      "Requirement already satisfied: kiwisolver>=1.0.1 in /usr/local/lib/python3.6/site-packages (from matplotlib) (1.3.1)\n",
      "Requirement already satisfied: numpy>=1.15 in /usr/local/lib/python3.6/site-packages (from matplotlib) (1.19.5)\n",
      "Requirement already satisfied: pyparsing!=2.0.4,!=2.1.2,!=2.1.6,>=2.0.3 in /usr/local/lib/python3.6/site-packages (from matplotlib) (2.4.7)\n",
      "Requirement already satisfied: python-dateutil>=2.1 in /usr/local/lib/python3.6/site-packages (from matplotlib) (2.8.1)\n",
      "Requirement already satisfied: six in /usr/local/lib/python3.6/site-packages (from cycler>=0.10->matplotlib) (1.15.0)\n",
      "Note: you may need to restart the kernel to use updated packages.\n",
      "Requirement already satisfied: torch in /usr/local/lib/python3.6/site-packages (1.8.1)\n",
      "Requirement already satisfied: numpy in /usr/local/lib/python3.6/site-packages (from torch) (1.19.5)\n",
      "Requirement already satisfied: typing-extensions in /usr/local/lib/python3.6/site-packages (from torch) (3.7.4.3)\n",
      "Requirement already satisfied: dataclasses in /usr/local/lib/python3.6/site-packages (from torch) (0.8)\n",
      "Note: you may need to restart the kernel to use updated packages.\n",
      "Requirement already satisfied: torchtext in /usr/local/lib/python3.6/site-packages (0.9.1)\n",
      "Requirement already satisfied: torch==1.8.1 in /usr/local/lib/python3.6/site-packages (from torchtext) (1.8.1)\n",
      "Requirement already satisfied: numpy in /usr/local/lib/python3.6/site-packages (from torchtext) (1.19.5)\n",
      "Requirement already satisfied: tqdm in /usr/local/lib/python3.6/site-packages (from torchtext) (4.60.0)\n",
      "Requirement already satisfied: requests in /usr/local/lib/python3.6/site-packages (from torchtext) (2.25.1)\n",
      "Requirement already satisfied: dataclasses in /usr/local/lib/python3.6/site-packages (from torch==1.8.1->torchtext) (0.8)\n",
      "Requirement already satisfied: typing-extensions in /usr/local/lib/python3.6/site-packages (from torch==1.8.1->torchtext) (3.7.4.3)\n",
      "Requirement already satisfied: chardet<5,>=3.0.2 in /usr/local/lib/python3.6/site-packages (from requests->torchtext) (4.0.0)\n",
      "Requirement already satisfied: idna<3,>=2.5 in /usr/local/lib/python3.6/site-packages (from requests->torchtext) (2.10)\n",
      "Requirement already satisfied: certifi>=2017.4.17 in /usr/local/lib/python3.6/site-packages (from requests->torchtext) (2020.12.5)\n",
      "Requirement already satisfied: urllib3<1.27,>=1.21.1 in /usr/local/lib/python3.6/site-packages (from requests->torchtext) (1.26.4)\n",
      "Note: you may need to restart the kernel to use updated packages.\n",
      "Requirement already satisfied: nltk in /usr/local/lib/python3.6/site-packages (3.6.2)\n",
      "Requirement already satisfied: joblib in /usr/local/lib/python3.6/site-packages (from nltk) (1.0.1)\n",
      "Requirement already satisfied: tqdm in /usr/local/lib/python3.6/site-packages (from nltk) (4.60.0)\n",
      "Requirement already satisfied: regex in /usr/local/lib/python3.6/site-packages (from nltk) (2021.4.4)\n",
      "Requirement already satisfied: click in /usr/local/lib/python3.6/site-packages (from nltk) (7.1.2)\n",
      "Note: you may need to restart the kernel to use updated packages.\n",
      "Requirement already satisfied: sklearn in /usr/local/lib/python3.6/site-packages (0.0)\n",
      "Requirement already satisfied: scikit-learn in /usr/local/lib/python3.6/site-packages (from sklearn) (0.24.1)\n",
      "Requirement already satisfied: threadpoolctl>=2.0.0 in /usr/local/lib/python3.6/site-packages (from scikit-learn->sklearn) (2.1.0)\n",
      "Requirement already satisfied: joblib>=0.11 in /usr/local/lib/python3.6/site-packages (from scikit-learn->sklearn) (1.0.1)\n",
      "Requirement already satisfied: scipy>=0.19.1 in /usr/local/lib/python3.6/site-packages (from scikit-learn->sklearn) (1.5.4)\n",
      "Requirement already satisfied: numpy>=1.13.3 in /usr/local/lib/python3.6/site-packages (from scikit-learn->sklearn) (1.19.5)\n",
      "Note: you may need to restart the kernel to use updated packages.\n"
     ]
    }
   ],
   "source": [
    "%pip install pandas\n",
    "%pip install matplotlib\n",
    "%pip install torch\n",
    "%pip install torchtext\n",
    "%pip install nltk\n",
    "%pip install sklearn"
   ]
  },
  {
   "cell_type": "code",
   "execution_count": 2,
   "metadata": {
    "id": "ALYtb4z0LzVl"
   },
   "outputs": [],
   "source": [
    "import pandas as pd\n",
    "import gzip\n",
    "import os\n",
    "import json\n",
    "import numpy as np\n",
    "import matplotlib.pyplot as plt\n",
    "import torch\n",
    "import torch.nn as nn\n",
    "import torch.nn.functional as F\n",
    "import torchtext"
   ]
  },
  {
   "cell_type": "code",
   "execution_count": null,
   "metadata": {
    "colab": {
     "base_uri": "https://localhost:8080/"
    },
    "id": "FjOajYcXsl_N",
    "outputId": "401980e8-1a01-42b9-ea4d-efd8394c7cfe"
   },
   "outputs": [],
   "source": [
    "from google.colab import drive\n",
    "drive.mount('/content/drive')\n",
    "path = '/content/drive/Shareddrives/519 Project/Data'"
   ]
  },
  {
   "cell_type": "code",
   "execution_count": 3,
   "metadata": {
    "id": "5h8fE9mfMOkj"
   },
   "outputs": [],
   "source": [
    "def parse(path):\n",
    "  g = gzip.open(path, 'rb')\n",
    "  for l in g:\n",
    "    yield json.loads(l)\n",
    "\n",
    "def getDF(path):\n",
    "  i = 0\n",
    "  df = {}\n",
    "  for d in parse(path):\n",
    "    df[i] = d\n",
    "    i += 1\n",
    "  return pd.DataFrame.from_dict(df, orient='index')\n",
    "\n",
    "#gift_card_path = os.path.join(path, 'Gift_Cards_5.json.gz')\n",
    "#df = getDF(gift_card_path)\n",
    "\n",
    "electronics_aws_path = 'electronics_downsampled_pos_neg_binary.csv'\n",
    "\n",
    "#electronics_path = os.path.join(path, 'electronics_downsampled_pos_neg_binary.csv')\n",
    "df = pd.read_csv(electronics_aws_path, low_memory = False)"
   ]
  },
  {
   "cell_type": "code",
   "execution_count": 4,
   "metadata": {
    "colab": {
     "base_uri": "https://localhost:8080/"
    },
    "id": "F2xjnwNBFgiH",
    "outputId": "a8c0524b-e0d9-46b7-a7ff-b4aee9460366"
   },
   "outputs": [
    {
     "name": "stdout",
     "output_type": "stream",
     "text": [
      "Index(['reviewText', 'overall'], dtype='object')\n",
      "hi\n"
     ]
    }
   ],
   "source": [
    "#preprocessing\n",
    "\n",
    "#TODO: add in Dan's preprocessing code\n",
    "df = df[['reviewText', 'pos_neg']]\n",
    "df = df.rename(columns = {'pos_neg': 'overall'})\n",
    "\n",
    "#df = df[['reviewText', 'overall']]\n",
    "df = df[df['reviewText'].notna()]\n",
    "print(df.columns)\n",
    "print('hi')\n",
    "\n",
    "#from spell_check import fixSentence\n",
    "#df['reviewText'] = df['reviewText'].apply(lambda x: fixSentence(x))\n",
    "\n",
    "#print('CHECKPOINT: Spell Check Complete')"
   ]
  },
  {
   "cell_type": "code",
   "execution_count": 5,
   "metadata": {
    "colab": {
     "base_uri": "https://localhost:8080/"
    },
    "id": "b1jt03k-c9_-",
    "outputId": "aa1aa4aa-1d2b-49b6-8327-165b52092f4d"
   },
   "outputs": [
    {
     "name": "stderr",
     "output_type": "stream",
     "text": [
      "[nltk_data] Downloading package stopwords to /root/nltk_data...\n",
      "[nltk_data]   Package stopwords is already up-to-date!\n"
     ]
    }
   ],
   "source": [
    "from nltk.tokenize import RegexpTokenizer\n",
    "import nltk\n",
    "from nltk.corpus import stopwords \n",
    "nltk.download('stopwords')\n",
    "\n",
    "stop_words = set(stopwords.words('english')) \n",
    "token = RegexpTokenizer(r'[a-zA-Z0-9]+')\n",
    "\n",
    "def tokenize(sentence):\n",
    "  tokens = token.tokenize(sentence)\n",
    "  filtered = [x for x in tokens if not x in stop_words]\n",
    "  return filtered\n",
    "\n",
    "df['tokenized'] = df['reviewText'].apply(tokenize)\n",
    "df = df[['tokenized', 'overall']]"
   ]
  },
  {
   "cell_type": "code",
   "execution_count": null,
   "metadata": {
    "id": "GWHEsEPBqMc8"
   },
   "outputs": [],
   "source": [
    "#df['overall_adj'] = df['overall'].apply(lambda x: 1 if x > 3 else 0)\n",
    "#df = df[['tokenized', 'overall_adj']]\n",
    "#df = df.rename(columns = {'overall_adj': 'overall'})"
   ]
  },
  {
   "cell_type": "code",
   "execution_count": 6,
   "metadata": {
    "colab": {
     "base_uri": "https://localhost:8080/",
     "height": 281
    },
    "id": "iG_2LD7LTv9x",
    "outputId": "ac3a3add-7d68-47df-de5e-62807634f3b7"
   },
   "outputs": [
    {
     "data": {
      "image/png": "[encoded data removed]",
      "text/plain": [
       "<Figure size 432x288 with 1 Axes>"
      ]
     },
     "metadata": {
      "needs_background": "light"
     },
     "output_type": "display_data"
    }
   ],
   "source": [
    "len_tokens = [len(i) for i in df['tokenized']]\n",
    "pd.Series(len_tokens).hist()\n",
    "plt.title('Tokenized Review Length')\n",
    "plt.show()\n",
    "pd.Series(len_tokens).describe()\n",
    "\n",
    "df['len'] = df['tokenized'].apply(lambda x: len(x))\n",
    "df = df.loc[df['len'] >= 4]"
   ]
  },
  {
   "cell_type": "code",
   "execution_count": 7,
   "metadata": {
    "colab": {
     "base_uri": "https://localhost:8080/"
    },
    "id": "F_VcuT5xJ9Lj",
    "outputId": "4ede464a-50e4-4376-acbc-0b6ef5d2132b"
   },
   "outputs": [
    {
     "name": "stdout",
     "output_type": "stream",
     "text": [
      "starting split\n",
      "done split\n",
      "done writing train\n",
      "done writing test\n"
     ]
    }
   ],
   "source": [
    "from sklearn.model_selection import train_test_split\n",
    "\n",
    "print('starting split')\n",
    "train_df, test_df = train_test_split(df, test_size = .2, random_state = 42)\n",
    "\n",
    "print('done split')\n",
    "train_json = train_df.to_json(orient = 'records')\n",
    "train_json_result = json.loads(train_json)\n",
    "with open('sample_data/train_gift_cards.json', 'w') as f:\n",
    "  for entry in train_json_result:\n",
    "    json.dump(entry, f)\n",
    "    f.write('\\n')\n",
    "\n",
    "print('done writing train')\n",
    "test_json = test_df.to_json(orient = 'records')\n",
    "test_json_result = json.loads(test_json)\n",
    "with open('sample_data/test_gift_cards.json', 'w') as f:\n",
    "  for entry in test_json_result:\n",
    "    json.dump(entry, f)\n",
    "    f.write('\\n')\n",
    "\n",
    "print('done writing test')"
   ]
  },
  {
   "cell_type": "code",
   "execution_count": null,
   "metadata": {
    "id": "pDxun1vxMgZ6"
   },
   "outputs": [],
   "source": [
    "MAX_LEN = 277"
   ]
  },
  {
   "cell_type": "code",
   "execution_count": 8,
   "metadata": {
    "colab": {
     "base_uri": "https://localhost:8080/"
    },
    "id": "psAvAvJuMz4-",
    "outputId": "0f0cc247-7aee-4a52-c83f-11641649facc"
   },
   "outputs": [
    {
     "name": "stdout",
     "output_type": "stream",
     "text": [
      "{'tokens': ['when', 'i', 'first', 'got', 'i', 'set', 'upstairs', 'bedroom', 'connected', 'tv', 'get', 'angle', 'right', 'away', 'i', 'got', 'something', 'like', '11', 'channels', 'mind', 'inside', 'house', 'pointing', 'kids', 'bathroom', 'another', 'bedroom', 'finally', 'side', 'house', 'trees', 'most', 'channels', 'wanted', 'i', 'got', 'way', 'turns', 'angle', 'really', 'issue', 'channels', 'area', 'grouped', 'pretty', 'close', 'when', 'mounted', 'attic', 'i', 'able', 'point', 'angle', 'i', 'wanted', 'i', 'mounted', 'i', 'slightly', 'worried', 'i', 'find', 'different', 'location', 'when', 'i', 'plugged', 'tv', 'search', 'channels', '18', 'channels', 'including', 'pbs', 'vhf', 'i', 'seattle', 'area', 'north', 'around', 'mill', 'creek', 'good', 'signals', 'channels', 'the', 'ion', 'channels', 'last', 'channels', 'get', 'i', 'find', 'sometimes', 'best', 'signal', 'we', 'see', 'happens', 'winter', 'far', 'big', 'disruptions', 'with', 'roku', 'xbox', 'netflix', 'hulu', 'i', 'say', 'goodbye', 'cable'], 'score': 'positive'}\n"
     ]
    }
   ],
   "source": [
    "import torch\n",
    "from torchtext.legacy import data\n",
    "from torchtext.legacy import datasets\n",
    "\n",
    "\n",
    "TOKENS = data.Field(lower = True, batch_first = True)\n",
    "SCORE = data.LabelField(dtype = torch.float)\n",
    "\n",
    "fields = {'tokenized': ('tokens', TOKENS), 'overall': ('score', SCORE)}\n",
    "train_data, test_data = data.TabularDataset.splits(\n",
    "    path = 'sample_data',\n",
    "    train = 'train_gift_cards.json',\n",
    "    test = 'test_gift_cards.json',\n",
    "    format = 'json',\n",
    "    fields = fields\n",
    ")\n",
    "print(vars(train_data[0]))"
   ]
  },
  {
   "cell_type": "code",
   "execution_count": 9,
   "metadata": {
    "colab": {
     "base_uri": "https://localhost:8080/"
    },
    "id": "qJL09fdZMPyL",
    "outputId": "e6b7b109-8b8d-4f50-8835-943522968013"
   },
   "outputs": [
    {
     "name": "stderr",
     "output_type": "stream",
     "text": [
      ".vector_cache/glove.6B.zip: 862MB [02:46, 5.19MB/s]                               \n",
      "100%|█████████▉| 399999/400000 [00:16<00:00, 24790.02it/s]\n"
     ]
    },
    {
     "name": "stdout",
     "output_type": "stream",
     "text": [
      "done building vocab\n"
     ]
    }
   ],
   "source": [
    "TOKENS.build_vocab(train_data, \n",
    "                   max_size = 10000,\n",
    "                   vectors = \"glove.6B.100d\", \n",
    "                   unk_init = torch.Tensor.normal_)\n",
    "SCORE.build_vocab(train_data)\n",
    "\n",
    "print('done building vocab')"
   ]
  },
  {
   "cell_type": "code",
   "execution_count": 10,
   "metadata": {
    "id": "64V9jCNeMIGt"
   },
   "outputs": [
    {
     "name": "stdout",
     "output_type": "stream",
     "text": [
      "done making iterators\n"
     ]
    }
   ],
   "source": [
    "import torch\n",
    "\n",
    "device = torch.device('cuda' if torch.cuda.is_available() else 'cpu')\n",
    "\n",
    "train_iterator = data.BucketIterator(train_data, sort_key = lambda x: x.tokens, \n",
    "                                     sort = False, sort_within_batch = True, batch_size= 32, device = device)\n",
    "test_iterator = data.BucketIterator(test_data, sort_key = lambda x: x.tokens, \n",
    "                                    sort = False, sort_within_batch = True, batch_size= 1, device = device)\n",
    "print('done making iterators')"
   ]
  },
  {
   "cell_type": "code",
   "execution_count": 11,
   "metadata": {
    "id": "VdWzbgXZTqZi"
   },
   "outputs": [],
   "source": [
    "'''\n",
    "model architecture taken from: https://github.com/bentrevett/pytorch-sentiment-analysis/blob/master/4%20-%20Convolutional%20Sentiment%20Analysis.ipynb\n",
    "'''\n",
    "import torch.nn as nn\n",
    "import torch.nn.functional as F\n",
    "\n",
    "class CNN_Text(nn.Module):\n",
    "    ''' Define network architecture and forward path. '''\n",
    "    def __init__(self, vocab_size, \n",
    "                 vector_size, n_filters, \n",
    "                 filter_sizes, output_dim, \n",
    "                 dropout, pad_idx):\n",
    "        \n",
    "        super().__init__()\n",
    "        # Create word embeddings from the input words     \n",
    "        self.embedding = nn.Embedding(vocab_size, vector_size, \n",
    "                                      padding_idx = pad_idx)\n",
    "        \n",
    "        # Specify convolutions with filters of different sizes (fs)\n",
    "        self.convs = nn.ModuleList([nn.Conv2d(in_channels = 1, \n",
    "                                              out_channels = n_filters, \n",
    "                                              kernel_size = (fs, vector_size)) \n",
    "                                    for fs in filter_sizes])\n",
    "        \n",
    "        # Add a fully connected layer for final predicitons\n",
    "        self.linear = nn.Linear(len(filter_sizes) * n_filters, output_dim)\n",
    "        \n",
    "        # Drop some of the nodes to increase robustness in training\n",
    "        self.dropout = nn.Dropout(dropout)\n",
    "        \n",
    "        \n",
    "        \n",
    "    def forward(self, text):\n",
    "        '''Forward path of the network.'''       \n",
    "        # Get word embeddings and formt them for convolutions\n",
    "        embedded = self.embedding(text).unsqueeze(1)\n",
    "        \n",
    "        # Perform convolutions and apply activation functions\n",
    "        conved = [F.relu(conv(embedded)).squeeze(3) for conv in self.convs]\n",
    "            \n",
    "        # Pooling layer to reduce dimensionality    \n",
    "        pooled = [F.max_pool1d(conv, conv.shape[2]).squeeze(2) for conv in conved]\n",
    "        \n",
    "        # Dropout layer\n",
    "        cat = self.dropout(torch.cat(pooled, dim = 1))\n",
    "        return self.linear(cat)"
   ]
  },
  {
   "cell_type": "code",
   "execution_count": 12,
   "metadata": {
    "id": "cPLw0QxmVoWc"
   },
   "outputs": [],
   "source": [
    "input_dim = len(TOKENS.vocab)\n",
    "embedding_dim = 100\n",
    "n_filters = 100\n",
    "filter_sizes = [1,2,3,4]\n",
    "output_dim = 1\n",
    "dropout = .5\n",
    "pad_idx = TOKENS.vocab.stoi[TOKENS.pad_token]\n",
    "\n",
    "model = CNN_Text(input_dim, embedding_dim, n_filters, filter_sizes, output_dim, dropout, pad_idx)"
   ]
  },
  {
   "cell_type": "code",
   "execution_count": 13,
   "metadata": {
    "id": "Wufh0kuJWari"
   },
   "outputs": [],
   "source": [
    "pretrained_embeddings = TOKENS.vocab.vectors\n",
    "model.embedding.weight.data.copy_(pretrained_embeddings)\n",
    "\n",
    "unk_idx = TOKENS.vocab.stoi[TOKENS.unk_token]\n",
    "\n",
    "model.embedding.weight.data[unk_idx] = torch.zeros(embedding_dim)\n",
    "model.embedding.weight.data[pad_idx] = torch.zeros(embedding_dim)"
   ]
  },
  {
   "cell_type": "code",
   "execution_count": 14,
   "metadata": {
    "id": "17G86lZFbEBc"
   },
   "outputs": [],
   "source": [
    "def binary_accuracy(preds, y):\n",
    "    \"\"\"\n",
    "    Returns accuracy per batch, i.e. if you get 8/10 right, this returns 0.8, NOT 8\n",
    "    \"\"\"\n",
    "\n",
    "    #round predictions to the closest integer\n",
    "    rounded_preds = torch.round(torch.sigmoid(preds))\n",
    "    correct = (rounded_preds == y).float() #convert into float for division \n",
    "    acc = correct.sum() / len(correct)\n",
    "    return acc"
   ]
  },
  {
   "cell_type": "code",
   "execution_count": 20,
   "metadata": {
    "id": "cCzbsXRDK7iM"
   },
   "outputs": [],
   "source": [
    "\"\"\"\n",
    "Basic train loop for cnn\n",
    "\"\"\"\n",
    "def train_cnn(model, iterator, optimizer, criterion, epochs=10):\n",
    "    print('start reached')\n",
    "    for child in model.children():\n",
    "        if hasattr(child, 'reset_parameters'):\n",
    "            child.reset_parameters()\n",
    "    \n",
    "    model = model.to(device)\n",
    "    model.train()\n",
    "\n",
    "    accuracy_list = []\n",
    "    loss_list = []\n",
    "    print('starting training')\n",
    "    for epoch in range(epochs):\n",
    "        epoch_acc = 0\n",
    "        epoch_loss = 0\n",
    "        for batch in iterator:\n",
    "            optimizer.zero_grad()\n",
    "            outputs = model(batch.tokens).squeeze(1)\n",
    "            \n",
    "            loss = criterion(outputs, batch.score)\n",
    "            \n",
    "            epoch_acc += binary_accuracy(outputs, batch.score).item()\n",
    "            \n",
    "            loss.backward()\n",
    "            optimizer.step()\n",
    "            \n",
    "            epoch_loss += loss.item()\n",
    "        \n",
    "        epoch_acc = epoch_acc / len(iterator)\n",
    "        epoch_loss = epoch_loss / len(iterator)\n",
    "        accuracy_list.append(epoch_acc)\n",
    "        loss_list.append(epoch_loss)\n",
    "        print('Epoch Num: %d, Accuracy: %.4f, Loss: %.4f' % (epoch + 1, epoch_acc, epoch_loss))\n",
    "\n",
    "    final_training_accuracy = accuracy_list[-1]     \n",
    "    final_training_loss = loss_list[-1]\n",
    "    return final_training_accuracy, final_training_loss"
   ]
  },
  {
   "cell_type": "code",
   "execution_count": null,
   "metadata": {
    "colab": {
     "base_uri": "https://localhost:8080/"
    },
    "id": "1hX1n_IFZero",
    "outputId": "ad008f53-890c-42f1-d964-81504ef7ff65"
   },
   "outputs": [
    {
     "name": "stdout",
     "output_type": "stream",
     "text": [
      "start reached\n",
      "starting training\n"
     ]
    }
   ],
   "source": [
    "import torch.optim as optim\n",
    "\n",
    "optimizer = optim.Adam(model.parameters())\n",
    "criterion = nn.BCEWithLogitsLoss()\n",
    "\n",
    "train_cnn(model, train_iterator, optimizer, criterion)\n",
    "print('done')"
   ]
  },
  {
   "cell_type": "code",
   "execution_count": null,
   "metadata": {},
   "outputs": [],
   "source": []
  }
 ],
 "metadata": {
  "colab": {
   "collapsed_sections": [],
   "name": "cnnwork.ipynb",
   "provenance": []
  },
  "instance_type": "ml.m5.4xlarge",
  "kernelspec": {
   "display_name": "Python 3 (Base Python)",
   "language": "python",
   "name": "python3__SAGEMAKER_INTERNAL__arn:aws:sagemaker:us-east-1:081325390199:image/python-3.6"
  },
  "language_info": {
   "codemirror_mode": {
    "name": "ipython",
    "version": 3
   },
   "file_extension": ".py",
   "mimetype": "text/x-python",
   "name": "python",
   "nbconvert_exporter": "python",
   "pygments_lexer": "ipython3",
   "version": "3.6.13"
  }
 },
 "nbformat": 4,
 "nbformat_minor": 4
}
