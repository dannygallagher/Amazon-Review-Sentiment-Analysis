{
  "nbformat": 4,
  "nbformat_minor": 0,
  "metadata": {
    "colab": {
      "name": " Baseline-SVM.ipynb",
      "provenance": [],
      "authorship_tag": "ABX9TyP06tqWF+8x9VW5t8zm/GED",
      "include_colab_link": true
    },
    "kernelspec": {
      "name": "python3",
      "display_name": "Python 3"
    },
    "language_info": {
      "name": "python"
    }
  },
  "cells": [
    {
      "cell_type": "markdown",
      "metadata": {
        "id": "view-in-github",
        "colab_type": "text"
      },
      "source": [
        "<a href=\"https://colab.research.google.com/github/dannygallagher/CIS519-Project/blob/main/Baseline_SVM.ipynb\" target=\"_parent\"><img src=\"https://colab.research.google.com/assets/colab-badge.svg\" alt=\"Open In Colab\"/></a>"
      ]
    },
    {
      "cell_type": "code",
      "metadata": {
        "colab": {
          "base_uri": "https://localhost:8080/"
        },
        "id": "mwp6-JM9udl1",
        "outputId": "b2903cbe-d8e1-4170-a697-78143414ae2c"
      },
      "source": [
        "from google.colab import drive\n",
        "drive.mount('/content/drive')"
      ],
      "execution_count": null,
      "outputs": [
        {
          "output_type": "stream",
          "text": [
            "Mounted at /content/drive\n"
          ],
          "name": "stdout"
        }
      ]
    },
    {
      "cell_type": "code",
      "metadata": {
        "id": "uBVuxRc__gyE"
      },
      "source": [
        "import pandas as pd\n",
        "import gzip\n",
        "import json\n",
        "import json\n",
        "import gzip\n",
        "from sklearn.metrics import f1_score, accuracy_score, recall_score, precision_score\n",
        "from sklearn.feature_extraction.text import TfidfTransformer\n",
        "from sklearn import svm\n",
        "def get_metrics(true_labels, pred_labels):\n",
        "    f1 = f1_score(true_labels, pred_labels, average='macro')\n",
        "    acc = accuracy_score(true_labels, pred_labels)\n",
        "    rec = recall_score(true_labels, pred_labels, average='macro')\n",
        "    prec = precision_score(true_labels, pred_labels, average='macro')\n",
        "    return f1, acc, rec, prec\n",
        "\n",
        "def fast_parse(path):\n",
        "  # path = path + \".json.gz\"\n",
        "  max_reviews = 1689188\n",
        "  iter = 5000\n",
        "  counter = 0 \n",
        "  all_reviews = []\n",
        "  g = open(path, 'r')\n",
        "  for line in g:\n",
        "    d = json.loads(line)\n",
        "    all_reviews.append(d)\n",
        "    if (counter % iter) == 0:\n",
        "      print(f\"On line{counter}, {counter/max_reviews} % done\")\n",
        "    counter = counter + 1\n",
        "  return all_reviews\n",
        "\n",
        "def parse(path):\n",
        "  g = gzip.open(path, 'rb')\n",
        "  for l in g:\n",
        "    yield json.loads(l)\n",
        "\n",
        "def getDF(path):\n",
        "  i = 0\n",
        "  df = {}\n",
        "  for d in parse(path):\n",
        "    df[i] = d\n",
        "    i += 1\n",
        "  return pd.DataFrame.from_dict(df, orient='index')"
      ],
      "execution_count": null,
      "outputs": []
    },
    {
      "cell_type": "code",
      "metadata": {
        "id": "hUedlZWFG6T4"
      },
      "source": [
        "col_list = ['Type', \"Model\", \"Train Set\", 'Test Set', 'F1', 'Accuracy', 'Recall', 'Precision']\n",
        "total_results = pd.DataFrame(columns=col_list)"
      ],
      "execution_count": null,
      "outputs": []
    },
    {
      "cell_type": "markdown",
      "metadata": {
        "id": "uBhem8W0_kbh"
      },
      "source": [
        "All 5 Cat"
      ]
    },
    {
      "cell_type": "code",
      "metadata": {
        "colab": {
          "base_uri": "https://localhost:8080/"
        },
        "id": "qsojztb-uK9b",
        "outputId": "847473c4-999a-4f88-ae3e-97bf4507524f"
      },
      "source": [
        "output_dir ='/content/drive/MyDrive/cis519_final/Baselines/Naive Bayes/results_All_5Cat.csv'\n",
        "# df_train = fast_parse('/content/drive/Shareddrives/519 Project/Data/preprocessed/Final Data/all_train.json')\n",
        "# df_test = fast_parse('/content/drive/Shareddrives/519 Project/Data/preprocessed/Final Data/all_test.json')\n",
        "# df_experiment = pd.from_csv('/content/drive/Shareddrives/519 Project/Data/preprocessed/Final Data/elec_test_5class.csv')\n",
        "# df_train = pd.DataFrame().from_dict(df_train)\n",
        "# df_test = pd.DataFrame().from_dict(df_test)\n",
        "\n",
        "df_train = pd.read_csv('/content/drive/Shareddrives/519 Project/Data/preprocessed/Final Data/all_train.csv')\n",
        "df_test = pd.read_csv('/content/drive/Shareddrives/519 Project/Data/preprocessed/Final Data/all_test.csv')\n",
        "df_exp = pd.read_csv('/content/drive/Shareddrives/519 Project/Data/preprocessed/Final Data/electronics_test.csv')\n",
        "\n",
        "from sklearn.feature_extraction.text import CountVectorizer\n",
        "from nltk.tokenize import RegexpTokenizer\n",
        "\n",
        "token = RegexpTokenizer(r'[a-zA-Z0-9]+')\n",
        "\n",
        "cv = CountVectorizer(stop_words='english',ngram_range = (1,1),tokenizer = token.tokenize)\n",
        "tf_idf = TfidfTransformer()\n",
        "train_doc_matrix = cv.fit_transform(df_train['title_plus_review'])\n",
        "X_train = tf_idf.fit_transform(train_doc_matrix)\n",
        "\n",
        "test_doc_matrix = cv.transform(df_test['title_plus_review'])\n",
        "X_test = tf_idf.transform(test_doc_matrix)\n",
        "\n",
        "exp_doc_matrix = cv.transform(df_exp['title_plus_review'])\n",
        "X_exp = tf_idf.transform(exp_doc_matrix)\n",
        "\n",
        "\n",
        "y_train = df_train['overall']\n",
        "y_test = df_test['overall']\n",
        "y_exp = df_exp['overall']\n",
        "\n",
        "from sklearn.model_selection import train_test_split\n",
        "# X_train, X_test, y_train, y_test = train_test_split(text_counts, df['overall'], test_size = 0.25, random_state = 5)\n",
        "\n",
        "\n",
        "\n",
        "clf = svm.SVC()\n",
        "clf.fit(X_train, y_train)"
      ],
      "execution_count": null,
      "outputs": [
        {
          "output_type": "stream",
          "text": [
            "/usr/local/lib/python3.7/dist-packages/IPython/core/interactiveshell.py:2718: DtypeWarning: Columns (11) have mixed types.Specify dtype option on import or set low_memory=False.\n",
            "  interactivity=interactivity, compiler=compiler, result=result)\n"
          ],
          "name": "stderr"
        },
        {
          "output_type": "execute_result",
          "data": {
            "text/plain": [
              "MultinomialNB(alpha=1.0, class_prior=None, fit_prior=True)"
            ]
          },
          "metadata": {
            "tags": []
          },
          "execution_count": 112
        }
      ]
    },
    {
      "cell_type": "code",
      "metadata": {
        "colab": {
          "base_uri": "https://localhost:8080/",
          "height": 206
        },
        "id": "L2rvNskfYiNW",
        "outputId": "4d12a3ae-d6f1-4318-d8c6-e7b24d3c9cfe"
      },
      "source": [
        "df_train.head()"
      ],
      "execution_count": null,
      "outputs": [
        {
          "output_type": "execute_result",
          "data": {
            "text/html": [
              "<div>\n",
              "<style scoped>\n",
              "    .dataframe tbody tr th:only-of-type {\n",
              "        vertical-align: middle;\n",
              "    }\n",
              "\n",
              "    .dataframe tbody tr th {\n",
              "        vertical-align: top;\n",
              "    }\n",
              "\n",
              "    .dataframe thead th {\n",
              "        text-align: right;\n",
              "    }\n",
              "</style>\n",
              "<table border=\"1\" class=\"dataframe\">\n",
              "  <thead>\n",
              "    <tr style=\"text-align: right;\">\n",
              "      <th></th>\n",
              "      <th>Unnamed: 0</th>\n",
              "      <th>reviewText</th>\n",
              "      <th>summary</th>\n",
              "      <th>overall</th>\n",
              "      <th>title_plus_review</th>\n",
              "      <th>pos_neg</th>\n",
              "      <th>neutrality</th>\n",
              "      <th>num_words</th>\n",
              "      <th>nw</th>\n",
              "    </tr>\n",
              "  </thead>\n",
              "  <tbody>\n",
              "    <tr>\n",
              "      <th>0</th>\n",
              "      <td>0</td>\n",
              "      <td>Excellent quality, will have to remember to em...</td>\n",
              "      <td>Great looking and high quality</td>\n",
              "      <td>5.0</td>\n",
              "      <td>great looking and high quality excellent quali...</td>\n",
              "      <td>1</td>\n",
              "      <td>1</td>\n",
              "      <td>31</td>\n",
              "      <td>26</td>\n",
              "    </tr>\n",
              "    <tr>\n",
              "      <th>1</th>\n",
              "      <td>1</td>\n",
              "      <td>Product arrived on time and fit well. The only...</td>\n",
              "      <td>Product arrived on time and fit well. The only...</td>\n",
              "      <td>3.0</td>\n",
              "      <td>product arrived on time and fit well .  the on...</td>\n",
              "      <td>2</td>\n",
              "      <td>0</td>\n",
              "      <td>29</td>\n",
              "      <td>20</td>\n",
              "    </tr>\n",
              "    <tr>\n",
              "      <th>2</th>\n",
              "      <td>2</td>\n",
              "      <td>Probably won't watch it again.</td>\n",
              "      <td>Moment After</td>\n",
              "      <td>3.0</td>\n",
              "      <td>moment after probably will not watch it again .</td>\n",
              "      <td>2</td>\n",
              "      <td>0</td>\n",
              "      <td>8</td>\n",
              "      <td>6</td>\n",
              "    </tr>\n",
              "    <tr>\n",
              "      <th>3</th>\n",
              "      <td>3</td>\n",
              "      <td>very nice, soft ,comfortable and very flatteri...</td>\n",
              "      <td>4 stars</td>\n",
              "      <td>4.0</td>\n",
              "      <td>4 stars very nice ,  soft  , comfortable and v...</td>\n",
              "      <td>1</td>\n",
              "      <td>2</td>\n",
              "      <td>28</td>\n",
              "      <td>26</td>\n",
              "    </tr>\n",
              "    <tr>\n",
              "      <th>4</th>\n",
              "      <td>4</td>\n",
              "      <td>My daughter received this as a birthday gift a...</td>\n",
              "      <td>Yucky Yucky Yucky</td>\n",
              "      <td>1.0</td>\n",
              "      <td>yucky yucky yucky my daughter received this as...</td>\n",
              "      <td>0</td>\n",
              "      <td>1</td>\n",
              "      <td>104</td>\n",
              "      <td>101</td>\n",
              "    </tr>\n",
              "  </tbody>\n",
              "</table>\n",
              "</div>"
            ],
            "text/plain": [
              "   Unnamed: 0  ...   nw\n",
              "0           0  ...   26\n",
              "1           1  ...   20\n",
              "2           2  ...    6\n",
              "3           3  ...   26\n",
              "4           4  ...  101\n",
              "\n",
              "[5 rows x 9 columns]"
            ]
          },
          "metadata": {
            "tags": []
          },
          "execution_count": 113
        }
      ]
    },
    {
      "cell_type": "code",
      "metadata": {
        "colab": {
          "base_uri": "https://localhost:8080/"
        },
        "id": "w5v7pol6106T",
        "outputId": "ae189c06-eb22-4a27-e641-3f020ba49fe4"
      },
      "source": [
        "results = pd.DataFrame(columns=col_list)\n",
        "#train scores\n",
        "train_predicted = clf.predict(X_train)\n",
        "f1, acc, rec, prec = get_metrics(y_train, train_predicted)\n",
        "results = results.append(pd.DataFrame([[\"5Cat\", \"Naive Bayes\", \"All\", \"All-Train\", f1, acc, rec, prec]], columns =col_list))\n",
        "print(str('{:04.2f}'.format(f1*100))+'%')\n",
        "#test scores\n",
        "test_predicted = clf.predict(X_test)\n",
        "f1, acc, rec, prec = get_metrics(y_test, test_predicted)\n",
        "results = results.append(pd.DataFrame([[\"5Cat\", \"Naive Bayes\", \"All\", \"All-Test\", f1, acc, rec, prec]], columns=col_list))\n",
        "print(str('{:04.2f}'.format(f1*100))+'%')\n",
        "#Experiment Scores\n",
        "exp_predicted = clf.predict(X_exp)\n",
        "f1, acc, rec, prec = get_metrics(y_exp, exp_predicted)\n",
        "results = results.append(pd.DataFrame([[\"5Cat\", \"Naive Bayes\", \"All\", \"Elec-Test\", f1, acc, rec, prec]], columns=col_list))\n",
        "print(str('{:04.2f}'.format(f1*100))+'%')\n",
        "\n",
        "results.to_csv(output_dir, index=False)\n",
        "total_results = total_results.append(results)"
      ],
      "execution_count": null,
      "outputs": [
        {
          "output_type": "stream",
          "text": [
            "58.13%\n",
            "40.49%\n",
            "43.08%\n"
          ],
          "name": "stdout"
        }
      ]
    },
    {
      "cell_type": "code",
      "metadata": {
        "colab": {
          "base_uri": "https://localhost:8080/",
          "height": 143
        },
        "id": "bud3RnfY8ZTn",
        "outputId": "e10c1063-a6ef-4b72-825d-85d6f50ff792"
      },
      "source": [
        "results"
      ],
      "execution_count": null,
      "outputs": [
        {
          "output_type": "execute_result",
          "data": {
            "text/html": [
              "<div>\n",
              "<style scoped>\n",
              "    .dataframe tbody tr th:only-of-type {\n",
              "        vertical-align: middle;\n",
              "    }\n",
              "\n",
              "    .dataframe tbody tr th {\n",
              "        vertical-align: top;\n",
              "    }\n",
              "\n",
              "    .dataframe thead th {\n",
              "        text-align: right;\n",
              "    }\n",
              "</style>\n",
              "<table border=\"1\" class=\"dataframe\">\n",
              "  <thead>\n",
              "    <tr style=\"text-align: right;\">\n",
              "      <th></th>\n",
              "      <th>Type</th>\n",
              "      <th>Model</th>\n",
              "      <th>Train Set</th>\n",
              "      <th>Test Set</th>\n",
              "      <th>F1</th>\n",
              "      <th>Accuracy</th>\n",
              "      <th>Recall</th>\n",
              "      <th>Precision</th>\n",
              "    </tr>\n",
              "  </thead>\n",
              "  <tbody>\n",
              "    <tr>\n",
              "      <th>0</th>\n",
              "      <td>5Cat</td>\n",
              "      <td>Naive Bayes</td>\n",
              "      <td>All</td>\n",
              "      <td>All-Train</td>\n",
              "      <td>0.581275</td>\n",
              "      <td>0.583144</td>\n",
              "      <td>0.583196</td>\n",
              "      <td>0.581655</td>\n",
              "    </tr>\n",
              "    <tr>\n",
              "      <th>0</th>\n",
              "      <td>5Cat</td>\n",
              "      <td>Naive Bayes</td>\n",
              "      <td>All</td>\n",
              "      <td>All-Test</td>\n",
              "      <td>0.404942</td>\n",
              "      <td>0.529363</td>\n",
              "      <td>0.493736</td>\n",
              "      <td>0.385027</td>\n",
              "    </tr>\n",
              "    <tr>\n",
              "      <th>0</th>\n",
              "      <td>5Cat</td>\n",
              "      <td>Naive Bayes</td>\n",
              "      <td>All</td>\n",
              "      <td>Elec-Test</td>\n",
              "      <td>0.430789</td>\n",
              "      <td>0.450334</td>\n",
              "      <td>0.456689</td>\n",
              "      <td>0.454546</td>\n",
              "    </tr>\n",
              "  </tbody>\n",
              "</table>\n",
              "</div>"
            ],
            "text/plain": [
              "   Type        Model Train Set  ...  Accuracy    Recall  Precision\n",
              "0  5Cat  Naive Bayes       All  ...  0.583144  0.583196   0.581655\n",
              "0  5Cat  Naive Bayes       All  ...  0.529363  0.493736   0.385027\n",
              "0  5Cat  Naive Bayes       All  ...  0.450334  0.456689   0.454546\n",
              "\n",
              "[3 rows x 8 columns]"
            ]
          },
          "metadata": {
            "tags": []
          },
          "execution_count": 115
        }
      ]
    },
    {
      "cell_type": "markdown",
      "metadata": {
        "id": "L_s7vgAuCo4E"
      },
      "source": [
        "Elec 5 Cat"
      ]
    },
    {
      "cell_type": "code",
      "metadata": {
        "colab": {
          "base_uri": "https://localhost:8080/"
        },
        "id": "1wxG20UeCutg",
        "outputId": "6b1a5cc0-f906-4518-dc24-d9e1655b49da"
      },
      "source": [
        "output_dir ='/content/drive/MyDrive/cis519_final/Baselines/Naive Bayes/results_Elec_5Cat.csv'\n",
        "# df_train = fast_parse('/content/drive/Shareddrives/519 Project/Data/preprocessed/Final Data/all_train.json')\n",
        "# df_test = fast_parse('/content/drive/Shareddrives/519 Project/Data/preprocessed/Final Data/all_test.json')\n",
        "# df_experiment = pd.from_csv('/content/drive/Shareddrives/519 Project/Data/preprocessed/Final Data/elec_test_5class.csv')\n",
        "# df_train = pd.DataFrame().from_dict(df_train)\n",
        "# df_test = pd.DataFrame().from_dict(df_test)\n",
        "\n",
        "df_train = pd.read_csv('/content/drive/Shareddrives/519 Project/Data/preprocessed/Final Data/electronics_train.csv')\n",
        "df_test = pd.read_csv('/content/drive/Shareddrives/519 Project/Data/preprocessed/Final Data/electronics_test.csv')\n",
        "df_exp = pd.read_csv('/content/drive/Shareddrives/519 Project/Data/preprocessed/Final Data/all_test.csv')\n",
        "\n",
        "from sklearn.feature_extraction.text import CountVectorizer\n",
        "from nltk.tokenize import RegexpTokenizer\n",
        "\n",
        "token = RegexpTokenizer(r'[a-zA-Z0-9]+')\n",
        "cv = CountVectorizer(stop_words='english',ngram_range = (1,1),tokenizer = token.tokenize)\n",
        "tf_idf = TfidfTransformer()\n",
        "train_doc_matrix = cv.fit_transform(df_train['title_plus_review'])\n",
        "X_train = tf_idf.fit_transform(train_doc_matrix)\n",
        "\n",
        "test_doc_matrix = cv.transform(df_test['title_plus_review'])\n",
        "X_test = tf_idf.transform(test_doc_matrix)\n",
        "\n",
        "exp_doc_matrix = cv.transform(df_exp['title_plus_review'])\n",
        "X_exp = tf_idf.transform(exp_doc_matrix)\n",
        "\n",
        "\n",
        "y_train = df_train['overall']\n",
        "y_test = df_test['overall']\n",
        "y_exp = df_exp['overall']\n",
        "\n",
        "from sklearn.model_selection import train_test_split\n",
        "# X_train, X_test, y_train, y_test = train_test_split(text_counts, df['overall'], test_size = 0.25, random_state = 5)\n",
        "\n",
        "\n",
        "\n",
        "clf = svm.SVC()\n",
        "clf.fit(X_train, y_train)"
      ],
      "execution_count": null,
      "outputs": [
        {
          "output_type": "stream",
          "text": [
            "/usr/local/lib/python3.7/dist-packages/IPython/core/interactiveshell.py:2718: DtypeWarning: Columns (11) have mixed types.Specify dtype option on import or set low_memory=False.\n",
            "  interactivity=interactivity, compiler=compiler, result=result)\n"
          ],
          "name": "stderr"
        },
        {
          "output_type": "execute_result",
          "data": {
            "text/plain": [
              "MultinomialNB(alpha=1.0, class_prior=None, fit_prior=True)"
            ]
          },
          "metadata": {
            "tags": []
          },
          "execution_count": 116
        }
      ]
    },
    {
      "cell_type": "code",
      "metadata": {
        "colab": {
          "base_uri": "https://localhost:8080/"
        },
        "id": "c65qC6HRCutk",
        "outputId": "f5acdb1e-b668-488c-a85c-ed2373f2391e"
      },
      "source": [
        "col_list = ['Type', \"Model\", \"Train Set\", 'Test Set', 'F1', 'Accuracy', 'Recall', 'Precision']\n",
        "results = pd.DataFrame(columns=col_list)\n",
        "#train scores\n",
        "train_predicted = clf.predict(X_train)\n",
        "f1, acc, rec, prec = get_metrics(y_train, train_predicted)\n",
        "results = results.append(pd.DataFrame([[\"5Cat\", \"Naive Bayes\", \"Elec\", \"Elec-Train\", f1, acc, rec, prec]], columns =col_list))\n",
        "print(str('{:04.2f}'.format(f1*100))+'%')\n",
        "#test scores\n",
        "test_predicted = clf.predict(X_test)\n",
        "f1, acc, rec, prec = get_metrics(y_test, test_predicted)\n",
        "results = results.append(pd.DataFrame([[\"5Cat\", \"Naive Bayes\", \"Elec\", \"Elec-Test\", f1, acc, rec, prec]], columns=col_list))\n",
        "print(str('{:04.2f}'.format(f1*100))+'%')\n",
        "#Experiment Scores\n",
        "exp_predicted = clf.predict(X_exp)\n",
        "f1, acc, rec, prec = get_metrics(y_exp, exp_predicted)\n",
        "results = results.append(pd.DataFrame([[\"5Cat\", \"Naive Bayes\", \"Elec\", \"ALL-Test\", f1, acc, rec, prec]], columns=col_list))\n",
        "print(str('{:04.2f}'.format(f1*100))+'%')\n",
        "\n",
        "results.to_csv(output_dir, index=False)\n",
        "total_results = total_results.append(results)\n"
      ],
      "execution_count": null,
      "outputs": [
        {
          "output_type": "stream",
          "text": [
            "57.06%\n",
            "49.51%\n",
            "37.75%\n"
          ],
          "name": "stdout"
        }
      ]
    },
    {
      "cell_type": "code",
      "metadata": {
        "colab": {
          "base_uri": "https://localhost:8080/",
          "height": 143
        },
        "id": "UQCILba0Cutl",
        "outputId": "4c62ac75-4499-4058-983e-3c3d7cd6ff12"
      },
      "source": [
        "results"
      ],
      "execution_count": null,
      "outputs": [
        {
          "output_type": "execute_result",
          "data": {
            "text/html": [
              "<div>\n",
              "<style scoped>\n",
              "    .dataframe tbody tr th:only-of-type {\n",
              "        vertical-align: middle;\n",
              "    }\n",
              "\n",
              "    .dataframe tbody tr th {\n",
              "        vertical-align: top;\n",
              "    }\n",
              "\n",
              "    .dataframe thead th {\n",
              "        text-align: right;\n",
              "    }\n",
              "</style>\n",
              "<table border=\"1\" class=\"dataframe\">\n",
              "  <thead>\n",
              "    <tr style=\"text-align: right;\">\n",
              "      <th></th>\n",
              "      <th>Type</th>\n",
              "      <th>Model</th>\n",
              "      <th>Train Set</th>\n",
              "      <th>Test Set</th>\n",
              "      <th>F1</th>\n",
              "      <th>Accuracy</th>\n",
              "      <th>Recall</th>\n",
              "      <th>Precision</th>\n",
              "    </tr>\n",
              "  </thead>\n",
              "  <tbody>\n",
              "    <tr>\n",
              "      <th>0</th>\n",
              "      <td>5Cat</td>\n",
              "      <td>Naive Bayes</td>\n",
              "      <td>Elec</td>\n",
              "      <td>Elec-Train</td>\n",
              "      <td>0.570596</td>\n",
              "      <td>0.571873</td>\n",
              "      <td>0.572109</td>\n",
              "      <td>0.570359</td>\n",
              "    </tr>\n",
              "    <tr>\n",
              "      <th>0</th>\n",
              "      <td>5Cat</td>\n",
              "      <td>Naive Bayes</td>\n",
              "      <td>Elec</td>\n",
              "      <td>Elec-Test</td>\n",
              "      <td>0.495058</td>\n",
              "      <td>0.503864</td>\n",
              "      <td>0.501400</td>\n",
              "      <td>0.496625</td>\n",
              "    </tr>\n",
              "    <tr>\n",
              "      <th>0</th>\n",
              "      <td>5Cat</td>\n",
              "      <td>Naive Bayes</td>\n",
              "      <td>Elec</td>\n",
              "      <td>ALL-Test</td>\n",
              "      <td>0.377504</td>\n",
              "      <td>0.511363</td>\n",
              "      <td>0.444680</td>\n",
              "      <td>0.364700</td>\n",
              "    </tr>\n",
              "  </tbody>\n",
              "</table>\n",
              "</div>"
            ],
            "text/plain": [
              "   Type        Model Train Set  ...  Accuracy    Recall  Precision\n",
              "0  5Cat  Naive Bayes      Elec  ...  0.571873  0.572109   0.570359\n",
              "0  5Cat  Naive Bayes      Elec  ...  0.503864  0.501400   0.496625\n",
              "0  5Cat  Naive Bayes      Elec  ...  0.511363  0.444680   0.364700\n",
              "\n",
              "[3 rows x 8 columns]"
            ]
          },
          "metadata": {
            "tags": []
          },
          "execution_count": 118
        }
      ]
    },
    {
      "cell_type": "markdown",
      "metadata": {
        "id": "ocSP3cnFEm56"
      },
      "source": [
        "ALL Binary"
      ]
    },
    {
      "cell_type": "code",
      "metadata": {
        "colab": {
          "base_uri": "https://localhost:8080/"
        },
        "id": "OCdyYhVHE1p1",
        "outputId": "92c40923-1ed8-4d38-b6fa-2681cde58cf0"
      },
      "source": [
        "output_dir ='/content/drive/MyDrive/cis519_final/Baselines/Naive Bayes/results_All_bin.csv'\n",
        "df_train = fast_parse('/content/drive/Shareddrives/519 Project/Data/preprocessed/Final Data/all_train_binaryposneg.json')\n",
        "df_test = fast_parse('/content/drive/Shareddrives/519 Project/Data/preprocessed/Final Data/all_test_binaryposneg.json')\n",
        "df_exp = fast_parse('/content/drive/Shareddrives/519 Project/Data/preprocessed/Final Data/electronics_test_binaryposneg.json')\n",
        "df_train = pd.DataFrame().from_dict(df_train)\n",
        "df_test = pd.DataFrame().from_dict(df_test)\n",
        "df_exp = pd.DataFrame().from_dict(df_exp)\n",
        "\n",
        "from sklearn.feature_extraction.text import CountVectorizer\n",
        "from nltk.tokenize import RegexpTokenizer\n",
        "\n",
        "token = RegexpTokenizer(r'[a-zA-Z0-9]+')\n",
        "cv = CountVectorizer(stop_words='english',ngram_range = (1,1),tokenizer = token.tokenize)\n",
        "tf_idf = TfidfTransformer()\n",
        "train_doc_matrix = cv.fit_transform(df_train['title_plus_review'])\n",
        "X_train = tf_idf.fit_transform(train_doc_matrix)\n",
        "\n",
        "test_doc_matrix = cv.transform(df_test['title_plus_review'])\n",
        "X_test = tf_idf.transform(test_doc_matrix)\n",
        "\n",
        "exp_doc_matrix = cv.transform(df_exp['title_plus_review'])\n",
        "X_exp = tf_idf.transform(exp_doc_matrix)\n",
        "\n",
        "\n",
        "y_train = df_train['pos_neg']\n",
        "y_test = df_test['pos_neg']\n",
        "y_exp = df_exp['pos_neg']\n",
        "\n",
        "from sklearn.model_selection import train_test_split\n",
        "# X_train, X_test, y_train, y_test = train_test_split(text_counts, df['overall'], test_size = 0.25, random_state = 5)\n",
        "\n",
        "\n",
        "\n",
        "clf = svm.SVC()\n",
        "clf.fit(X_train, y_train)"
      ],
      "execution_count": null,
      "outputs": [
        {
          "output_type": "stream",
          "text": [
            "On line0, 0.0 % done\n",
            "On line5000, 0.002960002083841467 % done\n",
            "On line10000, 0.005920004167682934 % done\n",
            "On line15000, 0.008880006251524401 % done\n",
            "On line20000, 0.011840008335365868 % done\n",
            "On line25000, 0.014800010419207334 % done\n",
            "On line30000, 0.017760012503048803 % done\n",
            "On line35000, 0.02072001458689027 % done\n",
            "On line40000, 0.023680016670731736 % done\n",
            "On line45000, 0.026640018754573204 % done\n",
            "On line50000, 0.02960002083841467 % done\n",
            "On line55000, 0.03256002292225614 % done\n",
            "On line60000, 0.035520025006097605 % done\n",
            "On line65000, 0.03848002708993907 % done\n",
            "On line70000, 0.04144002917378054 % done\n",
            "On line75000, 0.04440003125762201 % done\n",
            "On line80000, 0.04736003334146347 % done\n",
            "On line85000, 0.050320035425304936 % done\n",
            "On line90000, 0.05328003750914641 % done\n",
            "On line95000, 0.05624003959298787 % done\n",
            "On line100000, 0.05920004167682934 % done\n",
            "On line105000, 0.06216004376067081 % done\n",
            "On line110000, 0.06512004584451228 % done\n",
            "On line115000, 0.06808004792835375 % done\n",
            "On line120000, 0.07104005001219521 % done\n",
            "On line125000, 0.07400005209603668 % done\n",
            "On line130000, 0.07696005417987814 % done\n",
            "On line135000, 0.0799200562637196 % done\n",
            "On line140000, 0.08288005834756108 % done\n",
            "On line145000, 0.08584006043140255 % done\n",
            "On line150000, 0.08880006251524401 % done\n",
            "On line155000, 0.09176006459908548 % done\n",
            "On line160000, 0.09472006668292694 % done\n",
            "On line165000, 0.09768006876676841 % done\n",
            "On line170000, 0.10064007085060987 % done\n",
            "On line175000, 0.10360007293445135 % done\n",
            "On line180000, 0.10656007501829282 % done\n",
            "On line185000, 0.10952007710213428 % done\n",
            "On line190000, 0.11248007918597575 % done\n",
            "On line195000, 0.11544008126981721 % done\n",
            "On line0, 0.0 % done\n",
            "On line5000, 0.002960002083841467 % done\n",
            "On line10000, 0.005920004167682934 % done\n",
            "On line15000, 0.008880006251524401 % done\n",
            "On line20000, 0.011840008335365868 % done\n",
            "On line25000, 0.014800010419207334 % done\n",
            "On line30000, 0.017760012503048803 % done\n",
            "On line35000, 0.02072001458689027 % done\n",
            "On line40000, 0.023680016670731736 % done\n",
            "On line45000, 0.026640018754573204 % done\n",
            "On line0, 0.0 % done\n",
            "On line5000, 0.002960002083841467 % done\n",
            "On line10000, 0.005920004167682934 % done\n",
            "On line15000, 0.008880006251524401 % done\n",
            "On line20000, 0.011840008335365868 % done\n",
            "On line25000, 0.014800010419207334 % done\n",
            "On line30000, 0.017760012503048803 % done\n",
            "On line35000, 0.02072001458689027 % done\n"
          ],
          "name": "stdout"
        },
        {
          "output_type": "execute_result",
          "data": {
            "text/plain": [
              "MultinomialNB(alpha=1.0, class_prior=None, fit_prior=True)"
            ]
          },
          "metadata": {
            "tags": []
          },
          "execution_count": 119
        }
      ]
    },
    {
      "cell_type": "code",
      "metadata": {
        "colab": {
          "base_uri": "https://localhost:8080/"
        },
        "id": "UviPTTo6E1p3",
        "outputId": "17792014-ccb1-4770-9a87-5283515c0e15"
      },
      "source": [
        "col_list = ['Type', \"Model\", \"Train Set\", 'Test Set', 'F1', 'Accuracy', 'Recall', 'Precision']\n",
        "results = pd.DataFrame(columns=col_list)\n",
        "#train scores\n",
        "train_predicted = clf.predict(X_train)\n",
        "f1, acc, rec, prec = get_metrics(y_train, train_predicted)\n",
        "results = results.append(pd.DataFrame([[\"Binary\", \"Naive Bayes\", \"All\", \"All-Train\", f1, acc, rec, prec]], columns =col_list))\n",
        "print(str('{:04.2f}'.format(f1*100))+'%')\n",
        "#test scores\n",
        "test_predicted = clf.predict(X_test)\n",
        "f1, acc, rec, prec = get_metrics(y_test, test_predicted)\n",
        "results = results.append(pd.DataFrame([[\"Binary\", \"Naive Bayes\", \"All\", \"All-Test\", f1, acc, rec, prec]], columns=col_list))\n",
        "print(str('{:04.2f}'.format(f1*100))+'%')\n",
        "#Experiment Scores\n",
        "exp_predicted = clf.predict(X_exp)\n",
        "f1, acc, rec, prec = get_metrics(y_exp, exp_predicted)\n",
        "results = results.append(pd.DataFrame([[\"Binary\", \"Naive Bayes\", \"All\", \"Elec-Test\", f1, acc, rec, prec]], columns=col_list))\n",
        "print(str('{:04.2f}'.format(f1*100))+'%')\n",
        "\n",
        "results.to_csv(output_dir, index=False)\n",
        "total_results = total_results.append(results)\n"
      ],
      "execution_count": null,
      "outputs": [
        {
          "output_type": "stream",
          "text": [
            "87.11%\n",
            "73.53%\n",
            "78.55%\n"
          ],
          "name": "stdout"
        }
      ]
    },
    {
      "cell_type": "code",
      "metadata": {
        "colab": {
          "base_uri": "https://localhost:8080/",
          "height": 143
        },
        "id": "GCs0jt13E1p5",
        "outputId": "a9e893ab-8d6d-445c-ef10-f6bb1d23356c"
      },
      "source": [
        "results"
      ],
      "execution_count": null,
      "outputs": [
        {
          "output_type": "execute_result",
          "data": {
            "text/html": [
              "<div>\n",
              "<style scoped>\n",
              "    .dataframe tbody tr th:only-of-type {\n",
              "        vertical-align: middle;\n",
              "    }\n",
              "\n",
              "    .dataframe tbody tr th {\n",
              "        vertical-align: top;\n",
              "    }\n",
              "\n",
              "    .dataframe thead th {\n",
              "        text-align: right;\n",
              "    }\n",
              "</style>\n",
              "<table border=\"1\" class=\"dataframe\">\n",
              "  <thead>\n",
              "    <tr style=\"text-align: right;\">\n",
              "      <th></th>\n",
              "      <th>Type</th>\n",
              "      <th>Model</th>\n",
              "      <th>Train Set</th>\n",
              "      <th>Test Set</th>\n",
              "      <th>F1</th>\n",
              "      <th>Accuracy</th>\n",
              "      <th>Recall</th>\n",
              "      <th>Precision</th>\n",
              "    </tr>\n",
              "  </thead>\n",
              "  <tbody>\n",
              "    <tr>\n",
              "      <th>0</th>\n",
              "      <td>Binary</td>\n",
              "      <td>Naive Bayes</td>\n",
              "      <td>All</td>\n",
              "      <td>All-Train</td>\n",
              "      <td>0.871115</td>\n",
              "      <td>0.871149</td>\n",
              "      <td>0.871158</td>\n",
              "      <td>0.871561</td>\n",
              "    </tr>\n",
              "    <tr>\n",
              "      <th>0</th>\n",
              "      <td>Binary</td>\n",
              "      <td>Naive Bayes</td>\n",
              "      <td>All</td>\n",
              "      <td>All-Test</td>\n",
              "      <td>0.735283</td>\n",
              "      <td>0.865468</td>\n",
              "      <td>0.869572</td>\n",
              "      <td>0.692971</td>\n",
              "    </tr>\n",
              "    <tr>\n",
              "      <th>0</th>\n",
              "      <td>Binary</td>\n",
              "      <td>Naive Bayes</td>\n",
              "      <td>All</td>\n",
              "      <td>Elec-Test</td>\n",
              "      <td>0.785523</td>\n",
              "      <td>0.786175</td>\n",
              "      <td>0.816531</td>\n",
              "      <td>0.804185</td>\n",
              "    </tr>\n",
              "  </tbody>\n",
              "</table>\n",
              "</div>"
            ],
            "text/plain": [
              "     Type        Model Train Set  ...  Accuracy    Recall  Precision\n",
              "0  Binary  Naive Bayes       All  ...  0.871149  0.871158   0.871561\n",
              "0  Binary  Naive Bayes       All  ...  0.865468  0.869572   0.692971\n",
              "0  Binary  Naive Bayes       All  ...  0.786175  0.816531   0.804185\n",
              "\n",
              "[3 rows x 8 columns]"
            ]
          },
          "metadata": {
            "tags": []
          },
          "execution_count": 121
        }
      ]
    },
    {
      "cell_type": "markdown",
      "metadata": {
        "id": "iK5WlllOGeeL"
      },
      "source": [
        "Elec Bin"
      ]
    },
    {
      "cell_type": "code",
      "metadata": {
        "colab": {
          "base_uri": "https://localhost:8080/"
        },
        "id": "60JTqaqtGdKy",
        "outputId": "dd600432-4134-41cb-cd60-71a115c5b54e"
      },
      "source": [
        "output_dir ='/content/drive/MyDrive/cis519_final/Baselines/Naive Bayes/results_Elec_Bin.csv'\n",
        "df_train = fast_parse('/content/drive/Shareddrives/519 Project/Data/preprocessed/Final Data/electronics_train_binaryposneg.json')\n",
        "df_test = fast_parse('/content/drive/Shareddrives/519 Project/Data/preprocessed/Final Data/electronics_test_binaryposneg.json')\n",
        "df_exp = fast_parse('/content/drive/Shareddrives/519 Project/Data/preprocessed/Final Data/all_test_binaryposneg.json')\n",
        "df_train = pd.DataFrame().from_dict(df_train)\n",
        "df_test = pd.DataFrame().from_dict(df_test)\n",
        "df_exp = pd.DataFrame().from_dict(df_exp)\n",
        "\n",
        "from sklearn.feature_extraction.text import CountVectorizer\n",
        "from nltk.tokenize import RegexpTokenizer\n",
        "\n",
        "token = RegexpTokenizer(r'[a-zA-Z0-9]+')\n",
        "cv = CountVectorizer(stop_words='english',ngram_range = (1,1),tokenizer = token.tokenize)\n",
        "tf_idf = TfidfTransformer()\n",
        "train_doc_matrix = cv.fit_transform(df_train['title_plus_review'])\n",
        "X_train = tf_idf.fit_transform(train_doc_matrix)\n",
        "\n",
        "test_doc_matrix = cv.transform(df_test['title_plus_review'])\n",
        "X_test = tf_idf.transform(test_doc_matrix)\n",
        "\n",
        "exp_doc_matrix = cv.transform(df_exp['title_plus_review'])\n",
        "X_exp = tf_idf.transform(exp_doc_matrix)\n",
        "\n",
        "\n",
        "y_train = df_train['pos_neg']\n",
        "y_test = df_test['pos_neg']\n",
        "y_exp = df_exp['pos_neg']\n",
        "\n",
        "from sklearn.model_selection import train_test_split\n",
        "# X_train, X_test, y_train, y_test = train_test_split(text_counts, df['overall'], test_size = 0.25, random_state = 5)\n",
        "\n",
        "\n",
        "\n",
        "clf = svm.SVC()\n",
        "clf.fit(X_train, y_train)"
      ],
      "execution_count": null,
      "outputs": [
        {
          "output_type": "stream",
          "text": [
            "On line0, 0.0 % done\n",
            "On line5000, 0.002960002083841467 % done\n",
            "On line10000, 0.005920004167682934 % done\n",
            "On line15000, 0.008880006251524401 % done\n",
            "On line20000, 0.011840008335365868 % done\n",
            "On line25000, 0.014800010419207334 % done\n",
            "On line30000, 0.017760012503048803 % done\n",
            "On line35000, 0.02072001458689027 % done\n",
            "On line40000, 0.023680016670731736 % done\n",
            "On line45000, 0.026640018754573204 % done\n",
            "On line50000, 0.02960002083841467 % done\n",
            "On line55000, 0.03256002292225614 % done\n",
            "On line60000, 0.035520025006097605 % done\n",
            "On line65000, 0.03848002708993907 % done\n",
            "On line70000, 0.04144002917378054 % done\n",
            "On line75000, 0.04440003125762201 % done\n",
            "On line80000, 0.04736003334146347 % done\n",
            "On line85000, 0.050320035425304936 % done\n",
            "On line90000, 0.05328003750914641 % done\n",
            "On line95000, 0.05624003959298787 % done\n",
            "On line100000, 0.05920004167682934 % done\n",
            "On line105000, 0.06216004376067081 % done\n",
            "On line110000, 0.06512004584451228 % done\n",
            "On line115000, 0.06808004792835375 % done\n",
            "On line120000, 0.07104005001219521 % done\n",
            "On line125000, 0.07400005209603668 % done\n",
            "On line130000, 0.07696005417987814 % done\n",
            "On line135000, 0.0799200562637196 % done\n",
            "On line140000, 0.08288005834756108 % done\n",
            "On line145000, 0.08584006043140255 % done\n",
            "On line150000, 0.08880006251524401 % done\n",
            "On line155000, 0.09176006459908548 % done\n",
            "On line160000, 0.09472006668292694 % done\n",
            "On line165000, 0.09768006876676841 % done\n",
            "On line170000, 0.10064007085060987 % done\n",
            "On line175000, 0.10360007293445135 % done\n",
            "On line180000, 0.10656007501829282 % done\n",
            "On line185000, 0.10952007710213428 % done\n",
            "On line190000, 0.11248007918597575 % done\n",
            "On line195000, 0.11544008126981721 % done\n",
            "On line0, 0.0 % done\n",
            "On line5000, 0.002960002083841467 % done\n",
            "On line10000, 0.005920004167682934 % done\n",
            "On line15000, 0.008880006251524401 % done\n",
            "On line20000, 0.011840008335365868 % done\n",
            "On line25000, 0.014800010419207334 % done\n",
            "On line30000, 0.017760012503048803 % done\n",
            "On line35000, 0.02072001458689027 % done\n",
            "On line0, 0.0 % done\n",
            "On line5000, 0.002960002083841467 % done\n",
            "On line10000, 0.005920004167682934 % done\n",
            "On line15000, 0.008880006251524401 % done\n",
            "On line20000, 0.011840008335365868 % done\n",
            "On line25000, 0.014800010419207334 % done\n",
            "On line30000, 0.017760012503048803 % done\n",
            "On line35000, 0.02072001458689027 % done\n",
            "On line40000, 0.023680016670731736 % done\n",
            "On line45000, 0.026640018754573204 % done\n"
          ],
          "name": "stdout"
        },
        {
          "output_type": "execute_result",
          "data": {
            "text/plain": [
              "MultinomialNB(alpha=1.0, class_prior=None, fit_prior=True)"
            ]
          },
          "metadata": {
            "tags": []
          },
          "execution_count": 122
        }
      ]
    },
    {
      "cell_type": "code",
      "metadata": {
        "colab": {
          "base_uri": "https://localhost:8080/"
        },
        "id": "fHkG4amiGdKy",
        "outputId": "d53bc069-58bc-49c5-dcde-2ff2b14e9bc1"
      },
      "source": [
        "col_list = ['Type', \"Model\", \"Train Set\", 'Test Set', 'F1', 'Accuracy', 'Recall', 'Precision']\n",
        "results = pd.DataFrame(columns=col_list)\n",
        "#train scores\n",
        "train_predicted = clf.predict(X_train)\n",
        "f1, acc, rec, prec = get_metrics(y_train, train_predicted)\n",
        "results = results.append(pd.DataFrame([[\"Binary\", \"Naive Bayes\", \"Elec\", \"Elec-Train\", f1, acc, rec, prec]], columns =col_list))\n",
        "print(str('{:04.2f}'.format(f1*100))+'%')\n",
        "#test scores\n",
        "test_predicted = clf.predict(X_test)\n",
        "f1, acc, rec, prec = get_metrics(y_test, test_predicted)\n",
        "results = results.append(pd.DataFrame([[\"Binary\", \"Naive Bayes\", \"Elec\", \"Elec-Test\", f1, acc, rec, prec]], columns=col_list))\n",
        "print(str('{:04.2f}'.format(f1*100))+'%')\n",
        "#Experiment Scores\n",
        "exp_predicted = clf.predict(X_exp)\n",
        "f1, acc, rec, prec = get_metrics(y_exp, exp_predicted)\n",
        "results = results.append(pd.DataFrame([[\"Binary\", \"Naive Bayes\", \"Elec\", \"ALL-Test\", f1, acc, rec, prec]], columns=col_list))\n",
        "print(str('{:04.2f}'.format(f1*100))+'%')\n",
        "\n",
        "results.to_csv(output_dir, index=False)\n",
        "total_results = total_results.append(results)\n"
      ],
      "execution_count": null,
      "outputs": [
        {
          "output_type": "stream",
          "text": [
            "87.88%\n",
            "86.08%\n",
            "71.86%\n"
          ],
          "name": "stdout"
        }
      ]
    },
    {
      "cell_type": "code",
      "metadata": {
        "colab": {
          "base_uri": "https://localhost:8080/",
          "height": 143
        },
        "id": "_SngxIa5GdK0",
        "outputId": "eee5b158-92fb-4541-d130-8d32b3af3a61"
      },
      "source": [
        "results"
      ],
      "execution_count": null,
      "outputs": [
        {
          "output_type": "execute_result",
          "data": {
            "text/html": [
              "<div>\n",
              "<style scoped>\n",
              "    .dataframe tbody tr th:only-of-type {\n",
              "        vertical-align: middle;\n",
              "    }\n",
              "\n",
              "    .dataframe tbody tr th {\n",
              "        vertical-align: top;\n",
              "    }\n",
              "\n",
              "    .dataframe thead th {\n",
              "        text-align: right;\n",
              "    }\n",
              "</style>\n",
              "<table border=\"1\" class=\"dataframe\">\n",
              "  <thead>\n",
              "    <tr style=\"text-align: right;\">\n",
              "      <th></th>\n",
              "      <th>Type</th>\n",
              "      <th>Model</th>\n",
              "      <th>Train Set</th>\n",
              "      <th>Test Set</th>\n",
              "      <th>F1</th>\n",
              "      <th>Accuracy</th>\n",
              "      <th>Recall</th>\n",
              "      <th>Precision</th>\n",
              "    </tr>\n",
              "  </thead>\n",
              "  <tbody>\n",
              "    <tr>\n",
              "      <th>0</th>\n",
              "      <td>Binary</td>\n",
              "      <td>Naive Bayes</td>\n",
              "      <td>Elec</td>\n",
              "      <td>Elec-Train</td>\n",
              "      <td>0.878787</td>\n",
              "      <td>0.878789</td>\n",
              "      <td>0.878814</td>\n",
              "      <td>0.878856</td>\n",
              "    </tr>\n",
              "    <tr>\n",
              "      <th>0</th>\n",
              "      <td>Binary</td>\n",
              "      <td>Naive Bayes</td>\n",
              "      <td>Elec</td>\n",
              "      <td>Elec-Test</td>\n",
              "      <td>0.860762</td>\n",
              "      <td>0.865275</td>\n",
              "      <td>0.869770</td>\n",
              "      <td>0.856368</td>\n",
              "    </tr>\n",
              "    <tr>\n",
              "      <th>0</th>\n",
              "      <td>Binary</td>\n",
              "      <td>Naive Bayes</td>\n",
              "      <td>Elec</td>\n",
              "      <td>ALL-Test</td>\n",
              "      <td>0.718558</td>\n",
              "      <td>0.861104</td>\n",
              "      <td>0.831913</td>\n",
              "      <td>0.680219</td>\n",
              "    </tr>\n",
              "  </tbody>\n",
              "</table>\n",
              "</div>"
            ],
            "text/plain": [
              "     Type        Model Train Set  ...  Accuracy    Recall  Precision\n",
              "0  Binary  Naive Bayes      Elec  ...  0.878789  0.878814   0.878856\n",
              "0  Binary  Naive Bayes      Elec  ...  0.865275  0.869770   0.856368\n",
              "0  Binary  Naive Bayes      Elec  ...  0.861104  0.831913   0.680219\n",
              "\n",
              "[3 rows x 8 columns]"
            ]
          },
          "metadata": {
            "tags": []
          },
          "execution_count": 124
        }
      ]
    },
    {
      "cell_type": "code",
      "metadata": {
        "id": "ldNGgFH_HY64"
      },
      "source": [
        "total_results.to_csv('/content/drive/MyDrive/cis519_final/Baselines/Naive Bayes/total_results.csv')"
      ],
      "execution_count": null,
      "outputs": []
    },
    {
      "cell_type": "code",
      "metadata": {
        "colab": {
          "base_uri": "https://localhost:8080/",
          "height": 426
        },
        "id": "Baz1wxsfJUQ3",
        "outputId": "c1ff58a0-434a-46fb-eb31-beb99f629a4b"
      },
      "source": [
        "total_results"
      ],
      "execution_count": null,
      "outputs": [
        {
          "output_type": "execute_result",
          "data": {
            "text/html": [
              "<div>\n",
              "<style scoped>\n",
              "    .dataframe tbody tr th:only-of-type {\n",
              "        vertical-align: middle;\n",
              "    }\n",
              "\n",
              "    .dataframe tbody tr th {\n",
              "        vertical-align: top;\n",
              "    }\n",
              "\n",
              "    .dataframe thead th {\n",
              "        text-align: right;\n",
              "    }\n",
              "</style>\n",
              "<table border=\"1\" class=\"dataframe\">\n",
              "  <thead>\n",
              "    <tr style=\"text-align: right;\">\n",
              "      <th></th>\n",
              "      <th>Type</th>\n",
              "      <th>Model</th>\n",
              "      <th>Train Set</th>\n",
              "      <th>Test Set</th>\n",
              "      <th>F1</th>\n",
              "      <th>Accuracy</th>\n",
              "      <th>Recall</th>\n",
              "      <th>Precision</th>\n",
              "    </tr>\n",
              "  </thead>\n",
              "  <tbody>\n",
              "    <tr>\n",
              "      <th>0</th>\n",
              "      <td>5Cat</td>\n",
              "      <td>Naive Bayes</td>\n",
              "      <td>All</td>\n",
              "      <td>All-Train</td>\n",
              "      <td>0.581275</td>\n",
              "      <td>0.583144</td>\n",
              "      <td>0.583196</td>\n",
              "      <td>0.581655</td>\n",
              "    </tr>\n",
              "    <tr>\n",
              "      <th>0</th>\n",
              "      <td>5Cat</td>\n",
              "      <td>Naive Bayes</td>\n",
              "      <td>All</td>\n",
              "      <td>All-Test</td>\n",
              "      <td>0.404942</td>\n",
              "      <td>0.529363</td>\n",
              "      <td>0.493736</td>\n",
              "      <td>0.385027</td>\n",
              "    </tr>\n",
              "    <tr>\n",
              "      <th>0</th>\n",
              "      <td>5Cat</td>\n",
              "      <td>Naive Bayes</td>\n",
              "      <td>All</td>\n",
              "      <td>Elec-Test</td>\n",
              "      <td>0.430789</td>\n",
              "      <td>0.450334</td>\n",
              "      <td>0.456689</td>\n",
              "      <td>0.454546</td>\n",
              "    </tr>\n",
              "    <tr>\n",
              "      <th>0</th>\n",
              "      <td>5Cat</td>\n",
              "      <td>Naive Bayes</td>\n",
              "      <td>Elec</td>\n",
              "      <td>Elec-Train</td>\n",
              "      <td>0.570596</td>\n",
              "      <td>0.571873</td>\n",
              "      <td>0.572109</td>\n",
              "      <td>0.570359</td>\n",
              "    </tr>\n",
              "    <tr>\n",
              "      <th>0</th>\n",
              "      <td>5Cat</td>\n",
              "      <td>Naive Bayes</td>\n",
              "      <td>Elec</td>\n",
              "      <td>Elec-Test</td>\n",
              "      <td>0.495058</td>\n",
              "      <td>0.503864</td>\n",
              "      <td>0.501400</td>\n",
              "      <td>0.496625</td>\n",
              "    </tr>\n",
              "    <tr>\n",
              "      <th>0</th>\n",
              "      <td>5Cat</td>\n",
              "      <td>Naive Bayes</td>\n",
              "      <td>Elec</td>\n",
              "      <td>ALL-Test</td>\n",
              "      <td>0.377504</td>\n",
              "      <td>0.511363</td>\n",
              "      <td>0.444680</td>\n",
              "      <td>0.364700</td>\n",
              "    </tr>\n",
              "    <tr>\n",
              "      <th>0</th>\n",
              "      <td>Binary</td>\n",
              "      <td>Naive Bayes</td>\n",
              "      <td>All</td>\n",
              "      <td>All-Train</td>\n",
              "      <td>0.871115</td>\n",
              "      <td>0.871149</td>\n",
              "      <td>0.871158</td>\n",
              "      <td>0.871561</td>\n",
              "    </tr>\n",
              "    <tr>\n",
              "      <th>0</th>\n",
              "      <td>Binary</td>\n",
              "      <td>Naive Bayes</td>\n",
              "      <td>All</td>\n",
              "      <td>All-Test</td>\n",
              "      <td>0.735283</td>\n",
              "      <td>0.865468</td>\n",
              "      <td>0.869572</td>\n",
              "      <td>0.692971</td>\n",
              "    </tr>\n",
              "    <tr>\n",
              "      <th>0</th>\n",
              "      <td>Binary</td>\n",
              "      <td>Naive Bayes</td>\n",
              "      <td>All</td>\n",
              "      <td>Elec-Test</td>\n",
              "      <td>0.785523</td>\n",
              "      <td>0.786175</td>\n",
              "      <td>0.816531</td>\n",
              "      <td>0.804185</td>\n",
              "    </tr>\n",
              "    <tr>\n",
              "      <th>0</th>\n",
              "      <td>Binary</td>\n",
              "      <td>Naive Bayes</td>\n",
              "      <td>Elec</td>\n",
              "      <td>Elec-Train</td>\n",
              "      <td>0.878787</td>\n",
              "      <td>0.878789</td>\n",
              "      <td>0.878814</td>\n",
              "      <td>0.878856</td>\n",
              "    </tr>\n",
              "    <tr>\n",
              "      <th>0</th>\n",
              "      <td>Binary</td>\n",
              "      <td>Naive Bayes</td>\n",
              "      <td>Elec</td>\n",
              "      <td>Elec-Test</td>\n",
              "      <td>0.860762</td>\n",
              "      <td>0.865275</td>\n",
              "      <td>0.869770</td>\n",
              "      <td>0.856368</td>\n",
              "    </tr>\n",
              "    <tr>\n",
              "      <th>0</th>\n",
              "      <td>Binary</td>\n",
              "      <td>Naive Bayes</td>\n",
              "      <td>Elec</td>\n",
              "      <td>ALL-Test</td>\n",
              "      <td>0.718558</td>\n",
              "      <td>0.861104</td>\n",
              "      <td>0.831913</td>\n",
              "      <td>0.680219</td>\n",
              "    </tr>\n",
              "  </tbody>\n",
              "</table>\n",
              "</div>"
            ],
            "text/plain": [
              "     Type        Model Train Set  ...  Accuracy    Recall  Precision\n",
              "0    5Cat  Naive Bayes       All  ...  0.583144  0.583196   0.581655\n",
              "0    5Cat  Naive Bayes       All  ...  0.529363  0.493736   0.385027\n",
              "0    5Cat  Naive Bayes       All  ...  0.450334  0.456689   0.454546\n",
              "0    5Cat  Naive Bayes      Elec  ...  0.571873  0.572109   0.570359\n",
              "0    5Cat  Naive Bayes      Elec  ...  0.503864  0.501400   0.496625\n",
              "0    5Cat  Naive Bayes      Elec  ...  0.511363  0.444680   0.364700\n",
              "0  Binary  Naive Bayes       All  ...  0.871149  0.871158   0.871561\n",
              "0  Binary  Naive Bayes       All  ...  0.865468  0.869572   0.692971\n",
              "0  Binary  Naive Bayes       All  ...  0.786175  0.816531   0.804185\n",
              "0  Binary  Naive Bayes      Elec  ...  0.878789  0.878814   0.878856\n",
              "0  Binary  Naive Bayes      Elec  ...  0.865275  0.869770   0.856368\n",
              "0  Binary  Naive Bayes      Elec  ...  0.861104  0.831913   0.680219\n",
              "\n",
              "[12 rows x 8 columns]"
            ]
          },
          "metadata": {
            "tags": []
          },
          "execution_count": 126
        }
      ]
    },
    {
      "cell_type": "markdown",
      "metadata": {
        "id": "qiltl9hXxoEt"
      },
      "source": [
        "Neutrality"
      ]
    },
    {
      "cell_type": "code",
      "metadata": {
        "colab": {
          "base_uri": "https://localhost:8080/"
        },
        "id": "r8tjQ_EFxmG0",
        "outputId": "22ff032a-9445-48d5-8555-26aa84683501"
      },
      "source": [
        "output_dir ='/content/drive/MyDrive/cis519_final/Baselines/Naive Bayes/results_All_neut.csv'\n",
        "# df_train = fast_parse('/content/drive/Shareddrives/519 Project/Data/preprocessed/Final Data/all_train.json')\n",
        "# df_test = fast_parse('/content/drive/Shareddrives/519 Project/Data/preprocessed/Final Data/all_test.json')\n",
        "# df_experiment = pd.from_csv('/content/drive/Shareddrives/519 Project/Data/preprocessed/Final Data/elec_test_5class.csv')\n",
        "# df_train = pd.DataFrame().from_dict(df_train)\n",
        "# df_test = pd.DataFrame().from_dict(df_test)\n",
        "\n",
        "df_train = pd.read_csv('/content/drive/Shareddrives/519 Project/Data/preprocessed/Final Data/all_neutrality_binary.csv')\n",
        "df_test = pd.read_csv('/content/drive/Shareddrives/519 Project/Data/preprocessed/Final Data/all_neutrality_binary_test.csv')\n",
        "df_exp = pd.read_csv('/content/drive/Shareddrives/519 Project/Data/preprocessed/Final Data/all_neutrality_binary_test.csv')\n",
        "\n",
        "from sklearn.feature_extraction.text import CountVectorizer\n",
        "from nltk.tokenize import RegexpTokenizer\n",
        "\n",
        "token = RegexpTokenizer(r'[a-zA-Z0-9]+')\n",
        "\n",
        "cv = CountVectorizer(stop_words='english',ngram_range = (1,1),tokenizer = token.tokenize)\n",
        "tf_idf = TfidfTransformer()\n",
        "train_doc_matrix = cv.fit_transform(df_train['title_plus_review'])\n",
        "X_train = tf_idf.fit_transform(train_doc_matrix)\n",
        "\n",
        "test_doc_matrix = cv.transform(df_test['title_plus_review'])\n",
        "X_test = tf_idf.transform(test_doc_matrix)\n",
        "\n",
        "exp_doc_matrix = cv.transform(df_exp['title_plus_review'])\n",
        "X_exp = tf_idf.transform(exp_doc_matrix)\n",
        "\n",
        "\n",
        "y_train = df_train['neutrality']\n",
        "y_test = df_test['neutrality']\n",
        "y_exp = df_exp['neutrality']\n",
        "\n",
        "from sklearn.model_selection import train_test_split\n",
        "# X_train, X_test, y_train, y_test = train_test_split(text_counts, df['overall'], test_size = 0.25, random_state = 5)\n",
        "\n",
        "\n",
        "\n",
        "clf = svm.SVC()\n",
        "clf.fit(X_train, y_train)"
      ],
      "execution_count": null,
      "outputs": [
        {
          "output_type": "stream",
          "text": [
            "/usr/local/lib/python3.7/dist-packages/IPython/core/interactiveshell.py:2718: DtypeWarning: Columns (12) have mixed types.Specify dtype option on import or set low_memory=False.\n",
            "  interactivity=interactivity, compiler=compiler, result=result)\n"
          ],
          "name": "stderr"
        },
        {
          "output_type": "execute_result",
          "data": {
            "text/plain": [
              "MultinomialNB(alpha=1.0, class_prior=None, fit_prior=True)"
            ]
          },
          "metadata": {
            "tags": []
          },
          "execution_count": 6
        }
      ]
    },
    {
      "cell_type": "code",
      "metadata": {
        "colab": {
          "base_uri": "https://localhost:8080/",
          "height": 276
        },
        "id": "GN2q80GRxmG2",
        "outputId": "33528cc1-66b1-461a-ac5e-5e36faf3abe4"
      },
      "source": [
        "df_train.head()"
      ],
      "execution_count": null,
      "outputs": [
        {
          "output_type": "execute_result",
          "data": {
            "text/html": [
              "<div>\n",
              "<style scoped>\n",
              "    .dataframe tbody tr th:only-of-type {\n",
              "        vertical-align: middle;\n",
              "    }\n",
              "\n",
              "    .dataframe tbody tr th {\n",
              "        vertical-align: top;\n",
              "    }\n",
              "\n",
              "    .dataframe thead th {\n",
              "        text-align: right;\n",
              "    }\n",
              "</style>\n",
              "<table border=\"1\" class=\"dataframe\">\n",
              "  <thead>\n",
              "    <tr style=\"text-align: right;\">\n",
              "      <th></th>\n",
              "      <th>Unnamed: 0</th>\n",
              "      <th>Unnamed: 0.1</th>\n",
              "      <th>reviewText</th>\n",
              "      <th>summary</th>\n",
              "      <th>title_plus_review</th>\n",
              "      <th>pos_neg</th>\n",
              "      <th>neutrality</th>\n",
              "      <th>num_words</th>\n",
              "      <th>nw</th>\n",
              "    </tr>\n",
              "  </thead>\n",
              "  <tbody>\n",
              "    <tr>\n",
              "      <th>0</th>\n",
              "      <td>0</td>\n",
              "      <td>23099</td>\n",
              "      <td>Lasted for about three cycles and won't keep a...</td>\n",
              "      <td>Lasted for about three cycles and won't keep a...</td>\n",
              "      <td>lasted for about three cycles and will not kee...</td>\n",
              "      <td>0</td>\n",
              "      <td>1</td>\n",
              "      <td>41</td>\n",
              "      <td>30</td>\n",
              "    </tr>\n",
              "    <tr>\n",
              "      <th>1</th>\n",
              "      <td>1</td>\n",
              "      <td>167477</td>\n",
              "      <td>Amazing quality for Dog apparel! However the s...</td>\n",
              "      <td>Super disappointed about size runs extra small</td>\n",
              "      <td>super disappointed about size runs extra small...</td>\n",
              "      <td>0</td>\n",
              "      <td>1</td>\n",
              "      <td>49</td>\n",
              "      <td>43</td>\n",
              "    </tr>\n",
              "    <tr>\n",
              "      <th>2</th>\n",
              "      <td>2</td>\n",
              "      <td>205965</td>\n",
              "      <td>Not very durable :(</td>\n",
              "      <td>One Star</td>\n",
              "      <td>one star not very durable</td>\n",
              "      <td>0</td>\n",
              "      <td>1</td>\n",
              "      <td>5</td>\n",
              "      <td>3</td>\n",
              "    </tr>\n",
              "    <tr>\n",
              "      <th>3</th>\n",
              "      <td>3</td>\n",
              "      <td>47624</td>\n",
              "      <td>Really really poor quality- gave off BLACK DYE...</td>\n",
              "      <td>Covered in black dye</td>\n",
              "      <td>covered in black dye really really poor qualit...</td>\n",
              "      <td>0</td>\n",
              "      <td>1</td>\n",
              "      <td>16</td>\n",
              "      <td>12</td>\n",
              "    </tr>\n",
              "    <tr>\n",
              "      <th>4</th>\n",
              "      <td>4</td>\n",
              "      <td>185644</td>\n",
              "      <td>Go with the other cheaper lincoln log sets, th...</td>\n",
              "      <td>Flimsy can</td>\n",
              "      <td>flimsy can go with the other cheaper lincoln l...</td>\n",
              "      <td>0</td>\n",
              "      <td>1</td>\n",
              "      <td>47</td>\n",
              "      <td>45</td>\n",
              "    </tr>\n",
              "  </tbody>\n",
              "</table>\n",
              "</div>"
            ],
            "text/plain": [
              "   Unnamed: 0  Unnamed: 0.1  ... num_words  nw\n",
              "0           0         23099  ...        41  30\n",
              "1           1        167477  ...        49  43\n",
              "2           2        205965  ...         5   3\n",
              "3           3         47624  ...        16  12\n",
              "4           4        185644  ...        47  45\n",
              "\n",
              "[5 rows x 9 columns]"
            ]
          },
          "metadata": {
            "tags": []
          },
          "execution_count": 7
        }
      ]
    },
    {
      "cell_type": "code",
      "metadata": {
        "colab": {
          "base_uri": "https://localhost:8080/"
        },
        "id": "_ZjQZt82xmG3",
        "outputId": "2a989674-89a1-49d8-d994-a56416964087"
      },
      "source": [
        "results = pd.DataFrame(columns=col_list)\n",
        "#train scores\n",
        "train_predicted = clf.predict(X_train)\n",
        "f1, acc, rec, prec = get_metrics(y_train, train_predicted)\n",
        "results = results.append(pd.DataFrame([[\"Neutrality\", \"Naive Bayes\", \"All\", \"All-Train\", f1, acc, rec, prec]], columns =col_list))\n",
        "print(str('{:04.2f}'.format(f1*100))+'%')\n",
        "#test scores\n",
        "test_predicted = clf.predict(X_test)\n",
        "f1, acc, rec, prec = get_metrics(y_test, test_predicted)\n",
        "results = results.append(pd.DataFrame([[\"Neutrality\", \"Naive Bayes\", \"All\", \"All-Test\", f1, acc, rec, prec]], columns=col_list))\n",
        "print(str('{:04.2f}'.format(f1*100))+'%')\n",
        "#Experiment Scores\n",
        "\n",
        "results.to_csv(output_dir, index=False)\n",
        "total_results = total_results.append(results)"
      ],
      "execution_count": null,
      "outputs": [
        {
          "output_type": "stream",
          "text": [
            "78.52%\n",
            "55.23%\n"
          ],
          "name": "stdout"
        }
      ]
    },
    {
      "cell_type": "code",
      "metadata": {
        "colab": {
          "base_uri": "https://localhost:8080/",
          "height": 112
        },
        "id": "KQ6H0tzIxmG4",
        "outputId": "3209c837-519d-4456-e8b8-f2351f5320f7"
      },
      "source": [
        "results"
      ],
      "execution_count": null,
      "outputs": [
        {
          "output_type": "execute_result",
          "data": {
            "text/html": [
              "<div>\n",
              "<style scoped>\n",
              "    .dataframe tbody tr th:only-of-type {\n",
              "        vertical-align: middle;\n",
              "    }\n",
              "\n",
              "    .dataframe tbody tr th {\n",
              "        vertical-align: top;\n",
              "    }\n",
              "\n",
              "    .dataframe thead th {\n",
              "        text-align: right;\n",
              "    }\n",
              "</style>\n",
              "<table border=\"1\" class=\"dataframe\">\n",
              "  <thead>\n",
              "    <tr style=\"text-align: right;\">\n",
              "      <th></th>\n",
              "      <th>Type</th>\n",
              "      <th>Model</th>\n",
              "      <th>Train Set</th>\n",
              "      <th>Test Set</th>\n",
              "      <th>F1</th>\n",
              "      <th>Accuracy</th>\n",
              "      <th>Recall</th>\n",
              "      <th>Precision</th>\n",
              "    </tr>\n",
              "  </thead>\n",
              "  <tbody>\n",
              "    <tr>\n",
              "      <th>0</th>\n",
              "      <td>Neutrality</td>\n",
              "      <td>Naive Bayes</td>\n",
              "      <td>All</td>\n",
              "      <td>All-Train</td>\n",
              "      <td>0.785196</td>\n",
              "      <td>0.785263</td>\n",
              "      <td>0.785264</td>\n",
              "      <td>0.785621</td>\n",
              "    </tr>\n",
              "    <tr>\n",
              "      <th>0</th>\n",
              "      <td>Neutrality</td>\n",
              "      <td>Naive Bayes</td>\n",
              "      <td>All</td>\n",
              "      <td>All-Test</td>\n",
              "      <td>0.552255</td>\n",
              "      <td>0.677471</td>\n",
              "      <td>0.713086</td>\n",
              "      <td>0.580629</td>\n",
              "    </tr>\n",
              "  </tbody>\n",
              "</table>\n",
              "</div>"
            ],
            "text/plain": [
              "         Type        Model Train Set  ...  Accuracy    Recall  Precision\n",
              "0  Neutrality  Naive Bayes       All  ...  0.785263  0.785264   0.785621\n",
              "0  Neutrality  Naive Bayes       All  ...  0.677471  0.713086   0.580629\n",
              "\n",
              "[2 rows x 8 columns]"
            ]
          },
          "metadata": {
            "tags": []
          },
          "execution_count": 9
        }
      ]
    }
  ]
}
