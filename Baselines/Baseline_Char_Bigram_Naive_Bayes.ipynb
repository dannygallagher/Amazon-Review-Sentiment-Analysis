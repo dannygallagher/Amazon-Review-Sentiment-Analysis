{
  "nbformat": 4,
  "nbformat_minor": 0,
  "metadata": {
    "colab": {
      "name": "Baseline-Char Bigram Naive Bayes.ipynb",
      "provenance": [],
      "collapsed_sections": [],
      "authorship_tag": "ABX9TyOjnqpxtxe30LPK8kwo/MtE",
      "include_colab_link": true
    },
    "kernelspec": {
      "display_name": "Python 3",
      "name": "python3"
    },
    "language_info": {
      "name": "python"
    }
  },
  "cells": [
    {
      "cell_type": "markdown",
      "metadata": {
        "id": "view-in-github",
        "colab_type": "text"
      },
      "source": [
        "<a href=\"https://colab.research.google.com/github/dannygallagher/CIS519-Project/blob/main/Baseline_Char_Bigram_Naive_Bayes.ipynb\" target=\"_parent\"><img src=\"https://colab.research.google.com/assets/colab-badge.svg\" alt=\"Open In Colab\"/></a>"
      ]
    },
    {
      "cell_type": "code",
      "metadata": {
        "colab": {
          "base_uri": "https://localhost:8080/"
        },
        "id": "mwp6-JM9udl1",
        "outputId": "57f8d0a7-4df8-4a1b-a00d-64808c244458"
      },
      "source": [
        "from google.colab import drive\n",
        "drive.mount('/content/drive')"
      ],
      "execution_count": null,
      "outputs": [
        {
          "output_type": "stream",
          "text": [
            "Drive already mounted at /content/drive; to attempt to forcibly remount, call drive.mount(\"/content/drive\", force_remount=True).\n"
          ],
          "name": "stdout"
        }
      ]
    },
    {
      "cell_type": "code",
      "metadata": {
        "id": "uBVuxRc__gyE"
      },
      "source": [
        "import pandas as pd\n",
        "import gzip\n",
        "import json\n",
        "import json\n",
        "import gzip\n",
        "from sklearn.metrics import f1_score, accuracy_score, recall_score, precision_score\n",
        "from sklearn.feature_extraction.text import TfidfTransformer\n",
        "def get_metrics(true_labels, pred_labels):\n",
        "    f1 = f1_score(true_labels, pred_labels, average='macro')\n",
        "    acc = accuracy_score(true_labels, pred_labels)\n",
        "    rec = recall_score(true_labels, pred_labels, average='macro')\n",
        "    prec = precision_score(true_labels, pred_labels, average='macro')\n",
        "    return f1, acc, rec, prec\n",
        "\n",
        "def fast_parse(path):\n",
        "  # path = path + \".json.gz\"\n",
        "  max_reviews = 1689188\n",
        "  iter = 5000\n",
        "  counter = 0 \n",
        "  all_reviews = []\n",
        "  g = open(path, 'r')\n",
        "  for line in g:\n",
        "    d = json.loads(line)\n",
        "    all_reviews.append(d)\n",
        "    if (counter % iter) == 0:\n",
        "      print(f\"On line{counter}, {counter/max_reviews} % done\")\n",
        "    counter = counter + 1\n",
        "  return all_reviews\n",
        "\n",
        "def parse(path):\n",
        "  g = gzip.open(path, 'rb')\n",
        "  for l in g:\n",
        "    yield json.loads(l)\n",
        "\n",
        "def getDF(path):\n",
        "  i = 0\n",
        "  df = {}\n",
        "  for d in parse(path):\n",
        "    df[i] = d\n",
        "    i += 1\n",
        "  return pd.DataFrame.from_dict(df, orient='index')"
      ],
      "execution_count": null,
      "outputs": []
    },
    {
      "cell_type": "code",
      "metadata": {
        "id": "hUedlZWFG6T4"
      },
      "source": [
        "col_list = ['Type', \"Model\", \"Train Set\", 'Test Set', 'F1', 'Accuracy', 'Recall', 'Precision']\n",
        "total_results = pd.DataFrame(columns=col_list)"
      ],
      "execution_count": null,
      "outputs": []
    },
    {
      "cell_type": "markdown",
      "metadata": {
        "id": "uBhem8W0_kbh"
      },
      "source": [
        "All 5 Cat"
      ]
    },
    {
      "cell_type": "code",
      "metadata": {
        "colab": {
          "base_uri": "https://localhost:8080/"
        },
        "id": "qsojztb-uK9b",
        "outputId": "b63c5906-d94f-4fd8-921a-d2b19b6b907b"
      },
      "source": [
        "output_dir ='/content/drive/MyDrive/cis519_final/Baselines/Char Bigram/results_All_5Cat.csv'\n",
        "# df_train = fast_parse('/content/drive/Shareddrives/519 Project/Data/preprocessed/Final Data/all_train.json')\n",
        "# df_test = fast_parse('/content/drive/Shareddrives/519 Project/Data/preprocessed/Final Data/all_test.json')\n",
        "# df_experiment = pd.from_csv('/content/drive/Shareddrives/519 Project/Data/preprocessed/Final Data/elec_test_5class.csv')\n",
        "# df_train = pd.DataFrame().from_dict(df_train)\n",
        "# df_test = pd.DataFrame().from_dict(df_test)\n",
        "\n",
        "df_train = pd.read_csv('/content/drive/Shareddrives/519 Project/Data/preprocessed/Final Data/all_train.csv')\n",
        "df_test = pd.read_csv('/content/drive/Shareddrives/519 Project/Data/preprocessed/Final Data/all_test.csv')\n",
        "df_exp = pd.read_csv('/content/drive/Shareddrives/519 Project/Data/preprocessed/Final Data/electronics_test.csv')\n",
        "\n",
        "from sklearn.feature_extraction.text import CountVectorizer\n",
        "from nltk.tokenize import RegexpTokenizer\n",
        "\n",
        "token = RegexpTokenizer(r'[a-zA-Z0-9]+')\n",
        "cv = CountVectorizer(stop_words='english',ngram_range = (2,2),tokenizer = token.tokenize, analyzer=\"char\")\n",
        "\n",
        "tf_idf = TfidfTransformer()\n",
        "train_doc_matrix = cv.fit_transform(df_train['title_plus_review'])\n",
        "X_train = tf_idf.fit_transform(train_doc_matrix)\n",
        "\n",
        "test_doc_matrix = cv.transform(df_test['title_plus_review'])\n",
        "X_test = tf_idf.transform(test_doc_matrix)\n",
        "\n",
        "exp_doc_matrix = cv.transform(df_exp['title_plus_review'])\n",
        "X_exp = tf_idf.transform(exp_doc_matrix)\n",
        "\n",
        "\n",
        "y_train = df_train['overall']\n",
        "y_test = df_test['overall']\n",
        "y_exp = df_exp['overall']\n",
        "\n",
        "from sklearn.model_selection import train_test_split\n",
        "# X_train, X_test, y_train, y_test = train_test_split(text_counts, df['overall'], test_size = 0.25, random_state = 5)\n",
        "\n",
        "from sklearn.naive_bayes import MultinomialNB\n",
        "\n",
        "MNB = MultinomialNB()\n",
        "MNB.fit(X_train, y_train)"
      ],
      "execution_count": null,
      "outputs": [
        {
          "output_type": "stream",
          "text": [
            "/usr/local/lib/python3.7/dist-packages/IPython/core/interactiveshell.py:2718: DtypeWarning: Columns (11) have mixed types.Specify dtype option on import or set low_memory=False.\n",
            "  interactivity=interactivity, compiler=compiler, result=result)\n"
          ],
          "name": "stderr"
        },
        {
          "output_type": "execute_result",
          "data": {
            "text/plain": [
              "MultinomialNB(alpha=1.0, class_prior=None, fit_prior=True)"
            ]
          },
          "metadata": {
            "tags": []
          },
          "execution_count": 11
        }
      ]
    },
    {
      "cell_type": "code",
      "metadata": {
        "colab": {
          "base_uri": "https://localhost:8080/"
        },
        "id": "w5v7pol6106T",
        "outputId": "41823d8e-e57c-4664-fa06-1b54f115d606"
      },
      "source": [
        "results = pd.DataFrame(columns=col_list)\n",
        "#train scores\n",
        "train_predicted = MNB.predict(X_train)\n",
        "f1, acc, rec, prec = get_metrics(y_train, train_predicted)\n",
        "results = results.append(pd.DataFrame([[\"5Cat\", \"Char Bigram\", \"All\", \"All-Train\", f1, acc, rec, prec]], columns =col_list))\n",
        "print(str('{:04.2f}'.format(f1*100))+'%')\n",
        "#test scores\n",
        "test_predicted = MNB.predict(X_test)\n",
        "f1, acc, rec, prec = get_metrics(y_test, test_predicted)\n",
        "results = results.append(pd.DataFrame([[\"5Cat\", \"Char Bigram\", \"All\", \"All-Test\", f1, acc, rec, prec]], columns=col_list))\n",
        "print(str('{:04.2f}'.format(f1*100))+'%')\n",
        "#Experiment Scores\n",
        "exp_predicted = MNB.predict(X_exp)\n",
        "f1, acc, rec, prec = get_metrics(y_exp, exp_predicted)\n",
        "results = results.append(pd.DataFrame([[\"5Cat\", \"Char Bigram\", \"All\", \"Elec-Test\", f1, acc, rec, prec]], columns=col_list))\n",
        "print(str('{:04.2f}'.format(f1*100))+'%')\n",
        "\n",
        "results.to_csv(output_dir, index=False)\n",
        "total_results = total_results.append(results)"
      ],
      "execution_count": null,
      "outputs": [
        {
          "output_type": "stream",
          "text": [
            "48.65%\n",
            "37.53%\n",
            "43.98%\n"
          ],
          "name": "stdout"
        }
      ]
    },
    {
      "cell_type": "code",
      "metadata": {
        "colab": {
          "base_uri": "https://localhost:8080/",
          "height": 143
        },
        "id": "bud3RnfY8ZTn",
        "outputId": "d0363a5a-2304-47d1-dbe2-dff19b0adf66"
      },
      "source": [
        "results"
      ],
      "execution_count": null,
      "outputs": [
        {
          "output_type": "execute_result",
          "data": {
            "text/html": [
              "<div>\n",
              "<style scoped>\n",
              "    .dataframe tbody tr th:only-of-type {\n",
              "        vertical-align: middle;\n",
              "    }\n",
              "\n",
              "    .dataframe tbody tr th {\n",
              "        vertical-align: top;\n",
              "    }\n",
              "\n",
              "    .dataframe thead th {\n",
              "        text-align: right;\n",
              "    }\n",
              "</style>\n",
              "<table border=\"1\" class=\"dataframe\">\n",
              "  <thead>\n",
              "    <tr style=\"text-align: right;\">\n",
              "      <th></th>\n",
              "      <th>Type</th>\n",
              "      <th>Model</th>\n",
              "      <th>Train Set</th>\n",
              "      <th>Test Set</th>\n",
              "      <th>F1</th>\n",
              "      <th>Accuracy</th>\n",
              "      <th>Recall</th>\n",
              "      <th>Precision</th>\n",
              "    </tr>\n",
              "  </thead>\n",
              "  <tbody>\n",
              "    <tr>\n",
              "      <th>0</th>\n",
              "      <td>5Cat</td>\n",
              "      <td>Char Bigram</td>\n",
              "      <td>All</td>\n",
              "      <td>All-Train</td>\n",
              "      <td>0.486477</td>\n",
              "      <td>0.483844</td>\n",
              "      <td>0.483874</td>\n",
              "      <td>0.495822</td>\n",
              "    </tr>\n",
              "    <tr>\n",
              "      <th>0</th>\n",
              "      <td>5Cat</td>\n",
              "      <td>Char Bigram</td>\n",
              "      <td>All</td>\n",
              "      <td>All-Test</td>\n",
              "      <td>0.375273</td>\n",
              "      <td>0.501692</td>\n",
              "      <td>0.487216</td>\n",
              "      <td>0.370072</td>\n",
              "    </tr>\n",
              "    <tr>\n",
              "      <th>0</th>\n",
              "      <td>5Cat</td>\n",
              "      <td>Char Bigram</td>\n",
              "      <td>All</td>\n",
              "      <td>Elec-Test</td>\n",
              "      <td>0.439754</td>\n",
              "      <td>0.449353</td>\n",
              "      <td>0.452651</td>\n",
              "      <td>0.474091</td>\n",
              "    </tr>\n",
              "  </tbody>\n",
              "</table>\n",
              "</div>"
            ],
            "text/plain": [
              "   Type        Model Train Set  ...  Accuracy    Recall  Precision\n",
              "0  5Cat  Char Bigram       All  ...  0.483844  0.483874   0.495822\n",
              "0  5Cat  Char Bigram       All  ...  0.501692  0.487216   0.370072\n",
              "0  5Cat  Char Bigram       All  ...  0.449353  0.452651   0.474091\n",
              "\n",
              "[3 rows x 8 columns]"
            ]
          },
          "metadata": {
            "tags": []
          },
          "execution_count": 13
        }
      ]
    },
    {
      "cell_type": "markdown",
      "metadata": {
        "id": "L_s7vgAuCo4E"
      },
      "source": [
        "Elec 5 Cat"
      ]
    },
    {
      "cell_type": "code",
      "metadata": {
        "colab": {
          "base_uri": "https://localhost:8080/"
        },
        "id": "1wxG20UeCutg",
        "outputId": "f18d58b4-afe7-4717-f8f6-c4f0c0674522"
      },
      "source": [
        "output_dir ='/content/drive/MyDrive/cis519_final/Baselines/Char Bigram/results_Elec_5Cat.csv'\n",
        "# df_train = fast_parse('/content/drive/Shareddrives/519 Project/Data/preprocessed/Final Data/all_train.json')\n",
        "# df_test = fast_parse('/content/drive/Shareddrives/519 Project/Data/preprocessed/Final Data/all_test.json')\n",
        "# df_experiment = pd.from_csv('/content/drive/Shareddrives/519 Project/Data/preprocessed/Final Data/elec_test_5class.csv')\n",
        "# df_train = pd.DataFrame().from_dict(df_train)\n",
        "# df_test = pd.DataFrame().from_dict(df_test)\n",
        "\n",
        "df_train = pd.read_csv('/content/drive/Shareddrives/519 Project/Data/preprocessed/Final Data/electronics_train.csv')\n",
        "df_test = pd.read_csv('/content/drive/Shareddrives/519 Project/Data/preprocessed/Final Data/electronics_test.csv')\n",
        "df_exp = pd.read_csv('/content/drive/Shareddrives/519 Project/Data/preprocessed/Final Data/all_test.csv')\n",
        "\n",
        "from sklearn.feature_extraction.text import CountVectorizer\n",
        "from nltk.tokenize import RegexpTokenizer\n",
        "\n",
        "token = RegexpTokenizer(r'[a-zA-Z0-9]+')\n",
        "cv = CountVectorizer(stop_words='english',ngram_range = (2,2),tokenizer = token.tokenize, analyzer=\"char\")\n",
        "tf_idf = TfidfTransformer()\n",
        "train_doc_matrix = cv.fit_transform(df_train['title_plus_review'])\n",
        "X_train = tf_idf.fit_transform(train_doc_matrix)\n",
        "\n",
        "test_doc_matrix = cv.transform(df_test['title_plus_review'])\n",
        "X_test = tf_idf.transform(test_doc_matrix)\n",
        "\n",
        "exp_doc_matrix = cv.transform(df_exp['title_plus_review'])\n",
        "X_exp = tf_idf.transform(exp_doc_matrix)\n",
        "\n",
        "\n",
        "y_train = df_train['overall']\n",
        "y_test = df_test['overall']\n",
        "y_exp = df_exp['overall']\n",
        "\n",
        "from sklearn.model_selection import train_test_split\n",
        "# X_train, X_test, y_train, y_test = train_test_split(text_counts, df['overall'], test_size = 0.25, random_state = 5)\n",
        "\n",
        "from sklearn.naive_bayes import MultinomialNB\n",
        "\n",
        "MNB = MultinomialNB()\n",
        "MNB.fit(X_train, y_train)"
      ],
      "execution_count": null,
      "outputs": [
        {
          "output_type": "stream",
          "text": [
            "/usr/local/lib/python3.7/dist-packages/IPython/core/interactiveshell.py:2718: DtypeWarning: Columns (11) have mixed types.Specify dtype option on import or set low_memory=False.\n",
            "  interactivity=interactivity, compiler=compiler, result=result)\n"
          ],
          "name": "stderr"
        },
        {
          "output_type": "execute_result",
          "data": {
            "text/plain": [
              "MultinomialNB(alpha=1.0, class_prior=None, fit_prior=True)"
            ]
          },
          "metadata": {
            "tags": []
          },
          "execution_count": 14
        }
      ]
    },
    {
      "cell_type": "code",
      "metadata": {
        "colab": {
          "base_uri": "https://localhost:8080/"
        },
        "id": "c65qC6HRCutk",
        "outputId": "9a3b736e-c287-4733-824c-7996c7820eac"
      },
      "source": [
        "col_list = ['Type', \"Model\", \"Train Set\", 'Test Set', 'F1', 'Accuracy', 'Recall', 'Precision']\n",
        "results = pd.DataFrame(columns=col_list)\n",
        "#train scores\n",
        "train_predicted = MNB.predict(X_train)\n",
        "f1, acc, rec, prec = get_metrics(y_train, train_predicted)\n",
        "results = results.append(pd.DataFrame([[\"5Cat\", \"Char Bigram\", \"Elec\", \"Elec-Train\", f1, acc, rec, prec]], columns =col_list))\n",
        "print(str('{:04.2f}'.format(f1*100))+'%')\n",
        "#test scores\n",
        "test_predicted = MNB.predict(X_test)\n",
        "f1, acc, rec, prec = get_metrics(y_test, test_predicted)\n",
        "results = results.append(pd.DataFrame([[\"5Cat\", \"Char Bigram\", \"Elec\", \"Elec-Test\", f1, acc, rec, prec]], columns=col_list))\n",
        "print(str('{:04.2f}'.format(f1*100))+'%')\n",
        "#Experiment Scores\n",
        "exp_predicted = MNB.predict(X_exp)\n",
        "f1, acc, rec, prec = get_metrics(y_exp, exp_predicted)\n",
        "results = results.append(pd.DataFrame([[\"5Cat\", \"Char Bigram\", \"Elec\", \"ALL-Test\", f1, acc, rec, prec]], columns=col_list))\n",
        "print(str('{:04.2f}'.format(f1*100))+'%')\n",
        "\n",
        "results.to_csv(output_dir, index=False)\n",
        "total_results = total_results.append(results)\n"
      ],
      "execution_count": null,
      "outputs": [
        {
          "output_type": "stream",
          "text": [
            "48.09%\n",
            "46.12%\n",
            "35.75%\n"
          ],
          "name": "stdout"
        }
      ]
    },
    {
      "cell_type": "code",
      "metadata": {
        "colab": {
          "base_uri": "https://localhost:8080/",
          "height": 143
        },
        "id": "UQCILba0Cutl",
        "outputId": "ee8de47e-3366-4ffc-a615-329b31cbdaff"
      },
      "source": [
        "results"
      ],
      "execution_count": null,
      "outputs": [
        {
          "output_type": "execute_result",
          "data": {
            "text/html": [
              "<div>\n",
              "<style scoped>\n",
              "    .dataframe tbody tr th:only-of-type {\n",
              "        vertical-align: middle;\n",
              "    }\n",
              "\n",
              "    .dataframe tbody tr th {\n",
              "        vertical-align: top;\n",
              "    }\n",
              "\n",
              "    .dataframe thead th {\n",
              "        text-align: right;\n",
              "    }\n",
              "</style>\n",
              "<table border=\"1\" class=\"dataframe\">\n",
              "  <thead>\n",
              "    <tr style=\"text-align: right;\">\n",
              "      <th></th>\n",
              "      <th>Type</th>\n",
              "      <th>Model</th>\n",
              "      <th>Train Set</th>\n",
              "      <th>Test Set</th>\n",
              "      <th>F1</th>\n",
              "      <th>Accuracy</th>\n",
              "      <th>Recall</th>\n",
              "      <th>Precision</th>\n",
              "    </tr>\n",
              "  </thead>\n",
              "  <tbody>\n",
              "    <tr>\n",
              "      <th>0</th>\n",
              "      <td>5Cat</td>\n",
              "      <td>Char Bigram</td>\n",
              "      <td>Elec</td>\n",
              "      <td>Elec-Train</td>\n",
              "      <td>0.480870</td>\n",
              "      <td>0.478117</td>\n",
              "      <td>0.478276</td>\n",
              "      <td>0.492024</td>\n",
              "    </tr>\n",
              "    <tr>\n",
              "      <th>0</th>\n",
              "      <td>5Cat</td>\n",
              "      <td>Char Bigram</td>\n",
              "      <td>Elec</td>\n",
              "      <td>Elec-Test</td>\n",
              "      <td>0.461161</td>\n",
              "      <td>0.464928</td>\n",
              "      <td>0.467897</td>\n",
              "      <td>0.477951</td>\n",
              "    </tr>\n",
              "    <tr>\n",
              "      <th>0</th>\n",
              "      <td>5Cat</td>\n",
              "      <td>Char Bigram</td>\n",
              "      <td>Elec</td>\n",
              "      <td>ALL-Test</td>\n",
              "      <td>0.357475</td>\n",
              "      <td>0.483912</td>\n",
              "      <td>0.462223</td>\n",
              "      <td>0.358774</td>\n",
              "    </tr>\n",
              "  </tbody>\n",
              "</table>\n",
              "</div>"
            ],
            "text/plain": [
              "   Type        Model Train Set  ...  Accuracy    Recall  Precision\n",
              "0  5Cat  Char Bigram      Elec  ...  0.478117  0.478276   0.492024\n",
              "0  5Cat  Char Bigram      Elec  ...  0.464928  0.467897   0.477951\n",
              "0  5Cat  Char Bigram      Elec  ...  0.483912  0.462223   0.358774\n",
              "\n",
              "[3 rows x 8 columns]"
            ]
          },
          "metadata": {
            "tags": []
          },
          "execution_count": 16
        }
      ]
    },
    {
      "cell_type": "markdown",
      "metadata": {
        "id": "ocSP3cnFEm56"
      },
      "source": [
        "ALL Binary"
      ]
    },
    {
      "cell_type": "code",
      "metadata": {
        "id": "OCdyYhVHE1p1",
        "colab": {
          "base_uri": "https://localhost:8080/"
        },
        "outputId": "9c78ab97-ce11-4a8b-dea9-97a4a33e6eac"
      },
      "source": [
        "output_dir ='/content/drive/MyDrive/cis519_final/Baselines/Char Bigram/results_All_bin.csv'\n",
        "df_train = fast_parse('/content/drive/Shareddrives/519 Project/Data/preprocessed/Final Data/all_train_binaryposneg.json')\n",
        "df_test = fast_parse('/content/drive/Shareddrives/519 Project/Data/preprocessed/Final Data/all_test_binaryposneg.json')\n",
        "df_exp = fast_parse('/content/drive/Shareddrives/519 Project/Data/preprocessed/Final Data/electronics_test_binaryposneg.json')\n",
        "df_train = pd.DataFrame().from_dict(df_train)\n",
        "df_test = pd.DataFrame().from_dict(df_test)\n",
        "df_exp = pd.DataFrame().from_dict(df_exp)\n",
        "\n",
        "from sklearn.feature_extraction.text import CountVectorizer\n",
        "from nltk.tokenize import RegexpTokenizer\n",
        "\n",
        "token = RegexpTokenizer(r'[a-zA-Z0-9]+')\n",
        "cv = CountVectorizer(stop_words='english',ngram_range = (2,2),tokenizer = token.tokenize, analyzer=\"char\")\n",
        "tf_idf = TfidfTransformer()\n",
        "train_doc_matrix = cv.fit_transform(df_train['title_plus_review'])\n",
        "X_train = tf_idf.fit_transform(train_doc_matrix)\n",
        "\n",
        "test_doc_matrix = cv.transform(df_test['title_plus_review'])\n",
        "X_test = tf_idf.transform(test_doc_matrix)\n",
        "\n",
        "exp_doc_matrix = cv.transform(df_exp['title_plus_review'])\n",
        "X_exp = tf_idf.transform(exp_doc_matrix)\n",
        "\n",
        "\n",
        "y_train = df_train['pos_neg']\n",
        "y_test = df_test['pos_neg']\n",
        "y_exp = df_exp['pos_neg']\n",
        "\n",
        "from sklearn.model_selection import train_test_split\n",
        "# X_train, X_test, y_train, y_test = train_test_split(text_counts, df['overall'], test_size = 0.25, random_state = 5)\n",
        "\n",
        "from sklearn.naive_bayes import MultinomialNB\n",
        "\n",
        "MNB = MultinomialNB()\n",
        "MNB.fit(X_train, y_train)"
      ],
      "execution_count": null,
      "outputs": [
        {
          "output_type": "stream",
          "text": [
            "On line0, 0.0 % done\n",
            "On line5000, 0.002960002083841467 % done\n",
            "On line10000, 0.005920004167682934 % done\n",
            "On line15000, 0.008880006251524401 % done\n",
            "On line20000, 0.011840008335365868 % done\n",
            "On line25000, 0.014800010419207334 % done\n",
            "On line30000, 0.017760012503048803 % done\n",
            "On line35000, 0.02072001458689027 % done\n",
            "On line40000, 0.023680016670731736 % done\n",
            "On line45000, 0.026640018754573204 % done\n",
            "On line50000, 0.02960002083841467 % done\n",
            "On line55000, 0.03256002292225614 % done\n",
            "On line60000, 0.035520025006097605 % done\n",
            "On line65000, 0.03848002708993907 % done\n",
            "On line70000, 0.04144002917378054 % done\n",
            "On line75000, 0.04440003125762201 % done\n",
            "On line80000, 0.04736003334146347 % done\n",
            "On line85000, 0.050320035425304936 % done\n",
            "On line90000, 0.05328003750914641 % done\n",
            "On line95000, 0.05624003959298787 % done\n",
            "On line100000, 0.05920004167682934 % done\n",
            "On line105000, 0.06216004376067081 % done\n",
            "On line110000, 0.06512004584451228 % done\n",
            "On line115000, 0.06808004792835375 % done\n",
            "On line120000, 0.07104005001219521 % done\n",
            "On line125000, 0.07400005209603668 % done\n",
            "On line130000, 0.07696005417987814 % done\n",
            "On line135000, 0.0799200562637196 % done\n",
            "On line140000, 0.08288005834756108 % done\n",
            "On line145000, 0.08584006043140255 % done\n",
            "On line150000, 0.08880006251524401 % done\n",
            "On line155000, 0.09176006459908548 % done\n",
            "On line160000, 0.09472006668292694 % done\n",
            "On line165000, 0.09768006876676841 % done\n",
            "On line170000, 0.10064007085060987 % done\n",
            "On line175000, 0.10360007293445135 % done\n",
            "On line180000, 0.10656007501829282 % done\n",
            "On line185000, 0.10952007710213428 % done\n",
            "On line190000, 0.11248007918597575 % done\n",
            "On line195000, 0.11544008126981721 % done\n",
            "On line0, 0.0 % done\n",
            "On line5000, 0.002960002083841467 % done\n",
            "On line10000, 0.005920004167682934 % done\n",
            "On line15000, 0.008880006251524401 % done\n",
            "On line20000, 0.011840008335365868 % done\n",
            "On line25000, 0.014800010419207334 % done\n",
            "On line30000, 0.017760012503048803 % done\n",
            "On line35000, 0.02072001458689027 % done\n",
            "On line40000, 0.023680016670731736 % done\n",
            "On line45000, 0.026640018754573204 % done\n",
            "On line0, 0.0 % done\n",
            "On line5000, 0.002960002083841467 % done\n",
            "On line10000, 0.005920004167682934 % done\n",
            "On line15000, 0.008880006251524401 % done\n",
            "On line20000, 0.011840008335365868 % done\n",
            "On line25000, 0.014800010419207334 % done\n",
            "On line30000, 0.017760012503048803 % done\n",
            "On line35000, 0.02072001458689027 % done\n"
          ],
          "name": "stdout"
        },
        {
          "output_type": "execute_result",
          "data": {
            "text/plain": [
              "MultinomialNB(alpha=1.0, class_prior=None, fit_prior=True)"
            ]
          },
          "metadata": {
            "tags": []
          },
          "execution_count": 17
        }
      ]
    },
    {
      "cell_type": "code",
      "metadata": {
        "id": "UviPTTo6E1p3",
        "colab": {
          "base_uri": "https://localhost:8080/"
        },
        "outputId": "1d1e07cc-3e51-456b-a62c-b5524d59c6c8"
      },
      "source": [
        "col_list = ['Type', \"Model\", \"Train Set\", 'Test Set', 'F1', 'Accuracy', 'Recall', 'Precision']\n",
        "results = pd.DataFrame(columns=col_list)\n",
        "#train scores\n",
        "train_predicted = MNB.predict(X_train)\n",
        "f1, acc, rec, prec = get_metrics(y_train, train_predicted)\n",
        "results = results.append(pd.DataFrame([[\"Binary\", \"Char Bigram\", \"All\", \"All-Train\", f1, acc, rec, prec]], columns =col_list))\n",
        "print(str('{:04.2f}'.format(f1*100))+'%')\n",
        "#test scores\n",
        "test_predicted = MNB.predict(X_test)\n",
        "f1, acc, rec, prec = get_metrics(y_test, test_predicted)\n",
        "results = results.append(pd.DataFrame([[\"Binary\", \"Char Bigram\", \"All\", \"All-Test\", f1, acc, rec, prec]], columns=col_list))\n",
        "print(str('{:04.2f}'.format(f1*100))+'%')\n",
        "#Experiment Scores\n",
        "exp_predicted = MNB.predict(X_exp)\n",
        "f1, acc, rec, prec = get_metrics(y_exp, exp_predicted)\n",
        "results = results.append(pd.DataFrame([[\"Binary\", \"Char Bigram\", \"All\", \"Elec-Test\", f1, acc, rec, prec]], columns=col_list))\n",
        "print(str('{:04.2f}'.format(f1*100))+'%')\n",
        "\n",
        "results.to_csv(output_dir, index=False)\n",
        "total_results = total_results.append(results)\n"
      ],
      "execution_count": null,
      "outputs": [
        {
          "output_type": "stream",
          "text": [
            "76.75%\n",
            "60.28%\n",
            "70.69%\n"
          ],
          "name": "stdout"
        }
      ]
    },
    {
      "cell_type": "code",
      "metadata": {
        "id": "GCs0jt13E1p5",
        "colab": {
          "base_uri": "https://localhost:8080/",
          "height": 143
        },
        "outputId": "63786413-9ea7-4b09-99ea-d64cc85c428d"
      },
      "source": [
        "results"
      ],
      "execution_count": null,
      "outputs": [
        {
          "output_type": "execute_result",
          "data": {
            "text/html": [
              "<div>\n",
              "<style scoped>\n",
              "    .dataframe tbody tr th:only-of-type {\n",
              "        vertical-align: middle;\n",
              "    }\n",
              "\n",
              "    .dataframe tbody tr th {\n",
              "        vertical-align: top;\n",
              "    }\n",
              "\n",
              "    .dataframe thead th {\n",
              "        text-align: right;\n",
              "    }\n",
              "</style>\n",
              "<table border=\"1\" class=\"dataframe\">\n",
              "  <thead>\n",
              "    <tr style=\"text-align: right;\">\n",
              "      <th></th>\n",
              "      <th>Type</th>\n",
              "      <th>Model</th>\n",
              "      <th>Train Set</th>\n",
              "      <th>Test Set</th>\n",
              "      <th>F1</th>\n",
              "      <th>Accuracy</th>\n",
              "      <th>Recall</th>\n",
              "      <th>Precision</th>\n",
              "    </tr>\n",
              "  </thead>\n",
              "  <tbody>\n",
              "    <tr>\n",
              "      <th>0</th>\n",
              "      <td>Binary</td>\n",
              "      <td>Char Bigram</td>\n",
              "      <td>All</td>\n",
              "      <td>All-Train</td>\n",
              "      <td>0.767532</td>\n",
              "      <td>0.770206</td>\n",
              "      <td>0.770262</td>\n",
              "      <td>0.783366</td>\n",
              "    </tr>\n",
              "    <tr>\n",
              "      <th>0</th>\n",
              "      <td>Binary</td>\n",
              "      <td>Char Bigram</td>\n",
              "      <td>All</td>\n",
              "      <td>All-Test</td>\n",
              "      <td>0.602826</td>\n",
              "      <td>0.728548</td>\n",
              "      <td>0.798167</td>\n",
              "      <td>0.612456</td>\n",
              "    </tr>\n",
              "    <tr>\n",
              "      <th>0</th>\n",
              "      <td>Binary</td>\n",
              "      <td>Char Bigram</td>\n",
              "      <td>All</td>\n",
              "      <td>Elec-Test</td>\n",
              "      <td>0.706950</td>\n",
              "      <td>0.706950</td>\n",
              "      <td>0.746110</td>\n",
              "      <td>0.745967</td>\n",
              "    </tr>\n",
              "  </tbody>\n",
              "</table>\n",
              "</div>"
            ],
            "text/plain": [
              "     Type        Model Train Set  ...  Accuracy    Recall  Precision\n",
              "0  Binary  Char Bigram       All  ...  0.770206  0.770262   0.783366\n",
              "0  Binary  Char Bigram       All  ...  0.728548  0.798167   0.612456\n",
              "0  Binary  Char Bigram       All  ...  0.706950  0.746110   0.745967\n",
              "\n",
              "[3 rows x 8 columns]"
            ]
          },
          "metadata": {
            "tags": []
          },
          "execution_count": 19
        }
      ]
    },
    {
      "cell_type": "markdown",
      "metadata": {
        "id": "iK5WlllOGeeL"
      },
      "source": [
        "Elec Bin"
      ]
    },
    {
      "cell_type": "code",
      "metadata": {
        "id": "60JTqaqtGdKy",
        "colab": {
          "base_uri": "https://localhost:8080/"
        },
        "outputId": "e580a599-208d-45cb-fe1d-1033b76c1a53"
      },
      "source": [
        "output_dir ='/content/drive/MyDrive/cis519_final/Baselines/Char Bigram/results_Elec_Bin.csv'\n",
        "df_train = fast_parse('/content/drive/Shareddrives/519 Project/Data/preprocessed/Final Data/electronics_train_binaryposneg.json')\n",
        "df_test = fast_parse('/content/drive/Shareddrives/519 Project/Data/preprocessed/Final Data/electronics_test_binaryposneg.json')\n",
        "df_exp = fast_parse('/content/drive/Shareddrives/519 Project/Data/preprocessed/Final Data/all_test_binaryposneg.json')\n",
        "df_train = pd.DataFrame().from_dict(df_train)\n",
        "df_test = pd.DataFrame().from_dict(df_test)\n",
        "df_exp = pd.DataFrame().from_dict(df_exp)\n",
        "\n",
        "from sklearn.feature_extraction.text import CountVectorizer\n",
        "from nltk.tokenize import RegexpTokenizer\n",
        "\n",
        "token = RegexpTokenizer(r'[a-zA-Z0-9]+')\n",
        "cv = CountVectorizer(stop_words='english',ngram_range = (2,2),tokenizer = token.tokenize, analyzer=\"char\")\n",
        "tf_idf = TfidfTransformer()\n",
        "train_doc_matrix = cv.fit_transform(df_train['title_plus_review'])\n",
        "X_train = tf_idf.fit_transform(train_doc_matrix)\n",
        "\n",
        "test_doc_matrix = cv.transform(df_test['title_plus_review'])\n",
        "X_test = tf_idf.transform(test_doc_matrix)\n",
        "\n",
        "exp_doc_matrix = cv.transform(df_exp['title_plus_review'])\n",
        "X_exp = tf_idf.transform(exp_doc_matrix)\n",
        "\n",
        "\n",
        "y_train = df_train['pos_neg']\n",
        "y_test = df_test['pos_neg']\n",
        "y_exp = df_exp['pos_neg']\n",
        "\n",
        "from sklearn.model_selection import train_test_split\n",
        "# X_train, X_test, y_train, y_test = train_test_split(text_counts, df['overall'], test_size = 0.25, random_state = 5)\n",
        "\n",
        "from sklearn.naive_bayes import MultinomialNB\n",
        "\n",
        "MNB = MultinomialNB()\n",
        "MNB.fit(X_train, y_train)"
      ],
      "execution_count": null,
      "outputs": [
        {
          "output_type": "stream",
          "text": [
            "On line0, 0.0 % done\n",
            "On line5000, 0.002960002083841467 % done\n",
            "On line10000, 0.005920004167682934 % done\n",
            "On line15000, 0.008880006251524401 % done\n",
            "On line20000, 0.011840008335365868 % done\n",
            "On line25000, 0.014800010419207334 % done\n",
            "On line30000, 0.017760012503048803 % done\n",
            "On line35000, 0.02072001458689027 % done\n",
            "On line40000, 0.023680016670731736 % done\n",
            "On line45000, 0.026640018754573204 % done\n",
            "On line50000, 0.02960002083841467 % done\n",
            "On line55000, 0.03256002292225614 % done\n",
            "On line60000, 0.035520025006097605 % done\n",
            "On line65000, 0.03848002708993907 % done\n",
            "On line70000, 0.04144002917378054 % done\n",
            "On line75000, 0.04440003125762201 % done\n",
            "On line80000, 0.04736003334146347 % done\n",
            "On line85000, 0.050320035425304936 % done\n",
            "On line90000, 0.05328003750914641 % done\n",
            "On line95000, 0.05624003959298787 % done\n",
            "On line100000, 0.05920004167682934 % done\n",
            "On line105000, 0.06216004376067081 % done\n",
            "On line110000, 0.06512004584451228 % done\n",
            "On line115000, 0.06808004792835375 % done\n",
            "On line120000, 0.07104005001219521 % done\n",
            "On line125000, 0.07400005209603668 % done\n",
            "On line130000, 0.07696005417987814 % done\n",
            "On line135000, 0.0799200562637196 % done\n",
            "On line140000, 0.08288005834756108 % done\n",
            "On line145000, 0.08584006043140255 % done\n",
            "On line150000, 0.08880006251524401 % done\n",
            "On line155000, 0.09176006459908548 % done\n",
            "On line160000, 0.09472006668292694 % done\n",
            "On line165000, 0.09768006876676841 % done\n",
            "On line170000, 0.10064007085060987 % done\n",
            "On line175000, 0.10360007293445135 % done\n",
            "On line180000, 0.10656007501829282 % done\n",
            "On line185000, 0.10952007710213428 % done\n",
            "On line190000, 0.11248007918597575 % done\n",
            "On line195000, 0.11544008126981721 % done\n",
            "On line0, 0.0 % done\n",
            "On line5000, 0.002960002083841467 % done\n",
            "On line10000, 0.005920004167682934 % done\n",
            "On line15000, 0.008880006251524401 % done\n",
            "On line20000, 0.011840008335365868 % done\n",
            "On line25000, 0.014800010419207334 % done\n",
            "On line30000, 0.017760012503048803 % done\n",
            "On line35000, 0.02072001458689027 % done\n",
            "On line0, 0.0 % done\n",
            "On line5000, 0.002960002083841467 % done\n",
            "On line10000, 0.005920004167682934 % done\n",
            "On line15000, 0.008880006251524401 % done\n",
            "On line20000, 0.011840008335365868 % done\n",
            "On line25000, 0.014800010419207334 % done\n",
            "On line30000, 0.017760012503048803 % done\n",
            "On line35000, 0.02072001458689027 % done\n",
            "On line40000, 0.023680016670731736 % done\n",
            "On line45000, 0.026640018754573204 % done\n"
          ],
          "name": "stdout"
        },
        {
          "output_type": "execute_result",
          "data": {
            "text/plain": [
              "MultinomialNB(alpha=1.0, class_prior=None, fit_prior=True)"
            ]
          },
          "metadata": {
            "tags": []
          },
          "execution_count": 20
        }
      ]
    },
    {
      "cell_type": "code",
      "metadata": {
        "id": "fHkG4amiGdKy",
        "colab": {
          "base_uri": "https://localhost:8080/"
        },
        "outputId": "2fa8d146-cb00-4b40-92b3-eac7d5b3177b"
      },
      "source": [
        "col_list = ['Type', \"Model\", \"Train Set\", 'Test Set', 'F1', 'Accuracy', 'Recall', 'Precision']\n",
        "results = pd.DataFrame(columns=col_list)\n",
        "#train scores\n",
        "train_predicted = MNB.predict(X_train)\n",
        "f1, acc, rec, prec = get_metrics(y_train, train_predicted)\n",
        "results = results.append(pd.DataFrame([[\"Binary\", \"Char Bigram\", \"Elec\", \"Elec-Train\", f1, acc, rec, prec]], columns =col_list))\n",
        "print(str('{:04.2f}'.format(f1*100))+'%')\n",
        "#test scores\n",
        "test_predicted = MNB.predict(X_test)\n",
        "f1, acc, rec, prec = get_metrics(y_test, test_predicted)\n",
        "results = results.append(pd.DataFrame([[\"Binary\", \"Char Bigram\", \"Elec\", \"Elec-Test\", f1, acc, rec, prec]], columns=col_list))\n",
        "print(str('{:04.2f}'.format(f1*100))+'%')\n",
        "#Experiment Scores\n",
        "exp_predicted = MNB.predict(X_exp)\n",
        "f1, acc, rec, prec = get_metrics(y_exp, exp_predicted)\n",
        "results = results.append(pd.DataFrame([[\"Binary\", \"Char Bigram\", \"Elec\", \"ALL-Test\", f1, acc, rec, prec]], columns=col_list))\n",
        "print(str('{:04.2f}'.format(f1*100))+'%')\n",
        "\n",
        "results.to_csv(output_dir, index=False)\n",
        "total_results = total_results.append(results)\n"
      ],
      "execution_count": null,
      "outputs": [
        {
          "output_type": "stream",
          "text": [
            "76.74%\n",
            "74.23%\n",
            "58.33%\n"
          ],
          "name": "stdout"
        }
      ]
    },
    {
      "cell_type": "code",
      "metadata": {
        "id": "_SngxIa5GdK0",
        "colab": {
          "base_uri": "https://localhost:8080/",
          "height": 143
        },
        "outputId": "c4fddba4-1c75-4204-cea2-efd3e07ebf7f"
      },
      "source": [
        "results"
      ],
      "execution_count": null,
      "outputs": [
        {
          "output_type": "execute_result",
          "data": {
            "text/html": [
              "<div>\n",
              "<style scoped>\n",
              "    .dataframe tbody tr th:only-of-type {\n",
              "        vertical-align: middle;\n",
              "    }\n",
              "\n",
              "    .dataframe tbody tr th {\n",
              "        vertical-align: top;\n",
              "    }\n",
              "\n",
              "    .dataframe thead th {\n",
              "        text-align: right;\n",
              "    }\n",
              "</style>\n",
              "<table border=\"1\" class=\"dataframe\">\n",
              "  <thead>\n",
              "    <tr style=\"text-align: right;\">\n",
              "      <th></th>\n",
              "      <th>Type</th>\n",
              "      <th>Model</th>\n",
              "      <th>Train Set</th>\n",
              "      <th>Test Set</th>\n",
              "      <th>F1</th>\n",
              "      <th>Accuracy</th>\n",
              "      <th>Recall</th>\n",
              "      <th>Precision</th>\n",
              "    </tr>\n",
              "  </thead>\n",
              "  <tbody>\n",
              "    <tr>\n",
              "      <th>0</th>\n",
              "      <td>Binary</td>\n",
              "      <td>Char Bigram</td>\n",
              "      <td>Elec</td>\n",
              "      <td>Elec-Train</td>\n",
              "      <td>0.767414</td>\n",
              "      <td>0.770268</td>\n",
              "      <td>0.770680</td>\n",
              "      <td>0.785133</td>\n",
              "    </tr>\n",
              "    <tr>\n",
              "      <th>0</th>\n",
              "      <td>Binary</td>\n",
              "      <td>Char Bigram</td>\n",
              "      <td>Elec</td>\n",
              "      <td>Elec-Test</td>\n",
              "      <td>0.742268</td>\n",
              "      <td>0.743225</td>\n",
              "      <td>0.769788</td>\n",
              "      <td>0.758574</td>\n",
              "    </tr>\n",
              "    <tr>\n",
              "      <th>0</th>\n",
              "      <td>Binary</td>\n",
              "      <td>Char Bigram</td>\n",
              "      <td>Elec</td>\n",
              "      <td>ALL-Test</td>\n",
              "      <td>0.583316</td>\n",
              "      <td>0.708550</td>\n",
              "      <td>0.773758</td>\n",
              "      <td>0.601319</td>\n",
              "    </tr>\n",
              "  </tbody>\n",
              "</table>\n",
              "</div>"
            ],
            "text/plain": [
              "     Type        Model Train Set  ...  Accuracy    Recall  Precision\n",
              "0  Binary  Char Bigram      Elec  ...  0.770268  0.770680   0.785133\n",
              "0  Binary  Char Bigram      Elec  ...  0.743225  0.769788   0.758574\n",
              "0  Binary  Char Bigram      Elec  ...  0.708550  0.773758   0.601319\n",
              "\n",
              "[3 rows x 8 columns]"
            ]
          },
          "metadata": {
            "tags": []
          },
          "execution_count": 22
        }
      ]
    },
    {
      "cell_type": "code",
      "metadata": {
        "id": "ldNGgFH_HY64"
      },
      "source": [
        "total_results.to_csv('/content/drive/MyDrive/cis519_final/Baselines/Char Bigram/total_results.csv')"
      ],
      "execution_count": null,
      "outputs": []
    },
    {
      "cell_type": "code",
      "metadata": {
        "id": "Baz1wxsfJUQ3",
        "colab": {
          "base_uri": "https://localhost:8080/",
          "height": 426
        },
        "outputId": "4865af50-e45e-47d5-c964-ed7743e74a68"
      },
      "source": [
        "total_results"
      ],
      "execution_count": null,
      "outputs": [
        {
          "output_type": "execute_result",
          "data": {
            "text/html": [
              "<div>\n",
              "<style scoped>\n",
              "    .dataframe tbody tr th:only-of-type {\n",
              "        vertical-align: middle;\n",
              "    }\n",
              "\n",
              "    .dataframe tbody tr th {\n",
              "        vertical-align: top;\n",
              "    }\n",
              "\n",
              "    .dataframe thead th {\n",
              "        text-align: right;\n",
              "    }\n",
              "</style>\n",
              "<table border=\"1\" class=\"dataframe\">\n",
              "  <thead>\n",
              "    <tr style=\"text-align: right;\">\n",
              "      <th></th>\n",
              "      <th>Type</th>\n",
              "      <th>Model</th>\n",
              "      <th>Train Set</th>\n",
              "      <th>Test Set</th>\n",
              "      <th>F1</th>\n",
              "      <th>Accuracy</th>\n",
              "      <th>Recall</th>\n",
              "      <th>Precision</th>\n",
              "    </tr>\n",
              "  </thead>\n",
              "  <tbody>\n",
              "    <tr>\n",
              "      <th>0</th>\n",
              "      <td>5Cat</td>\n",
              "      <td>Char Bigram</td>\n",
              "      <td>All</td>\n",
              "      <td>All-Train</td>\n",
              "      <td>0.486477</td>\n",
              "      <td>0.483844</td>\n",
              "      <td>0.483874</td>\n",
              "      <td>0.495822</td>\n",
              "    </tr>\n",
              "    <tr>\n",
              "      <th>0</th>\n",
              "      <td>5Cat</td>\n",
              "      <td>Char Bigram</td>\n",
              "      <td>All</td>\n",
              "      <td>All-Test</td>\n",
              "      <td>0.375273</td>\n",
              "      <td>0.501692</td>\n",
              "      <td>0.487216</td>\n",
              "      <td>0.370072</td>\n",
              "    </tr>\n",
              "    <tr>\n",
              "      <th>0</th>\n",
              "      <td>5Cat</td>\n",
              "      <td>Char Bigram</td>\n",
              "      <td>All</td>\n",
              "      <td>Elec-Test</td>\n",
              "      <td>0.439754</td>\n",
              "      <td>0.449353</td>\n",
              "      <td>0.452651</td>\n",
              "      <td>0.474091</td>\n",
              "    </tr>\n",
              "    <tr>\n",
              "      <th>0</th>\n",
              "      <td>5Cat</td>\n",
              "      <td>Char Bigram</td>\n",
              "      <td>Elec</td>\n",
              "      <td>Elec-Train</td>\n",
              "      <td>0.480870</td>\n",
              "      <td>0.478117</td>\n",
              "      <td>0.478276</td>\n",
              "      <td>0.492024</td>\n",
              "    </tr>\n",
              "    <tr>\n",
              "      <th>0</th>\n",
              "      <td>5Cat</td>\n",
              "      <td>Char Bigram</td>\n",
              "      <td>Elec</td>\n",
              "      <td>Elec-Test</td>\n",
              "      <td>0.461161</td>\n",
              "      <td>0.464928</td>\n",
              "      <td>0.467897</td>\n",
              "      <td>0.477951</td>\n",
              "    </tr>\n",
              "    <tr>\n",
              "      <th>0</th>\n",
              "      <td>5Cat</td>\n",
              "      <td>Char Bigram</td>\n",
              "      <td>Elec</td>\n",
              "      <td>ALL-Test</td>\n",
              "      <td>0.357475</td>\n",
              "      <td>0.483912</td>\n",
              "      <td>0.462223</td>\n",
              "      <td>0.358774</td>\n",
              "    </tr>\n",
              "    <tr>\n",
              "      <th>0</th>\n",
              "      <td>Binary</td>\n",
              "      <td>Char Bigram</td>\n",
              "      <td>All</td>\n",
              "      <td>All-Train</td>\n",
              "      <td>0.767532</td>\n",
              "      <td>0.770206</td>\n",
              "      <td>0.770262</td>\n",
              "      <td>0.783366</td>\n",
              "    </tr>\n",
              "    <tr>\n",
              "      <th>0</th>\n",
              "      <td>Binary</td>\n",
              "      <td>Char Bigram</td>\n",
              "      <td>All</td>\n",
              "      <td>All-Test</td>\n",
              "      <td>0.602826</td>\n",
              "      <td>0.728548</td>\n",
              "      <td>0.798167</td>\n",
              "      <td>0.612456</td>\n",
              "    </tr>\n",
              "    <tr>\n",
              "      <th>0</th>\n",
              "      <td>Binary</td>\n",
              "      <td>Char Bigram</td>\n",
              "      <td>All</td>\n",
              "      <td>Elec-Test</td>\n",
              "      <td>0.706950</td>\n",
              "      <td>0.706950</td>\n",
              "      <td>0.746110</td>\n",
              "      <td>0.745967</td>\n",
              "    </tr>\n",
              "    <tr>\n",
              "      <th>0</th>\n",
              "      <td>Binary</td>\n",
              "      <td>Char Bigram</td>\n",
              "      <td>Elec</td>\n",
              "      <td>Elec-Train</td>\n",
              "      <td>0.767414</td>\n",
              "      <td>0.770268</td>\n",
              "      <td>0.770680</td>\n",
              "      <td>0.785133</td>\n",
              "    </tr>\n",
              "    <tr>\n",
              "      <th>0</th>\n",
              "      <td>Binary</td>\n",
              "      <td>Char Bigram</td>\n",
              "      <td>Elec</td>\n",
              "      <td>Elec-Test</td>\n",
              "      <td>0.742268</td>\n",
              "      <td>0.743225</td>\n",
              "      <td>0.769788</td>\n",
              "      <td>0.758574</td>\n",
              "    </tr>\n",
              "    <tr>\n",
              "      <th>0</th>\n",
              "      <td>Binary</td>\n",
              "      <td>Char Bigram</td>\n",
              "      <td>Elec</td>\n",
              "      <td>ALL-Test</td>\n",
              "      <td>0.583316</td>\n",
              "      <td>0.708550</td>\n",
              "      <td>0.773758</td>\n",
              "      <td>0.601319</td>\n",
              "    </tr>\n",
              "  </tbody>\n",
              "</table>\n",
              "</div>"
            ],
            "text/plain": [
              "     Type        Model Train Set  ...  Accuracy    Recall  Precision\n",
              "0    5Cat  Char Bigram       All  ...  0.483844  0.483874   0.495822\n",
              "0    5Cat  Char Bigram       All  ...  0.501692  0.487216   0.370072\n",
              "0    5Cat  Char Bigram       All  ...  0.449353  0.452651   0.474091\n",
              "0    5Cat  Char Bigram      Elec  ...  0.478117  0.478276   0.492024\n",
              "0    5Cat  Char Bigram      Elec  ...  0.464928  0.467897   0.477951\n",
              "0    5Cat  Char Bigram      Elec  ...  0.483912  0.462223   0.358774\n",
              "0  Binary  Char Bigram       All  ...  0.770206  0.770262   0.783366\n",
              "0  Binary  Char Bigram       All  ...  0.728548  0.798167   0.612456\n",
              "0  Binary  Char Bigram       All  ...  0.706950  0.746110   0.745967\n",
              "0  Binary  Char Bigram      Elec  ...  0.770268  0.770680   0.785133\n",
              "0  Binary  Char Bigram      Elec  ...  0.743225  0.769788   0.758574\n",
              "0  Binary  Char Bigram      Elec  ...  0.708550  0.773758   0.601319\n",
              "\n",
              "[12 rows x 8 columns]"
            ]
          },
          "metadata": {
            "tags": []
          },
          "execution_count": 24
        }
      ]
    }
  ]
}
