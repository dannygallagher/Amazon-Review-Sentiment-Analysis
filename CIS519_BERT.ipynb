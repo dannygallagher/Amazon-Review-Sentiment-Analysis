{
  "nbformat": 4,
  "nbformat_minor": 0,
  "metadata": {
    "colab": {
      "name": "CIS519_BERT.ipynb",
      "provenance": [],
      "collapsed_sections": [],
      "toc_visible": true
    },
    "kernelspec": {
      "name": "python3",
      "display_name": "Python 3"
    },
    "widgets": {
      "application/vnd.jupyter.widget-state+json": {
        "d56c08062e4645b8a5cd2be8b39ba21e": {
          "model_module": "@jupyter-widgets/controls",
          "model_name": "HBoxModel",
          "state": {
            "_view_name": "HBoxView",
            "_dom_classes": [],
            "_model_name": "HBoxModel",
            "_view_module": "@jupyter-widgets/controls",
            "_model_module_version": "1.5.0",
            "_view_count": null,
            "_view_module_version": "1.5.0",
            "box_style": "",
            "layout": "IPY_MODEL_7d54acfc461d49f4ba73c609b42d5287",
            "_model_module": "@jupyter-widgets/controls",
            "children": [
              "IPY_MODEL_fe9e271ba8b848daa3c6b759e463367c",
              "IPY_MODEL_48ff4f550e4442398b6623e0943f0ea4"
            ]
          }
        },
        "7d54acfc461d49f4ba73c609b42d5287": {
          "model_module": "@jupyter-widgets/base",
          "model_name": "LayoutModel",
          "state": {
            "_view_name": "LayoutView",
            "grid_template_rows": null,
            "right": null,
            "justify_content": null,
            "_view_module": "@jupyter-widgets/base",
            "overflow": null,
            "_model_module_version": "1.2.0",
            "_view_count": null,
            "flex_flow": null,
            "width": null,
            "min_width": null,
            "border": null,
            "align_items": null,
            "bottom": null,
            "_model_module": "@jupyter-widgets/base",
            "top": null,
            "grid_column": null,
            "overflow_y": null,
            "overflow_x": null,
            "grid_auto_flow": null,
            "grid_area": null,
            "grid_template_columns": null,
            "flex": null,
            "_model_name": "LayoutModel",
            "justify_items": null,
            "grid_row": null,
            "max_height": null,
            "align_content": null,
            "visibility": null,
            "align_self": null,
            "height": null,
            "min_height": null,
            "padding": null,
            "grid_auto_rows": null,
            "grid_gap": null,
            "max_width": null,
            "order": null,
            "_view_module_version": "1.2.0",
            "grid_template_areas": null,
            "object_position": null,
            "object_fit": null,
            "grid_auto_columns": null,
            "margin": null,
            "display": null,
            "left": null
          }
        },
        "fe9e271ba8b848daa3c6b759e463367c": {
          "model_module": "@jupyter-widgets/controls",
          "model_name": "FloatProgressModel",
          "state": {
            "_view_name": "ProgressView",
            "style": "IPY_MODEL_de9bb0c493fa4eec9926f97080458740",
            "_dom_classes": [],
            "description": "Downloading: 100%",
            "_model_name": "FloatProgressModel",
            "bar_style": "success",
            "max": 383,
            "_view_module": "@jupyter-widgets/controls",
            "_model_module_version": "1.5.0",
            "value": 383,
            "_view_count": null,
            "_view_module_version": "1.5.0",
            "orientation": "horizontal",
            "min": 0,
            "description_tooltip": null,
            "_model_module": "@jupyter-widgets/controls",
            "layout": "IPY_MODEL_a696796c737b45e3b30e3ed37f56e264"
          }
        },
        "48ff4f550e4442398b6623e0943f0ea4": {
          "model_module": "@jupyter-widgets/controls",
          "model_name": "HTMLModel",
          "state": {
            "_view_name": "HTMLView",
            "style": "IPY_MODEL_a0bc81a2b2484f48b74e7f0252d5bbaa",
            "_dom_classes": [],
            "description": "",
            "_model_name": "HTMLModel",
            "placeholder": "​",
            "_view_module": "@jupyter-widgets/controls",
            "_model_module_version": "1.5.0",
            "value": " 383/383 [00:00&lt;00:00, 7.78kB/s]",
            "_view_count": null,
            "_view_module_version": "1.5.0",
            "description_tooltip": null,
            "_model_module": "@jupyter-widgets/controls",
            "layout": "IPY_MODEL_2e612371bcd0471dab4dd4ae7bd76b30"
          }
        },
        "de9bb0c493fa4eec9926f97080458740": {
          "model_module": "@jupyter-widgets/controls",
          "model_name": "ProgressStyleModel",
          "state": {
            "_view_name": "StyleView",
            "_model_name": "ProgressStyleModel",
            "description_width": "initial",
            "_view_module": "@jupyter-widgets/base",
            "_model_module_version": "1.5.0",
            "_view_count": null,
            "_view_module_version": "1.2.0",
            "bar_color": null,
            "_model_module": "@jupyter-widgets/controls"
          }
        },
        "a696796c737b45e3b30e3ed37f56e264": {
          "model_module": "@jupyter-widgets/base",
          "model_name": "LayoutModel",
          "state": {
            "_view_name": "LayoutView",
            "grid_template_rows": null,
            "right": null,
            "justify_content": null,
            "_view_module": "@jupyter-widgets/base",
            "overflow": null,
            "_model_module_version": "1.2.0",
            "_view_count": null,
            "flex_flow": null,
            "width": null,
            "min_width": null,
            "border": null,
            "align_items": null,
            "bottom": null,
            "_model_module": "@jupyter-widgets/base",
            "top": null,
            "grid_column": null,
            "overflow_y": null,
            "overflow_x": null,
            "grid_auto_flow": null,
            "grid_area": null,
            "grid_template_columns": null,
            "flex": null,
            "_model_name": "LayoutModel",
            "justify_items": null,
            "grid_row": null,
            "max_height": null,
            "align_content": null,
            "visibility": null,
            "align_self": null,
            "height": null,
            "min_height": null,
            "padding": null,
            "grid_auto_rows": null,
            "grid_gap": null,
            "max_width": null,
            "order": null,
            "_view_module_version": "1.2.0",
            "grid_template_areas": null,
            "object_position": null,
            "object_fit": null,
            "grid_auto_columns": null,
            "margin": null,
            "display": null,
            "left": null
          }
        },
        "a0bc81a2b2484f48b74e7f0252d5bbaa": {
          "model_module": "@jupyter-widgets/controls",
          "model_name": "DescriptionStyleModel",
          "state": {
            "_view_name": "StyleView",
            "_model_name": "DescriptionStyleModel",
            "description_width": "",
            "_view_module": "@jupyter-widgets/base",
            "_model_module_version": "1.5.0",
            "_view_count": null,
            "_view_module_version": "1.2.0",
            "_model_module": "@jupyter-widgets/controls"
          }
        },
        "2e612371bcd0471dab4dd4ae7bd76b30": {
          "model_module": "@jupyter-widgets/base",
          "model_name": "LayoutModel",
          "state": {
            "_view_name": "LayoutView",
            "grid_template_rows": null,
            "right": null,
            "justify_content": null,
            "_view_module": "@jupyter-widgets/base",
            "overflow": null,
            "_model_module_version": "1.2.0",
            "_view_count": null,
            "flex_flow": null,
            "width": null,
            "min_width": null,
            "border": null,
            "align_items": null,
            "bottom": null,
            "_model_module": "@jupyter-widgets/base",
            "top": null,
            "grid_column": null,
            "overflow_y": null,
            "overflow_x": null,
            "grid_auto_flow": null,
            "grid_area": null,
            "grid_template_columns": null,
            "flex": null,
            "_model_name": "LayoutModel",
            "justify_items": null,
            "grid_row": null,
            "max_height": null,
            "align_content": null,
            "visibility": null,
            "align_self": null,
            "height": null,
            "min_height": null,
            "padding": null,
            "grid_auto_rows": null,
            "grid_gap": null,
            "max_width": null,
            "order": null,
            "_view_module_version": "1.2.0",
            "grid_template_areas": null,
            "object_position": null,
            "object_fit": null,
            "grid_auto_columns": null,
            "margin": null,
            "display": null,
            "left": null
          }
        },
        "a8357bb98b8147e6848508f318e79829": {
          "model_module": "@jupyter-widgets/controls",
          "model_name": "HBoxModel",
          "state": {
            "_view_name": "HBoxView",
            "_dom_classes": [],
            "_model_name": "HBoxModel",
            "_view_module": "@jupyter-widgets/controls",
            "_model_module_version": "1.5.0",
            "_view_count": null,
            "_view_module_version": "1.5.0",
            "box_style": "",
            "layout": "IPY_MODEL_7da6c8b336c44486b79bebb820a4ade8",
            "_model_module": "@jupyter-widgets/controls",
            "children": [
              "IPY_MODEL_bb8595f9236b4c35a971f536ad58747b",
              "IPY_MODEL_4daf559492064423ba1b82bac8cd63e9"
            ]
          }
        },
        "7da6c8b336c44486b79bebb820a4ade8": {
          "model_module": "@jupyter-widgets/base",
          "model_name": "LayoutModel",
          "state": {
            "_view_name": "LayoutView",
            "grid_template_rows": null,
            "right": null,
            "justify_content": null,
            "_view_module": "@jupyter-widgets/base",
            "overflow": null,
            "_model_module_version": "1.2.0",
            "_view_count": null,
            "flex_flow": null,
            "width": null,
            "min_width": null,
            "border": null,
            "align_items": null,
            "bottom": null,
            "_model_module": "@jupyter-widgets/base",
            "top": null,
            "grid_column": null,
            "overflow_y": null,
            "overflow_x": null,
            "grid_auto_flow": null,
            "grid_area": null,
            "grid_template_columns": null,
            "flex": null,
            "_model_name": "LayoutModel",
            "justify_items": null,
            "grid_row": null,
            "max_height": null,
            "align_content": null,
            "visibility": null,
            "align_self": null,
            "height": null,
            "min_height": null,
            "padding": null,
            "grid_auto_rows": null,
            "grid_gap": null,
            "max_width": null,
            "order": null,
            "_view_module_version": "1.2.0",
            "grid_template_areas": null,
            "object_position": null,
            "object_fit": null,
            "grid_auto_columns": null,
            "margin": null,
            "display": null,
            "left": null
          }
        },
        "bb8595f9236b4c35a971f536ad58747b": {
          "model_module": "@jupyter-widgets/controls",
          "model_name": "FloatProgressModel",
          "state": {
            "_view_name": "ProgressView",
            "style": "IPY_MODEL_d6dda68043074da28fcf21e54b216804",
            "_dom_classes": [],
            "description": "Downloading: 100%",
            "_model_name": "FloatProgressModel",
            "bar_style": "success",
            "max": 45088961,
            "_view_module": "@jupyter-widgets/controls",
            "_model_module_version": "1.5.0",
            "value": 45088961,
            "_view_count": null,
            "_view_module_version": "1.5.0",
            "orientation": "horizontal",
            "min": 0,
            "description_tooltip": null,
            "_model_module": "@jupyter-widgets/controls",
            "layout": "IPY_MODEL_d38a9841279b4948a3bd526eeda8e1c5"
          }
        },
        "4daf559492064423ba1b82bac8cd63e9": {
          "model_module": "@jupyter-widgets/controls",
          "model_name": "HTMLModel",
          "state": {
            "_view_name": "HTMLView",
            "style": "IPY_MODEL_0db81ab091e44c96b8b2c4be19aa6adc",
            "_dom_classes": [],
            "description": "",
            "_model_name": "HTMLModel",
            "placeholder": "​",
            "_view_module": "@jupyter-widgets/controls",
            "_model_module_version": "1.5.0",
            "value": " 45.1M/45.1M [00:06&lt;00:00, 7.04MB/s]",
            "_view_count": null,
            "_view_module_version": "1.5.0",
            "description_tooltip": null,
            "_model_module": "@jupyter-widgets/controls",
            "layout": "IPY_MODEL_8da7cff6fc894d3ab1d00757e5250b3a"
          }
        },
        "d6dda68043074da28fcf21e54b216804": {
          "model_module": "@jupyter-widgets/controls",
          "model_name": "ProgressStyleModel",
          "state": {
            "_view_name": "StyleView",
            "_model_name": "ProgressStyleModel",
            "description_width": "initial",
            "_view_module": "@jupyter-widgets/base",
            "_model_module_version": "1.5.0",
            "_view_count": null,
            "_view_module_version": "1.2.0",
            "bar_color": null,
            "_model_module": "@jupyter-widgets/controls"
          }
        },
        "d38a9841279b4948a3bd526eeda8e1c5": {
          "model_module": "@jupyter-widgets/base",
          "model_name": "LayoutModel",
          "state": {
            "_view_name": "LayoutView",
            "grid_template_rows": null,
            "right": null,
            "justify_content": null,
            "_view_module": "@jupyter-widgets/base",
            "overflow": null,
            "_model_module_version": "1.2.0",
            "_view_count": null,
            "flex_flow": null,
            "width": null,
            "min_width": null,
            "border": null,
            "align_items": null,
            "bottom": null,
            "_model_module": "@jupyter-widgets/base",
            "top": null,
            "grid_column": null,
            "overflow_y": null,
            "overflow_x": null,
            "grid_auto_flow": null,
            "grid_area": null,
            "grid_template_columns": null,
            "flex": null,
            "_model_name": "LayoutModel",
            "justify_items": null,
            "grid_row": null,
            "max_height": null,
            "align_content": null,
            "visibility": null,
            "align_self": null,
            "height": null,
            "min_height": null,
            "padding": null,
            "grid_auto_rows": null,
            "grid_gap": null,
            "max_width": null,
            "order": null,
            "_view_module_version": "1.2.0",
            "grid_template_areas": null,
            "object_position": null,
            "object_fit": null,
            "grid_auto_columns": null,
            "margin": null,
            "display": null,
            "left": null
          }
        },
        "0db81ab091e44c96b8b2c4be19aa6adc": {
          "model_module": "@jupyter-widgets/controls",
          "model_name": "DescriptionStyleModel",
          "state": {
            "_view_name": "StyleView",
            "_model_name": "DescriptionStyleModel",
            "description_width": "",
            "_view_module": "@jupyter-widgets/base",
            "_model_module_version": "1.5.0",
            "_view_count": null,
            "_view_module_version": "1.2.0",
            "_model_module": "@jupyter-widgets/controls"
          }
        },
        "8da7cff6fc894d3ab1d00757e5250b3a": {
          "model_module": "@jupyter-widgets/base",
          "model_name": "LayoutModel",
          "state": {
            "_view_name": "LayoutView",
            "grid_template_rows": null,
            "right": null,
            "justify_content": null,
            "_view_module": "@jupyter-widgets/base",
            "overflow": null,
            "_model_module_version": "1.2.0",
            "_view_count": null,
            "flex_flow": null,
            "width": null,
            "min_width": null,
            "border": null,
            "align_items": null,
            "bottom": null,
            "_model_module": "@jupyter-widgets/base",
            "top": null,
            "grid_column": null,
            "overflow_y": null,
            "overflow_x": null,
            "grid_auto_flow": null,
            "grid_area": null,
            "grid_template_columns": null,
            "flex": null,
            "_model_name": "LayoutModel",
            "justify_items": null,
            "grid_row": null,
            "max_height": null,
            "align_content": null,
            "visibility": null,
            "align_self": null,
            "height": null,
            "min_height": null,
            "padding": null,
            "grid_auto_rows": null,
            "grid_gap": null,
            "max_width": null,
            "order": null,
            "_view_module_version": "1.2.0",
            "grid_template_areas": null,
            "object_position": null,
            "object_fit": null,
            "grid_auto_columns": null,
            "margin": null,
            "display": null,
            "left": null
          }
        },
        "2b9a1761b085484aab037ac44426df0d": {
          "model_module": "@jupyter-widgets/controls",
          "model_name": "HBoxModel",
          "state": {
            "_view_name": "HBoxView",
            "_dom_classes": [],
            "_model_name": "HBoxModel",
            "_view_module": "@jupyter-widgets/controls",
            "_model_module_version": "1.5.0",
            "_view_count": null,
            "_view_module_version": "1.5.0",
            "box_style": "",
            "layout": "IPY_MODEL_318ae9ba5f6d4dc4aeb52022c916eb23",
            "_model_module": "@jupyter-widgets/controls",
            "children": [
              "IPY_MODEL_b8c241a4aa44468ea5def252fa38bc91",
              "IPY_MODEL_6bf997edacee4fa2b784bff958cd6ba7"
            ]
          }
        },
        "318ae9ba5f6d4dc4aeb52022c916eb23": {
          "model_module": "@jupyter-widgets/base",
          "model_name": "LayoutModel",
          "state": {
            "_view_name": "LayoutView",
            "grid_template_rows": null,
            "right": null,
            "justify_content": null,
            "_view_module": "@jupyter-widgets/base",
            "overflow": null,
            "_model_module_version": "1.2.0",
            "_view_count": null,
            "flex_flow": null,
            "width": null,
            "min_width": null,
            "border": null,
            "align_items": null,
            "bottom": null,
            "_model_module": "@jupyter-widgets/base",
            "top": null,
            "grid_column": null,
            "overflow_y": null,
            "overflow_x": null,
            "grid_auto_flow": null,
            "grid_area": null,
            "grid_template_columns": null,
            "flex": null,
            "_model_name": "LayoutModel",
            "justify_items": null,
            "grid_row": null,
            "max_height": null,
            "align_content": null,
            "visibility": null,
            "align_self": null,
            "height": null,
            "min_height": null,
            "padding": null,
            "grid_auto_rows": null,
            "grid_gap": null,
            "max_width": null,
            "order": null,
            "_view_module_version": "1.2.0",
            "grid_template_areas": null,
            "object_position": null,
            "object_fit": null,
            "grid_auto_columns": null,
            "margin": null,
            "display": null,
            "left": null
          }
        },
        "b8c241a4aa44468ea5def252fa38bc91": {
          "model_module": "@jupyter-widgets/controls",
          "model_name": "FloatProgressModel",
          "state": {
            "_view_name": "ProgressView",
            "style": "IPY_MODEL_8bd56a78596f403abc61317cf714209f",
            "_dom_classes": [],
            "description": "Downloading: 100%",
            "_model_name": "FloatProgressModel",
            "bar_style": "success",
            "max": 231508,
            "_view_module": "@jupyter-widgets/controls",
            "_model_module_version": "1.5.0",
            "value": 231508,
            "_view_count": null,
            "_view_module_version": "1.5.0",
            "orientation": "horizontal",
            "min": 0,
            "description_tooltip": null,
            "_model_module": "@jupyter-widgets/controls",
            "layout": "IPY_MODEL_6bc2cde67ce746c3abe00dc36a1ce335"
          }
        },
        "6bf997edacee4fa2b784bff958cd6ba7": {
          "model_module": "@jupyter-widgets/controls",
          "model_name": "HTMLModel",
          "state": {
            "_view_name": "HTMLView",
            "style": "IPY_MODEL_5532b72c48a74d5ca3bb11eb77ac642c",
            "_dom_classes": [],
            "description": "",
            "_model_name": "HTMLModel",
            "placeholder": "​",
            "_view_module": "@jupyter-widgets/controls",
            "_model_module_version": "1.5.0",
            "value": " 232k/232k [00:03&lt;00:00, 71.8kB/s]",
            "_view_count": null,
            "_view_module_version": "1.5.0",
            "description_tooltip": null,
            "_model_module": "@jupyter-widgets/controls",
            "layout": "IPY_MODEL_618d6c19d23e48db8700c06463820d64"
          }
        },
        "8bd56a78596f403abc61317cf714209f": {
          "model_module": "@jupyter-widgets/controls",
          "model_name": "ProgressStyleModel",
          "state": {
            "_view_name": "StyleView",
            "_model_name": "ProgressStyleModel",
            "description_width": "initial",
            "_view_module": "@jupyter-widgets/base",
            "_model_module_version": "1.5.0",
            "_view_count": null,
            "_view_module_version": "1.2.0",
            "bar_color": null,
            "_model_module": "@jupyter-widgets/controls"
          }
        },
        "6bc2cde67ce746c3abe00dc36a1ce335": {
          "model_module": "@jupyter-widgets/base",
          "model_name": "LayoutModel",
          "state": {
            "_view_name": "LayoutView",
            "grid_template_rows": null,
            "right": null,
            "justify_content": null,
            "_view_module": "@jupyter-widgets/base",
            "overflow": null,
            "_model_module_version": "1.2.0",
            "_view_count": null,
            "flex_flow": null,
            "width": null,
            "min_width": null,
            "border": null,
            "align_items": null,
            "bottom": null,
            "_model_module": "@jupyter-widgets/base",
            "top": null,
            "grid_column": null,
            "overflow_y": null,
            "overflow_x": null,
            "grid_auto_flow": null,
            "grid_area": null,
            "grid_template_columns": null,
            "flex": null,
            "_model_name": "LayoutModel",
            "justify_items": null,
            "grid_row": null,
            "max_height": null,
            "align_content": null,
            "visibility": null,
            "align_self": null,
            "height": null,
            "min_height": null,
            "padding": null,
            "grid_auto_rows": null,
            "grid_gap": null,
            "max_width": null,
            "order": null,
            "_view_module_version": "1.2.0",
            "grid_template_areas": null,
            "object_position": null,
            "object_fit": null,
            "grid_auto_columns": null,
            "margin": null,
            "display": null,
            "left": null
          }
        },
        "5532b72c48a74d5ca3bb11eb77ac642c": {
          "model_module": "@jupyter-widgets/controls",
          "model_name": "DescriptionStyleModel",
          "state": {
            "_view_name": "StyleView",
            "_model_name": "DescriptionStyleModel",
            "description_width": "",
            "_view_module": "@jupyter-widgets/base",
            "_model_module_version": "1.5.0",
            "_view_count": null,
            "_view_module_version": "1.2.0",
            "_model_module": "@jupyter-widgets/controls"
          }
        },
        "618d6c19d23e48db8700c06463820d64": {
          "model_module": "@jupyter-widgets/base",
          "model_name": "LayoutModel",
          "state": {
            "_view_name": "LayoutView",
            "grid_template_rows": null,
            "right": null,
            "justify_content": null,
            "_view_module": "@jupyter-widgets/base",
            "overflow": null,
            "_model_module_version": "1.2.0",
            "_view_count": null,
            "flex_flow": null,
            "width": null,
            "min_width": null,
            "border": null,
            "align_items": null,
            "bottom": null,
            "_model_module": "@jupyter-widgets/base",
            "top": null,
            "grid_column": null,
            "overflow_y": null,
            "overflow_x": null,
            "grid_auto_flow": null,
            "grid_area": null,
            "grid_template_columns": null,
            "flex": null,
            "_model_name": "LayoutModel",
            "justify_items": null,
            "grid_row": null,
            "max_height": null,
            "align_content": null,
            "visibility": null,
            "align_self": null,
            "height": null,
            "min_height": null,
            "padding": null,
            "grid_auto_rows": null,
            "grid_gap": null,
            "max_width": null,
            "order": null,
            "_view_module_version": "1.2.0",
            "grid_template_areas": null,
            "object_position": null,
            "object_fit": null,
            "grid_auto_columns": null,
            "margin": null,
            "display": null,
            "left": null
          }
        },
        "18234feecdf2438a81a3ef1d07fa76b9": {
          "model_module": "@jupyter-widgets/controls",
          "model_name": "HBoxModel",
          "state": {
            "_view_name": "HBoxView",
            "_dom_classes": [],
            "_model_name": "HBoxModel",
            "_view_module": "@jupyter-widgets/controls",
            "_model_module_version": "1.5.0",
            "_view_count": null,
            "_view_module_version": "1.5.0",
            "box_style": "",
            "layout": "IPY_MODEL_437e328e009246168ceddd7e4c89796c",
            "_model_module": "@jupyter-widgets/controls",
            "children": [
              "IPY_MODEL_01129f80cf624b9d8817e602bc99532e",
              "IPY_MODEL_78b3b986d3ff486aaf67ebdc3b16c89f"
            ]
          }
        },
        "437e328e009246168ceddd7e4c89796c": {
          "model_module": "@jupyter-widgets/base",
          "model_name": "LayoutModel",
          "state": {
            "_view_name": "LayoutView",
            "grid_template_rows": null,
            "right": null,
            "justify_content": null,
            "_view_module": "@jupyter-widgets/base",
            "overflow": null,
            "_model_module_version": "1.2.0",
            "_view_count": null,
            "flex_flow": null,
            "width": null,
            "min_width": null,
            "border": null,
            "align_items": null,
            "bottom": null,
            "_model_module": "@jupyter-widgets/base",
            "top": null,
            "grid_column": null,
            "overflow_y": null,
            "overflow_x": null,
            "grid_auto_flow": null,
            "grid_area": null,
            "grid_template_columns": null,
            "flex": null,
            "_model_name": "LayoutModel",
            "justify_items": null,
            "grid_row": null,
            "max_height": null,
            "align_content": null,
            "visibility": null,
            "align_self": null,
            "height": null,
            "min_height": null,
            "padding": null,
            "grid_auto_rows": null,
            "grid_gap": null,
            "max_width": null,
            "order": null,
            "_view_module_version": "1.2.0",
            "grid_template_areas": null,
            "object_position": null,
            "object_fit": null,
            "grid_auto_columns": null,
            "margin": null,
            "display": null,
            "left": null
          }
        },
        "01129f80cf624b9d8817e602bc99532e": {
          "model_module": "@jupyter-widgets/controls",
          "model_name": "FloatProgressModel",
          "state": {
            "_view_name": "ProgressView",
            "style": "IPY_MODEL_331e77da952e48a2abd79ea2eecd77eb",
            "_dom_classes": [],
            "description": "Evaluating on Dev set...: 100%",
            "_model_name": "FloatProgressModel",
            "bar_style": "success",
            "max": 63,
            "_view_module": "@jupyter-widgets/controls",
            "_model_module_version": "1.5.0",
            "value": 63,
            "_view_count": null,
            "_view_module_version": "1.5.0",
            "orientation": "horizontal",
            "min": 0,
            "description_tooltip": null,
            "_model_module": "@jupyter-widgets/controls",
            "layout": "IPY_MODEL_e037f650cf1949d384495863bfe11276"
          }
        },
        "78b3b986d3ff486aaf67ebdc3b16c89f": {
          "model_module": "@jupyter-widgets/controls",
          "model_name": "HTMLModel",
          "state": {
            "_view_name": "HTMLView",
            "style": "IPY_MODEL_03f1d7a9406f4a79b8c5428780cc8c0c",
            "_dom_classes": [],
            "description": "",
            "_model_name": "HTMLModel",
            "placeholder": "​",
            "_view_module": "@jupyter-widgets/controls",
            "_model_module_version": "1.5.0",
            "value": " 63/63 [00:24&lt;00:00,  2.53it/s]",
            "_view_count": null,
            "_view_module_version": "1.5.0",
            "description_tooltip": null,
            "_model_module": "@jupyter-widgets/controls",
            "layout": "IPY_MODEL_362c71eceebf40259dab6f02fc846b94"
          }
        },
        "331e77da952e48a2abd79ea2eecd77eb": {
          "model_module": "@jupyter-widgets/controls",
          "model_name": "ProgressStyleModel",
          "state": {
            "_view_name": "StyleView",
            "_model_name": "ProgressStyleModel",
            "description_width": "initial",
            "_view_module": "@jupyter-widgets/base",
            "_model_module_version": "1.5.0",
            "_view_count": null,
            "_view_module_version": "1.2.0",
            "bar_color": null,
            "_model_module": "@jupyter-widgets/controls"
          }
        },
        "e037f650cf1949d384495863bfe11276": {
          "model_module": "@jupyter-widgets/base",
          "model_name": "LayoutModel",
          "state": {
            "_view_name": "LayoutView",
            "grid_template_rows": null,
            "right": null,
            "justify_content": null,
            "_view_module": "@jupyter-widgets/base",
            "overflow": null,
            "_model_module_version": "1.2.0",
            "_view_count": null,
            "flex_flow": null,
            "width": null,
            "min_width": null,
            "border": null,
            "align_items": null,
            "bottom": null,
            "_model_module": "@jupyter-widgets/base",
            "top": null,
            "grid_column": null,
            "overflow_y": null,
            "overflow_x": null,
            "grid_auto_flow": null,
            "grid_area": null,
            "grid_template_columns": null,
            "flex": null,
            "_model_name": "LayoutModel",
            "justify_items": null,
            "grid_row": null,
            "max_height": null,
            "align_content": null,
            "visibility": null,
            "align_self": null,
            "height": null,
            "min_height": null,
            "padding": null,
            "grid_auto_rows": null,
            "grid_gap": null,
            "max_width": null,
            "order": null,
            "_view_module_version": "1.2.0",
            "grid_template_areas": null,
            "object_position": null,
            "object_fit": null,
            "grid_auto_columns": null,
            "margin": null,
            "display": null,
            "left": null
          }
        },
        "03f1d7a9406f4a79b8c5428780cc8c0c": {
          "model_module": "@jupyter-widgets/controls",
          "model_name": "DescriptionStyleModel",
          "state": {
            "_view_name": "StyleView",
            "_model_name": "DescriptionStyleModel",
            "description_width": "",
            "_view_module": "@jupyter-widgets/base",
            "_model_module_version": "1.5.0",
            "_view_count": null,
            "_view_module_version": "1.2.0",
            "_model_module": "@jupyter-widgets/controls"
          }
        },
        "362c71eceebf40259dab6f02fc846b94": {
          "model_module": "@jupyter-widgets/base",
          "model_name": "LayoutModel",
          "state": {
            "_view_name": "LayoutView",
            "grid_template_rows": null,
            "right": null,
            "justify_content": null,
            "_view_module": "@jupyter-widgets/base",
            "overflow": null,
            "_model_module_version": "1.2.0",
            "_view_count": null,
            "flex_flow": null,
            "width": null,
            "min_width": null,
            "border": null,
            "align_items": null,
            "bottom": null,
            "_model_module": "@jupyter-widgets/base",
            "top": null,
            "grid_column": null,
            "overflow_y": null,
            "overflow_x": null,
            "grid_auto_flow": null,
            "grid_area": null,
            "grid_template_columns": null,
            "flex": null,
            "_model_name": "LayoutModel",
            "justify_items": null,
            "grid_row": null,
            "max_height": null,
            "align_content": null,
            "visibility": null,
            "align_self": null,
            "height": null,
            "min_height": null,
            "padding": null,
            "grid_auto_rows": null,
            "grid_gap": null,
            "max_width": null,
            "order": null,
            "_view_module_version": "1.2.0",
            "grid_template_areas": null,
            "object_position": null,
            "object_fit": null,
            "grid_auto_columns": null,
            "margin": null,
            "display": null,
            "left": null
          }
        },
        "d1fdd3c28b8544ef9481c9bb3f463277": {
          "model_module": "@jupyter-widgets/controls",
          "model_name": "HBoxModel",
          "state": {
            "_view_name": "HBoxView",
            "_dom_classes": [],
            "_model_name": "HBoxModel",
            "_view_module": "@jupyter-widgets/controls",
            "_model_module_version": "1.5.0",
            "_view_count": null,
            "_view_module_version": "1.5.0",
            "box_style": "",
            "layout": "IPY_MODEL_ec69ad6b5e7e43a8a6085f4a36b15abf",
            "_model_module": "@jupyter-widgets/controls",
            "children": [
              "IPY_MODEL_8effc9a279be46d1aa272c6a1dbd38da",
              "IPY_MODEL_f3c1330bc1874ca48d0d7a046b6be077"
            ]
          }
        },
        "ec69ad6b5e7e43a8a6085f4a36b15abf": {
          "model_module": "@jupyter-widgets/base",
          "model_name": "LayoutModel",
          "state": {
            "_view_name": "LayoutView",
            "grid_template_rows": null,
            "right": null,
            "justify_content": null,
            "_view_module": "@jupyter-widgets/base",
            "overflow": null,
            "_model_module_version": "1.2.0",
            "_view_count": null,
            "flex_flow": null,
            "width": null,
            "min_width": null,
            "border": null,
            "align_items": null,
            "bottom": null,
            "_model_module": "@jupyter-widgets/base",
            "top": null,
            "grid_column": null,
            "overflow_y": null,
            "overflow_x": null,
            "grid_auto_flow": null,
            "grid_area": null,
            "grid_template_columns": null,
            "flex": null,
            "_model_name": "LayoutModel",
            "justify_items": null,
            "grid_row": null,
            "max_height": null,
            "align_content": null,
            "visibility": null,
            "align_self": null,
            "height": null,
            "min_height": null,
            "padding": null,
            "grid_auto_rows": null,
            "grid_gap": null,
            "max_width": null,
            "order": null,
            "_view_module_version": "1.2.0",
            "grid_template_areas": null,
            "object_position": null,
            "object_fit": null,
            "grid_auto_columns": null,
            "margin": null,
            "display": null,
            "left": null
          }
        },
        "8effc9a279be46d1aa272c6a1dbd38da": {
          "model_module": "@jupyter-widgets/controls",
          "model_name": "FloatProgressModel",
          "state": {
            "_view_name": "ProgressView",
            "style": "IPY_MODEL_2cd559da07394c49aca5653b9049eb57",
            "_dom_classes": [],
            "description": "Evaluating on Test set...: 100%",
            "_model_name": "FloatProgressModel",
            "bar_style": "success",
            "max": 250,
            "_view_module": "@jupyter-widgets/controls",
            "_model_module_version": "1.5.0",
            "value": 250,
            "_view_count": null,
            "_view_module_version": "1.5.0",
            "orientation": "horizontal",
            "min": 0,
            "description_tooltip": null,
            "_model_module": "@jupyter-widgets/controls",
            "layout": "IPY_MODEL_08d1a0a52a5e4ffbb830a5b09ccd43eb"
          }
        },
        "f3c1330bc1874ca48d0d7a046b6be077": {
          "model_module": "@jupyter-widgets/controls",
          "model_name": "HTMLModel",
          "state": {
            "_view_name": "HTMLView",
            "style": "IPY_MODEL_aeedf7a07e204999be1a9fa408fbce04",
            "_dom_classes": [],
            "description": "",
            "_model_name": "HTMLModel",
            "placeholder": "​",
            "_view_module": "@jupyter-widgets/controls",
            "_model_module_version": "1.5.0",
            "value": " 250/250 [03:39&lt;00:00,  1.14it/s]",
            "_view_count": null,
            "_view_module_version": "1.5.0",
            "description_tooltip": null,
            "_model_module": "@jupyter-widgets/controls",
            "layout": "IPY_MODEL_91f080d8d53f44da9d43c3df1ce411fa"
          }
        },
        "2cd559da07394c49aca5653b9049eb57": {
          "model_module": "@jupyter-widgets/controls",
          "model_name": "ProgressStyleModel",
          "state": {
            "_view_name": "StyleView",
            "_model_name": "ProgressStyleModel",
            "description_width": "initial",
            "_view_module": "@jupyter-widgets/base",
            "_model_module_version": "1.5.0",
            "_view_count": null,
            "_view_module_version": "1.2.0",
            "bar_color": null,
            "_model_module": "@jupyter-widgets/controls"
          }
        },
        "08d1a0a52a5e4ffbb830a5b09ccd43eb": {
          "model_module": "@jupyter-widgets/base",
          "model_name": "LayoutModel",
          "state": {
            "_view_name": "LayoutView",
            "grid_template_rows": null,
            "right": null,
            "justify_content": null,
            "_view_module": "@jupyter-widgets/base",
            "overflow": null,
            "_model_module_version": "1.2.0",
            "_view_count": null,
            "flex_flow": null,
            "width": null,
            "min_width": null,
            "border": null,
            "align_items": null,
            "bottom": null,
            "_model_module": "@jupyter-widgets/base",
            "top": null,
            "grid_column": null,
            "overflow_y": null,
            "overflow_x": null,
            "grid_auto_flow": null,
            "grid_area": null,
            "grid_template_columns": null,
            "flex": null,
            "_model_name": "LayoutModel",
            "justify_items": null,
            "grid_row": null,
            "max_height": null,
            "align_content": null,
            "visibility": null,
            "align_self": null,
            "height": null,
            "min_height": null,
            "padding": null,
            "grid_auto_rows": null,
            "grid_gap": null,
            "max_width": null,
            "order": null,
            "_view_module_version": "1.2.0",
            "grid_template_areas": null,
            "object_position": null,
            "object_fit": null,
            "grid_auto_columns": null,
            "margin": null,
            "display": null,
            "left": null
          }
        },
        "aeedf7a07e204999be1a9fa408fbce04": {
          "model_module": "@jupyter-widgets/controls",
          "model_name": "DescriptionStyleModel",
          "state": {
            "_view_name": "StyleView",
            "_model_name": "DescriptionStyleModel",
            "description_width": "",
            "_view_module": "@jupyter-widgets/base",
            "_model_module_version": "1.5.0",
            "_view_count": null,
            "_view_module_version": "1.2.0",
            "_model_module": "@jupyter-widgets/controls"
          }
        },
        "91f080d8d53f44da9d43c3df1ce411fa": {
          "model_module": "@jupyter-widgets/base",
          "model_name": "LayoutModel",
          "state": {
            "_view_name": "LayoutView",
            "grid_template_rows": null,
            "right": null,
            "justify_content": null,
            "_view_module": "@jupyter-widgets/base",
            "overflow": null,
            "_model_module_version": "1.2.0",
            "_view_count": null,
            "flex_flow": null,
            "width": null,
            "min_width": null,
            "border": null,
            "align_items": null,
            "bottom": null,
            "_model_module": "@jupyter-widgets/base",
            "top": null,
            "grid_column": null,
            "overflow_y": null,
            "overflow_x": null,
            "grid_auto_flow": null,
            "grid_area": null,
            "grid_template_columns": null,
            "flex": null,
            "_model_name": "LayoutModel",
            "justify_items": null,
            "grid_row": null,
            "max_height": null,
            "align_content": null,
            "visibility": null,
            "align_self": null,
            "height": null,
            "min_height": null,
            "padding": null,
            "grid_auto_rows": null,
            "grid_gap": null,
            "max_width": null,
            "order": null,
            "_view_module_version": "1.2.0",
            "grid_template_areas": null,
            "object_position": null,
            "object_fit": null,
            "grid_auto_columns": null,
            "margin": null,
            "display": null,
            "left": null
          }
        }
      }
    }
  },
  "cells": [
    {
      "cell_type": "markdown",
      "metadata": {
        "id": "t-7aBAtpDG6U"
      },
      "source": [
        "# Sentiment Analysis and Stance Classificaiton\n",
        "## Modified from CIS 530 Homework Option 2 - Spring 2021\n",
        "\n",
        "\n"
      ]
    },
    {
      "cell_type": "markdown",
      "metadata": {
        "id": "WisUnpKqPW5x"
      },
      "source": [
        "## **Part I:** Relevance Classification with BERT fine-tuning\n",
        "\n",
        "#### Why do we need to fine-tune BERT?\n",
        "Here is a nice [demo](https://demo.allennlp.org/masked-lm?text=The%20doctor%20ran%20to%20the%20emergency%20room%20to%20see%20%5BMASK%5D%20patient.) \n",
        "\n",
        "\n",
        "\n",
        "We will be using the [transformer](https://github.com/huggingface/transformers) package developed by Huggingface, based on PyTorch. It is the most popular library for BERT and other transformer-based language models like GPT-2. \n"
      ]
    },
    {
      "cell_type": "markdown",
      "metadata": {
        "id": "Nrm0rxUR3MMj"
      },
      "source": [
        "**IMPORTANT: Make sure that you have GPU set as your Hardware Accelerator in Runtime > Change runtime type before running this Colab.**"
      ]
    },
    {
      "cell_type": "markdown",
      "metadata": {
        "id": "emdQC05Z2H8W"
      },
      "source": [
        "### Installing the Huggingface🤗 transformer package"
      ]
    },
    {
      "cell_type": "code",
      "metadata": {
        "id": "N5zqkZYt2Jg-",
        "colab": {
          "base_uri": "https://localhost:8080/"
        },
        "outputId": "c98e6be5-8fe0-4b40-dfff-5dfbf9cd7e23"
      },
      "source": [
        "# os.environ['CUDA_LAUNCH_BLOCKING'] = \"0\"\n",
        "!pip install transformers\n",
        "!pip3 install sentencepiece"
      ],
      "execution_count": 2,
      "outputs": [
        {
          "output_type": "stream",
          "text": [
            "Collecting transformers\n",
            "\u001b[?25l  Downloading https://files.pythonhosted.org/packages/d8/b2/57495b5309f09fa501866e225c84532d1fd89536ea62406b2181933fb418/transformers-4.5.1-py3-none-any.whl (2.1MB)\n",
            "\u001b[K     |████████████████████████████████| 2.1MB 5.2MB/s \n",
            "\u001b[?25hRequirement already satisfied: numpy>=1.17 in /usr/local/lib/python3.7/dist-packages (from transformers) (1.19.5)\n",
            "Requirement already satisfied: packaging in /usr/local/lib/python3.7/dist-packages (from transformers) (20.9)\n",
            "Requirement already satisfied: filelock in /usr/local/lib/python3.7/dist-packages (from transformers) (3.0.12)\n",
            "Requirement already satisfied: requests in /usr/local/lib/python3.7/dist-packages (from transformers) (2.23.0)\n",
            "Requirement already satisfied: regex!=2019.12.17 in /usr/local/lib/python3.7/dist-packages (from transformers) (2019.12.20)\n",
            "Requirement already satisfied: importlib-metadata; python_version < \"3.8\" in /usr/local/lib/python3.7/dist-packages (from transformers) (3.10.1)\n",
            "Collecting sacremoses\n",
            "\u001b[?25l  Downloading https://files.pythonhosted.org/packages/75/ee/67241dc87f266093c533a2d4d3d69438e57d7a90abb216fa076e7d475d4a/sacremoses-0.0.45-py3-none-any.whl (895kB)\n",
            "\u001b[K     |████████████████████████████████| 901kB 14.8MB/s \n",
            "\u001b[?25hCollecting tokenizers<0.11,>=0.10.1\n",
            "\u001b[?25l  Downloading https://files.pythonhosted.org/packages/ae/04/5b870f26a858552025a62f1649c20d29d2672c02ff3c3fb4c688ca46467a/tokenizers-0.10.2-cp37-cp37m-manylinux2010_x86_64.whl (3.3MB)\n",
            "\u001b[K     |████████████████████████████████| 3.3MB 17.7MB/s \n",
            "\u001b[?25hRequirement already satisfied: tqdm>=4.27 in /usr/local/lib/python3.7/dist-packages (from transformers) (4.41.1)\n",
            "Requirement already satisfied: pyparsing>=2.0.2 in /usr/local/lib/python3.7/dist-packages (from packaging->transformers) (2.4.7)\n",
            "Requirement already satisfied: urllib3!=1.25.0,!=1.25.1,<1.26,>=1.21.1 in /usr/local/lib/python3.7/dist-packages (from requests->transformers) (1.24.3)\n",
            "Requirement already satisfied: certifi>=2017.4.17 in /usr/local/lib/python3.7/dist-packages (from requests->transformers) (2020.12.5)\n",
            "Requirement already satisfied: idna<3,>=2.5 in /usr/local/lib/python3.7/dist-packages (from requests->transformers) (2.10)\n",
            "Requirement already satisfied: chardet<4,>=3.0.2 in /usr/local/lib/python3.7/dist-packages (from requests->transformers) (3.0.4)\n",
            "Requirement already satisfied: typing-extensions>=3.6.4; python_version < \"3.8\" in /usr/local/lib/python3.7/dist-packages (from importlib-metadata; python_version < \"3.8\"->transformers) (3.7.4.3)\n",
            "Requirement already satisfied: zipp>=0.5 in /usr/local/lib/python3.7/dist-packages (from importlib-metadata; python_version < \"3.8\"->transformers) (3.4.1)\n",
            "Requirement already satisfied: six in /usr/local/lib/python3.7/dist-packages (from sacremoses->transformers) (1.15.0)\n",
            "Requirement already satisfied: joblib in /usr/local/lib/python3.7/dist-packages (from sacremoses->transformers) (1.0.1)\n",
            "Requirement already satisfied: click in /usr/local/lib/python3.7/dist-packages (from sacremoses->transformers) (7.1.2)\n",
            "Installing collected packages: sacremoses, tokenizers, transformers\n",
            "Successfully installed sacremoses-0.0.45 tokenizers-0.10.2 transformers-4.5.1\n",
            "Collecting sentencepiece\n",
            "\u001b[?25l  Downloading https://files.pythonhosted.org/packages/f5/99/e0808cb947ba10f575839c43e8fafc9cc44e4a7a2c8f79c60db48220a577/sentencepiece-0.1.95-cp37-cp37m-manylinux2014_x86_64.whl (1.2MB)\n",
            "\u001b[K     |████████████████████████████████| 1.2MB 4.1MB/s \n",
            "\u001b[?25hInstalling collected packages: sentencepiece\n",
            "Successfully installed sentencepiece-0.1.95\n"
          ],
          "name": "stdout"
        }
      ]
    },
    {
      "cell_type": "markdown",
      "metadata": {
        "id": "OdUHfAX97ARc"
      },
      "source": [
        "### Import the important packages that we need"
      ]
    },
    {
      "cell_type": "code",
      "metadata": {
        "id": "KZo2Ls7I5Dmk"
      },
      "source": [
        "import torch \n",
        "import numpy as np"
      ],
      "execution_count": 2,
      "outputs": []
    },
    {
      "cell_type": "markdown",
      "metadata": {
        "id": "FTIMhxNC6aLA"
      },
      "source": [
        "### Mount your google drive \n",
        "\n",
        "We will be saving trained checkpoints on your Google Drive so that they can be accessed even if the Colab session dies. Make sure to login with your UPenn credentials, as you will be saving several gigabytes of data, and Penn gives you unlimited Drive storage."
      ]
    },
    {
      "cell_type": "code",
      "metadata": {
        "id": "MrlKyHzY6zq8",
        "colab": {
          "base_uri": "https://localhost:8080/"
        },
        "outputId": "9b28f35a-69b0-4646-89f8-20df909b7ab6"
      },
      "source": [
        "from google.colab import drive\n",
        "drive.mount('/content/drive')"
      ],
      "execution_count": 3,
      "outputs": [
        {
          "output_type": "stream",
          "text": [
            "Mounted at /content/drive\n"
          ],
          "name": "stdout"
        }
      ]
    },
    {
      "cell_type": "markdown",
      "metadata": {
        "id": "GyvLholz7VHc"
      },
      "source": [
        "### Download the Review Datset\n",
        "\n",
        "Note that with the default code, the files are not saved in your google drive, which means they will get deleted after the session close. You can either re-run this cell for each new colab session, or you can save it to the mounted drive at `/content/drive`"
      ]
    },
    {
      "cell_type": "code",
      "metadata": {
        "id": "-3ytJ_7TN_xo"
      },
      "source": [
        "import json\n",
        "import gzip\n",
        "\n",
        "def parse(path):\n",
        "  true = True\n",
        "  false = False\n",
        "  g = gzip.open(path, 'r')\n",
        "  for l in g:\n",
        "    yield json.dumps(eval(l))\n",
        "\n",
        "def strict(path):\n",
        "  f_path = path + \".json.gz\"\n",
        "  true = True\n",
        "  false = False\n",
        "  f = open(path+\".json\", 'w')\n",
        "  # f.write(\"[\")\n",
        "  writable = \"[\"\n",
        "  # writable.join\n",
        "\n",
        "  for l in parse(f_path):\n",
        "    writable = writable + l + ',\\n'\n",
        "    # f.write(l + ',\\n')\n",
        "  writable = writable[:-2]\n",
        "  writable = writable + \"]\"\n",
        "  f.write(writable)"
      ],
      "execution_count": 4,
      "outputs": []
    },
    {
      "cell_type": "code",
      "metadata": {
        "id": "FOhxsOGy7cK4"
      },
      "source": [
        "dataset_dir = '/content/drive/MyDrive/cis519_project'\n",
        "strict('/content/drive/MyDrive/cis519_project/gift_Cards_5')"
      ],
      "execution_count": 5,
      "outputs": []
    },
    {
      "cell_type": "markdown",
      "metadata": {
        "id": "dGB5MH22B1dH"
      },
      "source": [
        "### Load the dataset and see what it looks like\n",
        "\n",
        "For now let's first load the training dataset and see what it looks like. We will worry about the dev/test sets later...\n"
      ]
    },
    {
      "cell_type": "code",
      "metadata": {
        "id": "xaBayxnYB-7c",
        "colab": {
          "base_uri": "https://localhost:8080/"
        },
        "outputId": "c292447a-07da-4e67-e3a2-3a0f74908a7c"
      },
      "source": [
        "import json\n",
        "import os\n",
        "with open(os.path.join(dataset_dir, 'gift_Cards_5.json')) as fin:\n",
        "    train_set = json.load(fin)\n",
        "\n",
        "print(train_set[0]['reviewText'])\n",
        "print(\"Number of review in training set: {}\".format(len(train_set)))\n",
        "print(\"Here's how one of the example looks like: {}\".format(json.dumps(train_set[100])))"
      ],
      "execution_count": 6,
      "outputs": [
        {
          "output_type": "stream",
          "text": [
            "Another great gift.\n",
            "Number of review in training set: 2972\n",
            "Here's how one of the example looks like: {\"overall\": 5.0, \"verified\": true, \"reviewTime\": \"04 9, 2018\", \"reviewerID\": \"A2CM3SWOMP3A9C\", \"asin\": \"B005DHN6E2\", \"style\": {\"Gift Amount:\": \" 0\"}, \"reviewerName\": \"Mike\", \"reviewText\": \"Once again, who but Donald Trump (perhaps The Walton family) could hate an Amazon Gift Card?\", \"summary\": \"who but Donald Trump (perhaps The Walton family) could hate an Amazon Gift Card\", \"unixReviewTime\": 1523232000}\n"
          ],
          "name": "stdout"
        }
      ]
    },
    {
      "cell_type": "markdown",
      "metadata": {
        "id": "T16oSXXxGInG"
      },
      "source": [
        "Do some sampling TODO"
      ]
    },
    {
      "cell_type": "code",
      "metadata": {
        "id": "thxwPQ84FFrC"
      },
      "source": [
        "import random\n",
        "\n",
        "# def negative_sample(train_set, claim_id, claim_text, sample_size):\n",
        "#     \"\"\"\n",
        "#     Given a perspective (A dictionnary with keys \"id\" and \"text\"), randomly sample {sample_size} negative examples from the dataset. E.g. get a perspective from a different claim\n",
        "#     \"\"\"\n",
        "#     # Each perspective object in the list should be a dictionary with two keys \"id\", \"text\".\n",
        "#     other_examples = [ex for ex in train_set if ex[\"cid\"] != claim_id]\n",
        "    \n",
        "#     negative_examples = []\n",
        "#     for i in range(sample_size):\n",
        "#         rand_claim = random.choice(other_examples)\n",
        "#         all_persps = rand_claim[\"perspective_for\"] + rand_claim[\"perspective_against\"]\n",
        "#         random_persp = random.choice(all_persps)\n",
        "#         negative_examples.append(random_persp)\n",
        "    \n",
        "#     return negative_examples\n",
        "\n",
        "# training_sentence_pairs = []\n",
        "\n",
        "# for claim in train_set:\n",
        "#     positive_perspectives = claim[\"perspective_for\"] + claim[\"perspective_against\"]\n",
        "    \n",
        "#     # We keep the number of negative examples equal to positive, so that we will have a balanced training set\n",
        "#     negative_perspectives = negative_sample(train_set, claim['cid'], claim['claim_text'], len(positive_perspectives)) \n",
        "    \n",
        "#     for persp in positive_perspectives:\n",
        "#         training_sentence_pairs.append({\n",
        "#             \"claim_id\": claim[\"cid\"],\n",
        "#             \"claim_text\": claim[\"claim_text\"],\n",
        "#             \"perspective_id\": persp[\"id\"],\n",
        "#             \"perspective_text\": persp[\"text\"],\n",
        "#             \"label\": True\n",
        "#         })\n",
        "\n",
        "#     for persp in negative_perspectives:\n",
        "#         training_sentence_pairs.append({\n",
        "#             \"claim_id\": claim[\"cid\"],\n",
        "#             \"claim_text\": claim[\"claim_text\"],\n",
        "#             \"perspective_id\": persp[\"id\"],\n",
        "#             \"perspective_text\": persp[\"text\"],\n",
        "#             \"label\": False\n",
        "#         })\n",
        "training_reviews = []\n",
        "id = 0;\n",
        "max_len = 0 \n",
        "for review in train_set:\n",
        "  #no Review text\n",
        "  if 'reviewText' not in review:\n",
        "    continue\n",
        "  if len(review['reviewText']) > 500:\n",
        "    continue\n",
        "  training_reviews.append({\n",
        "            \"review_id\": id,\n",
        "            \"review_text\": review['reviewText'],\n",
        "            \"label\": review['overall']\n",
        "        })\n",
        "  \n",
        "    # max_len = len(review['reviewText'])\n",
        "  id = id + 1\n",
        "print(\"Number of claim-perspective sentence pairs for training: {}\".format(len(training_reviews)))\n",
        "print(max_len)"
      ],
      "execution_count": null,
      "outputs": []
    },
    {
      "cell_type": "markdown",
      "metadata": {
        "id": "m7SQ_wPTCvZK"
      },
      "source": [
        "Now it would be a good time to load our dev/test examples, which are already organized in the same sentence pair format as what you just did."
      ]
    },
    {
      "cell_type": "code",
      "metadata": {
        "id": "VY1epL37C1v5"
      },
      "source": [
        "# with open(os.path.join(dataset_dir, 'perspectrum_relevance_dev.json')) as fin:\n",
        "#     dev_sentence_pairs = json.load(fin)\n",
        "\n",
        "# with open(os.path.join(dataset_dir, 'perspectrum_relevance_test_no_label.json')) as fin:\n",
        "#     test_sentence_pairs = json.load(fin)\n",
        "\n",
        "# print(\"Number of claim-perspective sentence pairs in dev set: {}\".format(len(dev_sentence_pairs)))\n",
        "# print(\"Number of claim-perspective sentence pairs in test set: {}\".format(len(test_sentence_pairs)))"
      ],
      "execution_count": 27,
      "outputs": []
    },
    {
      "cell_type": "markdown",
      "metadata": {
        "id": "Wcu0HdxgE7i9"
      },
      "source": [
        "### Load Pretrained BERT Model\n",
        " \n",
        "\n",
        "You can search for the available models [here](https://huggingface.co/models?search=bert).\n",
        "\n",
        "You can find more examples of different use cases for BERT in the transformer github repo README -- https://github.com/huggingface/transformers\n"
      ]
    },
    {
      "cell_type": "code",
      "metadata": {
        "id": "P7YkHAIjCu4B",
        "colab": {
          "base_uri": "https://localhost:8080/",
          "height": 283,
          "referenced_widgets": [
            "d56c08062e4645b8a5cd2be8b39ba21e",
            "7d54acfc461d49f4ba73c609b42d5287",
            "fe9e271ba8b848daa3c6b759e463367c",
            "48ff4f550e4442398b6623e0943f0ea4",
            "de9bb0c493fa4eec9926f97080458740",
            "a696796c737b45e3b30e3ed37f56e264",
            "a0bc81a2b2484f48b74e7f0252d5bbaa",
            "2e612371bcd0471dab4dd4ae7bd76b30",
            "a8357bb98b8147e6848508f318e79829",
            "7da6c8b336c44486b79bebb820a4ade8",
            "bb8595f9236b4c35a971f536ad58747b",
            "4daf559492064423ba1b82bac8cd63e9",
            "d6dda68043074da28fcf21e54b216804",
            "d38a9841279b4948a3bd526eeda8e1c5",
            "0db81ab091e44c96b8b2c4be19aa6adc",
            "8da7cff6fc894d3ab1d00757e5250b3a",
            "2b9a1761b085484aab037ac44426df0d",
            "318ae9ba5f6d4dc4aeb52022c916eb23",
            "b8c241a4aa44468ea5def252fa38bc91",
            "6bf997edacee4fa2b784bff958cd6ba7",
            "8bd56a78596f403abc61317cf714209f",
            "6bc2cde67ce746c3abe00dc36a1ce335",
            "5532b72c48a74d5ca3bb11eb77ac642c",
            "618d6c19d23e48db8700c06463820d64"
          ]
        },
        "outputId": "76da09ad-9bc5-411b-87bb-a1b8d4199efd"
      },
      "source": [
        "from transformers import InputExample\n",
        "from transformers import (WEIGHTS_NAME, BertConfig,\n",
        "                          BertForSequenceClassification, BertTokenizer)\n",
        "from transformers import glue_convert_examples_to_features as convert_examples_to_features\n",
        "from transformers.optimization import AdamW, get_linear_schedule_with_warmup\n",
        "import tqdm\n",
        "\n",
        "from torch.utils.data import (DataLoader, RandomSampler, SequentialSampler,\n",
        "                              TensorDataset)\n",
        "#Bert-mini\n",
        "bert_model_type = 'google/bert_uncased_L-4_H-256_A-4'   # Specs of BERT models with different sizes can be found at https://github.com/google-research/bert/\n",
        "#Bert-base                                                       # You can experiment models with different sizes, to see how it affects performance. \n",
        "# bert_model_type = \"albert-base-v2\"\n",
        "\n",
        "bert_model = BertForSequenceClassification.from_pretrained(bert_model_type)\n",
        "config = BertConfig.from_pretrained(bert_model_type)\n",
        "tokenizer = BertTokenizer.from_pretrained(bert_model_type)\n",
        "# from transformers import AutoTokenizer, AutoModelForPreTraining, AutoConfig\n",
        "# import sentencepiece\n",
        "\n",
        "# tokenizer = AutoTokenizer.from_pretrained(\"google/bigbird-roberta-base\")\n",
        "# config = AutoConfig.from_pretrained(\"google/bigbird-roberta-base\")\n",
        "# model = AutoModelForPreTraining.from_pretrained(\"google/bigbird-roberta-base\")"
      ],
      "execution_count": 3,
      "outputs": [
        {
          "output_type": "display_data",
          "data": {
            "application/vnd.jupyter.widget-view+json": {
              "model_id": "d56c08062e4645b8a5cd2be8b39ba21e",
              "version_minor": 0,
              "version_major": 2
            },
            "text/plain": [
              "HBox(children=(FloatProgress(value=0.0, description='Downloading', max=383.0, style=ProgressStyle(description_…"
            ]
          },
          "metadata": {
            "tags": []
          }
        },
        {
          "output_type": "stream",
          "text": [
            "\n"
          ],
          "name": "stdout"
        },
        {
          "output_type": "display_data",
          "data": {
            "application/vnd.jupyter.widget-view+json": {
              "model_id": "a8357bb98b8147e6848508f318e79829",
              "version_minor": 0,
              "version_major": 2
            },
            "text/plain": [
              "HBox(children=(FloatProgress(value=0.0, description='Downloading', max=45088961.0, style=ProgressStyle(descrip…"
            ]
          },
          "metadata": {
            "tags": []
          }
        },
        {
          "output_type": "stream",
          "text": [
            "\n"
          ],
          "name": "stdout"
        },
        {
          "output_type": "stream",
          "text": [
            "Some weights of the model checkpoint at google/bert_uncased_L-4_H-256_A-4 were not used when initializing BertForSequenceClassification: ['cls.predictions.bias', 'cls.predictions.transform.dense.weight', 'cls.predictions.transform.dense.bias', 'cls.predictions.transform.LayerNorm.weight', 'cls.predictions.transform.LayerNorm.bias', 'cls.predictions.decoder.weight', 'cls.predictions.decoder.bias', 'cls.seq_relationship.weight', 'cls.seq_relationship.bias']\n",
            "- This IS expected if you are initializing BertForSequenceClassification from the checkpoint of a model trained on another task or with another architecture (e.g. initializing a BertForSequenceClassification model from a BertForPreTraining model).\n",
            "- This IS NOT expected if you are initializing BertForSequenceClassification from the checkpoint of a model that you expect to be exactly identical (initializing a BertForSequenceClassification model from a BertForSequenceClassification model).\n",
            "Some weights of BertForSequenceClassification were not initialized from the model checkpoint at google/bert_uncased_L-4_H-256_A-4 and are newly initialized: ['classifier.weight', 'classifier.bias']\n",
            "You should probably TRAIN this model on a down-stream task to be able to use it for predictions and inference.\n"
          ],
          "name": "stderr"
        },
        {
          "output_type": "display_data",
          "data": {
            "application/vnd.jupyter.widget-view+json": {
              "model_id": "2b9a1761b085484aab037ac44426df0d",
              "version_minor": 0,
              "version_major": 2
            },
            "text/plain": [
              "HBox(children=(FloatProgress(value=0.0, description='Downloading', max=231508.0, style=ProgressStyle(descripti…"
            ]
          },
          "metadata": {
            "tags": []
          }
        },
        {
          "output_type": "stream",
          "text": [
            "\n"
          ],
          "name": "stdout"
        }
      ]
    },
    {
      "cell_type": "markdown",
      "metadata": {
        "id": "Cs-R81c66DoJ"
      },
      "source": [
        "### Convert examples to BERT input features\n",
        "Much like every other neural network. You need to (1) tokenize your input sentences (2) Have a vocabulary/dictionary and convert each token to a vector/tensor. Luckily BERT offers a very nice set of interfaces, through which you can do these steps easily.\n",
        "\n",
        "In this homework we provide this function to you. However, in case you would like to use BERT in the future, it is really important to understand BERT's input format and the word-piece tokenziation strategy that BERT adopts. Here are a few resources that we suggest -- \n",
        "\n",
        "1. The [\"What is BERT\" section](https://github.com/google-research/bert#what-is-bert) in the official BERT code repo by Google\n",
        "2. Section 3 of the [BERT paper](https://arxiv.org/pdf/1810.04805.pdf)\n"
      ]
    },
    {
      "cell_type": "code",
      "metadata": {
        "id": "0FBUds7v6V9L"
      },
      "source": [
        "relevance_label_mapping = {\n",
        "    1.0: 0,\n",
        "    2.0: 1,\n",
        "    3.0: 2,\n",
        "    4.0: 3,\n",
        "    5.0: 4\n",
        "} # If you are working on stance classification, create a different label mapping\n",
        "\n",
        "def convert_sentence_pair_to_tensor_input(sentence_reviews, label_mapping):\n",
        "\n",
        "    # STEP 1: convert each sentence \n",
        "    input_examples = []\n",
        "    for review in sentence_reviews:\n",
        "        current_label = review[\"label\"] if \"label\" in review else AssertionError\n",
        "        input_examples.append(\n",
        "            InputExample(guid=\"\", # We don't really need this\n",
        "                         text_a=review[\"review_text\"], \n",
        "                        #  text_b=\"\", \n",
        "                         label=label_mapping[current_label])\n",
        "        )\n",
        "    print(input_examples)\n",
        "    label_list = [val for _, val in label_mapping.items()]\n",
        "\n",
        "    features = convert_examples_to_features(input_examples,\n",
        "                                                   tokenizer,\n",
        "                                                   label_list=label_list,\n",
        "                                                   max_length=512,  \n",
        "                                                   output_mode=\"classification\")\n",
        "    \n",
        "    input_ids = torch.tensor([f.input_ids for f in features], dtype=torch.long)\n",
        "    attention_mask = torch.tensor([f.attention_mask for f in features], dtype=torch.long)\n",
        "    token_type_ids = torch.tensor([f.token_type_ids for f in features], dtype=torch.long)\n",
        "    labels = torch.tensor([f.label for f in features], dtype=torch.long)\n",
        "\n",
        "    dataset = TensorDataset(input_ids, attention_mask, token_type_ids, labels)\n",
        "\n",
        "    return dataset"
      ],
      "execution_count": 10,
      "outputs": []
    },
    {
      "cell_type": "code",
      "metadata": {
        "id": "XQHIh7iDMnEM",
        "colab": {
          "base_uri": "https://localhost:8080/"
        },
        "outputId": "9546a98c-d0a9-4fa1-b29a-e61e0e65c92d"
      },
      "source": [
        "train_dataset = convert_sentence_pair_to_tensor_input(training_reviews, relevance_label_mapping)"
      ],
      "execution_count": 11,
      "outputs": [
        {
          "output_type": "stream",
          "text": [
            "[InputExample(guid='', text_a='Another great gift.', text_b=None, label=4), InputExample(guid='', text_a='Gift card for my daughter', text_b=None, label=3), InputExample(guid='', text_a='Nice present', text_b=None, label=4), InputExample(guid='', text_a='My niece loved this birthday greeting/gift card.', text_b=None, label=4), InputExample(guid='', text_a='fine as a gift.', text_b=None, label=4), InputExample(guid='', text_a='I would have preferred some more choices.', text_b=None, label=4), InputExample(guid='', text_a='great', text_b=None, label=4), InputExample(guid='', text_a='Very cute design and enjoyed by recipient.', text_b=None, label=4), InputExample(guid='', text_a=\"I used the text option to send these last minute gift cards to my Granddaughters (via their mom's phone). Works really well, you get a confirmation email that it has been received, and a confirmation that the cards have been redeemed. Granddaughter's very happy with the card design. I love the options you have when you send Amazon gift cards!\", text_b=None, label=3), InputExample(guid='', text_a='This was for a gift and it was well received.', text_b=None, label=4), InputExample(guid='', text_a='Great way to send a last minute birthday gift to someone through email. Cant go wrong with Amazon gift cards!', text_b=None, label=4), InputExample(guid='', text_a='guess it was appreciated?', text_b=None, label=4), InputExample(guid='', text_a=\"I bought several of these cards for 'stocking gifts' for the church staff. Glad that Amazon actually had a Real Christmas themed card.\", text_b=None, label=4), InputExample(guid='', text_a='was gift', text_b=None, label=3), InputExample(guid='', text_a='great', text_b=None, label=4), InputExample(guid='', text_a='they are gift cards', text_b=None, label=4), InputExample(guid='', text_a='Xmas gift.', text_b=None, label=4), InputExample(guid='', text_a='This was a birthday gift', text_b=None, label=3), InputExample(guid='', text_a='everyone loved getting them for Christmas  Thanks', text_b=None, label=4), InputExample(guid='', text_a='Xmas stocking stuffer. Loved it', text_b=None, label=4), InputExample(guid='', text_a='Easy gift that I knew recipient would love.', text_b=None, label=4), InputExample(guid='', text_a='Very nice', text_b=None, label=4), InputExample(guid='', text_a='I sent this to one of my relatives out of town , she thanked me for it', text_b=None, label=4), InputExample(guid='', text_a='Came on time, and exactly as described.', text_b=None, label=4), InputExample(guid='', text_a='Nice card', text_b=None, label=4), InputExample(guid='', text_a='This was a gift.', text_b=None, label=4), InputExample(guid='', text_a=\"lots of thank you's from nieces.\", text_b=None, label=4), InputExample(guid='', text_a='Cute!', text_b=None, label=4), InputExample(guid='', text_a='Love gift cards..fast delivery!', text_b=None, label=4), InputExample(guid='', text_a=\"Ok looking card (not great). But I would have liked it to come in a tin. As one of the ones I ordered, the card was bent in half. And couldn't have been done by post office as they were in a box.\", text_b=None, label=1), InputExample(guid='', text_a='It was good experiance', text_b=None, label=4), InputExample(guid='', text_a='Nice look', text_b=None, label=4), InputExample(guid='', text_a='Always a great gift for any one, any time. And very convenient.', text_b=None, label=4), InputExample(guid='', text_a='attractive card; easy to print; convenient', text_b=None, label=4), InputExample(guid='', text_a='A great gift for someone.', text_b=None, label=4), InputExample(guid='', text_a='Always a perfect gift for my son.', text_b=None, label=4), InputExample(guid='', text_a='Can never go wrong', text_b=None, label=4), InputExample(guid='', text_a='love it', text_b=None, label=4), InputExample(guid='', text_a='nieces and nephews enjoyed using these cards.', text_b=None, label=4), InputExample(guid='', text_a=\"How can you go wrong with a amazon gift certificate, you can't\", text_b=None, label=4), InputExample(guid='', text_a='Good gift for anyone', text_b=None, label=4), InputExample(guid='', text_a='gift', text_b=None, label=4), InputExample(guid='', text_a='great gift', text_b=None, label=4), InputExample(guid='', text_a='Wife loves it', text_b=None, label=4), InputExample(guid='', text_a='Very pleased with the gift card in a greeting card.  Nice way to give a gift.', text_b=None, label=4), InputExample(guid='', text_a='Gift cards the perfect gift.', text_b=None, label=4), InputExample(guid='', text_a='Enjoyed by the person receiving it and it was appreciated.', text_b=None, label=4), InputExample(guid='', text_a='Card works just fine', text_b=None, label=4), InputExample(guid='', text_a='Always a wonderful gift', text_b=None, label=4), InputExample(guid='', text_a='Loved the Cat in the Hat card that came free with the purchase of an Amazon Gift card. Adorable to give as a gift!', text_b=None, label=4), InputExample(guid='', text_a='Love it.', text_b=None, label=4), InputExample(guid='', text_a='What can you say about a gift card.', text_b=None, label=4), InputExample(guid='', text_a='!Always good to give an Amazon Gift Card! I wish they would stop putting the \"A\" symbol on the cards they send with the gift card, really sort of botches the message.', text_b=None, label=3), InputExample(guid='', text_a='They are gift cards.', text_b=None, label=4), InputExample(guid='', text_a='Its a gift card', text_b=None, label=4), InputExample(guid='', text_a='nice', text_b=None, label=4), InputExample(guid='', text_a='Was ordered as a gift, they where very happy with item.', text_b=None, label=4), InputExample(guid='', text_a=\"Gift well received.  Can't go wrong with an Amazon gift card!\", text_b=None, label=4), InputExample(guid='', text_a=\"You just can't go wrong giving an Amazon card out.  Everyone loves it and they can buy themselves just what they want.\", text_b=None, label=4), InputExample(guid='', text_a='what do you say about a gift card.  It came on time.  My only issue was the lack of choices in the $10 range.', text_b=None, label=3), InputExample(guid='', text_a='it great', text_b=None, label=4), InputExample(guid='', text_a='Happy son in law', text_b=None, label=4), InputExample(guid='', text_a='Great gift idea and easy to give for any occasion. Thanks.', text_b=None, label=4), InputExample(guid='', text_a='as expected', text_b=None, label=4), InputExample(guid='', text_a='Perfect gift card. kathy', text_b=None, label=4), InputExample(guid='', text_a='Exactly what I was looking for!', text_b=None, label=4), InputExample(guid='', text_a='Good gift', text_b=None, label=4), InputExample(guid='', text_a=\"Kudos to Amazon.com for fast delivery, beautiful card.... It's all good! This was a gift for a college student in our family who lives on her own struggling to get by. She's reluctant to accept cash, but I know she needs many things. This is the best choice! Books, music, millions of choices on Kindle, snacks, chicken soup, socks... It's all here! She was soooo excited -- really!\", text_b=None, label=4), InputExample(guid='', text_a='Perfect for gift giving!', text_b=None, label=4), InputExample(guid='', text_a='GREAT GIFT', text_b=None, label=4), InputExample(guid='', text_a=\"it's a gift card!\", text_b=None, label=4), InputExample(guid='', text_a=\"You can buy ANYTHING on Amazon.com.  I give Amazon gift cards for every occasion... birthdays, Christmas, Mother's Day, Father's Day, you name it!!  And the gift cards are always appreciated.  Great bargain since I can send the gift card and they can buy anything they want from Amazon.com!!  And by the way, I really love getting them myself!\", text_b=None, label=4), InputExample(guid='', text_a='Nice to have and glad to find.', text_b=None, label=3), InputExample(guid='', text_a='Great gift', text_b=None, label=4), InputExample(guid='', text_a='Always a great gift.', text_b=None, label=4), InputExample(guid='', text_a='THANKS', text_b=None, label=4), InputExample(guid='', text_a='nice', text_b=None, label=4), InputExample(guid='', text_a='Great!', text_b=None, label=4), InputExample(guid='', text_a='SATISFIED', text_b=None, label=4), InputExample(guid='', text_a='Good gift for anyone', text_b=None, label=4), InputExample(guid='', text_a='Easiest cards to use.', text_b=None, label=4), InputExample(guid='', text_a=\"The design of the card is gorgeous. It's a perfect gift for your friends or family.\", text_b=None, label=4), InputExample(guid='', text_a='as expected.', text_b=None, label=4), InputExample(guid='', text_a='Always great for gift giving!', text_b=None, label=4), InputExample(guid='', text_a='Every one on my shopping list was happy to receive the card. Shopping is fast and easy on Amazon so why not.', text_b=None, label=4), InputExample(guid='', text_a='Recommend getting children/grandchildren gift cards in this day and time of High Tech toys.  Easy to please with a gift card and no wracking the brain.', text_b=None, label=4), InputExample(guid='', text_a=\"I purchased this for my cousin for Christmas.  She loved it and it was great.  It's an amazon gift card!\", text_b=None, label=4), InputExample(guid='', text_a=\"it's a gift card, what else is there to say?\", text_b=None, label=4), InputExample(guid='', text_a=\"I ordered one of these when the egift certificate I ordered never arrived at my friends' email.  He spent it before he even got home.  :)\", text_b=None, label=4), InputExample(guid='', text_a='Always love Amazon gift cards as gifts and would recommend to anyone as a gift- you could never go wrong!', text_b=None, label=4), InputExample(guid='', text_a='My son has been considering a Kindle reader. Since I did not know which one he would prefer, I was able to let him make his own choice by presenting him with the Amazon Kindle gift card.', text_b=None, label=4), InputExample(guid='', text_a=\"Always acceptable and widely enjoyed by all ages and tastes.  When you don't have any idea of a specific gift, these gift cards are perfect.  Also, Amazon has such a large range of items, there is always something for everyone.\", text_b=None, label=4), InputExample(guid='', text_a='I have a nephew who loves shopping on Amazon and now his two young daughters love it too.  I purchased gift cards for each of them for Christmas so they can experience Amazon too!', text_b=None, label=4), InputExample(guid='', text_a='Friends with Kindles love this. I did not realize how many people buy various things from Amazon!!!! Next year, I will probably up this one.  Wonderful for Kindle users as well.', text_b=None, label=4), InputExample(guid='', text_a=\"What's to go wrong with a gift card.  As long as it enters into a person's account as a credit it is just what you paid for.\", text_b=None, label=4), InputExample(guid='', text_a='If you are ever stuck on what to get kids (tweens) this is the way to go!\\nWho does not love gift cards? They are the same as cash and not as impersonal. That way they spend the money to get what they want and you know they cannot return to store to exchange.', text_b=None, label=4), InputExample(guid='', text_a='I like how it is a well made full size Christmas card. Plenty of room to write a sentiment. The gift card is securely attached inside so no worries of it moving about or falling out.', text_b=None, label=4), InputExample(guid='', text_a='I love the gift cards come with the card. I am slowly buying for christmas and it will save me money by not buying additional cards', text_b=None, label=4), InputExample(guid='', text_a='Men are hard to buy for, but this gift card covers all the bases since there are unlimited choices offered by Amazon for which it can be redeemed.', text_b=None, label=4), InputExample(guid='', text_a='It was a good gift with a fun card to send it in. I enjoyed sending it to a special child in our family.', text_b=None, label=3), InputExample(guid='', text_a='Once again, who but Donald Trump (perhaps The Walton family) could hate an Amazon Gift Card?', text_b=None, label=4), InputExample(guid='', text_a='Arrived as promised.', text_b=None, label=4), InputExample(guid='', text_a='they are gift cards', text_b=None, label=4), InputExample(guid='', text_a='christmas gift.', text_b=None, label=4), InputExample(guid='', text_a='Funny', text_b=None, label=4), InputExample(guid='', text_a='my 2nd year of giving Amazon gift cards and everyone likes them  Thanks', text_b=None, label=4), InputExample(guid='', text_a='What could go wrong with an amazon gift card', text_b=None, label=4), InputExample(guid='', text_a='Gave as gift', text_b=None, label=4), InputExample(guid='', text_a='These cards are the best gifts and make the holidays stress free!', text_b=None, label=4), InputExample(guid='', text_a='Always have a few on hand for last minute birthday gifts', text_b=None, label=4), InputExample(guid='', text_a=\"My recipients absolutely loved their gifts.  I'm going to do this more often.  Recipients love them and there are no returns.  Amazon's gift cards do not expire!\", text_b=None, label=4), InputExample(guid='', text_a='Great gift to give someone', text_b=None, label=4), InputExample(guid='', text_a='Love giftcards...fast delivery!', text_b=None, label=4), InputExample(guid='', text_a='Easiest way to get birthday gifts for family and friends.', text_b=None, label=4), InputExample(guid='', text_a=\"Was a wonderful addition to the 'Saran Wrap Ball' Christmas Party Game!\\nThank you very much!\", text_b=None, label=4), InputExample(guid='', text_a=\"Cute card. But I would have liked it to come in a tin. As one of the ones I ordered, the card was bent in half. And couldn't have been done by post office as they were in a box.\", text_b=None, label=2), InputExample(guid='', text_a='Is as advertised', text_b=None, label=4), InputExample(guid='', text_a='GAVE IT TO A FRIEND, I GUESS HE BOUGHT HIMSELF SOMETHING WITH IT, HE NEVER TOLD ME WHAT HE GOT', text_b=None, label=4), InputExample(guid='', text_a=\"What's not to love about an amazon gift card in a black gift box?  PURRFECT!\", text_b=None, label=4), InputExample(guid='', text_a='These gift cards are quick and easy and with so many items to choose from, even a picky shopper will find something they want.  Love em!', text_b=None, label=4), InputExample(guid='', text_a='The receiver loved it.', text_b=None, label=4), InputExample(guid='', text_a='Nice gift item. Nicely packaged. Reciptian very happy with the gift', text_b=None, label=4), InputExample(guid='', text_a='This was a gift', text_b=None, label=4), InputExample(guid='', text_a='Came on time, and exactly as described.', text_b=None, label=4), InputExample(guid='', text_a='perfect of multi gift giving.', text_b=None, label=4), InputExample(guid='', text_a='A great fan of amazon gift cards!', text_b=None, label=4), InputExample(guid='', text_a='very good', text_b=None, label=4), InputExample(guid='', text_a='Does what a gift card should :)', text_b=None, label=4), InputExample(guid='', text_a='Cute cards, glad I had tins to put them in.', text_b=None, label=4), InputExample(guid='', text_a=\"Can't go wrong with gift cards.\", text_b=None, label=4), InputExample(guid='', text_a='thanks', text_b=None, label=4), InputExample(guid='', text_a='My 11 grandchildren love to receive amazon gift cards to shop online!  I get them for Birthdays and Christmas!', text_b=None, label=4), InputExample(guid='', text_a='Perfect!', text_b=None, label=4), InputExample(guid='', text_a='They love the Amazon cards. Amazon needs to add more choices in the gift boxes', text_b=None, label=4), InputExample(guid='', text_a='convenient gift', text_b=None, label=4), InputExample(guid='', text_a='A+', text_b=None, label=4), InputExample(guid='', text_a='Works like a charm. Simply scratch off the back of card for code. Go to Amazon redeem web address. Sign in on Amazon. Type in the code and and click on \"apply to your balance.\" Easy Peasy. No fees. I get the entire payment amount as credit on account.', text_b=None, label=4), InputExample(guid='', text_a='nice gift and packaging', text_b=None, label=4), InputExample(guid='', text_a='Very happy with purchase!', text_b=None, label=4), InputExample(guid='', text_a='These were perfect Christmas gifts for the grandkids.', text_b=None, label=4), InputExample(guid='', text_a=\"Love to have amazon cards. Can't go wrong.  I ordered my sister one last year for Christmas and now she is hooked. She loves Amazon. kathy\", text_b=None, label=4), InputExample(guid='', text_a='Not many things that I can find that will be appreciated as much as this card will be', text_b=None, label=4), InputExample(guid='', text_a='great buy', text_b=None, label=4), InputExample(guid='', text_a='christmas gift', text_b=None, label=4), InputExample(guid='', text_a='GREAT GIFT', text_b=None, label=4), InputExample(guid='', text_a='You never go wrong with a gift card', text_b=None, label=4), InputExample(guid='', text_a='GREAT GIFT', text_b=None, label=4), InputExample(guid='', text_a='This past November and December I bought all gift cards for my teens, hubby, nieces, nephews, etc.  The amazon giftcard is something you can give anyone with an internet connection', text_b=None, label=4), InputExample(guid='', text_a='Gave as a gift', text_b=None, label=3), InputExample(guid='', text_a='I love how convenient these are for gifting and how presentable they are', text_b=None, label=4), InputExample(guid='', text_a='PERFECT', text_b=None, label=4), InputExample(guid='', text_a='Boxed gift cards are a bit more difficult to use than the emailed version, but nice designs and packaging make them seem more substantial..', text_b=None, label=4), InputExample(guid='', text_a='How could money look bad in any denomination. The box is very nice n I am giving it as a gift', text_b=None, label=4), InputExample(guid='', text_a='I have bought a lot of these and they are always good.  Amazon has so much stuff that the recipient can buy almost anything with them.', text_b=None, label=3), InputExample(guid='', text_a='great gift', text_b=None, label=4), InputExample(guid='', text_a='Excellent way to give a gift to someone that lets them select exactly what they want. Fast and secure service.', text_b=None, label=4), InputExample(guid='', text_a='Pretty good gift card box. Convenient purchase for future orders with 5% cash back from credit partners.', text_b=None, label=4), InputExample(guid='', text_a=\"Nice Box with Gift Card. Was a very cute B'Day present.\", text_b=None, label=4), InputExample(guid='', text_a='christmas precent', text_b=None, label=4), InputExample(guid='', text_a='Fast shipping and made my boss happy.', text_b=None, label=4), InputExample(guid='', text_a='nice box', text_b=None, label=4), InputExample(guid='', text_a='Gift Card arrived SUPER SUPER Quick!  A Great Choice for someone who has everything!  Dad was really happy! Will order again!', text_b=None, label=4), InputExample(guid='', text_a='Makes life easy to be able to order online', text_b=None, label=4), InputExample(guid='', text_a='Classy way to give a gift card.', text_b=None, label=3), InputExample(guid='', text_a='I found this gift to be thoughtful and smart. Since I am already an Amazon shopper, the card came in handy.', text_b=None, label=4), InputExample(guid='', text_a='Good Value', text_b=None, label=4), InputExample(guid='', text_a='Thanks very happy\\nGonna get a good leaf blower\\nA really loud one', text_b=None, label=4), InputExample(guid='', text_a='Great item!', text_b=None, label=4), InputExample(guid='', text_a='Great purchase. The Gift card worked very good.', text_b=None, label=4), InputExample(guid='', text_a='Holiday gift', text_b=None, label=4), InputExample(guid='', text_a='Great!', text_b=None, label=4), InputExample(guid='', text_a='Great gift idea', text_b=None, label=4), InputExample(guid='', text_a='Delivered as expected, no complaints!', text_b=None, label=4), InputExample(guid='', text_a='If a gift card has the balance you purchased, I guess it gets five stars!', text_b=None, label=4), InputExample(guid='', text_a=\"I ordered a bunch of gift cards and when the people went to use them, they found they didn't have anything on them. I gave my father in law some cards and other members of my family as Christmas presents! You need to have these double checked before shipping!\", text_b=None, label=1), InputExample(guid='', text_a=\"It's a gift card...can't go wrong!\", text_b=None, label=4), InputExample(guid='', text_a='Love amazon lighting deal gift cards! These were small and super cute. Perfect for gifting!', text_b=None, label=4), InputExample(guid='', text_a='This was a gift.', text_b=None, label=4), InputExample(guid='', text_a='gift', text_b=None, label=4), InputExample(guid='', text_a='Yes, it arrived quickly and worked perfectly. Very pleased.', text_b=None, label=4), InputExample(guid='', text_a='you actually want a review on a gift card?!?!?!', text_b=None, label=0), InputExample(guid='', text_a=\"It's a gift card!\", text_b=None, label=4), InputExample(guid='', text_a='I have ordered the Ruby Tuesday gift card many times.  No problems ever.', text_b=None, label=4), InputExample(guid='', text_a='IT WAS A GIFT CARD, WHAT CAN I SAY.  GLAD TO HAVE IT MAILED TO ME.', text_b=None, label=4), InputExample(guid='', text_a='a very good buy !!', text_b=None, label=4), InputExample(guid='', text_a='Love these cards. They are life savers for gifts!!!', text_b=None, label=4), InputExample(guid='', text_a='Good product!', text_b=None, label=4), InputExample(guid='', text_a='awsome', text_b=None, label=4), InputExample(guid='', text_a='Great deal during the holidays when you can get it for $40 and can be upload to your Samsung Pay device so no more lugging around a gift card.', text_b=None, label=4), InputExample(guid='', text_a='I love the gift card', text_b=None, label=4), InputExample(guid='', text_a='How can you go wrong with a gift card to a place they go?', text_b=None, label=4), InputExample(guid='', text_a='It arrived fast and worked when I went to use it.', text_b=None, label=4), InputExample(guid='', text_a='loved it', text_b=None, label=4), InputExample(guid='', text_a='Great food', text_b=None, label=4), InputExample(guid='', text_a='Perfect Gift!', text_b=None, label=4), InputExample(guid='', text_a='Excellent!! Loved!! Give these as gifts every Easter!!! : )', text_b=None, label=4), InputExample(guid='', text_a='Gift', text_b=None, label=4), InputExample(guid='', text_a='Perfect gift for Christmas.', text_b=None, label=4), InputExample(guid='', text_a='Great gift, when you cannot think of what to get someone but you know them enough to know where they dine.', text_b=None, label=4), InputExample(guid='', text_a='5 off and we used it for a gift.', text_b=None, label=4), InputExample(guid='', text_a='I love Ruby Tuesday and love it even more when I can save money on  a gift card!', text_b=None, label=4), InputExample(guid='', text_a='This $25 gift card to Ruby Tuesday worked perfectly! I gave it to my parents as part of their anniversary presents and they used it at Ruby Tuesday. Their bill totaled $33.56 but they only had to pay $8.56 because of this gift card. Made of sturdy plastic with raised numbers and a magnetic strip on the back. Had a very nice design on the front!', text_b=None, label=4), InputExample(guid='', text_a=\"it's gift card....\", text_b=None, label=4), InputExample(guid='', text_a='Good food', text_b=None, label=4), InputExample(guid='', text_a='Great!', text_b=None, label=4), InputExample(guid='', text_a=\"It's a gift card!\", text_b=None, label=4), InputExample(guid='', text_a='Fine', text_b=None, label=4), InputExample(guid='', text_a='Bought for someones birthday . they like ruby tuesday. Its a gift card nothing negative about it', text_b=None, label=4), InputExample(guid='', text_a='worked', text_b=None, label=4), InputExample(guid='', text_a='I got this for a birthday present for someone that loves to eat at this place.  What a great price when I got it on lightning deal.  I hope it will come up again.', text_b=None, label=4), InputExample(guid='', text_a='This is a good all round restaurant.  It is one the younger folks like.  My only complaint is the noise level of music and TV.  Great, otherwise.', text_b=None, label=4), InputExample(guid='', text_a='ok', text_b=None, label=4), InputExample(guid='', text_a='Wish there was an email delivery option, but as there is not this is the next best thing.', text_b=None, label=3), InputExample(guid='', text_a='Purchasing from one retailer is always a convenience.  When the choice is plentiful, it makes it easier.', text_b=None, label=4), InputExample(guid='', text_a='great food!', text_b=None, label=4), InputExample(guid='', text_a='tasty', text_b=None, label=4), InputExample(guid='', text_a=\"Used it right away and didn't have to pay much more for two salads and a sandwich.\", text_b=None, label=4), InputExample(guid='', text_a='Good Product;', text_b=None, label=4), InputExample(guid='', text_a='fast delivery and card worked', text_b=None, label=4), InputExample(guid='', text_a='gift', text_b=None, label=4), InputExample(guid='', text_a='You cant go wrong with Coldstone.', text_b=None, label=3), InputExample(guid='', text_a=\"As others have said, there's not much you can say about a gift card. I got it as a Prime Day deal - $20 for $25 so I was happy to save $5. The cardboard that the gift card is glued to was all ripped and taped up when it arrived - weird - so I checked the balance to make sure it was a legit gift card before using.\", text_b=None, label=4), InputExample(guid='', text_a='Nothing beats getting a $25 gift card for $20!  A little free money is better than no free money :-)', text_b=None, label=4), InputExample(guid='', text_a='Mmmmm', text_b=None, label=4), InputExample(guid='', text_a='If a gift card has the balance you purchased, I guess it gets five stars!', text_b=None, label=4), InputExample(guid='', text_a='We are using for a Christmas gift to relatives.', text_b=None, label=4), InputExample(guid='', text_a='Who could have a problem with this gift card! Purchased as a birthday present for co-worker.', text_b=None, label=4), InputExample(guid='', text_a='Who does not love Cold Stone? Easily one of the best gifts to give to someone.', text_b=None, label=4), InputExample(guid='', text_a='Bought as a gift recipient seem to really like them.', text_b=None, label=4), InputExample(guid='', text_a=\"Gift Card + Applebee's = happy children!\", text_b=None, label=4), InputExample(guid='', text_a=\"I ordered a bunch of gift cards and when the people went to use them, they found they didn't have anything on them. I gave my father in law some cards and other members of my family as Christmas presents! You need to have these double checked before shipping!\", text_b=None, label=1), InputExample(guid='', text_a='Love amazon gift cards! These were small and super cute. Perfect for gifting!', text_b=None, label=4), InputExample(guid='', text_a='This was a gift.', text_b=None, label=4), InputExample(guid='', text_a='Great gift but I had no idea that Applebees were offering a 20.00 gift card when gifts were purchased from them directly. Amazon offers nothing to folks who are always purchasing... hint hint.', text_b=None, label=4), InputExample(guid='', text_a='husband loves Applebees', text_b=None, label=4), InputExample(guid='', text_a='Good investment, found it on the daily deals. Bought at $40', text_b=None, label=4), InputExample(guid='', text_a='Very good Applebees gift card. What a nice treat to someone!', text_b=None, label=4), InputExample(guid='', text_a='Date night', text_b=None, label=4), InputExample(guid='', text_a='Awesome', text_b=None, label=4), InputExample(guid='', text_a='great gifts', text_b=None, label=3), InputExample(guid='', text_a=\"Arrive on Time can't wait to use the gift card.\", text_b=None, label=4), InputExample(guid='', text_a=\"It's a gift card!  What's to review.  It arrived quickly and worked when we tried to use it.\", text_b=None, label=4), InputExample(guid='', text_a='works great', text_b=None, label=4), InputExample(guid='', text_a='Gift Card Worked.', text_b=None, label=4), InputExample(guid='', text_a='gave as gift', text_b=None, label=4), InputExample(guid='', text_a='A very good gift for someone special!', text_b=None, label=4), InputExample(guid='', text_a='nice', text_b=None, label=4), InputExample(guid='', text_a='Great deal during the holidays when you can get it for $40 and can be upload to your Samsung Pay device so no more lugging around a gift card.', text_b=None, label=4), InputExample(guid='', text_a='Gift', text_b=None, label=4), InputExample(guid='', text_a='Item as described, arrived on time.', text_b=None, label=4), InputExample(guid='', text_a='Daughter Loved it', text_b=None, label=4), InputExample(guid='', text_a='Just for my parents benefits', text_b=None, label=3), InputExample(guid='', text_a='I bought this for Christmas and my brother reported that it worked as expected', text_b=None, label=4), InputExample(guid='', text_a='exactly what I wanted', text_b=None, label=4), InputExample(guid='', text_a='Works just as it should. Would order again.', text_b=None, label=4), InputExample(guid='', text_a='Good', text_b=None, label=4), InputExample(guid='', text_a=\"Purchased this gift card for my brother in KS.  He will like to use it and eat out as he is a single guy.  Could have purchased this at a grocery store where we live but did through Amazon so I would have $49 along w/other purchases, to get the free shipping which, to me, is a good way to shop.  I don't like paying shipping fees.  Sometimes, they are more than the item I am buying, especially w/some catalog orders.\", text_b=None, label=4), InputExample(guid='', text_a='Perfect gift!\\nTook the family out to eat!', text_b=None, label=4), InputExample(guid='', text_a=\"Thanks I purchase these gift cards for my grandchildren..  My grandson graduated.  so handy for his road trip.. That's Amazon for making this available\", text_b=None, label=4), InputExample(guid='', text_a='Going to use it for our road trip!', text_b=None, label=4), InputExample(guid='', text_a='Easy to purchase-great gift', text_b=None, label=4), InputExample(guid='', text_a='good', text_b=None, label=4), InputExample(guid='', text_a='Perfect gift!!!', text_b=None, label=4), InputExample(guid='', text_a='Great present', text_b=None, label=4), InputExample(guid='', text_a='gifts', text_b=None, label=4), InputExample(guid='', text_a='Great value for only 18.50', text_b=None, label=4), InputExample(guid='', text_a='LOVE THIS PLACE...', text_b=None, label=4), InputExample(guid='', text_a='Awesome!!!', text_b=None, label=4), InputExample(guid='', text_a='Perfect. Bought as a gift, the recipient loved it.', text_b=None, label=4), InputExample(guid='', text_a='Love the discounted price', text_b=None, label=4), InputExample(guid='', text_a=\"This was a very well-received gift for a young couple who go to Applebee's a great deal. Since they live hundreds of miles away, I couldn't be there to take them out to lunch, but this will achieve the same thing! I'm so grateful that Amazon had this available to ship because I don't live anywhere near this restaurant. Excellent purchase.\", text_b=None, label=4), InputExample(guid='', text_a='Great gift, when you cannot think of what to get someone but you know them enough to know where they dine.', text_b=None, label=4), InputExample(guid='', text_a='Purchased for a gift, excellent thanx', text_b=None, label=4), InputExample(guid='', text_a='Got this for my niece and she loves it!!!', text_b=None, label=4), InputExample(guid='', text_a='Happy hour rocks', text_b=None, label=4), InputExample(guid='', text_a='Great!', text_b=None, label=4), InputExample(guid='', text_a='Good...!!!', text_b=None, label=4), InputExample(guid='', text_a='Love it!!!! Thanks!!!!', text_b=None, label=4), InputExample(guid='', text_a='Satisfied', text_b=None, label=4), InputExample(guid='', text_a='Mmmmmm', text_b=None, label=4), InputExample(guid='', text_a='got on time, easy to use, just as described', text_b=None, label=4), InputExample(guid='', text_a='Thank you!!', text_b=None, label=4), InputExample(guid='', text_a='recipient was thrilled to receive!', text_b=None, label=4), InputExample(guid='', text_a=\"Applebee's is really good, you can't go wrong. There is something on the menu for everyone so this makes a great gift. Highly recommended!\", text_b=None, label=4), InputExample(guid='', text_a=\"Haven't used the card yet, but we really like the food at Applebee's. I hope we can go there very soon!\", text_b=None, label=3), InputExample(guid='', text_a=\"Always a good choice.  Will give these again. We go to Applebee's frequently.  Next year, will give again to several people\", text_b=None, label=4), InputExample(guid='', text_a='I chose this idea as a Christmas gift for my mom and Grandmother. It arrived on thing, which made me happy.', text_b=None, label=4), InputExample(guid='', text_a=\"I was very happy I was able to choose an Applebee's gift card to send to my dad, he loves their burgers! Thanks Amazon!\", text_b=None, label=4), InputExample(guid='', text_a='love it', text_b=None, label=4), InputExample(guid='', text_a='The product arrived as it was described on line. The family will love the card on Christms. Wonderful and fast gift for anyone.', text_b=None, label=3), InputExample(guid='', text_a='Exactly as shown. No activation charge, just regular $25 gift card. I give a bunch for high school graduations to places around where theyll be going to college.', text_b=None, label=4), InputExample(guid='', text_a='Good product.', text_b=None, label=4), InputExample(guid='', text_a=\"What's not to like\", text_b=None, label=4), InputExample(guid='', text_a='Stepson used it for a pin gun.  Was a gift.', text_b=None, label=4), InputExample(guid='', text_a='Was a gift.', text_b=None, label=4), InputExample(guid='', text_a='love getting 5% back buying giftcards when I use my amazon card!!', text_b=None, label=4), InputExample(guid='', text_a='Dont like extra fee. Will buy straight from store from now on.', text_b=None, label=0), InputExample(guid='', text_a='Great', text_b=None, label=4), InputExample(guid='', text_a=\"As described...it's a gift card!\", text_b=None, label=4), InputExample(guid='', text_a=\"It's a gift card...as it says!\", text_b=None, label=4), InputExample(guid='', text_a='great gift', text_b=None, label=4), InputExample(guid='', text_a='Does what a gift card should :)', text_b=None, label=4), InputExample(guid='', text_a='works great', text_b=None, label=4), InputExample(guid='', text_a='Bought as a lightning deal and received it promptly. It worked when I went to use it.', text_b=None, label=4), InputExample(guid='', text_a='thanks, son will love it', text_b=None, label=4), InputExample(guid='', text_a='cute holiday graphics on the gift card', text_b=None, label=4), InputExample(guid='', text_a='yummy', text_b=None, label=4), InputExample(guid='', text_a='Great gift', text_b=None, label=4), InputExample(guid='', text_a=\"Love Cracker Barrel and especially gift cards. It's a great country food type of place to eat.\\nEvery one that I have been to has great service, great food and the gift card makes paying so much faster.\", text_b=None, label=4), InputExample(guid='', text_a='Easy to use', text_b=None, label=4), InputExample(guid='', text_a='Christmas Gift', text_b=None, label=4), InputExample(guid='', text_a=\"What could be better than a IHOP Gift Card. It's easy to use, makes paying faster and I can\\ngo have the best pancakes around!\", text_b=None, label=4), InputExample(guid='', text_a='Great gift', text_b=None, label=4), InputExample(guid='', text_a='My friend-----the \"handy man\"-----lives THOUSANDS of miles away...\\nGIFT CARDS are an easy way to send $$$ to my friend... without any\\nhelp from Western Union.', text_b=None, label=4), InputExample(guid='', text_a='yum', text_b=None, label=4), InputExample(guid='', text_a='Great gift idea when you do not know what to do!', text_b=None, label=4), InputExample(guid='', text_a='Gift Card Worked.', text_b=None, label=4), InputExample(guid='', text_a='A gift.', text_b=None, label=4), InputExample(guid='', text_a=\"it's a gift card, what can I say\", text_b=None, label=4), InputExample(guid='', text_a='Nice', text_b=None, label=4), InputExample(guid='', text_a='Like any other gift card, got it and it works.', text_b=None, label=4), InputExample(guid='', text_a='Good buy, worked as needed.', text_b=None, label=4), InputExample(guid='', text_a='Easy Christmas shopping. My son, who is really hard to buy for, asked for restaurant cards. H likes to take his wife and family out to eat (to give her a break from cooking all the time).', text_b=None, label=4), InputExample(guid='', text_a='great gift', text_b=None, label=4), InputExample(guid='', text_a='Loved it', text_b=None, label=4), InputExample(guid='', text_a='Always a great gift', text_b=None, label=4), InputExample(guid='', text_a='Bought this for my daughters christmas. She loves Ihop and the first thing she wanted to do is take me to lunch. Win win!', text_b=None, label=3), InputExample(guid='', text_a='Great Gift', text_b=None, label=4), InputExample(guid='', text_a='Item as described, arrived on time.', text_b=None, label=4), InputExample(guid='', text_a='It was a gift card.  What can I say.', text_b=None, label=4), InputExample(guid='', text_a='worked fine', text_b=None, label=4), InputExample(guid='', text_a='Perfect, thank you!', text_b=None, label=4), InputExample(guid='', text_a='Just for my parents benefits', text_b=None, label=3), InputExample(guid='', text_a='Nice', text_b=None, label=4), InputExample(guid='', text_a='I keep gift cards around the office for employees that go above and beyond. I Hop is a favorite.', text_b=None, label=4), InputExample(guid='', text_a='Satisfied', text_b=None, label=4), InputExample(guid='', text_a='Great product from a great seller', text_b=None, label=4), InputExample(guid='', text_a=\"Good gift card. Good food. What's not to like?\", text_b=None, label=4), InputExample(guid='', text_a='Waffles, come on!  Worth every penny!', text_b=None, label=4), InputExample(guid='', text_a='Great Item! Great Gift!', text_b=None, label=4), InputExample(guid='', text_a='loved it', text_b=None, label=4), InputExample(guid='', text_a='ok', text_b=None, label=4), InputExample(guid='', text_a='Great buy', text_b=None, label=4), InputExample(guid='', text_a='Good gift card. Good food.', text_b=None, label=4), InputExample(guid='', text_a='I will take a $50 gift card for $40 any day!!! Basically $10 for free. Love it.', text_b=None, label=4), InputExample(guid='', text_a='Gift cards what else can I say\\n They work without have to carry cash and credit. Swipe and go.', text_b=None, label=4), InputExample(guid='', text_a='My MIL likes flowers, likes candy, but she loves to eat out at the Cracker Barrel.  Perfect gift for those who love to dine out.', text_b=None, label=4), InputExample(guid='', text_a='Great food!', text_b=None, label=4), InputExample(guid='', text_a='Good place to eat', text_b=None, label=4), InputExample(guid='', text_a='gifts', text_b=None, label=4), InputExample(guid='', text_a='love it', text_b=None, label=4), InputExample(guid='', text_a='Whats not to love about a gift card ???', text_b=None, label=4), InputExample(guid='', text_a='great gift', text_b=None, label=4), InputExample(guid='', text_a='Pleased with purchase of card', text_b=None, label=4), InputExample(guid='', text_a='worked', text_b=None, label=4), InputExample(guid='', text_a='Gift', text_b=None, label=4), InputExample(guid='', text_a='Appropriate!!', text_b=None, label=4), InputExample(guid='', text_a='Easy to purchase-great gift', text_b=None, label=4), InputExample(guid='', text_a='excellent gift', text_b=None, label=4), InputExample(guid='', text_a='Great gift, when you cannot think of what to get someone but you know them enough to know where they dine.', text_b=None, label=4), InputExample(guid='', text_a='Satisfied.', text_b=None, label=4), InputExample(guid='', text_a='Great gift', text_b=None, label=4), InputExample(guid='', text_a='Nice', text_b=None, label=4), InputExample(guid='', text_a='I love Cracker Barrel and decided to give this as a Christmas gift.', text_b=None, label=4), InputExample(guid='', text_a='gifts', text_b=None, label=4), InputExample(guid='', text_a='Great, thanks', text_b=None, label=4), InputExample(guid='', text_a='Love IHOP', text_b=None, label=4), InputExample(guid='', text_a='Got this for my niece and she loves it!!!', text_b=None, label=4), InputExample(guid='', text_a='easy to use', text_b=None, label=4), InputExample(guid='', text_a='Outstanding', text_b=None, label=4), InputExample(guid='', text_a='Happy husband', text_b=None, label=4), InputExample(guid='', text_a='Great product with fast delivery', text_b=None, label=4), InputExample(guid='', text_a='Great!', text_b=None, label=4), InputExample(guid='', text_a='Good...!!!', text_b=None, label=4), InputExample(guid='', text_a='Good choice.', text_b=None, label=4), InputExample(guid='', text_a='We love eating here', text_b=None, label=4), InputExample(guid='', text_a='Bought for my family and they love these gift cards.', text_b=None, label=4), InputExample(guid='', text_a='Satisfied', text_b=None, label=4), InputExample(guid='', text_a='If you or a someone you know likes Ihop it works like it supposed to work', text_b=None, label=4), InputExample(guid='', text_a='fast delivery and card worked', text_b=None, label=4), InputExample(guid='', text_a='Love Cracker Barrel any time of the year.', text_b=None, label=4), InputExample(guid='', text_a='Love the service , food and store...one of a kind dining old fashioned)', text_b=None, label=4), InputExample(guid='', text_a='Excellent Christmas gift', text_b=None, label=4), InputExample(guid='', text_a='Card worked fine and I love this restaurant, but I spent it all in the store portion before I ate. Lol.', text_b=None, label=4), InputExample(guid='', text_a='Great southern food', text_b=None, label=4), InputExample(guid='', text_a='Was for my Daughter in which she Loved !!!', text_b=None, label=4), InputExample(guid='', text_a='Pretty good deal of purchasing the gift card online and then shop locally.', text_b=None, label=4), InputExample(guid='', text_a='fast delivery and card worked', text_b=None, label=4), InputExample(guid='', text_a='BIRTHDAY GIFT...HE LOVES  GOING OUT FOR BREAKFEAST. SO THIS IS THE PEFECT GIFT....THANKS FOR SELLING THE GIFT CARD ON AMAZON. JUST A CLICK AWAY.', text_b=None, label=4), InputExample(guid='', text_a='Great choice for breakfast lovers. I gave this gift card to my Mom for the holidays. She was so excited. She loves the meals at IHOP and the Senior specials.', text_b=None, label=4), InputExample(guid='', text_a='Got this for a gift to send out to my dad and he enjoyed it! I appreciate the selection that amazon has to offer me!', text_b=None, label=4), InputExample(guid='', text_a='This card is perfect for the in-laws to use on there mornings out or on the way to see family at the coast.', text_b=None, label=3), InputExample(guid='', text_a='Um, I am not sure why I have to write a review as it is a gift card. Seems a little unnecessary, but here it goes....card worked awesome. I was able to buy stuff From Ihop....', text_b=None, label=4), InputExample(guid='', text_a='i like it', text_b=None, label=4), InputExample(guid='', text_a='I used them on our vacation.', text_b=None, label=4), InputExample(guid='', text_a=\"I love Cracker Barrel and it's alwy a good and cheap meal.  A game of checkers while rocking in an old fashioned rocking chair, anyone?\", text_b=None, label=4), InputExample(guid='', text_a=\"I wasn't able to get out and shop.  This was an excellent\\nalternative for me to purchase a favorite place to eat for\\npeople who enjoy their food.\", text_b=None, label=4), InputExample(guid='', text_a='convenient. Reasonable. Something for everyone.  Better than average for this type of food. Best of all, they serve breakfast anytime!', text_b=None, label=4), InputExample(guid='', text_a=\"Good selection of restaurant gift cards to choose from. Didn't have any problems at all. Makes a nice gift for anyone in your family..\", text_b=None, label=4), InputExample(guid='', text_a='Great, lightning fast shipping, thank you as always!', text_b=None, label=4), InputExample(guid='', text_a='Always an appreciated gift.', text_b=None, label=4), InputExample(guid='', text_a='exactly what I wanted', text_b=None, label=4), InputExample(guid='', text_a='Love Kmart!', text_b=None, label=4), InputExample(guid='', text_a='Love kmart!', text_b=None, label=4), InputExample(guid='', text_a='Really nice gift box.', text_b=None, label=4), InputExample(guid='', text_a='My 11 grandchildren love to receive amazon gift cards to shop online!', text_b=None, label=4), InputExample(guid='', text_a='I love and appreciate what Amazon did to make gift card-gifting more fun and interesting. Perfect for those who prefer a retro feel.', text_b=None, label=4), InputExample(guid='', text_a='Great gift', text_b=None, label=4), InputExample(guid='', text_a='Nice quality case.', text_b=None, label=4), InputExample(guid='', text_a='Gift.. He was Happy', text_b=None, label=4), InputExample(guid='', text_a='Great gift for a teenager', text_b=None, label=4), InputExample(guid='', text_a='Love it.', text_b=None, label=4), InputExample(guid='', text_a='I received my gift card on time.  Thank you!...;)', text_b=None, label=4), InputExample(guid='', text_a='Come with nice box. Great for gift.', text_b=None, label=4), InputExample(guid='', text_a='Cute box.', text_b=None, label=4), InputExample(guid='', text_a='Good', text_b=None, label=4), InputExample(guid='', text_a=\"This is the perfect gift.  If you're ever unsure of what to buy someone, this is an easy go-to.  You can find anything on Amazon.\", text_b=None, label=4), InputExample(guid='', text_a='Nice presentation for a teenager...not too flashy or grown up.', text_b=None, label=4), InputExample(guid='', text_a='What a perfect gift to give to relatives or friends. This is the third time I bought this kind of gift card on Amazon.', text_b=None, label=4), InputExample(guid='', text_a='Bought this for my father (an avid Amazon.com user) and I am sure he used it within a few days.', text_b=None, label=4), InputExample(guid='', text_a=\"The perfect gift when you don't know what to buy. As a bonus the gift box is attractive and useful.\", text_b=None, label=3), InputExample(guid='', text_a=\"Came on time and I used text messaging so I knew where the package was at every step.\\n\\nI prefer the metal tin gift cards even though the minimum amount is $50. Tin is durable and had no dents in it.\\n\\nI love these gift cards. No activation or security fee. No expiration date. $50 gets me $50 to gift to someone! My family also has Amazon Prime so I know they'll get good use out of it. I got them a set last year and am happy they're now familiar with ordering online.\", text_b=None, label=4), InputExample(guid='', text_a=\"Just didn't  know  it was for a girl  gift card, and I was  looking  around  Christmas tree  gifts  cards and type  in right  it was for a boy and I did the e card so he could use it then.\", text_b=None, label=2), InputExample(guid='', text_a='Just what I needed', text_b=None, label=4), InputExample(guid='', text_a='Great Christmas gift', text_b=None, label=4), InputExample(guid='', text_a='Gift cards are always good.', text_b=None, label=4), InputExample(guid='', text_a='Bought several for my pre-teen granddaughter who is enjoying shopping for her new clothes. Put the cards in a darling \"change-style\" purse that she can continue to use.', text_b=None, label=4), InputExample(guid='', text_a='thanks', text_b=None, label=4), InputExample(guid='', text_a='Perfect gift for our pre-teen niece, and I love the convenience of ordering it through Amazon.', text_b=None, label=4), InputExample(guid='', text_a='very happy with purchase', text_b=None, label=4), InputExample(guid='', text_a='Happy grand daughter', text_b=None, label=4), InputExample(guid='', text_a='Worked as it should', text_b=None, label=4), InputExample(guid='', text_a='Great gift for the stylish preteen', text_b=None, label=4), InputExample(guid='', text_a='Just what I needed for a birthday', text_b=None, label=3), InputExample(guid='', text_a='Amazon made it easy for me to solve the the late Christmas present issue; Knowing which restaurants & stores the prospective recipients favoured, I sent 2-3 gift card per person.\\nWhat I like best about amazon is that no fees were charged for electronic delivery.\\n(Compare to buying a gift certificate from a Mall or some outlets who charge up to 5%).', text_b=None, label=4), InputExample(guid='', text_a='I KNOW MY GRANDDAUGHTER WILL LOVE TO SHOP ONLINE......', text_b=None, label=4), InputExample(guid='', text_a='Gift', text_b=None, label=4), InputExample(guid='', text_a='$50 is $50.  What else can I say?', text_b=None, label=4), InputExample(guid='', text_a='love it', text_b=None, label=4), InputExample(guid='', text_a='Great x mis got', text_b=None, label=4), InputExample(guid='', text_a='Good Product; Shipping On time', text_b=None, label=3), InputExample(guid='', text_a=\"It's a gift card...\", text_b=None, label=4), InputExample(guid='', text_a='fast delivery and card worked', text_b=None, label=4), InputExample(guid='', text_a='they love express shopping!!!', text_b=None, label=4), InputExample(guid='', text_a='My niece loved the gift card.', text_b=None, label=4), InputExample(guid='', text_a='christmas gift.', text_b=None, label=4), InputExample(guid='', text_a='Love them', text_b=None, label=4), InputExample(guid='', text_a='Came on time, and exactly as described.', text_b=None, label=4), InputExample(guid='', text_a='Always a great gift', text_b=None, label=4), InputExample(guid='', text_a='Great addition to Christmas!  Wonderful stocking stuffer.', text_b=None, label=4), InputExample(guid='', text_a='nice decorative box', text_b=None, label=4), InputExample(guid='', text_a='Tasteful packaging.', text_b=None, label=4), InputExample(guid='', text_a='Excellent', text_b=None, label=4), InputExample(guid='', text_a='Can never go wrong with an Amazon gift card for that person who shops Amazon.', text_b=None, label=4), InputExample(guid='', text_a='Granddaughter loved this!', text_b=None, label=4), InputExample(guid='', text_a='My nephew loved the gift card I gave him', text_b=None, label=4), InputExample(guid='', text_a='It was the perfect gift.', text_b=None, label=4), InputExample(guid='', text_a='nice gifts', text_b=None, label=4), InputExample(guid='', text_a='Awesome!', text_b=None, label=4), InputExample(guid='', text_a='Arrived as promised.', text_b=None, label=4), InputExample(guid='', text_a='great', text_b=None, label=4), InputExample(guid='', text_a='Product arrived on time and as described.', text_b=None, label=4), InputExample(guid='', text_a='Always a good gift. Nice package!', text_b=None, label=4), InputExample(guid='', text_a='Very nice', text_b=None, label=4), InputExample(guid='', text_a='nothing better than an Amazon gift card for Christmas', text_b=None, label=4), InputExample(guid='', text_a='Satisfied', text_b=None, label=4), InputExample(guid='', text_a='nice christmas theme on the box.', text_b=None, label=4), InputExample(guid='', text_a='love it', text_b=None, label=4), InputExample(guid='', text_a='Perfect gift for my grandson.', text_b=None, label=4), InputExample(guid='', text_a='Great....', text_b=None, label=4), InputExample(guid='', text_a='Arrived as promised.', text_b=None, label=4), InputExample(guid='', text_a='great', text_b=None, label=4), InputExample(guid='', text_a='And another great Chiatmas gift.', text_b=None, label=4), InputExample(guid='', text_a='Gift Card, what can you say but Thanks', text_b=None, label=4), InputExample(guid='', text_a='My 11 grandchildren love to receive amazon gift cards to shop online!  I get them for Birthdays and Christmas!', text_b=None, label=4), InputExample(guid='', text_a='Gotta love amazon GCs!', text_b=None, label=4), InputExample(guid='', text_a='It was a Christmas gift. I am sure they liked it.', text_b=None, label=4), InputExample(guid='', text_a='They love the Amazon cards. Amazon needs to add more choices in the gift boxes', text_b=None, label=4), InputExample(guid='', text_a='Gift card for my daughter and family to order what they want on Amazon at Christmas time.', text_b=None, label=4), InputExample(guid='', text_a='Wonderful addition to Christmas!  The kids - all in their 20s and early 30s- loved the gift cards in their stockings.', text_b=None, label=4), InputExample(guid='', text_a='This little Santa tin is adorable, and an Amazon gift card is always a win.', text_b=None, label=4), InputExample(guid='', text_a='Perfect', text_b=None, label=4), InputExample(guid='', text_a='Great Christmas gift.', text_b=None, label=4), InputExample(guid='', text_a='Very nice tin and can be used for other things after Christmas.', text_b=None, label=3), InputExample(guid='', text_a='was gift', text_b=None, label=3), InputExample(guid='', text_a='Great gift. Everyone loves Amazon', text_b=None, label=4), InputExample(guid='', text_a='big thanks from everyone I sent an Amazon gift card to', text_b=None, label=4), InputExample(guid='', text_a='Amazon has great quality gift tins at no extra charge! Colors are really festive and bright on this tin that resembles Santa suit. Great gift that requires no wrapping.', text_b=None, label=4), InputExample(guid='', text_a='great gift!', text_b=None, label=4), InputExample(guid='', text_a='Son loved this!', text_b=None, label=4), InputExample(guid='', text_a='Arrived as promised.', text_b=None, label=4), InputExample(guid='', text_a='Cute gift tin.', text_b=None, label=4), InputExample(guid='', text_a='Pretty good!', text_b=None, label=4), InputExample(guid='', text_a='goo', text_b=None, label=4), InputExample(guid='', text_a='Awesome!', text_b=None, label=4), InputExample(guid='', text_a='Gift - tins were very nice', text_b=None, label=4), InputExample(guid='', text_a='very nice', text_b=None, label=4), InputExample(guid='', text_a='Christmas Gift', text_b=None, label=4), InputExample(guid='', text_a='Good gift for anyone', text_b=None, label=4), InputExample(guid='', text_a='Always a perfect gift.', text_b=None, label=4), InputExample(guid='', text_a='wish they labeled', text_b=None, label=4), InputExample(guid='', text_a='Great gift.', text_b=None, label=4), InputExample(guid='', text_a='great gift and the tin is cool.', text_b=None, label=4), InputExample(guid='', text_a=\"Used this as a thank you gift for someone who shops Amazon.  This is always a great gift, like you have this extra cash to find something you wouldn't buy for yourself.  The card with the decorative box is a wonderful idea.\", text_b=None, label=4), InputExample(guid='', text_a='Perfect', text_b=None, label=4), InputExample(guid='', text_a='gift', text_b=None, label=4), InputExample(guid='', text_a='Great...', text_b=None, label=4), InputExample(guid='', text_a=\"What's not to love\", text_b=None, label=4), InputExample(guid='', text_a='This was a great gift to give!', text_b=None, label=4), InputExample(guid='', text_a='Nor much to judge on a gift card.', text_b=None, label=4), InputExample(guid='', text_a='Gave this to my brother as a gift, he loved the packaging', text_b=None, label=4), InputExample(guid='', text_a='Excellent way to give a gift.', text_b=None, label=4), InputExample(guid='', text_a='What can one say, they are a gift card and it works.', text_b=None, label=4), InputExample(guid='', text_a='My 11 grandchildren love to receive amazon gift cards to shop online!  I get them for Birthdays and Christmas!', text_b=None, label=4), InputExample(guid='', text_a='Cute', text_b=None, label=4), InputExample(guid='', text_a='Loved it.', text_b=None, label=4), InputExample(guid='', text_a='I like Amazon gift cards because they are always here on time and allow folks a large variety of items to pick from.  They get what they really want with a gift card.', text_b=None, label=4), InputExample(guid='', text_a='An extra Gift card for my daughter and her family to use at Christmas time.', text_b=None, label=4), InputExample(guid='', text_a='Excellent way to give a gift that allows the receiver to select from a almost limitless selection of gifts to receive.', text_b=None, label=4), InputExample(guid='', text_a='ez x-mas shopping', text_b=None, label=4), InputExample(guid='', text_a=\"Great gift, couldn't be easier!\", text_b=None, label=4), InputExample(guid='', text_a=\"This little boxed gift card is such a handy stocking stuffer, and I don't even have to wrap it.  It makes a nice gift for all the guys in my life who don't give me a clue as to what they want.\", text_b=None, label=4), InputExample(guid='', text_a='Perfect for the grandchildren!', text_b=None, label=4), InputExample(guid='', text_a='I bought my Amazon gift cards online this time because of the boxes they come in. Good deal and lots of boxes to choose from. Thanks! Will buy again online.', text_b=None, label=4), InputExample(guid='', text_a='Certainly a simple gift', text_b=None, label=4), InputExample(guid='', text_a='Gift', text_b=None, label=4), InputExample(guid='', text_a='So cute. Just like a mini shipping box.', text_b=None, label=4), InputExample(guid='', text_a='Love the holiday tins and the awesome card inside!', text_b=None, label=4), InputExample(guid='', text_a='Cute Box.', text_b=None, label=4), InputExample(guid='', text_a='Nice for gift card presents', text_b=None, label=4), InputExample(guid='', text_a='Gift cards are always a sure bet for a gift.', text_b=None, label=4), InputExample(guid='', text_a='convenient gift', text_b=None, label=4), InputExample(guid='', text_a=\"Was a wonderful addition to the 'Saran Wrap Ball' Christmas Party Game!\\nThank you!\", text_b=None, label=4), InputExample(guid='', text_a='Liked the assortment of cases', text_b=None, label=4), InputExample(guid='', text_a='PERFECT', text_b=None, label=4), InputExample(guid='', text_a='A+', text_b=None, label=4), InputExample(guid='', text_a='Makes nice gift card presentation.', text_b=None, label=4), InputExample(guid='', text_a=\"We purchased this for present to someone and it arrive nicely and a great way to gift someone in a box that looks like a present but yet they can get virtually anything they want via the internet.  Looks like already wrap so you don't have to do much of anything but purchase it and then gift it to someone.\", text_b=None, label=4), InputExample(guid='', text_a='love gift cards', text_b=None, label=4), InputExample(guid='', text_a='great, know this will get spent', text_b=None, label=4), InputExample(guid='', text_a='gift', text_b=None, label=4), InputExample(guid='', text_a='good', text_b=None, label=4), InputExample(guid='', text_a='Gift was well-received and made someone very happy.', text_b=None, label=4), InputExample(guid='', text_a='great gift', text_b=None, label=4), InputExample(guid='', text_a='I bought a $75 gift card for a SENIOR on a fixed income.\\nShe was S0Oo touched by the gift... she fixated on the\\n\"cute little box\" with a gift that will keep on giving.', text_b=None, label=4), InputExample(guid='', text_a='Most happy with my amazon gift cards!', text_b=None, label=4), InputExample(guid='', text_a='nice', text_b=None, label=4), InputExample(guid='', text_a='Everyone always loves the Amazon Gift Cards!', text_b=None, label=4), InputExample(guid='', text_a='Ok', text_b=None, label=4), InputExample(guid='', text_a='Gift cards are always a great gift idea for my grandmother who loves her kindle books', text_b=None, label=4), InputExample(guid='', text_a='Great!  Always a wonderful gift.  No matter what the season.', text_b=None, label=4), InputExample(guid='', text_a='What can u say about a gift card except they are great gifts for picky people.', text_b=None, label=4), InputExample(guid='', text_a=\"a cool way to package a gift card (especially for young men, though I'm sure females would like it, too!)\", text_b=None, label=4), InputExample(guid='', text_a='wish they labeled', text_b=None, label=4), InputExample(guid='', text_a='I received my gift cerificate just in time for Christmas.  It was delivered in excellent condition.  Thank you!', text_b=None, label=4), InputExample(guid='', text_a='I like the Santa pants tin it comes in and there is no extra charge.', text_b=None, label=4), InputExample(guid='', text_a='Loved it!  Made the gift card special.', text_b=None, label=4), InputExample(guid='', text_a='Pretty', text_b=None, label=4), InputExample(guid='', text_a='fun and silly... gift recipients smiled broadly', text_b=None, label=4), InputExample(guid='', text_a='This was a birthday gift for my daughter.  We all use Amazon a lot.  She loved it', text_b=None, label=4), InputExample(guid='', text_a='Cute box', text_b=None, label=4), InputExample(guid='', text_a=\"What can I say, everyone likes getting gift cards to Amazon and I like it when you can adjust the loaded price to fit odd numbers. My oldest son just turned 39 and I was able to load it with $39 -- a tradition I have for birthdays for my kids and others close to family. He really liked the mock-up tiny Amazon box it came in. So did one of his daughters. I'm not sure who ended up with the box.\", text_b=None, label=4), InputExample(guid='', text_a=\"This is about the cutest thing I've ever seen.  And best of all in enclosed an Amazon Gift Card.  I sent it to my son as a Father's Day gift, since he is such a wonderful dad, and he loved it.  Also very glad to have an Amazon Gift card 'cause you can by anything you want from Amazon.com!!!\\nThanks, Amazon!!\", text_b=None, label=4), InputExample(guid='', text_a='Present', text_b=None, label=4), InputExample(guid='', text_a='Attractive gift tin.', text_b=None, label=4), InputExample(guid='', text_a='Amazon has great quality gift tins at no extra charge! It is also nice that amazon has matched card graphics to fit in with the tin you order. I love these tins as there is no gift wrapping required and the colors are really nice.', text_b=None, label=4), InputExample(guid='', text_a='great gift!', text_b=None, label=4), InputExample(guid='', text_a='gift', text_b=None, label=4), InputExample(guid='', text_a='Great presentation for a gift card for Christmas gift.', text_b=None, label=4), InputExample(guid='', text_a=\"Beautiful box and the card is lovely.  Can't wait to give it to my daughter in law at Christmas.  I know she'll love it.  I tell everyone to buy their Amazon gift cards through Amazon and not at the super market as they've been doing.\", text_b=None, label=4), InputExample(guid='', text_a='GREAT GIFT', text_b=None, label=4), InputExample(guid='', text_a='Ive ben using this every year, and love the packaging and the quick time they arrive. Good quality product build.', text_b=None, label=4), InputExample(guid='', text_a='bought for my son he loves amazon', text_b=None, label=4), InputExample(guid='', text_a='Nor much to judge on a gift card.', text_b=None, label=4), InputExample(guid='', text_a='Always usefull.', text_b=None, label=4), InputExample(guid='', text_a='Pretty good!', text_b=None, label=4), InputExample(guid='', text_a='Amazon gift cards are nothing new, and they are very handy to give as gifts due to the diverse nature of products Amazon offers  certainly your recipient can find something he / she will like to order. This gift card comes in a sturdy small box, which adds a better touch to me than the standard email or printed-off versions at home as it shows you went a little further. I also appreciate the fact Amazon delivers it for free with next day shipping.', text_b=None, label=4), InputExample(guid='', text_a='good', text_b=None, label=4), InputExample(guid='', text_a='no muss, no fuss.', text_b=None, label=4), InputExample(guid='', text_a='Very lovely for Christmas!', text_b=None, label=4), InputExample(guid='', text_a='Awesome!', text_b=None, label=4), InputExample(guid='', text_a='The person I gave the gift card to loved the little Amazon box it comes in.', text_b=None, label=4), InputExample(guid='', text_a='Got it quickly. Used without any problems.', text_b=None, label=4), InputExample(guid='', text_a='very nice', text_b=None, label=4), InputExample(guid='', text_a='Great!', text_b=None, label=4), InputExample(guid='', text_a='Was happy to give and see the response on the recipients faces when the stocking were opened. Not as neat as personal shopping but practical for picky youngens.', text_b=None, label=4), InputExample(guid='', text_a='Very cute case! Love', text_b=None, label=4), InputExample(guid='', text_a='Brilliant', text_b=None, label=4), InputExample(guid='', text_a=\"The perfect gift when you don't know what to buy. As a bonus the gift box is attractive and useful.\", text_b=None, label=3), InputExample(guid='', text_a=\"Always a perfect gift when you don't know what to get.\", text_b=None, label=4), InputExample(guid='', text_a='Perfect, how can you go wrong with an Amazon gift certificate for a person who loves Amazon. It allows them to pick up whatever they want and allows you to send it with any color , any envelope,  in the box n for any occasion', text_b=None, label=4), InputExample(guid='', text_a='A really nice gift box. Recommend !', text_b=None, label=4), InputExample(guid='', text_a='Love these tins', text_b=None, label=4), InputExample(guid='', text_a='Gift', text_b=None, label=4), InputExample(guid='', text_a='This is one of the best purchases in this year! The card will buy me a lot of cool stuff for me. Thanks.', text_b=None, label=4), InputExample(guid='', text_a='Perfect gift for a teenage grandson and the tin is a great way to hold it. Cute detail and colors.', text_b=None, label=4), InputExample(guid='', text_a='great gift and the tin is very nice.', text_b=None, label=4), InputExample(guid='', text_a='Great way to give gift cards.  Cute design', text_b=None, label=4), InputExample(guid='', text_a='Pro: Free shipping, free little decorative box, full amount, and no \"activation\" or taxes! Paying $50 and sending someone the full $50 feels good.\\n\\nCon: My parents moved the month I got them the gift so they had to wait a bit to use it. Which was alright because my father, 62, was not familiar with Amazon but now has the chance to shop!', text_b=None, label=4), InputExample(guid='', text_a='Ferfect', text_b=None, label=4), InputExample(guid='', text_a='My granddaughter loved her present, among other stuff that I gave her.  The box was adorable!', text_b=None, label=4), InputExample(guid='', text_a='Highly Recommended,  Super CUTE!', text_b=None, label=4), InputExample(guid='', text_a='The packaging on this is pretty cute, and everyone loves an Amazon gift card.', text_b=None, label=4), InputExample(guid='', text_a=\"Can't go wrong buying this for a present\", text_b=None, label=4), InputExample(guid='', text_a='great gift, and the box for the card is pretty cool.', text_b=None, label=4), InputExample(guid='', text_a='convenient gift', text_b=None, label=4), InputExample(guid='', text_a='Grandkids love the little tin cans that Amazon sells their gift cards in. This batch was for their Valentines Day treat. Gives the little ones an opportunity to browse Amazon with their parents and pick out a gift they want! The tins are free with purchase of gift card, nice bonus versus normal card.', text_b=None, label=4), InputExample(guid='', text_a='great..', text_b=None, label=4), InputExample(guid='', text_a='this was a Christmas gift !!', text_b=None, label=4), InputExample(guid='', text_a='A great gift that was very much appreciated.', text_b=None, label=4), InputExample(guid='', text_a='Its a gift card as described', text_b=None, label=4), InputExample(guid='', text_a='My 11 grandchildren love to receive amazon gift cards to shop online!  I get them for Birthdays and Christmas!', text_b=None, label=4), InputExample(guid='', text_a='Gave as a gift.  They were thrilled.', text_b=None, label=4), InputExample(guid='', text_a='Perfect', text_b=None, label=4), InputExample(guid='', text_a='My 11 grandchildren love to receive amazon gift cards to shop online!  I get them for Birthdays and Christmas!', text_b=None, label=4), InputExample(guid='', text_a=\"Terrific for those gift recipients who have everything or you just can't decide what to get them.  I think almost everyone should be able to find something on Amazon they either like or love.\", text_b=None, label=4), InputExample(guid='', text_a=\"Can't beat an Amazon gift card for any occasion\", text_b=None, label=4), InputExample(guid='', text_a='Perfect Christmas gift.', text_b=None, label=4), InputExample(guid='', text_a='gift', text_b=None, label=4), InputExample(guid='', text_a='family love the gift boxes', text_b=None, label=4), InputExample(guid='', text_a='Loved them.  Love the easy access to purchasing them and the super fast delivery.  The come already to use. LOVE IT!!!', text_b=None, label=4), InputExample(guid='', text_a='Great gift', text_b=None, label=4), InputExample(guid='', text_a='I cant say very much about this, it arrived when they said it would, and it is the card I ordered', text_b=None, label=4), InputExample(guid='', text_a='Accurate and fast!', text_b=None, label=4), InputExample(guid='', text_a=\"Cool gift card box and it's a perfect gift to give to friends and loved ones.\", text_b=None, label=4), InputExample(guid='', text_a='Present', text_b=None, label=4), InputExample(guid='', text_a='great gift in a nice little tin.', text_b=None, label=4), InputExample(guid='', text_a='Quality packaging', text_b=None, label=4), InputExample(guid='', text_a='In my & opinion it nicer than a folder. After, it can be used as a trinket box.', text_b=None, label=4), InputExample(guid='', text_a='I give the gift cards to my grandchildren. Sure do wish you had more designs.', text_b=None, label=2), InputExample(guid='', text_a=\"What's to say, it's a gift card\", text_b=None, label=4), InputExample(guid='', text_a='Bought as a gift', text_b=None, label=4), InputExample(guid='', text_a='a gift', text_b=None, label=4), InputExample(guid='', text_a='Cute little box.  However, I will keep it for myself as I prefer the other boxes for gift giving.', text_b=None, label=3), InputExample(guid='', text_a='great gift', text_b=None, label=4), InputExample(guid='', text_a='Good', text_b=None, label=4), InputExample(guid='', text_a='the is a hoot!!', text_b=None, label=4), InputExample(guid='', text_a=\"Don't like the tin - it looks tacky!\", text_b=None, label=1), InputExample(guid='', text_a='I LOVE the box the gift card comes in!  It is super cute!!!', text_b=None, label=4), InputExample(guid='', text_a='Gift - tins were very nice', text_b=None, label=4), InputExample(guid='', text_a=\"Who won't love a gift? Plus it was nicely packed with a good quality cardboard box. They are hard card boards and has magnetics to keep them shut.\", text_b=None, label=4), InputExample(guid='', text_a='Great way to get birthday gifts.', text_b=None, label=3), InputExample(guid='', text_a='Adorable!', text_b=None, label=4), InputExample(guid='', text_a='lovely gift and great packaging', text_b=None, label=4), InputExample(guid='', text_a='Very cool!  This is the best card holder yet! Looks just like an Amazon box but in miniature!  Cute!', text_b=None, label=4), InputExample(guid='', text_a='wish they labeled', text_b=None, label=4), InputExample(guid='', text_a='Gift card and box - nice presentation', text_b=None, label=4), InputExample(guid='', text_a='Loved it!  Made the gift card special.', text_b=None, label=4), InputExample(guid='', text_a='elegant holiday-giving, could even be an ornament!', text_b=None, label=4), InputExample(guid='', text_a='Gift', text_b=None, label=4), InputExample(guid='', text_a='Got picky people on my shopping list. This way they can only hope for more on the card next year.', text_b=None, label=4), InputExample(guid='', text_a='Good as gift for older kids as it still ties the Santa concept in with Christmas.  Light packaging makes for easy shipping', text_b=None, label=4), InputExample(guid='', text_a='Purchased for another grand niece she she could shop for herself.  She was very happy to get it!', text_b=None, label=4), InputExample(guid='', text_a='TIN case. No dents.\\n\\nNeeded Christmas gift for the family. Got this last year for them, they enjoyed online shopping so much they have Amazon Prime now. Makes for a great, \"And here you go!\" gift to top off everything else or an expensive stocking stuffer.', text_b=None, label=4), InputExample(guid='', text_a='ok', text_b=None, label=4), InputExample(guid='', text_a='great gift, cool tin', text_b=None, label=4), InputExample(guid='', text_a='ok', text_b=None, label=3), InputExample(guid='', text_a='Nor much to judge on a gift card.', text_b=None, label=4), InputExample(guid='', text_a='good', text_b=None, label=4), InputExample(guid='', text_a='Got it quickly. Used without any problems.', text_b=None, label=4), InputExample(guid='', text_a='nice tin', text_b=None, label=4), InputExample(guid='', text_a='as described would purchase again', text_b=None, label=4), InputExample(guid='', text_a='LOVE THE HOLDER', text_b=None, label=4), InputExample(guid='', text_a='Easy escape for teen age granddaughter', text_b=None, label=4), InputExample(guid='', text_a='Love these tins', text_b=None, label=4), InputExample(guid='', text_a='Cute and accurate and speedy service!', text_b=None, label=4), InputExample(guid='', text_a='A gift card is a gift card, but I love this pretty tin.  I can hang it on the tree!', text_b=None, label=4), InputExample(guid='', text_a='Gift', text_b=None, label=4), InputExample(guid='', text_a='It is an easy gift to get.', text_b=None, label=3), InputExample(guid='', text_a='Hard to shop for my teenage grandchildren but a gift certificate is the perfect gift. Lets them choose the gift they want. The tin is so cute and will look nice on the vanity after the card is used.', text_b=None, label=4), InputExample(guid='', text_a='Nice gift', text_b=None, label=4), InputExample(guid='', text_a=\"Kinda funky.  Thought it would be prettier than it is.  Just tin, but it's what's inside that counts. Right?\", text_b=None, label=3), InputExample(guid='', text_a='Just as expected', text_b=None, label=4), InputExample(guid='', text_a='Great way to give gift cards.  Cute design', text_b=None, label=4), InputExample(guid='', text_a='Great idea to inclose gift card in free cute container.', text_b=None, label=4), InputExample(guid='', text_a='These tin can guft card holders are super cute and can be used for misc. things after they use the card. Love it!', text_b=None, label=4), InputExample(guid='', text_a='I have used these for several years and it is a very classy way to give a gift card!  Way to go Amazon!', text_b=None, label=4), InputExample(guid='', text_a=\"what's to say gift\", text_b=None, label=4), InputExample(guid='', text_a=\"Another xmas gift that can't go wrong.\", text_b=None, label=4), InputExample(guid='', text_a='convenient gift', text_b=None, label=4), InputExample(guid='', text_a=\"It's okay. Works fine. Some scuffs.\", text_b=None, label=2), InputExample(guid='', text_a='Arrived quickly and loved the snowflake tin (great added touch to a gift)', text_b=None, label=4), InputExample(guid='', text_a=\"Who doesn't love amazon gift cards! !\", text_b=None, label=4), InputExample(guid='', text_a='good', text_b=None, label=4), InputExample(guid='', text_a='gift', text_b=None, label=4), InputExample(guid='', text_a='Son in law was very pleased. Thanks', text_b=None, label=4), InputExample(guid='', text_a='Gift box is really pretty. Great for holiday gift to anyone.', text_b=None, label=4), InputExample(guid='', text_a='gift', text_b=None, label=4), InputExample(guid='', text_a='Good gift for anyone', text_b=None, label=4), InputExample(guid='', text_a='Goodies!', text_b=None, label=4), InputExample(guid='', text_a='you actually want a review on a gift card?!?!?!', text_b=None, label=0), InputExample(guid='', text_a=\"It's a gift card!  What's to review.  It arrived quickly and worked when we tried to use it.\", text_b=None, label=4), InputExample(guid='', text_a='Great deal during the holidays when you can get it for $40 and can be upload to your Samsung Pay device so no more lugging around a gift card.', text_b=None, label=4), InputExample(guid='', text_a='good place', text_b=None, label=4), InputExample(guid='', text_a='christmas gift card', text_b=None, label=4), InputExample(guid='', text_a='liked it', text_b=None, label=4), InputExample(guid='', text_a='Great gift', text_b=None, label=4), InputExample(guid='', text_a=':) great gift', text_b=None, label=4), InputExample(guid='', text_a='nice restaurant', text_b=None, label=4), InputExample(guid='', text_a='awesome', text_b=None, label=4), InputExample(guid='', text_a=\"The gift card is obviously just fine, but the ribbon on the box is not the color pictured in the first picture; if you scroll down to the 5th picture, you'll see something more like the actual.  It is two or three shades lighter than shown so looks less classy, in my book.  The picture makes it look as if it is a deep, rich wine color.  And of course, the bow would have to be ironed to look as perky as in the picture.  It comes rather flattened, wrapped in plastic.\", text_b=None, label=2), InputExample(guid='', text_a='always good', text_b=None, label=4), InputExample(guid='', text_a='very happy', text_b=None, label=4), InputExample(guid='', text_a='Perfect!', text_b=None, label=4), InputExample(guid='', text_a='ok', text_b=None, label=3), InputExample(guid='', text_a='My grandson was very happy', text_b=None, label=4), InputExample(guid='', text_a='Always a perfect gift for the Amazon fan.', text_b=None, label=4), InputExample(guid='', text_a='This gift card comes with an adorable white gift box with purple bow.  Its a great way to give a gift card as a gift, & the box is included free.', text_b=None, label=4), InputExample(guid='', text_a='This is a perfect wedding gift.', text_b=None, label=4), InputExample(guid='', text_a='convenient gift', text_b=None, label=4), InputExample(guid='', text_a='PERFECT', text_b=None, label=4), InputExample(guid='', text_a='always good to have one of these on hand.', text_b=None, label=4), InputExample(guid='', text_a='easy Christmas gift.', text_b=None, label=4), InputExample(guid='', text_a='My gift card was delivered on time.  Thank you....', text_b=None, label=4), InputExample(guid='', text_a='Bought it as a gift, The recipient loved it.', text_b=None, label=4), InputExample(guid='', text_a='Nice box.', text_b=None, label=4), InputExample(guid='', text_a='Present', text_b=None, label=4), InputExample(guid='', text_a='christmas precent', text_b=None, label=4), InputExample(guid='', text_a='Beautiful presentation.  Box and ribbon very good quality.  Birthday gift which I know will delight.  Arrived in perfect shape and time.', text_b=None, label=4), InputExample(guid='', text_a=\"Gift cards are a great go-to gift for me when I am not really sure what the person likes. I was invited to numerous graduation parties this year for co-worker's sons/daughters, as well as distant relatives. The gift cards are fast (love that you can e-mail or print them when needed) and allows the person to get whatever they want!\", text_b=None, label=4), InputExample(guid='', text_a='I gave this gift card to my sister for her birthday and she was sooooo excited!!!  She and I both shop on Amazon.com all the time, and give the gift cards to each other for every birthday or holiday.  We both love them, and we love Amazon.com!!!', text_b=None, label=4), InputExample(guid='', text_a='best', text_b=None, label=4), InputExample(guid='', text_a='nice gifts', text_b=None, label=4), InputExample(guid='', text_a='My friend enjoys his coffee', text_b=None, label=3), InputExample(guid='', text_a='Good', text_b=None, label=4), InputExample(guid='', text_a='hope this is getting used', text_b=None, label=4), InputExample(guid='', text_a='cute birthday graphic design', text_b=None, label=4), InputExample(guid='', text_a='Great gift', text_b=None, label=4), InputExample(guid='', text_a='Christmas stocking stuffers.', text_b=None, label=3), InputExample(guid='', text_a='Always a hit in our family.  Great  gift.  Gotta love some Starbucks!!', text_b=None, label=4), InputExample(guid='', text_a='Does what a gift card should :)', text_b=None, label=4), InputExample(guid='', text_a='great card given for xmas.', text_b=None, label=4), InputExample(guid='', text_a=\"Who wouldn't want a Starbucks $25 gift card?  Starbucks coffee rocks!\\n\\nAlthough it is extremely expensive and they ruined Christianity by removing God from their coffee.  Now it's satanic coffee.... or maybe people just shouldn't get so offended by everything... HOW BOUT DAT?\", text_b=None, label=4), InputExample(guid='', text_a='great for my aunt', text_b=None, label=4), InputExample(guid='', text_a='Love starbucks.', text_b=None, label=4), InputExample(guid='', text_a='Was a great gift.  They loved it.', text_b=None, label=4), InputExample(guid='', text_a='Yes, it arrived quickly and worked perfectly. Very pleased.', text_b=None, label=4), InputExample(guid='', text_a='yummy', text_b=None, label=4), InputExample(guid='', text_a='greatly appreciated', text_b=None, label=4), InputExample(guid='', text_a='I love coffee so thanks.', text_b=None, label=4), InputExample(guid='', text_a='great gift', text_b=None, label=4), InputExample(guid='', text_a='Good buy, worked as expected.', text_b=None, label=4), InputExample(guid='', text_a='excelent', text_b=None, label=4), InputExample(guid='', text_a=\"I've gotten many of these at this point. They always arrive quickly and always have the correct balance.\", text_b=None, label=4), InputExample(guid='', text_a='Nice gift card', text_b=None, label=4), InputExample(guid='', text_a='Prefect gift for my daughter. She goes there all the time and loves the holiday look so we got her this. Came quick with no problems', text_b=None, label=4), InputExample(guid='', text_a='Great gift for Starbuck lovers!', text_b=None, label=4), InputExample(guid='', text_a=\"It is what it says it is, a gift card to Starbucks. No problems using the card. Giving it 5 stars seems kind of silly, but I don't know that it would be fair to give it anything less.\", text_b=None, label=4), InputExample(guid='', text_a='Great gift to give!', text_b=None, label=4), InputExample(guid='', text_a='Awesome', text_b=None, label=4), InputExample(guid='', text_a='Great', text_b=None, label=4), InputExample(guid='', text_a='Great product from a great seller', text_b=None, label=4), InputExample(guid='', text_a='perfect gift', text_b=None, label=4), InputExample(guid='', text_a='Daughter Loved it', text_b=None, label=4), InputExample(guid='', text_a='with all the gift cards I purchased at Amazon we all can enjoy Starbucks drinks thanks amazon for coming on time!', text_b=None, label=4), InputExample(guid='', text_a='Got it quickly. Used without any problems.', text_b=None, label=4), InputExample(guid='', text_a='My granddaughter really loves Starbucks tea. Was very happy with her gift.', text_b=None, label=4), InputExample(guid='', text_a='Just for my parents', text_b=None, label=3), InputExample(guid='', text_a='as described', text_b=None, label=4), InputExample(guid='', text_a='Good quality and is expected from the description', text_b=None, label=4), InputExample(guid='', text_a='Gift', text_b=None, label=4), InputExample(guid='', text_a='exactly what I wanted', text_b=None, label=4), InputExample(guid='', text_a='A fun gift to give', text_b=None, label=4), InputExample(guid='', text_a='Gift', text_b=None, label=4), InputExample(guid='', text_a='My girlfriend enjoyed it.', text_b=None, label=4), InputExample(guid='', text_a='Perfect for those on the go', text_b=None, label=4), InputExample(guid='', text_a=\"My BIL loves Starbucks.  He's easy to buy for -- gold toe socks and a Starbucks card.  Can't ask for a better BIL than that.  The easiest person in the family when it comes to giving someone gifts.\", text_b=None, label=4), InputExample(guid='', text_a='Always happy when people get this', text_b=None, label=4), InputExample(guid='', text_a=\"blahblahblah, unless it doesn't upload with cash, there be no complaints.\\nshould be kool MONEY WAS THERE AND ON OTHER STARBUCK GIFTCARDS RECENTLY BOUGHT\", text_b=None, label=4), InputExample(guid='', text_a=\"Another gift card for an upcoming bd!!! :) I know, it's a super easy purchase. I just wanted to make sure recipient was able to have alittle drink of whatever he wanted at Starbucks. I don't really buy alot at Starbucks,  but I know people who do. It's just a convient, gift because their located in so many cities, and people seem to really like Starbucks. Happy w purchase would repurchase again! :)\", text_b=None, label=3), InputExample(guid='', text_a='great', text_b=None, label=4), InputExample(guid='', text_a='Great item!', text_b=None, label=4), InputExample(guid='', text_a=\"who doesn't love this as a gift.\", text_b=None, label=4), InputExample(guid='', text_a='Good stocking stuffer', text_b=None, label=4), InputExample(guid='', text_a='great', text_b=None, label=4), InputExample(guid='', text_a=\"what's not to love\", text_b=None, label=4), InputExample(guid='', text_a='<3', text_b=None, label=4), InputExample(guid='', text_a=\"Can't go wrong with this as a stocking stuffer\", text_b=None, label=4), InputExample(guid='', text_a='Gift card just as expected', text_b=None, label=4), InputExample(guid='', text_a='love it', text_b=None, label=4), InputExample(guid='', text_a='Great coffee', text_b=None, label=4), InputExample(guid='', text_a='Works as advertised. Great Buy.', text_b=None, label=4), InputExample(guid='', text_a='nice', text_b=None, label=4), InputExample(guid='', text_a='Always a great gift to give and receive', text_b=None, label=4), InputExample(guid='', text_a='This was a gift for my niece, and she loves it.', text_b=None, label=4), InputExample(guid='', text_a='Happy daughter on cold days', text_b=None, label=4), InputExample(guid='', text_a='Daughter loved it.', text_b=None, label=4), InputExample(guid='', text_a='Great product with fast delivery', text_b=None, label=4), InputExample(guid='', text_a='Bought it as a gift, The recipient loved it.', text_b=None, label=4), InputExample(guid='', text_a='TY', text_b=None, label=4), InputExample(guid='', text_a='Great Gift', text_b=None, label=4), InputExample(guid='', text_a='Best coffee ever', text_b=None, label=4), InputExample(guid='', text_a='Card worked great and now I have plenty of caffeine in my life.', text_b=None, label=4), InputExample(guid='', text_a='Great....thanks again!', text_b=None, label=4), InputExample(guid='', text_a='The best way to gift :) just make sure to check the balance prior to giving it as mistakes can be made with card balances. Otherwise great idea for my friends as I purchased a few of them for birthdays nothing like the gift of coffee and teas from a good company.', text_b=None, label=4), InputExample(guid='', text_a='caramel, mocha frappachino please venti, no whip', text_b=None, label=4), InputExample(guid='', text_a='Got this for my niece and she loves it!!!', text_b=None, label=4), InputExample(guid='', text_a='So glad Amazon offers this gift card!!', text_b=None, label=4), InputExample(guid='', text_a='Great saving on Amazon and recommend to visit again.', text_b=None, label=4), InputExample(guid='', text_a='Perfect', text_b=None, label=4), InputExample(guid='', text_a='Good...!!!', text_b=None, label=4), InputExample(guid='', text_a='its just a gift card', text_b=None, label=4), InputExample(guid='', text_a='fast delivery and card worked', text_b=None, label=4), InputExample(guid='', text_a=\"What can you say it's a gift card - Shipping was fast.\", text_b=None, label=4), InputExample(guid='', text_a='recipient was thrilled to receive!', text_b=None, label=4), InputExample(guid='', text_a='How great it is to have a Starbucks Card so we can zip into Starbucks and get a coffee and sometimes a little sweet treat to get our mornings started off right..... it is great to know we have these cards as sometimes it can get long between paydays and we can always say, \"Hey, we can use our Starbucks card and we aren\\'t as bad off as we thought until payday rolls around again\".', text_b=None, label=4), InputExample(guid='', text_a='Cafe Au Lait, Cappacino, Mocha Latter, Chai Tea, black coffee!! All these scrumptious drinks & more (including bake goods) are available from morning thru evening every day! A gift card from Starbucks is always appreciated and used!', text_b=None, label=4), InputExample(guid='', text_a='Wished I had got one. O well maybe next year. Great idea for stocking stuffers. Good gift for the hard to please', text_b=None, label=4), InputExample(guid='', text_a=\"Love to get this gift card for relatives and friends.  Who can't find something tasty at Starbucks and it's fun to pop in there to treat yourself during the day.  Your relatives and friends will think of you each time they use the card.  Good to remind them to register the card with Starbucks in case it gets lost.  I got this for my mail lady as a thank you for bringing all of those Amazon boxes up to the door in the winter and rain.  It's a great gift to send to a loved one.\", text_b=None, label=4), InputExample(guid='', text_a=\"It's Starbucks.  What else needs to be said.\", text_b=None, label=4), InputExample(guid='', text_a=\"You just can't go wrong with a Starbucks gift card as a gift!!! I love to give them and I love to to receive them. We all love Starbucks. They have something for everyone.\", text_b=None, label=4), InputExample(guid='', text_a='Gave to family members (and myself) as they love coffee.  The fact that some are located adjacent to Barnes and Noble influenced me as that is a great combination.', text_b=None, label=4), InputExample(guid='', text_a='A great card for something I enjoy and I registered it for great discounts and deals. I can reload it at any time which is a plus!', text_b=None, label=4), InputExample(guid='', text_a='Love Starbucks one of my favorite places to go to have coffee.  Always a great gift to give or receive', text_b=None, label=3), InputExample(guid='', text_a='This product was as described and will be very much appreciated on Christmas. If you have a Starrbucks lover in your family this will be a great hit.', text_b=None, label=4), InputExample(guid='', text_a='Quick delivery.  Exactly what I was looking for', text_b=None, label=4), InputExample(guid='', text_a='If a gift card has the balance you purchased, I guess it gets five stars!', text_b=None, label=4), InputExample(guid='', text_a='Fast shipping and great gift!', text_b=None, label=4), InputExample(guid='', text_a='great gift.', text_b=None, label=4), InputExample(guid='', text_a='This was a Christmas gift. The recipient(s) were/are please with this. I would purchase again. I would recommend.', text_b=None, label=4), InputExample(guid='', text_a='love the movies', text_b=None, label=4), InputExample(guid='', text_a='Gift for Grandchildren for Christmas...Know they will enjoy.', text_b=None, label=4), InputExample(guid='', text_a='Nice!', text_b=None, label=4), InputExample(guid='', text_a=\"20% off, good value for a movie gift card. nothing fancy or too much too say. it's a gift card...\", text_b=None, label=3), InputExample(guid='', text_a='great gift', text_b=None, label=4), InputExample(guid='', text_a=\"Don't even have to go to the store to get this!  And who doesn't love a movie?  Great gift card, came within two days.\", text_b=None, label=4), InputExample(guid='', text_a='Awsome', text_b=None, label=4), InputExample(guid='', text_a='all good', text_b=None, label=4), InputExample(guid='', text_a='I bought this for Christmas and my brother reported that it worked as expected', text_b=None, label=4), InputExample(guid='', text_a=\"This was part of a graduation gift to my son who was joining the Navy. Instead of the traditional gifts, I got him a bunch of gift cards since he can't any personal possessions with him. These cards allowed him to enjoy going out with his friends and girlfriend for that last month before leaving for boot camp.\", text_b=None, label=4), InputExample(guid='', text_a='I was lucky to buy this for $20 as part of the \"Today\\'s Deals\" so I got an extra $5 on the card. The card arrived really fast. I read some reviews that said they received cards with 0 credit on them. I logged on to Regal\\'s site and verified I had a $25 balance so I\\'m happy. I go to Regal every week so this card helps me to get a free soda with the $5 I saved off of the original price. I hope they do this deal again soon. Too bad you can only buy 1 card at the special price.', text_b=None, label=4), InputExample(guid='', text_a='like', text_b=None, label=4), InputExample(guid='', text_a='I will take a $50 gift card for $40 any day!!! Basically $10 for free. Love it.', text_b=None, label=4), InputExample(guid='', text_a='GREAT', text_b=None, label=4), InputExample(guid='', text_a='Everyone loves movies and popcorn', text_b=None, label=4), InputExample(guid='', text_a='Delivered as expected!', text_b=None, label=4), InputExample(guid='', text_a='They work', text_b=None, label=4), InputExample(guid='', text_a='This is my standby for a gift for just about anyone!', text_b=None, label=4), InputExample(guid='', text_a=\"Bought for our parents - they love these because you can use these at the theater for tickets and concession.  You don't have to book online!  Our parents prefer to go to the theater and make their decisions.\", text_b=None, label=4), InputExample(guid='', text_a=\"It's just a gift card.\", text_b=None, label=4), InputExample(guid='', text_a='Was a gift for a movie lover', text_b=None, label=4), InputExample(guid='', text_a='recipient was thrilled to receive!', text_b=None, label=4), InputExample(guid='', text_a='Nice give and great seller.', text_b=None, label=4), InputExample(guid='', text_a='Great gift', text_b=None, label=4), InputExample(guid='', text_a=\"its' a gift card what can you say?\", text_b=None, label=4), InputExample(guid='', text_a='Ok', text_b=None, label=2), InputExample(guid='', text_a='So nice not to have to go to the mall', text_b=None, label=4), InputExample(guid='', text_a='Item came loaded and ready to use. Item as described.', text_b=None, label=4), InputExample(guid='', text_a='Xmas stocking stuffer. Loved it', text_b=None, label=4), InputExample(guid='', text_a='Great for someone who is always going to the movies', text_b=None, label=4), InputExample(guid='', text_a='great gift', text_b=None, label=4), InputExample(guid='', text_a='Made a great Christmas gift', text_b=None, label=4), InputExample(guid='', text_a='MY BEAUTIFUL DAUGHTER WILL BE HAPPY WITH IT, WAS A LITTLE LATE CHRISTMAS PRESENT.....', text_b=None, label=4), InputExample(guid='', text_a='Gift', text_b=None, label=4), InputExample(guid='', text_a=\"It's a gift card purchased on amazon.  What else can you say about it?  It's a gift card and it works.\", text_b=None, label=4), InputExample(guid='', text_a=\"I purchased this gift card along with a restaurant gift card for my sister's birthday.  That way she could get away from the house and kids with her new husband for a little while.\", text_b=None, label=4), InputExample(guid='', text_a='Amazon carries pretty much everything that you need. As is described; nothing more to say. Will use it for what intended for.', text_b=None, label=4), InputExample(guid='', text_a='a good gift card', text_b=None, label=4), InputExample(guid='', text_a='good', text_b=None, label=4), InputExample(guid='', text_a=\"This is a great gift for our teenage niece.  I also love that I don't have to battle people at the mall, and can order it via Amazon.\", text_b=None, label=4), InputExample(guid='', text_a='Love gift cards for gifts!', text_b=None, label=4), InputExample(guid='', text_a='Great gift idea!', text_b=None, label=4), InputExample(guid='', text_a='It was a gift. She bought jeans that she loves.', text_b=None, label=4), InputExample(guid='', text_a='they loved it!!', text_b=None, label=4), InputExample(guid='', text_a='Staisfied', text_b=None, label=4), InputExample(guid='', text_a='What can you say about a gift card.  Used two cards, four of us ate, for $40.00.  The food was great, the service not so much.', text_b=None, label=4), InputExample(guid='', text_a='My brother, son, and husband were quite pleased to get one of these.  Will order these as gifts again next year.', text_b=None, label=4), InputExample(guid='', text_a='Holiday gift', text_b=None, label=4), InputExample(guid='', text_a='Given as gift and friend loved it.', text_b=None, label=4), InputExample(guid='', text_a='Its a gift card.', text_b=None, label=4), InputExample(guid='', text_a='My nieces loved seeing Hidden Figures with this movie card I gave them!', text_b=None, label=4), InputExample(guid='', text_a='called to make sure $ was on card upon arrival, so far so good.', text_b=None, label=4), InputExample(guid='', text_a='This gift will work for a six year old little girl.', text_b=None, label=4), InputExample(guid='', text_a='This is a good gift idea for someones birthday or for a holiday.', text_b=None, label=4), InputExample(guid='', text_a=\"Haven't had a problem with these. I've used them both on the website and in store.\", text_b=None, label=4), InputExample(guid='', text_a=\"I got two each of these for my daughter and son-in-law. They love movies and don't get out as often as they would like.\", text_b=None, label=4), InputExample(guid='', text_a='Perfect! kathy', text_b=None, label=4), InputExample(guid='', text_a='Using the ticket for many things.', text_b=None, label=4), InputExample(guid='', text_a='Good product!', text_b=None, label=4), InputExample(guid='', text_a='Good Product;', text_b=None, label=4), InputExample(guid='', text_a='all good', text_b=None, label=4), InputExample(guid='', text_a='I got this gift card on a deal of the day for $40\\n\\nI love ae and it was a great buy!', text_b=None, label=4), InputExample(guid='', text_a='Perfect for my little friend! Build a Bear is awesome!', text_b=None, label=4), InputExample(guid='', text_a='fast delivery and card worked', text_b=None, label=4), InputExample(guid='', text_a=\"Convenient. Bought all my gift cards for the holiday in one swoop. I'm a Prime member, so I got in 2 days. Being I work long hours, Amazon makes shopping convenient for me.\", text_b=None, label=4), InputExample(guid='', text_a='Great Deal', text_b=None, label=4), InputExample(guid='', text_a='Great Deal', text_b=None, label=4), InputExample(guid='', text_a='You can never go wrong with a gift card for a place they go...', text_b=None, label=3), InputExample(guid='', text_a=\"What a rip off! This deal of the day started and within 1 minute it was sold out. I added it to my cart and before I could even hit the checkout it was sold out. Where they only offering 5 gift cards as the deal of the day? I clicked add to cart within 30 seconds of the deal starting and now can't buy it. Thanks for nothing. I was waiting 1 hour for this deal to start.\", text_b=None, label=0), InputExample(guid='', text_a='loved it', text_b=None, label=4), InputExample(guid='', text_a='5 dollars off and used for a gift.  We love deals!', text_b=None, label=4), InputExample(guid='', text_a='Excellent Christmas gift', text_b=None, label=4), InputExample(guid='', text_a=\"What's to say gift\", text_b=None, label=4), InputExample(guid='', text_a=\"Good place for a gift card for a friend's birthday.\", text_b=None, label=3), InputExample(guid='', text_a=\"Great value.  Get $50 for $40 at places you may normally eat.  I like this gift card because not only did I save $10 but I got to choose from Chili's, Maggianos, On the Border, or Macaroni Grill.  We do have all of them where I live so I used some at Chili's and finished it at Maggianos.  YUM!\", text_b=None, label=4), InputExample(guid='', text_a='Perfect gift option for the person who always eats out', text_b=None, label=4), InputExample(guid='', text_a='Good Gift', text_b=None, label=4), InputExample(guid='', text_a='Love the variety of cards available at Amazon.', text_b=None, label=4), InputExample(guid='', text_a='Great deal and granddaughters love BaB', text_b=None, label=4), InputExample(guid='', text_a='Perfect. Bought as a gift, the recipient loved it.', text_b=None, label=4), InputExample(guid='', text_a=\"Bought this for a gift my friend loved it.  He can't wait to use the gift card!\\nGod Bless you\", text_b=None, label=3), InputExample(guid='', text_a='Love it!!!! Thanks!!!!', text_b=None, label=4), InputExample(guid='', text_a='Great!', text_b=None, label=4), InputExample(guid='', text_a='Good...!!!', text_b=None, label=4), InputExample(guid='', text_a=\"This was part of a graduation gift to my son who was joining the Navy. Instead of the traditional gifts, I got him a bunch of gift cards since he can't any personal possessions with him. These cards allowed him to enjoy going out with his friends and girlfriend for that last month before leaving for boot camp.\", text_b=None, label=4), InputExample(guid='', text_a='Great item!', text_b=None, label=4), InputExample(guid='', text_a=\"Bought this on a lightening deal as a gift for my friends. There's not much to say about a gift card- yay it was a great deal! $40 for a $50 gift card. Totally worth it! Thanks Amazon!\", text_b=None, label=4), InputExample(guid='', text_a='they are gift cards', text_b=None, label=4), InputExample(guid='', text_a=\"Got this for a seven year old on her birthday, and she's been so excited about her bear it's crazy.  Every day she asks if she can go build her bear, but it's just been too cold.\\n\\nI guess if you want to excite kids and give yourself extra work, then this is the perfect gift!\", text_b=None, label=3), InputExample(guid='', text_a='Great Gift', text_b=None, label=4), InputExample(guid='', text_a='recipient was thrilled to receive!', text_b=None, label=4), InputExample(guid='', text_a='great restaurant', text_b=None, label=4), InputExample(guid='', text_a='Nice Italian restaurant', text_b=None, label=3), InputExample(guid='', text_a='The receiver was very pleased.', text_b=None, label=4), InputExample(guid='', text_a='Great time w/  Friends', text_b=None, label=4), InputExample(guid='', text_a='Great item .fast shipping too', text_b=None, label=4), InputExample(guid='', text_a='I will take a $50 gift card for $40 any day!!! Basically $10 for free. Love it.', text_b=None, label=4), InputExample(guid='', text_a='great gift', text_b=None, label=4), InputExample(guid='', text_a='Kids love them', text_b=None, label=4), InputExample(guid='', text_a='Excellent Gift! Very Happy!', text_b=None, label=4), InputExample(guid='', text_a='Great gift card', text_b=None, label=4), InputExample(guid='', text_a='Bought for my family and they love these gift cards.', text_b=None, label=4), InputExample(guid='', text_a='Loves it.', text_b=None, label=4), InputExample(guid='', text_a='WAS A GREAT GIFT', text_b=None, label=4), InputExample(guid='', text_a='Easy to use', text_b=None, label=4), InputExample(guid='', text_a='Perfect!', text_b=None, label=4), InputExample(guid='', text_a='Convenient!!', text_b=None, label=3), InputExample(guid='', text_a='The movie ticket worked on both FandangoNow and Fandango website. If you use it to buy digital movies on FandangoNow, sometimes they ran promotion with other onsite movie sponsors for a free promotional movie ticket.\\n\\nUpdate on 6/30/2017, as this gift card only can be used without any other promo code available from Fandango, FandangoNow, or any other parties.', text_b=None, label=2), InputExample(guid='', text_a='OK', text_b=None, label=2), InputExample(guid='', text_a=\"It's a gift card. Had the exact amount on it\", text_b=None, label=4), InputExample(guid='', text_a='Christmas gift for our 14 year granddaughter. It what she hinted for!', text_b=None, label=4), InputExample(guid='', text_a='We buy these in packs to take the grandkids to the move theater and they love deciding what they are going to watch and buying their snacks.', text_b=None, label=4), InputExample(guid='', text_a=\"A Gift Card is always a great gift, especially when you know what the person like's to do.\", text_b=None, label=4), InputExample(guid='', text_a=':)', text_b=None, label=4), InputExample(guid='', text_a='You cant ever go wrong with movies. Great christmas gift', text_b=None, label=3), InputExample(guid='', text_a='Great gift', text_b=None, label=4), InputExample(guid='', text_a='Got here quickly and worked', text_b=None, label=4), InputExample(guid='', text_a='Great', text_b=None, label=4), InputExample(guid='', text_a='Great', text_b=None, label=4), InputExample(guid='', text_a='this was a Christmas gift', text_b=None, label=4), InputExample(guid='', text_a='Does what a gift card should :)', text_b=None, label=4), InputExample(guid='', text_a='Love this store.', text_b=None, label=4), InputExample(guid='', text_a='gift for daughter', text_b=None, label=4), InputExample(guid='', text_a='The perfect gift.', text_b=None, label=4), InputExample(guid='', text_a='Great', text_b=None, label=4), InputExample(guid='', text_a='Another great gift for the holidays, birthday or just a I like you gift.enjoy a movie.', text_b=None, label=4), InputExample(guid='', text_a='happy', text_b=None, label=4), InputExample(guid='', text_a=\"its' a gift card what can you say?\", text_b=None, label=4), InputExample(guid='', text_a='Great Gift Card for the Movie Buff.  My brother-in-law is going to love it.', text_b=None, label=4), InputExample(guid='', text_a='Purchased for a gift for my parents.  Convenient and cheap since its 10 off.', text_b=None, label=4), InputExample(guid='', text_a=\"I gift card that's on sale. Grabbed it as a lighting deal so that's the best way to grab them.\", text_b=None, label=4), InputExample(guid='', text_a='I order AMC cards for my grandson who lives in Manhattan.. he loves movies and having a supply of these cards on hand really does help him keep up with all the latest movies... He really is a movie Buff and these cards are so helpfull for him.', text_b=None, label=4), InputExample(guid='', text_a='This was a gift.', text_b=None, label=4), InputExample(guid='', text_a='Great gift', text_b=None, label=4), InputExample(guid='', text_a='My daughter loved this gift card!', text_b=None, label=4), InputExample(guid='', text_a='Works as advertised', text_b=None, label=4), InputExample(guid='', text_a='Great gift', text_b=None, label=4), InputExample(guid='', text_a=\"Worked out great for those who you don't know what to get.\", text_b=None, label=4), InputExample(guid='', text_a='Bought As A Gift', text_b=None, label=4), InputExample(guid='', text_a='Good Xmas gift', text_b=None, label=3), InputExample(guid='', text_a=\"My nephew bday is coming and don't know what teenager whats anymore.  This is the best thing for them as they can go to movies with friends/ date or whatever ...\", text_b=None, label=3), InputExample(guid='', text_a='I will take a $50 gift card for $40 any day!!! Basically $10 for free. Love it.', text_b=None, label=4), InputExample(guid='', text_a=':) great gift', text_b=None, label=4), InputExample(guid='', text_a='For my teenage granddaughter who loves to shop on line. Nothing to return after Christmas and she gets the gift she really wanted. Easy on Granny too.', text_b=None, label=4), InputExample(guid='', text_a='gift', text_b=None, label=4), InputExample(guid='', text_a=\"I like this Noodles' gift card since it gives me rewards points and save my time to buy delicious food. Using the card to pay for Noodles' food is fast and convenient.\", text_b=None, label=4), InputExample(guid='', text_a='I love their food.', text_b=None, label=4), InputExample(guid='', text_a='Received quickly and no problems!', text_b=None, label=4), InputExample(guid='', text_a='They are gift cards.', text_b=None, label=4), InputExample(guid='', text_a='Gave to grand nieces and nephews as well as son and daughter.  Kept one for myself.  Everyone was very pleased.  Said they had not thought of giving this as a present.  Will do again.', text_b=None, label=4), InputExample(guid='', text_a='Exactly as shown. No activation charge, just regular $25 gift card. I give a bunch for high school graduations to places around where theyll be going to college.', text_b=None, label=4), InputExample(guid='', text_a='great', text_b=None, label=4), InputExample(guid='', text_a='Exactly as I expected when I purchased it.', text_b=None, label=4), InputExample(guid='', text_a='Its for a gift. I am sure the person receiving is going to like it.', text_b=None, label=4), InputExample(guid='', text_a=\"this gift card was a little something extra for my mom for mothers' day. she loves boston market  and was thrilled to receive this gift card . she loves their food. ...thank you so much for making my shopping easy. she wanted another one so  I bought it for her...wish the gift card came in 50 75 100 . consider that boston market!!!!\", text_b=None, label=4), InputExample(guid='', text_a='As expected', text_b=None, label=4), InputExample(guid='', text_a='If you have family members that live far away and you want to get them something they will love and you know they will not return; this is it. Great stocking stuffer for kids of all ages!\\nWho does not like the movies?', text_b=None, label=4), InputExample(guid='', text_a='Happy son in law', text_b=None, label=4), InputExample(guid='', text_a='Nice to be able to purchase without store shopping.', text_b=None, label=4), InputExample(guid='', text_a='Gift.', text_b=None, label=4), InputExample(guid='', text_a='Great', text_b=None, label=4), InputExample(guid='', text_a='GOOD GIFT FOR MY GRANDSON.', text_b=None, label=4), InputExample(guid='', text_a='love getting 5% back buying giftcards when I use my amazon card!!', text_b=None, label=4), InputExample(guid='', text_a='Good buy, worked as needed.', text_b=None, label=4), InputExample(guid='', text_a='Holiday Gift', text_b=None, label=4), InputExample(guid='', text_a='Very useful', text_b=None, label=4), InputExample(guid='', text_a='fast delivery and card worked', text_b=None, label=4), InputExample(guid='', text_a='Given as Christmas gift. She loved it!', text_b=None, label=4), InputExample(guid='', text_a='Great gift', text_b=None, label=4), InputExample(guid='', text_a='GREAT IDEA FOR CHRISTMAS.  THANK YOU!', text_b=None, label=4), InputExample(guid='', text_a='Easy to use', text_b=None, label=4), InputExample(guid='', text_a='Great product from a great seller!!!', text_b=None, label=4), InputExample(guid='', text_a='Great purchase. The Gift card worked very good.', text_b=None, label=4), InputExample(guid='', text_a='gift and loved it', text_b=None, label=4), InputExample(guid='', text_a='Great Deal', text_b=None, label=4), InputExample(guid='', text_a='They are gift cards', text_b=None, label=4), InputExample(guid='', text_a='Love shopping and the ease of using this gift card', text_b=None, label=4), InputExample(guid='', text_a='Grabbing a gift card as a Lighting Deal for $5 off is a great deal!', text_b=None, label=4), InputExample(guid='', text_a='great gift', text_b=None, label=4), InputExample(guid='', text_a='Happy grand daughter', text_b=None, label=4), InputExample(guid='', text_a='Daughter loved it.', text_b=None, label=4), InputExample(guid='', text_a='Good Xmas gift', text_b=None, label=3), InputExample(guid='', text_a='one of my faves', text_b=None, label=4), InputExample(guid='', text_a='Good food', text_b=None, label=4), InputExample(guid='', text_a=\"I ordered a bunch of gift cards and when the people went to use them, they found they didn't have anything on them. I gave my father in law some cards and other members of my family as Christmas presents!\", text_b=None, label=1), InputExample(guid='', text_a='no trip to the mall! Yay!', text_b=None, label=4), InputExample(guid='', text_a='Gift cards are always good.', text_b=None, label=4), InputExample(guid='', text_a='easiest way to buy gift cards - have never had a problem', text_b=None, label=4), InputExample(guid='', text_a='Card came quick with no problems at all. It came it a small bubble wrapper. Great gift for my friend!', text_b=None, label=4), InputExample(guid='', text_a='love getting 5% back buying giftcards when I use my amazon card!!', text_b=None, label=4), InputExample(guid='', text_a=\"Purchased as a bd gift, for a buffalo wing, eating fan. The place has an assortment of wings to chose from so you can't go wrong....\", text_b=None, label=4), InputExample(guid='', text_a='Gift Card Worked.', text_b=None, label=4), InputExample(guid='', text_a='Works as advertised', text_b=None, label=4), InputExample(guid='', text_a='Great gift for the daughter in law.', text_b=None, label=4), InputExample(guid='', text_a='Bought really nice shirts with this card.', text_b=None, label=4), InputExample(guid='', text_a='Perfect, thank you!', text_b=None, label=4), InputExample(guid='', text_a='Wonderful', text_b=None, label=4), InputExample(guid='', text_a='Awesome', text_b=None, label=4), InputExample(guid='', text_a='Pleased with purchase of card', text_b=None, label=4), InputExample(guid='', text_a=\"Christmas gift for my son-in-law. With two young children and large student loans, he and my daughter don't get to go out as often as they like. Date night on us!! And I'm happy to babysit.\", text_b=None, label=4), InputExample(guid='', text_a='Always a good gift for the family, the college kids especially.', text_b=None, label=4), InputExample(guid='', text_a='works great', text_b=None, label=4), InputExample(guid='', text_a='Great product from a great seller!!!', text_b=None, label=4), InputExample(guid='', text_a=\"The gift card is convenient to pay at Logan and especially a 20% discount on prime day. Logan's food is cheaper than Outback and tastes better than Applebee.\", text_b=None, label=4), InputExample(guid='', text_a='just in tome to wrap for Christmas Buffalo Wild Wings is a great place to get some good food', text_b=None, label=4), InputExample(guid='', text_a='& her daughter can do some mother/daughter \"bonding\" while they share an order of spicy wings & catch their favorite team Arizona cardinals play...I know they will both love this little gift!', text_b=None, label=4), InputExample(guid='', text_a='Great gift card to use shopping for affordable cloths at JCPenny. 20% off only available on Amazon. What a great Thanksgiving purchase.', text_b=None, label=4), InputExample(guid='', text_a='Like any other gift card, got it and it worked.', text_b=None, label=4), InputExample(guid='', text_a='Satisfied', text_b=None, label=4), InputExample(guid='', text_a='fast delivery and card worked', text_b=None, label=4), InputExample(guid='', text_a='another favorite', text_b=None, label=4), InputExample(guid='', text_a='This worked just as it should. Would order again.', text_b=None, label=4), InputExample(guid='', text_a='exactly what I wanted', text_b=None, label=4), InputExample(guid='', text_a='Good buy, worked as needed.', text_b=None, label=4), InputExample(guid='', text_a='This is a great place to go and the food is awesome and service outstanding. I am so glad you had this product available.', text_b=None, label=3), InputExample(guid='', text_a=\"What can you say it's a gift card - Shipping was fast.\", text_b=None, label=4), InputExample(guid='', text_a=\"Love eating at Logan's! Great gift idea as well.\", text_b=None, label=4), InputExample(guid='', text_a=\"I bought this for my brother for his bday, although he hasn't used it yet I'm sure it works as expected\", text_b=None, label=4), InputExample(guid='', text_a='gave as gift', text_b=None, label=4), InputExample(guid='', text_a='Loves it', text_b=None, label=4), InputExample(guid='', text_a=\"Logan's is my favorite restaurant for steak.  Always cooked to perfection.\", text_b=None, label=4), InputExample(guid='', text_a='Pleased with purchase of card', text_b=None, label=4), InputExample(guid='', text_a='Loved it!!  Comes already to use.', text_b=None, label=4), InputExample(guid='', text_a='Yummy', text_b=None, label=4), InputExample(guid='', text_a='Easy to purchase -great gift', text_b=None, label=4), InputExample(guid='', text_a='works great', text_b=None, label=4), InputExample(guid='', text_a='Pretty good!', text_b=None, label=4), InputExample(guid='', text_a='great', text_b=None, label=4), InputExample(guid='', text_a='I like Amazon they always come through Red Robin is a great place to eat', text_b=None, label=4), InputExample(guid='', text_a='got it on time, easy to use', text_b=None, label=4), InputExample(guid='', text_a='This was purchased for a relative by request.', text_b=None, label=4), InputExample(guid='', text_a='good food!!', text_b=None, label=4), InputExample(guid='', text_a='Just like any other gift card, got it and it works fine.', text_b=None, label=4), InputExample(guid='', text_a='This is a great way to give gifts that others can use in a moment of need. Thanks for having this gift card available.', text_b=None, label=3), InputExample(guid='', text_a='loved it', text_b=None, label=4), InputExample(guid='', text_a='As expected', text_b=None, label=4), InputExample(guid='', text_a='Getting a gift card for $20 instead of $25 is awesome.  We go to Red Robin about once or twice a month so saving $5 is like getting our drinks for free.  I like having the gift card so that we enjoy going to eat and not worrying about the bill.  It is also a great gift idea for someone and you save $5 in the process.  Win, Win', text_b=None, label=4), InputExample(guid='', text_a='great gift', text_b=None, label=4), InputExample(guid='', text_a='I bought this item for my niece last Christmas and she said it worked as described', text_b=None, label=4), InputExample(guid='', text_a='Always a great present.', text_b=None, label=4), InputExample(guid='', text_a='gifts', text_b=None, label=4), InputExample(guid='', text_a='This was a gift and was as described.', text_b=None, label=3), InputExample(guid='', text_a='Exactly as shown. No activation charge, just regular $25 gift card. I give a bunch for high school graduations to places around where theyll be going to college.', text_b=None, label=4), InputExample(guid='', text_a=\"It's absolutely amazing. I bought this gift card for a $25 value and when it arrived, it had $25 credit value on it!! Can you believe it!! Nice to see a product that works these days!! And yes, I a being sarcastic!! Do we really need to rate a gift card?\", text_b=None, label=4), InputExample(guid='', text_a='Great deal during the holidays when you can get it for $40 and can be upload to your Samsung Pay device so no more lugging around a gift card.', text_b=None, label=4), InputExample(guid='', text_a='I got this as a gift for a friend. Since it was just what she wanted, and I have no Buffalo Wild Wings anywhere near me, I was super grateful to be able to get it delivered right to her door by Amazon! Love it!', text_b=None, label=4), InputExample(guid='', text_a='Happy daughter', text_b=None, label=4), InputExample(guid='', text_a='Daughter loved it.', text_b=None, label=4), InputExample(guid='', text_a='Delivered as expected, no complaints!', text_b=None, label=4), InputExample(guid='', text_a=\"Perfect gift for someone who isn't sure what she wants -\", text_b=None, label=4), InputExample(guid='', text_a='Item as described, arrived on time.', text_b=None, label=4), InputExample(guid='', text_a='Nice', text_b=None, label=4), InputExample(guid='', text_a='perfect! kathy', text_b=None, label=4), InputExample(guid='', text_a='GREAT', text_b=None, label=4), InputExample(guid='', text_a='A good place for friends, and family. Adore the steak fries!', text_b=None, label=4), InputExample(guid='', text_a=\"It's a gift card...\", text_b=None, label=4), InputExample(guid='', text_a='great stocking item', text_b=None, label=4), InputExample(guid='', text_a='Great!', text_b=None, label=4), InputExample(guid='', text_a='This again is for my husband to use for lunches when he really needs to get out of the office.', text_b=None, label=3), InputExample(guid='', text_a='Perfect', text_b=None, label=4), InputExample(guid='', text_a='<3', text_b=None, label=3), InputExample(guid='', text_a='great food!!', text_b=None, label=4), InputExample(guid='', text_a='works great.', text_b=None, label=4), InputExample(guid='', text_a='Great gift card worked perfectly.', text_b=None, label=4), InputExample(guid='', text_a='Love it!!!! Thanks!!!!', text_b=None, label=4), InputExample(guid='', text_a='fast delivery and card worked', text_b=None, label=4), InputExample(guid='', text_a='This was a gift and came just as described.', text_b=None, label=4), InputExample(guid='', text_a='I searched the internet for their locations and gave ones for Atlanta, Seattle, and one more.  Kept one for myself.  Will reorder these next year.  Good all round.', text_b=None, label=4), InputExample(guid='', text_a='Love having the gift card. It is very simple to use, was shipped quick and is hassle free!', text_b=None, label=4), InputExample(guid='', text_a='Great!', text_b=None, label=4), InputExample(guid='', text_a=\"I'm still waiting to use it. I find it great to be able to have something to use when you don't have the cash on you at the time. Thanks for having this gift card available.\", text_b=None, label=4), InputExample(guid='', text_a='It is a gift for someone', text_b=None, label=4), InputExample(guid='', text_a='Its a gift card.', text_b=None, label=4), InputExample(guid='', text_a='Outstanding', text_b=None, label=4), InputExample(guid='', text_a='love it', text_b=None, label=4), InputExample(guid='', text_a='yummy', text_b=None, label=3), InputExample(guid='', text_a='$50 for $40 is a great deal.  Take advantage of the lightning deals when you can.  $10 saves you on 1 or 2 meals here.  Excellent value!', text_b=None, label=4), InputExample(guid='', text_a='Great gift', text_b=None, label=4), InputExample(guid='', text_a='no driving to the mall!', text_b=None, label=4), InputExample(guid='', text_a='Perfect', text_b=None, label=4), InputExample(guid='', text_a='This item works. A little too well. I survived an additional 9 days while house hunting with one of these. Also Garlic a Fries may have played a role in doing so.\\nMore at insta: earthen_religion', text_b=None, label=4), InputExample(guid='', text_a='Daughter and Son in Law needed the food they are looking forward to using it', text_b=None, label=4), InputExample(guid='', text_a='Always a great present.', text_b=None, label=4), InputExample(guid='', text_a='you can use this to purchase riot points and anything that uses openbucks basically.,.,', text_b=None, label=4), InputExample(guid='', text_a='I have a good friend I may give this to, or maybe send it to my little sister for Christmas, she has everything and is hard to shop for, maybe this and a pre paid visa card would be a great gift?', text_b=None, label=4), InputExample(guid='', text_a='Worked as a gift card should.', text_b=None, label=4), InputExample(guid='', text_a='Love it!', text_b=None, label=4), InputExample(guid='', text_a='recipient was thrilled to receive!', text_b=None, label=4), InputExample(guid='', text_a=\"I gift card that's on sale. Grabbed it as a lighting deal so that's the best way to grab them.\", text_b=None, label=4), InputExample(guid='', text_a=\"Bought this on a lightening deal as a gift for my friend. There's not much to say about a gift card- yay it was a great deal! $40 for a $50 gift card. Totally worth it! Thanks Amazon!\", text_b=None, label=4), InputExample(guid='', text_a=\"Who doesn't want a card for $50 worth of Buffalo Wild Wings! Wing lovers flock here by the busload. If you don't want to use the gift card yourself, they are ideal for re-gifting! It's a win-win for all.\", text_b=None, label=4), InputExample(guid='', text_a='yum,yum', text_b=None, label=4), InputExample(guid='', text_a='Just what I wanted', text_b=None, label=4), InputExample(guid='', text_a='Grabbing a gift card as a Lighting Deal for $5 off is a great deal!', text_b=None, label=4), InputExample(guid='', text_a='Great for a gift', text_b=None, label=4), InputExample(guid='', text_a='Always check for deals of the day. I got this $50 gift card for $40 and if you subscribe to jcpennies you can get weekly deals and coupons. I always thought of jcpennies as being expensive until I went there recently. Wow do they have good clearance. This $50 will go a long way!', text_b=None, label=4), InputExample(guid='', text_a='Steak and Shake is always great.', text_b=None, label=4), InputExample(guid='', text_a='Great food with great gift card. Convenient purchase on Amazon.', text_b=None, label=4), InputExample(guid='', text_a='A much healthier option to give to kids who are away at college.', text_b=None, label=4), InputExample(guid='', text_a=\"What's to say? It's a $50 JCP gift card that I purchased on a lightning deal for $40. $10 free bucks, combined with store coupons = extra discount! I used it to get my hair done. Thanks Amazon & JCP!\", text_b=None, label=4), InputExample(guid='', text_a='Great deal', text_b=None, label=4), InputExample(guid='', text_a='This was a great gift and an awesome place to eat with friends or family. I will choose to give this gift card for special occasions and holidays again. It was well received by all.', text_b=None, label=4), InputExample(guid='', text_a='Have to change it to 5 stars because the cashier helped me to exchange a new card. So Nice! Must say terrible shipping!\\n\\nThere is no problem on the card excepting its already damaged. I will try to use it in store to see if I need to return or exchange it', text_b=None, label=4), InputExample(guid='', text_a='Love it!!!! Thanks!!!!', text_b=None, label=4), InputExample(guid='', text_a='Thank you!!', text_b=None, label=4), InputExample(guid='', text_a='was a gift', text_b=None, label=4), InputExample(guid='', text_a='This is the best card for those who like to eat wigs and watch sports on the big screen. Be the hit of the party when you give this to the family.', text_b=None, label=3), InputExample(guid='', text_a='good', text_b=None, label=4), InputExample(guid='', text_a='Nice', text_b=None, label=4), InputExample(guid='', text_a='Works like any other gift card. Got it, it worked.', text_b=None, label=4), InputExample(guid='', text_a=\"Bought this on a lightening deal as a gift for me! Love me some Red Robin. There's not much to say about a gift card- yay it was a great deal! $40 for a $50 gift card. Totally worth it! Thanks Amazon!\", text_b=None, label=4), InputExample(guid='', text_a=\"It is what it says it is, a gift card to Subway. No problems using the card. Giving it 5 stars seems kind of silly, but I don't know that it would be fair to give it anything less.\", text_b=None, label=4), InputExample(guid='', text_a='Red Robin has great burgers, so many to choose from. This gift card is perfect for anyone that enjoys a good burger!', text_b=None, label=4), InputExample(guid='', text_a=\"I bought this to send to my grandson in California. It is his favorite place to eat and his birthday was January9th. Hope the family has a chance to enjoy themselves at this great place. Unfortunately, we don't have them here in NJ.\", text_b=None, label=4), InputExample(guid='', text_a='As a result, I ordered one or two as Christmas gifts.  We were not as enthralled with the restaurant. Not many here in Atlanta', text_b=None, label=2), InputExample(guid='', text_a='This is a great gift idea for anyone in your family! Good selection of restaurant gift cards to choose from and makes a perfect gift!', text_b=None, label=4), InputExample(guid='', text_a='Nice gift for the grandkids on any occasion.', text_b=None, label=4), InputExample(guid='', text_a='Awesome', text_b=None, label=4), InputExample(guid='', text_a=\"What can you say it's a gift card - Shipping was fast.\", text_b=None, label=4), InputExample(guid='', text_a=\"I gift card that's on sale. Grabbed it as a lighting deal so that's the best way to grab them.\", text_b=None, label=4), InputExample(guid='', text_a='Ok', text_b=None, label=4), InputExample(guid='', text_a='Used this as a thank you for a young lady who did some errands for me.  She was really surprised and very grateful.', text_b=None, label=4), InputExample(guid='', text_a='Awesome product and fast delivery!!', text_b=None, label=4), InputExample(guid='', text_a='Outstanding', text_b=None, label=4), InputExample(guid='', text_a='Love it', text_b=None, label=4), InputExample(guid='', text_a='Kids love them', text_b=None, label=4), InputExample(guid='', text_a='Subway cards is a great place to eat Amazon is a great place to shop', text_b=None, label=4), InputExample(guid='', text_a='This gift card was a Christmas gift for a nephew.  He enjoys Subway and their selections are better than most fast food outlets.', text_b=None, label=4), InputExample(guid='', text_a='good', text_b=None, label=4), InputExample(guid='', text_a='Perfect, thank you!', text_b=None, label=4), InputExample(guid='', text_a='Buying gift cards on Amazon is a no brainer and convenient.', text_b=None, label=4), InputExample(guid='', text_a=\"If you are planning on gifting this, then the cosmetic imperfections matter. The card came with scratches on it and the backing was crumpled. The card was stuck crooked on the backing. The card is difficult to check the balance - the # is absurdly long (unlike all the other GCs I've bought recently). If you enter it wrong, the system hangs up on you! Once I managed to enter it right, after having to call it back twice, I was able to check the balance and see that the card was loaded.\", text_b=None, label=1), InputExample(guid='', text_a='Pastrami yum\\nHappy holidays', text_b=None, label=4), InputExample(guid='', text_a='yummy', text_b=None, label=4), InputExample(guid='', text_a='Received this gift card for $20 during a lightning deal.  I know many people are down on Panda Express because it is not \"authentic\" Chinese food but I like the food and this gift card helps purchase some when my funds are a little low.  I buy the gift cards and use them when we normally go or will use them when money is tight right before payday.  The lightning deals are great and will save you between $5 and $20 depending on how much you spend.', text_b=None, label=4), InputExample(guid='', text_a='My girlfriend enjoyed it.', text_b=None, label=4), InputExample(guid='', text_a='used it next day', text_b=None, label=4), InputExample(guid='', text_a='Good', text_b=None, label=4), InputExample(guid='', text_a='Nice one~ I will buy a higher price card', text_b=None, label=4), InputExample(guid='', text_a=\"Can't go wrong with a food gift card. Given to one who enjoys Panda Express!\", text_b=None, label=4), InputExample(guid='', text_a='Great!', text_b=None, label=4), InputExample(guid='', text_a=\"This was part of a graduation gift to my son who was joining the Navy. Instead of the traditional gifts, I got him a bunch of gift cards since he can't any personal possessions with him. These cards allowed him to enjoy going out with his friends and girlfriend for that last month before leaving for boot camp.\", text_b=None, label=4), InputExample(guid='', text_a='No problems! Card came quick and worked just fine. I love Panda Express and was happy with my meal too!', text_b=None, label=4), InputExample(guid='', text_a=\"It is what it says it is, a gift card to Panda Express. No problems using the card. Giving it 5 stars seems kind of silly, but I don't know that it would be fair to give it anything less.\", text_b=None, label=4), InputExample(guid='', text_a='Discounted Panda Express? Yes please! Bought this on a lightning deal, so it was a few bucks off.', text_b=None, label=4), InputExample(guid='', text_a='My, youngest son loves Panda Express, so I bought this for him.', text_b=None, label=4), InputExample(guid='', text_a='Great Deal', text_b=None, label=4), InputExample(guid='', text_a='Came fast, exactly what I needed for my daughters christmas. Very happy.', text_b=None, label=4), InputExample(guid='', text_a='Good card. Good food.', text_b=None, label=4), InputExample(guid='', text_a=\"No problems using these cards so far.  While my husband takes his lunch from home most days, there are times he wants something different or he forgets his lunch.  Being diabetic, he shouldn't skip lunch.  Subway offers variety which fits into his diet.\", text_b=None, label=4), InputExample(guid='', text_a='Panda Express gift cards are a great gift to get. Amazon gets to your mailbox fast..I love to  get fresh hot food when you go to Panda. The people that I gave the gift cards to were amazed to open their gift at Christmas an find a Panda Express card to receive them', text_b=None, label=4), InputExample(guid='', text_a='Yummy', text_b=None, label=4), InputExample(guid='', text_a='Xmas stocking stuffer. Loved it', text_b=None, label=4), InputExample(guid='', text_a='Daughter and Son in Law needed the food they are looking forward to using it', text_b=None, label=4), InputExample(guid='', text_a='great', text_b=None, label=4), InputExample(guid='', text_a='Great item!', text_b=None, label=4), InputExample(guid='', text_a='great', text_b=None, label=4), InputExample(guid='', text_a='Holiday Gift', text_b=None, label=4), InputExample(guid='', text_a='Great item!', text_b=None, label=4), InputExample(guid='', text_a='good', text_b=None, label=4), InputExample(guid='', text_a='I buy my son one of these gift cards to DSW every year, as he will keep his shoes until there are no soles left.', text_b=None, label=4), InputExample(guid='', text_a='Just what my granddaughter wanted.', text_b=None, label=4), InputExample(guid='', text_a='Gift - nothing really to review', text_b=None, label=4), InputExample(guid='', text_a=\"Bought this for a gift my friend loved it.  He can't wait to use the gift card!\\nGod Bless you\", text_b=None, label=3), InputExample(guid='', text_a='ok', text_b=None, label=4), InputExample(guid='', text_a=\"Can't go wrong with this.\", text_b=None, label=4), InputExample(guid='', text_a='like', text_b=None, label=4), InputExample(guid='', text_a='Easy purchase-great gift', text_b=None, label=4), InputExample(guid='', text_a='Great purchase. The Gift card worked very good.', text_b=None, label=4), InputExample(guid='', text_a='Received quickly and no problems!', text_b=None, label=4), InputExample(guid='', text_a=\"It's a gift card. Not much else to say :-)\", text_b=None, label=4), InputExample(guid='', text_a='Good food I love this card', text_b=None, label=4), InputExample(guid='', text_a='This was the perfect purchase for a family member! He has lunch there almost every day during work, so it was definitely the perfect gift. Happily, it was delivered right to his door by Amazon!', text_b=None, label=4), InputExample(guid='', text_a='Gift cards are great', text_b=None, label=4), InputExample(guid='', text_a='Excellent', text_b=None, label=4), InputExample(guid='', text_a='Worked as a gift card should.', text_b=None, label=4), InputExample(guid='', text_a='Perfect and I even used Amazon Points - was mailed right out.', text_b=None, label=4), InputExample(guid='', text_a='Great!', text_b=None, label=4), InputExample(guid='', text_a='fast delivery and card worked', text_b=None, label=4), InputExample(guid='', text_a='This was a Christmas gift which I gave to my father-in-law.  He went to use some of his cards and thery were blank!  You really need to have these cards double checked before shipping.  Arrived as promised!', text_b=None, label=1), InputExample(guid='', text_a='Always a great present.', text_b=None, label=4), InputExample(guid='', text_a='Love it!!', text_b=None, label=4), InputExample(guid='', text_a='great gift', text_b=None, label=4), InputExample(guid='', text_a='Frankly I thought their prices were high so I got socks 70%!', text_b=None, label=4), InputExample(guid='', text_a='fast delivery and card worked', text_b=None, label=4), InputExample(guid='', text_a='Thank you!!', text_b=None, label=4), InputExample(guid='', text_a='good card', text_b=None, label=4), InputExample(guid='', text_a='Good', text_b=None, label=4), InputExample(guid='', text_a='gifts', text_b=None, label=4), InputExample(guid='', text_a='Always a great gift. My favorite kind to get is the veggie one :)', text_b=None, label=4), InputExample(guid='', text_a='Great gift', text_b=None, label=3), InputExample(guid='', text_a='given as a gift', text_b=None, label=4), InputExample(guid='', text_a='We have not used the card yet, but we have been to this restaurant before. The food is pretty good.', text_b=None, label=3), InputExample(guid='', text_a='Great gift for friends, family, co- workers. All of my friends that love to eat at Panda Express really enjoyed this gift card that I included in thier holiday card. I will use this gift card again for special occations for all of my \"Panda Fan\" friends.', text_b=None, label=4), InputExample(guid='', text_a='How can you go wrong with a Subway Gift Card? We all love going there for an occasional lunch or quick dinner. The food is not expensive, can be very healthy if you choose carefully, and the restaurant we go to is always tremendously clean. So, when a teen in our family asked for a gift card as a gift, I had no problem with it. Best of all, it was delivered to her, along with another gift from Amazon! Love it!', text_b=None, label=4), InputExample(guid='', text_a='Worked as it was supposed to. Was able to put them all on my rewards card.', text_b=None, label=4), InputExample(guid='', text_a='Bought it as a gift, The recipient loved it.', text_b=None, label=4), InputExample(guid='', text_a='Son loves subway!!', text_b=None, label=4), InputExample(guid='', text_a='Eat fresh', text_b=None, label=4), InputExample(guid='', text_a='The receiver loved it.', text_b=None, label=4), InputExample(guid='', text_a='Great', text_b=None, label=4), InputExample(guid='', text_a='great', text_b=None, label=4), InputExample(guid='', text_a='Thanks!', text_b=None, label=4), InputExample(guid='', text_a='Works as advertised', text_b=None, label=4), InputExample(guid='', text_a='Great idea for the restaurant lover', text_b=None, label=4), InputExample(guid='', text_a='Good...but the balance too low!', text_b=None, label=3), InputExample(guid='', text_a='cookies, the best a dozen at a time', text_b=None, label=4), InputExample(guid='', text_a='Eat fresh, Subway!. I love their food for convenient lunch and quick dinner. The card design is cool too and looks better than the general card design sold at local stores.', text_b=None, label=4), InputExample(guid='', text_a='works great', text_b=None, label=4), InputExample(guid='', text_a='just what i needed', text_b=None, label=4), InputExample(guid='', text_a='nice product', text_b=None, label=4), InputExample(guid='', text_a='Satisfied', text_b=None, label=4), InputExample(guid='', text_a='great gifts', text_b=None, label=4), InputExample(guid='', text_a='you actually want a review on a gift card?!?!?!', text_b=None, label=0), InputExample(guid='', text_a='So glad Amazon carried these gift cards.', text_b=None, label=4), InputExample(guid='', text_a='Subway makes a goof sandwich for sure. The prices are great and the food is always fresh. The bread options are nice, I like the italian herb personally. Definitely a healthy option when your on the go and want something good for you.', text_b=None, label=3), InputExample(guid='', text_a='great food', text_b=None, label=4), InputExample(guid='', text_a='fast delivery and card worked', text_b=None, label=4), InputExample(guid='', text_a='Thank you!', text_b=None, label=4), InputExample(guid='', text_a='Easy Christmas shopping. My son, who is really hard to buy for, asked for restaurant cards. H likes to take his wife and family out to eat (to give her a break from cooking all the time).', text_b=None, label=4), InputExample(guid='', text_a='Great gift!', text_b=None, label=4), InputExample(guid='', text_a='Great gift but I found out after I purchased this that if you buy the same $25.00 gift card directly from Subway, you get an additional 6 inch sub', text_b=None, label=3), InputExample(guid='', text_a='i like it', text_b=None, label=4), InputExample(guid='', text_a='Love these cards... the whole family enjoys having these cards on hand... and grandson loves having them to grab a quick meal since he is on the go so much.  He really enjoys the great sandwiches, and loves the fresh bread that they bake to make their sandwiches with.', text_b=None, label=4), InputExample(guid='', text_a='Eat fresh sandwich, I prefer subway.', text_b=None, label=4), InputExample(guid='', text_a='Great Gift to my Niece, she very happy with this for she is vegetarian and they have lots of veggies to pick from for her sandwich', text_b=None, label=4), InputExample(guid='', text_a='Love Subway.  Convenient to use.', text_b=None, label=4), InputExample(guid='', text_a='Gift Card Worked.', text_b=None, label=4), InputExample(guid='', text_a='A great gift idea!', text_b=None, label=4), InputExample(guid='', text_a='good gift', text_b=None, label=4), InputExample(guid='', text_a='Perfect', text_b=None, label=4), InputExample(guid='', text_a='Gift', text_b=None, label=4), InputExample(guid='', text_a='great', text_b=None, label=4), InputExample(guid='', text_a='GreAT GIFT', text_b=None, label=4), InputExample(guid='', text_a='Always a great gift for those that like Subway.', text_b=None, label=4), InputExample(guid='', text_a='Great gift', text_b=None, label=4), InputExample(guid='', text_a='Great Item! Great Gift!', text_b=None, label=4), InputExample(guid='', text_a='This is for my husband to use for lunches when he really needs to get out of the office for a break.', text_b=None, label=3), InputExample(guid='', text_a='one of my faves', text_b=None, label=4), InputExample(guid='', text_a='This gift card was timely received in good condition & was properly credited with the amount indicated. I was happy with this purchase', text_b=None, label=4), InputExample(guid='', text_a='I thought this would be a hit for several people but not so.  The quality differs tremendously by store.  For instance, the one in Highlands, N. C. is excellent - ingredients always fresh; very clean, etc.  We stopped at several in Fla. and were very disappointed.  The veggies looks \"whipped out\" and the over-all ambience of the place was negative.  No ore SUBWAY gift certs.', text_b=None, label=2), InputExample(guid='', text_a='ok', text_b=None, label=4), InputExample(guid='', text_a='nice!', text_b=None, label=4), InputExample(guid='', text_a='great product', text_b=None, label=4), InputExample(guid='', text_a='Love amazon lighting deal gift cards! These were small and super cute. Perfect for gifting!', text_b=None, label=4), InputExample(guid='', text_a='Great gift', text_b=None, label=4), InputExample(guid='', text_a=\"A gift, for my son's birthday.\", text_b=None, label=4), InputExample(guid='', text_a='gift', text_b=None, label=4), InputExample(guid='', text_a='Great', text_b=None, label=4), InputExample(guid='', text_a='gifts', text_b=None, label=4), InputExample(guid='', text_a='Whats not to love about a gift card?', text_b=None, label=4), InputExample(guid='', text_a='Loved it', text_b=None, label=4), InputExample(guid='', text_a='Amazon made it easy for me to solve the the late Christmas present issue; Knowing which restaurants & stores the prospective recipients favoured, I sent 2-3 gift card per person.\\nWhat I like best about amazon is that no fees were charged for electronic delivery.\\n(Compare to buying a gift certificate from a Mall or some outlets who charge up to 5%).', text_b=None, label=4), InputExample(guid='', text_a=\"it's a gift card....\", text_b=None, label=4), InputExample(guid='', text_a='Great deal during the holidays when you can get it for $40 and can be upload to your Samsung Pay device so no more lugging around a gift card.', text_b=None, label=4), InputExample(guid='', text_a='GREAT GIFT', text_b=None, label=4), InputExample(guid='', text_a='The food there is better than average, but I still like Texas Roadhouse which is cheaper than Outback on many steak menus. The gift card purchase on Amazon is a great saving.', text_b=None, label=3), InputExample(guid='', text_a='Woof meow. Thanks\\nHappy holidays', text_b=None, label=4), InputExample(guid='', text_a='As expected', text_b=None, label=4), InputExample(guid='', text_a='Good...!!!', text_b=None, label=4), InputExample(guid='', text_a=\"I saw this on Amazon's deal of the day. $40 for a $50 gift card. What a deal! I have a free blooming onion coupon. Cant wait to go!\", text_b=None, label=4), InputExample(guid='', text_a='Bought as a gift! They loved it!!', text_b=None, label=4), InputExample(guid='', text_a='Satisfied', text_b=None, label=4), InputExample(guid='', text_a='Great gift card to give to someone as a present.', text_b=None, label=4), InputExample(guid='', text_a=\"(IT WORKS!!!) ==well like other gift cards ive read reviews about, its all about IT BETTER BE ACTIVATED IT BETTER HAVE FUNDS ON IT\\nif I don't edit/write back then all went well...\\nbut some reviews on various cards are freaking nightmares I tell you what.\", text_b=None, label=4), InputExample(guid='', text_a='Thank you!!', text_b=None, label=4), InputExample(guid='', text_a='Loved!', text_b=None, label=4), InputExample(guid='', text_a='Great cards. fast delivery', text_b=None, label=4), InputExample(guid='', text_a='$50 dollar give card what else can be said we used it at there higher end steakhouse Felmings', text_b=None, label=4), InputExample(guid='', text_a='Our cats love this place.', text_b=None, label=4), InputExample(guid='', text_a='Worked', text_b=None, label=4), InputExample(guid='', text_a='Makes the dogs happy, lol!', text_b=None, label=4), InputExample(guid='', text_a='I spoil my puppy', text_b=None, label=4), InputExample(guid='', text_a='I used them on our vacation.', text_b=None, label=4), InputExample(guid='', text_a='fast delivery and card worked', text_b=None, label=4), InputExample(guid='', text_a=\"I was never a fan of outback but I recently ate here after using my gift card and the food was really good. There's nothing like the bloomin onion its so damn good. The cheeseburgers are great and a decent size. Overall Outback is definitely one of the better chain restaurants out there.\", text_b=None, label=3), InputExample(guid='', text_a=\"I'm so glad Amazon offers these gift cards as I use them for the older folks in my life when I mail them their holiday cards.\", text_b=None, label=4), InputExample(guid='', text_a='Outback Steakhouse is pretty good...and I like it much better than the very similar Lonestar Restaraunt.  Aussie cheese fries, anyone?', text_b=None, label=4), InputExample(guid='', text_a='Must include a gift for my Cats under the Christmas tree. This Petco gift card was a great choice. It can be used in the store or online. I bought my pets lots of great goodies after Christmas and they are happy.', text_b=None, label=4), InputExample(guid='', text_a='This gift card was timely received in good condition & was properly credited with the amount indicated. I was happy with this purchase', text_b=None, label=4), InputExample(guid='', text_a=\"My husband loves Outback and other steak houses.  Food is abundant and good.  Only drawback is, if you don't go EARLY, the wait is long.  However, I will give this again.\", text_b=None, label=4), InputExample(guid='', text_a='Great gift, when you cannot think of what to get someone but you know them enough to know where they dine.', text_b=None, label=4), InputExample(guid='', text_a='Worked as it should', text_b=None, label=4), InputExample(guid='', text_a='fast delivery and card worked', text_b=None, label=4), InputExample(guid='', text_a='made my son happy', text_b=None, label=4), InputExample(guid='', text_a='Amazon made it easy for me to solve the the late Christmas present issue; Knowing which restaurants & stores the prospective recipients favoured, I sent 2-3 gift card per person.\\nWhat I like best about amazon is that no fees were charged for electronic delivery.\\n(Compare to buying a gift certificate from a Mall or some outlets who charge up to 5%).', text_b=None, label=4), InputExample(guid='', text_a='Received quickly and had no problems!', text_b=None, label=4), InputExample(guid='', text_a='Very great place to eat', text_b=None, label=4), InputExample(guid='', text_a='Arrived quick easy to use', text_b=None, label=4), InputExample(guid='', text_a='Gift', text_b=None, label=4), InputExample(guid='', text_a='This was a gift', text_b=None, label=3), InputExample(guid='', text_a='Easy to use', text_b=None, label=4), InputExample(guid='', text_a='hope Emily is using this nice gift', text_b=None, label=4), InputExample(guid='', text_a='so easy', text_b=None, label=4), InputExample(guid='', text_a='Perfect gift for someone. Came on time as promised', text_b=None, label=4), InputExample(guid='', text_a='Purchased as holiday gift. Wonderful item.', text_b=None, label=4), InputExample(guid='', text_a='Bought for my grand daughter she loves Sephora.', text_b=None, label=4), InputExample(guid='', text_a='great', text_b=None, label=4), InputExample(guid='', text_a='This was a gift.', text_b=None, label=4), InputExample(guid='', text_a='Item is as pictured.', text_b=None, label=4), InputExample(guid='', text_a=\"It is what it says it is, a gift card to Sephora. No problems using the card. Giving it 5 stars seems kind of silly, but I don't know that it would be fair to give it anything less.\", text_b=None, label=4), InputExample(guid='', text_a='Amazon made it easy for me to solve the the late Christmas present issue; Knowing which restaurants & stores the prospective recipients favoured, I sent 2-3 gift card per person.\\nWhat I like best about amazon is that no fees were charged for electronic delivery.\\n(Compare to buying a gift certificate from a Mall or some outlets who charge up to 5%).', text_b=None, label=4), InputExample(guid='', text_a='Works as advertised', text_b=None, label=4), InputExample(guid='', text_a='Made nice Christmas gift', text_b=None, label=4), InputExample(guid='', text_a='What can someone say about a gift card... Can use anytime...', text_b=None, label=4), InputExample(guid='', text_a='My Grand daughter was very happy with this.', text_b=None, label=4), InputExample(guid='', text_a='Perfect, thank you!', text_b=None, label=4), InputExample(guid='', text_a='Perfect', text_b=None, label=4), InputExample(guid='', text_a='They are gift cards.', text_b=None, label=4), InputExample(guid='', text_a='A gift for my grand daughter.', text_b=None, label=4), InputExample(guid='', text_a='she loved it', text_b=None, label=4), InputExample(guid='', text_a='no mall = winning.  Love that Amazon sells gift cards!', text_b=None, label=4), InputExample(guid='', text_a='Perfect for gift giving!!!', text_b=None, label=4), InputExample(guid='', text_a='fast delivery and card worked', text_b=None, label=4), InputExample(guid='', text_a=\"what's not to like about sephora\", text_b=None, label=4), InputExample(guid='', text_a=\"What can you say it's a gift card - Shipping was fast.\", text_b=None, label=4), InputExample(guid='', text_a='My daughter loved using this card for the great products they have at Sephora !!!!!', text_b=None, label=4), InputExample(guid='', text_a='GREAT GIFT!!!!!!!!!!', text_b=None, label=4), InputExample(guid='', text_a='The card came as expected and on time.', text_b=None, label=3), InputExample(guid='', text_a='This gift card was timely received in good condition & was properly credited with the amount indicated. I was happy with this purchase', text_b=None, label=4), InputExample(guid='', text_a='My neice loved this; my daughter wished she had one. Next year, I will include my daughter and up the amt.', text_b=None, label=4), InputExample(guid='', text_a='This was a CHRISTmas gift my daughter loved the girt card!  One of her favorite places to shop!\\nGOD BLESS!', text_b=None, label=3), InputExample(guid='', text_a='This will make the perfect gift for those family members who live out of town and you want them to have the choice of great make-up or perfume.', text_b=None, label=3), InputExample(guid='', text_a='Excellent product. Arrived on time and as described.', text_b=None, label=4), InputExample(guid='', text_a='great', text_b=None, label=4), InputExample(guid='', text_a='Great addition to Christmas!', text_b=None, label=4), InputExample(guid='', text_a='gift', text_b=None, label=4), InputExample(guid='', text_a='Does what a gift card should :)', text_b=None, label=4), InputExample(guid='', text_a='Granddaughter loved this!', text_b=None, label=4), InputExample(guid='', text_a='Seemed rather ordinary but nice for presentation.', text_b=None, label=4), InputExample(guid='', text_a='Pretty good!', text_b=None, label=4), InputExample(guid='', text_a='Is as advertised', text_b=None, label=4), InputExample(guid='', text_a='very nice', text_b=None, label=4), InputExample(guid='', text_a='Great gift, cute box', text_b=None, label=4), InputExample(guid='', text_a='Very nice!  I use them every year.', text_b=None, label=4), InputExample(guid='', text_a='everyone lived this for christmas better thqn just a plain naked card to give them', text_b=None, label=4), InputExample(guid='', text_a=\"LOL!\\nWho wouldn't love an Amazon gift card???!!!  The ornament card holder added to the gift.  :-)\\n\\nDefinitely recommend.\", text_b=None, label=4), InputExample(guid='', text_a='excelent', text_b=None, label=4), InputExample(guid='', text_a='Amazon rocks.  Makes everyone happy.', text_b=None, label=4), InputExample(guid='', text_a='Thank you!', text_b=None, label=4), InputExample(guid='', text_a='Great Christmas gift for anyone - especially a teenager -- who knows what they really want?', text_b=None, label=4), InputExample(guid='', text_a='great gift and the tin is very nice', text_b=None, label=4), InputExample(guid='', text_a='Gift', text_b=None, label=4), InputExample(guid='', text_a='Perfect gift', text_b=None, label=4), InputExample(guid='', text_a='very happy', text_b=None, label=4), InputExample(guid='', text_a='great!', text_b=None, label=4), InputExample(guid='', text_a='Perfect', text_b=None, label=4), InputExample(guid='', text_a='My 11 grandchildren love to receive amazon gift cards to shop online!  I get them for Birthdays and Christmas!', text_b=None, label=4), InputExample(guid='', text_a='Gift.', text_b=None, label=2), InputExample(guid='', text_a='They love the Amazon cards. Amazon needs to add more choices in the gift boxes', text_b=None, label=4), InputExample(guid='', text_a=\"Great gift, couldn't be easier!\", text_b=None, label=4), InputExample(guid='', text_a='Gift - tins were very nice', text_b=None, label=4), InputExample(guid='', text_a='wish they labeled the $ on the card. i got a giant box of 17 at various $ amounts and i had to call each card to make sure i gift the correct card to the right person.', text_b=None, label=2), InputExample(guid='', text_a='Loved it!  Made the gift card special.', text_b=None, label=4), InputExample(guid='', text_a='discreet holiday-giving... the contents were most-welcome.', text_b=None, label=3), InputExample(guid='', text_a='gift', text_b=None, label=4), InputExample(guid='', text_a=\"What's not to love\", text_b=None, label=4), InputExample(guid='', text_a=\"This little tin is very festive and cute, and can be reused multiple times.  I like that it can hang from the tree like a real ornament.  Plus, who doesn't love an Amazon gift card?!\", text_b=None, label=4), InputExample(guid='', text_a='Nor much to judge on a gift card.', text_b=None, label=4), InputExample(guid='', text_a='One of a nice variety of well-make tins. They beat the alternatives for gift cards -- not to mention cold cash.', text_b=None, label=4), InputExample(guid='', text_a='Loved it', text_b=None, label=4), InputExample(guid='', text_a='Bought many, many Amazon gift cards this year. Love the selection of tins available and everyone can choose their own gift - without leaving home.', text_b=None, label=4), InputExample(guid='', text_a='nice tin', text_b=None, label=4), InputExample(guid='', text_a='as described would purchase again', text_b=None, label=4), InputExample(guid='', text_a='great GIFT. KEPT A FEW FOR MYSELF', text_b=None, label=4), InputExample(guid='', text_a='cowards way out for Christmas, but I am sure it is liked more than any other present  I could have picked out', text_b=None, label=4), InputExample(guid='', text_a='These tin can guft card holders are super cute and can be used for misc. things after they use the card. Love it!', text_b=None, label=4), InputExample(guid='', text_a=\"She's said she never had so much fun shopping for herself for CHRISTMASAs she did with that gift card\", text_b=None, label=4), InputExample(guid='', text_a='It can hang from the tree!', text_b=None, label=4), InputExample(guid='', text_a=\"What's to say it's a gift\", text_b=None, label=4), InputExample(guid='', text_a='Happy with Gift Card..BUT....  There was NO* Bow on container', text_b=None, label=3), InputExample(guid='', text_a='convenient gift', text_b=None, label=4), InputExample(guid='', text_a=\"It's okay. Works fine. Ribbon bent.\", text_b=None, label=2), InputExample(guid='', text_a='PERFECT', text_b=None, label=4), InputExample(guid='', text_a='Love the different gift tins offered, free of charge.', text_b=None, label=4), InputExample(guid='', text_a='came as expected', text_b=None, label=4), InputExample(guid='', text_a='Gift was well-received.', text_b=None, label=4), InputExample(guid='', text_a='Perfect!', text_b=None, label=4), InputExample(guid='', text_a='Great for the tree', text_b=None, label=4), InputExample(guid='', text_a='Excellent product and item as described; very fast ship.', text_b=None, label=4), InputExample(guid='', text_a='This is a nice gift card container, and Amazon gift cards are a great present for any occasion.  I love giving and receiving Amazon gift cards.  They are the perfect gift!!!', text_b=None, label=4), InputExample(guid='', text_a='Good', text_b=None, label=4), InputExample(guid='', text_a='Better than some of the tins, but not great.', text_b=None, label=2), InputExample(guid='', text_a='GREAT GIFT', text_b=None, label=4), InputExample(guid='', text_a='Very Cute!', text_b=None, label=4), InputExample(guid='', text_a='The design of the card and gift box are so nice and pretty. This is a perfect gift for your lovely family members or friends.', text_b=None, label=4), InputExample(guid='', text_a='Um, I am not sure why I have to write a review as it is a gift card. Seems a little unnecessary, but here it goes....card worked awesome. I was able to buy stuff from Texas Roadhouse....', text_b=None, label=4), InputExample(guid='', text_a='Gave as a gift', text_b=None, label=4), InputExample(guid='', text_a='Great', text_b=None, label=4), InputExample(guid='', text_a='GREAT FOR THE KIDS FOR CHRISTMAS.', text_b=None, label=4), InputExample(guid='', text_a='thanks', text_b=None, label=4), InputExample(guid='', text_a='This was a gift.', text_b=None, label=4), InputExample(guid='', text_a='cant go wrong with gift cards', text_b=None, label=4), InputExample(guid='', text_a='Perfect gift idea', text_b=None, label=4), InputExample(guid='', text_a='works great', text_b=None, label=4), InputExample(guid='', text_a='Pretty good!', text_b=None, label=4), InputExample(guid='', text_a=':)', text_b=None, label=4), InputExample(guid='', text_a='great', text_b=None, label=4), InputExample(guid='', text_a='Great gift', text_b=None, label=4), InputExample(guid='', text_a='A great gift idea!', text_b=None, label=4), InputExample(guid='', text_a='YOU CAN NEVER GO WRONG WITH FOOD GIFT CARDS.', text_b=None, label=4), InputExample(guid='', text_a='Great', text_b=None, label=4), InputExample(guid='', text_a='Good value', text_b=None, label=4), InputExample(guid='', text_a='Item as described, arrived on time.', text_b=None, label=4), InputExample(guid='', text_a='Grandma love it', text_b=None, label=4), InputExample(guid='', text_a='all good', text_b=None, label=4), InputExample(guid='', text_a='Great gift', text_b=None, label=4), InputExample(guid='', text_a='This was a gift, to my oldest son.  He lives in the Chicago area and there is a Texas Roadhouse.', text_b=None, label=4), InputExample(guid='', text_a='exactly what I wanted', text_b=None, label=4), InputExample(guid='', text_a='This was a gift and came just as described.', text_b=None, label=4), InputExample(guid='', text_a='Good', text_b=None, label=4), InputExample(guid='', text_a='Good gift', text_b=None, label=4), InputExample(guid='', text_a='good', text_b=None, label=4), InputExample(guid='', text_a='Always a great present.', text_b=None, label=4), InputExample(guid='', text_a='Good place to eat', text_b=None, label=4), InputExample(guid='', text_a='gifts', text_b=None, label=4), InputExample(guid='', text_a='Great food here', text_b=None, label=4), InputExample(guid='', text_a='Delivered as expected!', text_b=None, label=4), InputExample(guid='', text_a='Its a gift card.', text_b=None, label=4), InputExample(guid='', text_a=\"Who wouldn't love a gift card to Texas Roadhouse.\", text_b=None, label=4), InputExample(guid='', text_a=\"Arrived a day late even though Amazon Prime stated 2 day.......not happy. It's a gift card....what else is there to say?\", text_b=None, label=4), InputExample(guid='', text_a='Great stocking stuffer', text_b=None, label=4), InputExample(guid='', text_a='Love it!!!! Thanks!!!!', text_b=None, label=4), InputExample(guid='', text_a='fast delivery and card worked', text_b=None, label=4), InputExample(guid='', text_a='Thank you!!', text_b=None, label=4), InputExample(guid='', text_a='This gift card was a gift and it was enjoyed immensely.', text_b=None, label=4), InputExample(guid='', text_a='Great food. Favorite restaurant !', text_b=None, label=4), InputExample(guid='', text_a=\"It's a gift card. Do I really need to say more?\\n\\nGo get yourself some steak and stop reading this...\", text_b=None, label=4), InputExample(guid='', text_a='The food there was really good. Buy gift cards on Amazon can save money with 5 percent cash back bonus.', text_b=None, label=4), InputExample(guid='', text_a='This was a Gift and a Great place to eat for my Sis and Husband I am sure they will enjoy the steaks', text_b=None, label=4), InputExample(guid='', text_a='one of my faves', text_b=None, label=4), InputExample(guid='', text_a='The absolutely best part of going to Texas Roadhouse is the Cinnamon Butter on the rolls!  I could leave after that and it would be a good outing.', text_b=None, label=4), InputExample(guid='', text_a=\"I loved that I could have the option to get this from amazon and send it to my family that's really enjoys Texas Roadhouse. Made a perfect gift for everyone!\", text_b=None, label=4), InputExample(guid='', text_a='This was a Christmas gift for my sister & brother-in-law.  One of the few things that they like.  Shipping was prompt!', text_b=None, label=4), InputExample(guid='', text_a='Always send these to my nephew who lives in a group home.  He loves to treat his housemates to pizza.', text_b=None, label=4), InputExample(guid='', text_a='worked great', text_b=None, label=4), InputExample(guid='', text_a='Great', text_b=None, label=4), InputExample(guid='', text_a='Christmas Gift', text_b=None, label=4), InputExample(guid='', text_a='Great gift for a HUNGRY friend. My friend LOVED my\\n\"thoughtfulness\"... I sent another one.\\n\\nThoughtful GIF idea: a GIFTCARD! Who\\'d\\'ve thunk it?', text_b=None, label=4), InputExample(guid='', text_a='Card works just fine', text_b=None, label=4), InputExample(guid='', text_a='Best pizza', text_b=None, label=4), InputExample(guid='', text_a='exactly what I wanted', text_b=None, label=4), InputExample(guid='', text_a='My girlfriend enjoyed it.', text_b=None, label=4), InputExample(guid='', text_a='I am very pleased with each order of gift cards I receive. I have even encouraged others to start collecting them as a gift for others. The turnaround is very fast too', text_b=None, label=4), InputExample(guid='', text_a='Love it.', text_b=None, label=4), InputExample(guid='', text_a='Satisfied.', text_b=None, label=3), InputExample(guid='', text_a='Money for pizza', text_b=None, label=4), InputExample(guid='', text_a='Great deal', text_b=None, label=4), InputExample(guid='', text_a='Dominoes is the best', text_b=None, label=4), InputExample(guid='', text_a='GREAT', text_b=None, label=4), InputExample(guid='', text_a='Love it!', text_b=None, label=4), InputExample(guid='', text_a='Good...but the balance too low!', text_b=None, label=3), InputExample(guid='', text_a='late night cravings', text_b=None, label=4), InputExample(guid='', text_a='Got on deal of the day for $17', text_b=None, label=4), InputExample(guid='', text_a=\"Domnio's is always good for a basic pizza, everyone will eat it and the prices are very reasonable. This pizza won't blow you away but it's definitely not bad either. Overall this gift card would make a great gift for anyone since their are  a ton of locations everywhere and it is very affordable.\", text_b=None, label=3), InputExample(guid='', text_a='Made the perfect gift!', text_b=None, label=4), InputExample(guid='', text_a='Nice to have for any gift that might come up like birthdays for grandchildren as a extra.', text_b=None, label=4), InputExample(guid='', text_a=\"Excellent pizza.  It is also a favorite of the person\\nwho received it. Getting this via mail service was\\na big help as I wasn't able to go out and shop.\", text_b=None, label=4), InputExample(guid='', text_a='This gift card was timely received in good condition & was properly credited with the amount indicated. I was happy with this purchase.', text_b=None, label=4), InputExample(guid='', text_a='great gifts', text_b=None, label=4), InputExample(guid='', text_a='as promised.', text_b=None, label=4), InputExample(guid='', text_a='thanks', text_b=None, label=4), InputExample(guid='', text_a=':) great gift', text_b=None, label=4), InputExample(guid='', text_a='Yes', text_b=None, label=4), InputExample(guid='', text_a='They are gift cards.', text_b=None, label=4), InputExample(guid='', text_a='Perfect gift for coworkers...especially with so many great movies out around the holiday season.', text_b=None, label=4), InputExample(guid='', text_a='Theres are really great to have on hand when u have nothing to do on a weekend.', text_b=None, label=4), InputExample(guid='', text_a='My youngest son, 39 years old, loves the movies and goes every week.  He should review movies, all his friends contact him, to see if the movies was worth going to.  He was in Houston, which has AMC Theaters, so I bought them for him.  He lives in Richmond , Virginia which does not have AMC.  He goes to DC to use the cards also.', text_b=None, label=4), InputExample(guid='', text_a='Gave sets of 60.00 to nieces and nephews who have children - good family outing.  Got a call from Washington, D. C. area last night telling me how much they like it.', text_b=None, label=4), InputExample(guid='', text_a='I like that you can get a 3 pack. It will be for gifts so I can split them up. Very convenient for me.', text_b=None, label=3), InputExample(guid='', text_a='Arrived quick easy to use', text_b=None, label=4), InputExample(guid='', text_a='good.', text_b=None, label=3), InputExample(guid='', text_a='Can you use Whole Food gift gard on Amazon purchaes?', text_b=None, label=4), InputExample(guid='', text_a='great', text_b=None, label=4), InputExample(guid='', text_a='Excellent $25 gift card for Whole Foods. I was able to purchase a gallon of milk and a box of cereal and STILL managed to have a few cents left over on the card for next time!\\n\\nGreat value!', text_b=None, label=4), InputExample(guid='', text_a='Easy to use', text_b=None, label=4), InputExample(guid='', text_a='It would be nice you could get bonuses for buying gift cards from retailers', text_b=None, label=4), InputExample(guid='', text_a=\"Love Cap D's\", text_b=None, label=4), InputExample(guid='', text_a='Perfect for me! right near me and love their products', text_b=None, label=4), InputExample(guid='', text_a='Amazon made it easy for me to solve the the late Christmas present issue; Knowing which restaurants & stores the prospective recipients favoured, I sent 2-3 gift card per person.\\nWhat I like best about amazon is that no fees were charged for electronic delivery.\\n(Compare to buying a gift certificate from a Mall or some outlets who charge up to 5%).', text_b=None, label=4), InputExample(guid='', text_a='What can someone say about a gift card... Can use anytime...', text_b=None, label=4), InputExample(guid='', text_a='Just for my parents benefits', text_b=None, label=3), InputExample(guid='', text_a='Nightmare. Avoid at all costs, Amazon and Wholefoods do not sell good gift cards online. Major hassle lots of embarrassing situations.', text_b=None, label=0), InputExample(guid='', text_a='Love, love, love these!! Great gifts!!!', text_b=None, label=4), InputExample(guid='', text_a='Great', text_b=None, label=3), InputExample(guid='', text_a='Glad to find Wholefood gift card on Amazon. +++', text_b=None, label=4), InputExample(guid='', text_a='Love these come in handy when I need to run into a store, and pick up some lunch or dinner at their food bars. The prices may be a bit high but so worth it! especially if you single like good organics. Great gift idea for those who are picky to shop for love gift cards so easy. So far I have had no problems with the first two I had purchased earlier this year the balance was as it said, and the cashier just scanned it without any problems :)', text_b=None, label=4), InputExample(guid='', text_a='I, purchased this for my teenage granddaughter named Claire.. who loves to shop..She loves surprise s. I try to keep gift cards on hand just because they are special!!!', text_b=None, label=4), InputExample(guid='', text_a=\"Saved a trip to the mall. What's not to love?\", text_b=None, label=4), InputExample(guid='', text_a=\"I got this on deal of the day for $16! I was happy.\\n\\nMy daughter loves Claire's and they have such great deals, this will be a fun birthday present!\", text_b=None, label=4), InputExample(guid='', text_a='CHRISTMAS GIFT', text_b=None, label=4), InputExample(guid='', text_a='great', text_b=None, label=4), InputExample(guid='', text_a=\"Like them haven't use them yet\", text_b=None, label=4), InputExample(guid='', text_a='Holiday Gift', text_b=None, label=4), InputExample(guid='', text_a='This was a great gift to give!', text_b=None, label=4), InputExample(guid='', text_a='great price used them all right away. wish i could buy more', text_b=None, label=4), InputExample(guid='', text_a='gift', text_b=None, label=4), InputExample(guid='', text_a='good card', text_b=None, label=4), InputExample(guid='', text_a='These cards are always the best', text_b=None, label=4), InputExample(guid='', text_a='I have them\\nLike to buy cards before I travel', text_b=None, label=4), InputExample(guid='', text_a=\"Love Applebee's!\", text_b=None, label=4), InputExample(guid='', text_a='Perfect raffle prizes', text_b=None, label=4), InputExample(guid='', text_a='This is a good value.  We frequently pick one up for lunch or dinner.  My husband got it and has already \"spent it.\"  Next year, I will get several of these.', text_b=None, label=4), InputExample(guid='', text_a=\"It's absolutely amazing. I bought this gift card for a $25 value and when it arrived, it had $25 credit value on it!! Can you believe it!! Nice to see a product that works these days!! And yes, I a being sarcastic!! Do we really need to rate a gift card?\", text_b=None, label=4), InputExample(guid='', text_a='Great', text_b=None, label=4), InputExample(guid='', text_a='worked well', text_b=None, label=4), InputExample(guid='', text_a='works!', text_b=None, label=4), InputExample(guid='', text_a='I am giving this as a graduation gift with other gift cards. This card came all beat up and barely attached to the holder. It does not look new. Very upset. It looks horrible. Someone used this and I have no other option but to give it as graduation is this weekend.', text_b=None, label=1), InputExample(guid='', text_a='These are great for TIMES OF NEED donations!', text_b=None, label=4), InputExample(guid='', text_a='Great card and great price!!!', text_b=None, label=4), InputExample(guid='', text_a='yum', text_b=None, label=4), InputExample(guid='', text_a='Great!', text_b=None, label=4), InputExample(guid='', text_a='good', text_b=None, label=4), InputExample(guid='', text_a='Gift Card Worked.', text_b=None, label=4), InputExample(guid='', text_a=\"Burger's Burger's Burger's!!!!!!!!!!\", text_b=None, label=4), InputExample(guid='', text_a='Pleased with purchases of card', text_b=None, label=4), InputExample(guid='', text_a='Item as described, arrived on time.', text_b=None, label=4), InputExample(guid='', text_a='Kids love them', text_b=None, label=4), InputExample(guid='', text_a='great', text_b=None, label=4), InputExample(guid='', text_a='more fooood', text_b=None, label=4), InputExample(guid='', text_a='My girlfriend enjoyed it.', text_b=None, label=4), InputExample(guid='', text_a='This worked just as it should. Would order again.', text_b=None, label=4), InputExample(guid='', text_a='Item as described and very useful for last minute meal', text_b=None, label=4), InputExample(guid='', text_a='Easy to use, no need to carry cash, swipe and go, what else can be said really.', text_b=None, label=4), InputExample(guid='', text_a='The card arrived as described and helped out on a quick meal on an unexpected trip.', text_b=None, label=4), InputExample(guid='', text_a=\"CARD BETTER HAVE FUNDS ON IT ive ready too many reviews fore this and other to know that s*** sometimes happens, that it, people get cards and they have no funds on them... so we'll see... if no editing, then funds were there\", text_b=None, label=4), InputExample(guid='', text_a='Great product!!!', text_b=None, label=4), InputExample(guid='', text_a='We will use it for our road trip, and they have coupons in the paper!', text_b=None, label=4), InputExample(guid='', text_a='Always a Great gift for all', text_b=None, label=4), InputExample(guid='', text_a='Great purchase. The Gift card worked very good.', text_b=None, label=4), InputExample(guid='', text_a='good', text_b=None, label=4), InputExample(guid='', text_a='If you like burgers this place is the place to go', text_b=None, label=4), InputExample(guid='', text_a='Gift', text_b=None, label=4), InputExample(guid='', text_a='gifts', text_b=None, label=4), InputExample(guid='', text_a='Worked as it was supposed to', text_b=None, label=4), InputExample(guid='', text_a='LOVE IT', text_b=None, label=4), InputExample(guid='', text_a='Love burger king', text_b=None, label=4), InputExample(guid='', text_a='bought for christmas gift', text_b=None, label=4), InputExample(guid='', text_a='yum, yum', text_b=None, label=4), InputExample(guid='', text_a='Worked as it should', text_b=None, label=4), InputExample(guid='', text_a='Good...!!!', text_b=None, label=4), InputExample(guid='', text_a='Just what I wanted', text_b=None, label=4), InputExample(guid='', text_a=\"I love Burger King. Who wouldn't want this as a gift?!? There are so many different options on the menu from coffee to dessert to your meals, anyone would like getting this as a gift!\", text_b=None, label=4), InputExample(guid='', text_a='fast delivery and card worked', text_b=None, label=4), InputExample(guid='', text_a='Grandkids like these as a gift from grandma like on Halloween, Birthday, Christmas etc. Makes me feel good inside too.when they are happy.', text_b=None, label=4), InputExample(guid='', text_a='I used them on our vacation.', text_b=None, label=4), InputExample(guid='', text_a=\"This card was very convenient when we didn't want to carry cash with us. My husband used the leftover for lunches.\", text_b=None, label=3), InputExample(guid='', text_a='one of my faves', text_b=None, label=4), InputExample(guid='', text_a=\"Fun gift card. The kids loved this for the holidays and so did my husband. A little treat for them from our usual very healthy home diet, yet doesn't tempt me!  Perfect gift for everyone.\", text_b=None, label=2), InputExample(guid='', text_a='This gift card was timely received in good condition & was properly credited with the amount indicated. I was happy with this purchase', text_b=None, label=4), InputExample(guid='', text_a='great product from a great seller!!!!', text_b=None, label=4), InputExample(guid='', text_a='Great dining for parents', text_b=None, label=3), InputExample(guid='', text_a=\"I love getting these as gifts, so far everyone I've given them to likes them. Thanks for having them available!!!\", text_b=None, label=4), InputExample(guid='', text_a='Item as described, arrived on time.', text_b=None, label=4), InputExample(guid='', text_a='loved it', text_b=None, label=4), InputExample(guid='', text_a=\"Discounted and we love O'Charleys!\", text_b=None, label=4), InputExample(guid='', text_a='Good gift card. Good food!', text_b=None, label=4), InputExample(guid='', text_a='Great gift', text_b=None, label=4), InputExample(guid='', text_a='Granddaughters loved it!!!', text_b=None, label=4), InputExample(guid='', text_a='Love this place', text_b=None, label=4), InputExample(guid='', text_a='They are gift cards. What can you say?', text_b=None, label=4), InputExample(guid='', text_a=\"Hmm not sure how to comment for gift cards, except to say that I love being able to order online, it ships securely and easy to me, and I don't have to wait in line at a store.\", text_b=None, label=4), InputExample(guid='', text_a='Very happy with purchase!', text_b=None, label=4), InputExample(guid='', text_a='gift', text_b=None, label=4), InputExample(guid='', text_a='gifts for christmas', text_b=None, label=4), InputExample(guid='', text_a='I like the fact that they come in a multi pack. I will split them up for gifts and keep 1 for myself. It will give me the incentive to stop at the nearby Cold Stone since I always forget and I crave it often.', text_b=None, label=3), InputExample(guid='', text_a='ok', text_b=None, label=4), InputExample(guid='', text_a='Used all on my vacation', text_b=None, label=4), InputExample(guid='', text_a='Holiday gifts', text_b=None, label=4), InputExample(guid='', text_a='loved it', text_b=None, label=4), InputExample(guid='', text_a='loved it', text_b=None, label=4), InputExample(guid='', text_a='friends will love them', text_b=None, label=4), InputExample(guid='', text_a='Who does not love IHOP?', text_b=None, label=4), InputExample(guid='', text_a='The perfect card for a family.  With limited choices of restraints in there area. Plus they enjoy eating at IHOP Thanks for offering on Amazon it was delivered in less then 24 hoursi', text_b=None, label=4), InputExample(guid='', text_a='These were a hit when my grands went back to school..I gave each one a gift card for the first day great turnaround', text_b=None, label=4), InputExample(guid='', text_a='I get these cards so I can treat my husband to breakfast', text_b=None, label=4), InputExample(guid='', text_a='Gave to someone for a birthday gift. they loved it. Happy with my purchase', text_b=None, label=4), InputExample(guid='', text_a='I will take a $30 gift card for $25 any day!!! Basically $5 for free. Love it.', text_b=None, label=4), InputExample(guid='', text_a='Great gift', text_b=None, label=4), InputExample(guid='', text_a='nice', text_b=None, label=4), InputExample(guid='', text_a=\"Hmm not sure how to comment for gift cards, except to say that I love being able to order online, it ships securely and easy to me, and I don't have to wait in line at a store.\", text_b=None, label=4), InputExample(guid='', text_a='This was a Christmas gift hit!', text_b=None, label=4), InputExample(guid='', text_a='good gift. they loved.', text_b=None, label=4), InputExample(guid='', text_a='Love iHop and loved the convenience of getting these.  Had a birthday come up with a lot of family sharing a day, and getting this meant I could give them each a present without doing a lot of legwork.  Very convenient, works like a charm.', text_b=None, label=4), InputExample(guid='', text_a='Gave as a gift', text_b=None, label=3), InputExample(guid='', text_a='Very convenient', text_b=None, label=4), InputExample(guid='', text_a='This was a gift.', text_b=None, label=4), InputExample(guid='', text_a='they are gift cards', text_b=None, label=4), InputExample(guid='', text_a='Christmas Gift', text_b=None, label=4), InputExample(guid='', text_a='My son loves movies, this pack was a great deal for him.', text_b=None, label=4), InputExample(guid='', text_a='perfect for christmas', text_b=None, label=4), InputExample(guid='', text_a='as promised.', text_b=None, label=4), InputExample(guid='', text_a='These cards make great gifts for the kids .', text_b=None, label=4), InputExample(guid='', text_a='Great Christmas gift', text_b=None, label=4), InputExample(guid='', text_a='WONDERFUL IDEA FOR CHRISTMAS.  THANK YOU!', text_b=None, label=4), InputExample(guid='', text_a='Makes nice present', text_b=None, label=4), InputExample(guid='', text_a='Used these as stocking stuffers', text_b=None, label=4), InputExample(guid='', text_a='Does what a gift card should :)', text_b=None, label=4), InputExample(guid='', text_a='I bought this item for a Christmas present last year and my brother who I got it for said it worked just fine, I would recommend this seller if you need to get a regal gift card', text_b=None, label=4), InputExample(guid='', text_a='yummy', text_b=None, label=4), InputExample(guid='', text_a='TY', text_b=None, label=4), InputExample(guid='', text_a='Its a gift card.', text_b=None, label=4), InputExample(guid='', text_a='Love it!!!! Thanks!!!!', text_b=None, label=4), InputExample(guid='', text_a='great gifts', text_b=None, label=4), InputExample(guid='', text_a='Gift cards are just that, a gift as in this case that makes a treat available when the recipiet need one.', text_b=None, label=4), InputExample(guid='', text_a='I have lots of friends who drink coffee, these are a perfect gift for them!', text_b=None, label=4), InputExample(guid='', text_a='these cards where so good. Whis i would of throught of this sooner. Thank amazon. I Love amazon. I COME HERE FOR EVERYTHING', text_b=None, label=4), InputExample(guid='', text_a='Holiday Gift', text_b=None, label=4), InputExample(guid='', text_a='GREAT FOR CHRISTMAS!', text_b=None, label=4), InputExample(guid='', text_a='Not a Starbucks fan but this made for a nice little extra gift for Christmas for the nieces who love it.', text_b=None, label=4), InputExample(guid='', text_a='thanks', text_b=None, label=4), InputExample(guid='', text_a='Perfect, thank you!', text_b=None, label=4), InputExample(guid='', text_a='Caffeine my #1 bestie', text_b=None, label=4), InputExample(guid='', text_a='Perefect for stocking stuffers', text_b=None, label=4), InputExample(guid='', text_a='Friends will love them', text_b=None, label=4), InputExample(guid='', text_a=\"Who doesn't like Starbucks?\", text_b=None, label=4), InputExample(guid='', text_a='My wife absolutely loves starbucks.  This allows her to load funds on her app on the phone.', text_b=None, label=4), InputExample(guid='', text_a='Starbucks are everywhere!', text_b=None, label=4), InputExample(guid='', text_a='arrived and worked as expected', text_b=None, label=3), InputExample(guid='', text_a=\"Hmm not sure how to comment for gift cards, except to say that I love being able to order online, it ships securely and easy to me, and I don't have to wait in line at a store.\", text_b=None, label=4), InputExample(guid='', text_a='GREAT', text_b=None, label=4), InputExample(guid='', text_a='If you know any Starbucks addicts...this gift is most appreciated at Christmas or anytime of the year.', text_b=None, label=4), InputExample(guid='', text_a='easier than a trip to the store. I buy these and keep them on hand for teacher gifts, etc.', text_b=None, label=4), InputExample(guid='', text_a='Great for gift giving!', text_b=None, label=4), InputExample(guid='', text_a='bought for christmas gifts', text_b=None, label=4), InputExample(guid='', text_a=\"Who doesn't love Starbucks gift cards?  :-)\", text_b=None, label=4), InputExample(guid='', text_a='I like these multiple packs to add to Christmas gifts for my coffee loving daughter and friends.  Helps me fill out where I am lacking or have forgotten someone on the list.', text_b=None, label=4), InputExample(guid='', text_a='These were brought as a gift for my sister who goes there all the time.', text_b=None, label=4), InputExample(guid='', text_a='Great for a gift or for yourself!!', text_b=None, label=4), InputExample(guid='', text_a='This is an original gift to give with Starbux multiple cards.  The receiver can keep some in the car, their wallet or give them to family members. I like to give some to the mail lady for delivering all of those Amazon packages in the snow and ice.', text_b=None, label=4), InputExample(guid='', text_a='These were for the grandchildren and they lover themChristmas giftsstocking stuffers.', text_b=None, label=4), InputExample(guid='', text_a='Great gift', text_b=None, label=4), InputExample(guid='', text_a='Got these', text_b=None, label=4), InputExample(guid='', text_a=\"Discounted gift cards! What's not to like? The 3 pack of smaller increments was great for stockings!\", text_b=None, label=4), InputExample(guid='', text_a='My friend loved this Christmas gift!', text_b=None, label=4), InputExample(guid='', text_a=\"So happy to know I can get my gift cards from Amazon.  I may never leave the house!  I always get this for my son and daughter in law for Christmas.  Sometimes it's a hassle finding a store that carries the movie and restaurant card.  So, I was very happy to see this.  Came really fast (like two days or less) and looks great.  I will continue buying through Amazon.\", text_b=None, label=4), InputExample(guid='', text_a='arrived and worked as expected', text_b=None, label=3), InputExample(guid='', text_a='Great price.', text_b=None, label=4), InputExample(guid='', text_a='Works as advertised', text_b=None, label=4), InputExample(guid='', text_a='Great deal during the holidays when you can get it for $40 You can upload the $25 movie gift card to Samsung Pay but you will not be able to upload the $25 chilis card so you will have to carry it with you when you go there.', text_b=None, label=4), InputExample(guid='', text_a='was gift', text_b=None, label=3), InputExample(guid='', text_a='It was a gift.', text_b=None, label=4), InputExample(guid='', text_a='gave as gift', text_b=None, label=4), InputExample(guid='', text_a='great', text_b=None, label=4), InputExample(guid='', text_a='great for gifts', text_b=None, label=4), InputExample(guid='', text_a='this where gift for my nephews  birthdays they are twin!', text_b=None, label=4), InputExample(guid='', text_a='Several of our Subway gift cards did not work today, the appear not to have been activated.', text_b=None, label=0), InputExample(guid='', text_a=\"I like subway, who doesn't? these will make good gifts for my friends!\", text_b=None, label=4), InputExample(guid='', text_a='good', text_b=None, label=4), InputExample(guid='', text_a='Got these as gifts for my children and they loved them. Shipping was quick!', text_b=None, label=4), InputExample(guid='', text_a='GREAT FOR CHRISTMAS!', text_b=None, label=4), InputExample(guid='', text_a='Awesome', text_b=None, label=4), InputExample(guid='', text_a='Pleased with purchase of card', text_b=None, label=4), InputExample(guid='', text_a='Perfect', text_b=None, label=4), InputExample(guid='', text_a='Item as described, arrived on time.', text_b=None, label=4), InputExample(guid='', text_a=\"what can you say --- it's Subway and gets to fast when you order it.\", text_b=None, label=4), InputExample(guid='', text_a='Who can go wrong with a food gift card?  Will be given as gifts.', text_b=None, label=4), InputExample(guid='', text_a='I try to keep many of these on hand as gifts. Fast delivery', text_b=None, label=4), InputExample(guid='', text_a=\"My husband often forgets his cash and his bagged lunch.  As a diabetic, he must eat at lunch time.  I give him a pack of Subway $10 cards periodically so he never has to worry about not eating something that's balanced and not junk food.  He can store one in his desk drawer and have one in his wallet, too.  Their veggie subs are very good, btw.\", text_b=None, label=4), InputExample(guid='', text_a='Easy way to order from a favorite restaurant.  Will order this again.', text_b=None, label=4), InputExample(guid='', text_a='Great for gitfts!', text_b=None, label=4), InputExample(guid='', text_a='Wish there was an email delivery option.', text_b=None, label=2), InputExample(guid='', text_a='Great gift', text_b=None, label=4), InputExample(guid='', text_a='arrived and worked as expected', text_b=None, label=3), InputExample(guid='', text_a='They are gift cards.', text_b=None, label=4), InputExample(guid='', text_a=\"Hmm not sure how to comment for gift cards, except to say that I love being able to order online, it ships securely and easy to me, and I don't have to wait in line at a store.\", text_b=None, label=4), InputExample(guid='', text_a='Its a gift card.', text_b=None, label=4), InputExample(guid='', text_a='Great gift . Came quickly', text_b=None, label=4), InputExample(guid='', text_a='bought for christmas', text_b=None, label=4), InputExample(guid='', text_a='These subway cards are great.  So glad you offer these in a great gift card selection you have !!!!!!!', text_b=None, label=4), InputExample(guid='', text_a=\"Eat fresh food I select subway gift card which offers healthier food than McDonald's fried food.\", text_b=None, label=4), InputExample(guid='', text_a='Was a gift for a Subway lover.', text_b=None, label=4), InputExample(guid='', text_a='Perfect gift.  I liked that there are 3- $10 in the packs, I was able to give more away that way.', text_b=None, label=4), InputExample(guid='', text_a='Great for gift giving!', text_b=None, label=4), InputExample(guid='', text_a='We like to eat healthy and the 3 pack gift cards let me spread the healthy eating option with my family a bit easier.', text_b=None, label=4), InputExample(guid='', text_a='Purchased as a stocking stuffer for my grandson - he loves them as he can get something healthy for either lunch or breakfast when he is out and about during his busy day.', text_b=None, label=4), InputExample(guid='', text_a='Like having the 3 pack to divide up little gifts. They are great for anyone. Who does not like a sub or a wrap or a salad? There is always something for everyone at subway and the cards made it very easy.', text_b=None, label=4), InputExample(guid='', text_a='good eats', text_b=None, label=4), InputExample(guid='', text_a='works good', text_b=None, label=4), InputExample(guid='', text_a='worked', text_b=None, label=4), InputExample(guid='', text_a='Very happy with purchase!', text_b=None, label=4), InputExample(guid='', text_a='very good', text_b=None, label=4), InputExample(guid='', text_a='all good', text_b=None, label=4), InputExample(guid='', text_a='gift', text_b=None, label=4), InputExample(guid='', text_a='My 12 year old granddaughter was thrilled when she received this as one of her Christmas gifts.', text_b=None, label=4), InputExample(guid='', text_a='Granddaughter was thrilled. Its her favorite store to buy jeans. kathy', text_b=None, label=4), InputExample(guid='', text_a='Great gift idea', text_b=None, label=4), InputExample(guid='', text_a='Good Product;', text_b=None, label=3), InputExample(guid='', text_a='Holiday wish list item.  Loved by receiver', text_b=None, label=4), InputExample(guid='', text_a='great', text_b=None, label=4), InputExample(guid='', text_a=\"What can you say it's a gift card - Shipping was fast.\", text_b=None, label=4), InputExample(guid='', text_a='Bought As A Gift', text_b=None, label=4), InputExample(guid='', text_a='as described and fast shipping', text_b=None, label=4), InputExample(guid='', text_a='Great for gift giving!', text_b=None, label=4), InputExample(guid='', text_a=\"Bought this for a gift my friend loved it.  He can't wait to use the gift card!\\nGod Bless you\", text_b=None, label=3), InputExample(guid='', text_a='Fast shipping and great gift!', text_b=None, label=4), InputExample(guid='', text_a='Exactly as shown. No activation charge, just regular $25 gift card. I give a bunch for high school graduations to places around where theyll be going to college.', text_b=None, label=4), InputExample(guid='', text_a='perfect gift', text_b=None, label=4), InputExample(guid='', text_a='GRANDDAUGHTER LOVES GOING THERE WITH HER GIRLFRIENDS.', text_b=None, label=4), InputExample(guid='', text_a='easy to use and great to give as a gift or just use for yourself.\\nThe food was pretty good not really worth the cost but it was okay.', text_b=None, label=3), InputExample(guid='', text_a='It was easy to use', text_b=None, label=4), InputExample(guid='', text_a='so easy', text_b=None, label=4), InputExample(guid='', text_a='This was a gift for a friend who loves Panera bread soups. Hope she enjoys more', text_b=None, label=4), InputExample(guid='', text_a=\"Quick and did it's job\", text_b=None, label=4), InputExample(guid='', text_a='a gift for xmas', text_b=None, label=4), InputExample(guid='', text_a='A great place to eat. The food is so good. thanks', text_b=None, label=4), InputExample(guid='', text_a='Family gathering', text_b=None, label=4), InputExample(guid='', text_a='nice product', text_b=None, label=4), InputExample(guid='', text_a='good deal through prime', text_b=None, label=4), InputExample(guid='', text_a=\"Arrive on Time can't wait to use the gift card.\", text_b=None, label=4), InputExample(guid='', text_a='yummy', text_b=None, label=4), InputExample(guid='', text_a='Great to purchase the card without having to \"shop\".', text_b=None, label=4), InputExample(guid='', text_a='easiest way to buy gift cards - many to chose from and have never had a problem.', text_b=None, label=4), InputExample(guid='', text_a=\"It's a gift card!  What's to review.  It arrived quickly and worked when we tried to use it.\", text_b=None, label=4), InputExample(guid='', text_a='This was a great gift to give!', text_b=None, label=4), InputExample(guid='', text_a='Very nice and easy gift to a woman. Nordstrom is good for women shopping and can easily be used', text_b=None, label=4), InputExample(guid='', text_a='great Christmas gift', text_b=None, label=4), InputExample(guid='', text_a='ok', text_b=None, label=4), InputExample(guid='', text_a='gave as gift', text_b=None, label=4), InputExample(guid='', text_a='Perfect Christmas gift.', text_b=None, label=4), InputExample(guid='', text_a=\"it's a gift card\", text_b=None, label=2), InputExample(guid='', text_a=\"Christmas gift for my son-in-law. With two young children and large student loans, he and my daughter don't get to go out as often as they like. Date night on us!! And I'm happy to babysit.\", text_b=None, label=4), InputExample(guid='', text_a='Ok', text_b=None, label=4), InputExample(guid='', text_a=\"Can't purchase these locally.  Nice to have an option.\", text_b=None, label=4), InputExample(guid='', text_a='Great gift', text_b=None, label=4), InputExample(guid='', text_a='great gift', text_b=None, label=4), InputExample(guid='', text_a=\"What's not to love\", text_b=None, label=4), InputExample(guid='', text_a='great present  thanks', text_b=None, label=4), InputExample(guid='', text_a=\"Good Breads, Good pastries, and a lot more to enjoy. I find when I get these I check the balance immediately as mistakes can be made and you don't find out until you go to shop with the card that there is nothing on it. Good to always check the balance, and if you give it as a gift make sure you tell the person to check the balance. Otherwise love these gift cards so much easier than just giving money what better than to give someone a gift of a place they enjoy to eat at or shop at.\", text_b=None, label=4), InputExample(guid='', text_a='great', text_b=None, label=4), InputExample(guid='', text_a='Great way to shop for gift cards.', text_b=None, label=4), InputExample(guid='', text_a='Great Deal', text_b=None, label=4), InputExample(guid='', text_a='Just for my parents benefits', text_b=None, label=3), InputExample(guid='', text_a='Works great', text_b=None, label=4), InputExample(guid='', text_a='as expected', text_b=None, label=4), InputExample(guid='', text_a='Great price and good food.', text_b=None, label=4), InputExample(guid='', text_a=\"It's a gift card so not much to say! I got a Lightning deal for $5 off and it arrived fast. I've used it already and it's valid.\", text_b=None, label=4), InputExample(guid='', text_a='Gift.', text_b=None, label=4), InputExample(guid='', text_a='I was very happy with my card.  No problem at all.', text_b=None, label=4), InputExample(guid='', text_a='Why go to the mall? Love all the gift cards on Amazon!', text_b=None, label=4), InputExample(guid='', text_a='christmas precent', text_b=None, label=4), InputExample(guid='', text_a='Good...!!!', text_b=None, label=4), InputExample(guid='', text_a='great', text_b=None, label=4), InputExample(guid='', text_a='Great item!', text_b=None, label=4), InputExample(guid='', text_a='Love it.', text_b=None, label=4), InputExample(guid='', text_a='Perfect an fast shipper.', text_b=None, label=4), InputExample(guid='', text_a='Great food, good value!', text_b=None, label=4), InputExample(guid='', text_a='like', text_b=None, label=4), InputExample(guid='', text_a='I will take a $50 gift card for $40 any day!!! Basically $10 for free. Love it.', text_b=None, label=4), InputExample(guid='', text_a=\"It's like budgeting with envelopes but instead - gift cards\", text_b=None, label=4), InputExample(guid='', text_a='Good Gift', text_b=None, label=4), InputExample(guid='', text_a='My significant other is very hard to buy for. With this stuffier she can buy what she likes or maybe what will please me in wearing', text_b=None, label=4), InputExample(guid='', text_a='Always a great present.', text_b=None, label=4), InputExample(guid='', text_a='Love it best place to eat', text_b=None, label=4), InputExample(guid='', text_a='Gift', text_b=None, label=4), InputExample(guid='', text_a='Daughter loved it.', text_b=None, label=4), InputExample(guid='', text_a='Christmas gift for my parents.  Loved it!', text_b=None, label=4), InputExample(guid='', text_a='Decent delivery speed and everyone loves panera', text_b=None, label=4), InputExample(guid='', text_a='Got this for my niece and she loves it!!!', text_b=None, label=4), InputExample(guid='', text_a=\"It's a good place for snack before a movie start but there's no much meal to eat for dinner. I love their bread and cookies but they should offer more real meals.\", text_b=None, label=3), InputExample(guid='', text_a='this was a gift for my aunt 75th birthday...she  loves Panera . and was happy to receive this gift card. my thanks to everyone for making her birthday so special. with just a click away!!!!!', text_b=None, label=4), InputExample(guid='', text_a='love Panera. healthy food and rewards. free mocha last time I went', text_b=None, label=4), InputExample(guid='', text_a='Good...!!!', text_b=None, label=4), InputExample(guid='', text_a='Worked as advertised', text_b=None, label=4), InputExample(guid='', text_a='fast delivery and card worked', text_b=None, label=4), InputExample(guid='', text_a=\"What can you say it's a gift card - Shipping was fast.\", text_b=None, label=4), InputExample(guid='', text_a='Excellent Christmas gift', text_b=None, label=4), InputExample(guid='', text_a='Perfect for present for my 85 yr old Dad.  Good tasty healthy food and what else is there to get old people', text_b=None, label=4), InputExample(guid='', text_a='Great way to pay for your purchases at Panera', text_b=None, label=4), InputExample(guid='', text_a='great place to buy other gift cards', text_b=None, label=4), InputExample(guid='', text_a='great gift', text_b=None, label=4), InputExample(guid='', text_a='This was a good gift for college student, father of college student, my daughter who loves getting gift cards.  Next year, I will make these for $25.00 as they did not turn out to be as popular as I anticipated.', text_b=None, label=3), InputExample(guid='', text_a=\"It's absolutely amazing. I bought this gift card for a $100 value and when it arrived, it had $100 credit value on it!! Can you believe it!! Nice to see a product that works these days!! And yes, I a being sarcastic!! Do we really need to rate a gift card?\", text_b=None, label=4), InputExample(guid='', text_a='I loved it', text_b=None, label=4), InputExample(guid='', text_a='A gift card that works', text_b=None, label=4), InputExample(guid='', text_a='Outstanding product would buy again.', text_b=None, label=4), InputExample(guid='', text_a='not bad', text_b=None, label=4), InputExample(guid='', text_a=\"Christmas gift for my daughter. With two young children and large student loans, she and her husband don't get to go out as often as they like. Date night on us!! And I'm happy to babysit.\", text_b=None, label=4), InputExample(guid='', text_a='Already used it.  Awesome', text_b=None, label=4), InputExample(guid='', text_a='great place too eat.', text_b=None, label=3), InputExample(guid='', text_a='Great Deal', text_b=None, label=4), InputExample(guid='', text_a='Excellent gift.', text_b=None, label=4), InputExample(guid='', text_a='Good', text_b=None, label=4), InputExample(guid='', text_a='Great item!', text_b=None, label=4), InputExample(guid='', text_a='great product!!!!!!', text_b=None, label=4), InputExample(guid='', text_a='Great purchase. The Gift card worked very good.', text_b=None, label=4), InputExample(guid='', text_a=':) great gift', text_b=None, label=4), InputExample(guid='', text_a='$50 is $50.  What else can I say?', text_b=None, label=4), InputExample(guid='', text_a='Worked as a gift card should', text_b=None, label=4), InputExample(guid='', text_a='Great gift, when you cannot think of what to get someone but you know them enough to know where they dine.', text_b=None, label=4), InputExample(guid='', text_a='I love cheesecake', text_b=None, label=4), InputExample(guid='', text_a='Satisfied', text_b=None, label=4), InputExample(guid='', text_a='jack in the box has better cheese cake', text_b=None, label=4), InputExample(guid='', text_a=\"Love to give restaurant gift cards to family members as you sometimes get to accompany them when they use the card!  And if any of your family is frugal, the card compels them to go out and have a little fun.  Love this restaurant.  Went there tonight.  Their hamburgers are great, as is the side garden salad.  We also sampled a raspberry white chocolate truffle cheesecake.  Yum!  Will be ordering these cards for Father's Day.\", text_b=None, label=4), InputExample(guid='', text_a='Love it!', text_b=None, label=4), InputExample(guid='', text_a='I Hate Cheesecake, but I Love Cheesecake Factory.  The only complaint is that there is a huge menu, so it takes some time to figure out what you want.', text_b=None, label=4), InputExample(guid='', text_a='so there are not as many people to give this one to, however, it gets my vote for ambiance, food, and great cheesecake!', text_b=None, label=4), InputExample(guid='', text_a='Was suppose to get to me in a day took 4 days lol, still good.', text_b=None, label=4), InputExample(guid='', text_a='Does what a gift card should :)', text_b=None, label=4), InputExample(guid='', text_a='Awsome', text_b=None, label=4), InputExample(guid='', text_a='What can someone say about a gift card... Can use anytime...', text_b=None, label=4), InputExample(guid='', text_a='worked with no problem :)', text_b=None, label=4), InputExample(guid='', text_a='Great product!!!', text_b=None, label=4), InputExample(guid='', text_a='Buy the gift card online, and then shop locally! What a smart choice!', text_b=None, label=4), InputExample(guid='', text_a=\"As described...hope there's no expiration date?\", text_b=None, label=4), InputExample(guid='', text_a='Ok', text_b=None, label=4), InputExample(guid='', text_a='Kids love them', text_b=None, label=4), InputExample(guid='', text_a=\"This was a gift.  Papa John's is their favorite.\", text_b=None, label=4), InputExample(guid='', text_a='Its a gift card, very easy to use and nothing to worry about unless you lose it.', text_b=None, label=4), InputExample(guid='', text_a=\"BETTER HAVE FUNDS ON IT, I won't know until next week and if this goes unedited then funds were there but I have read enough gift card reviews that we are basically taking a CHANCE on these things and that's not freaking kool\", text_b=None, label=4), InputExample(guid='', text_a='Quick delivery and no problems!', text_b=None, label=4), InputExample(guid='', text_a='works', text_b=None, label=4), InputExample(guid='', text_a=\"What can I say that you don't already know about pizza & Papa Johns??\", text_b=None, label=4), InputExample(guid='', text_a='nice', text_b=None, label=4), InputExample(guid='', text_a='Perfect and I even used Amazon Points - was mailed right out.', text_b=None, label=4), InputExample(guid='', text_a='Great purchase', text_b=None, label=4), InputExample(guid='', text_a='great pizza so good', text_b=None, label=4), InputExample(guid='', text_a='fast delivery and card worked', text_b=None, label=4), InputExample(guid='', text_a='Great gift or Friday night treat. Handy to have!', text_b=None, label=4), InputExample(guid='', text_a='Amazon made it easy for me to solve the the late Christmas present issue; Knowing which restaurants & stores the prospective recipients favoured, I sent 2-3 gift card per person.\\nWhat I like best about amazon is that no fees were charged for electronic delivery.\\n(Compare to buying a gift certificate from a Mall or some outlets who charge up to 5%).', text_b=None, label=4), InputExample(guid='', text_a='Great product, great seller!!!', text_b=None, label=4), InputExample(guid='', text_a='so freaking good.  yummmy', text_b=None, label=4), InputExample(guid='', text_a='We enjoyed our night out, and the food was very good. I would recommend this to my friends and family.', text_b=None, label=3), InputExample(guid='', text_a='I gave this one to me!  Like it quite well and am holding it for a special time.  If I get only one of these next holiday, it will be mine.', text_b=None, label=4), InputExample(guid='', text_a='This was a gift', text_b=None, label=4), InputExample(guid='', text_a='Satisfied', text_b=None, label=4), InputExample(guid='', text_a='Great purchase.', text_b=None, label=4), InputExample(guid='', text_a='Just what I needed', text_b=None, label=4), InputExample(guid='', text_a='OK', text_b=None, label=2), InputExample(guid='', text_a='This was a great gift to give!', text_b=None, label=4), InputExample(guid='', text_a=\"This lets the person receiving the card to purchase what they actually want. Nothing to return after Christmas. It is the perfect gift when you aren't sure of size, style or preference.\", text_b=None, label=4), InputExample(guid='', text_a='A+++', text_b=None, label=4), InputExample(guid='', text_a='son in law tickled.', text_b=None, label=3), InputExample(guid='', text_a='Getting a gift card beats trying to pick out something for a person and them ending up returning it later on.  Gift cards are a safe way to go.', text_b=None, label=4), InputExample(guid='', text_a='Excellent Christmas gift', text_b=None, label=4), InputExample(guid='', text_a='GREAT GIFT!!!!!!!!!!!', text_b=None, label=4), InputExample(guid='', text_a='Arrived as promised.', text_b=None, label=4), InputExample(guid='', text_a='Nice card', text_b=None, label=4), InputExample(guid='', text_a='Person loved the design. Like to order my Amazon gift cards so I can choose from the different varieties compared to buying in stores.', text_b=None, label=4), InputExample(guid='', text_a='Great gifts and cute for kids birthday', text_b=None, label=4), InputExample(guid='', text_a='As advertised!', text_b=None, label=4), InputExample(guid='', text_a='Like the different cases', text_b=None, label=4), InputExample(guid='', text_a='Awesome tin with a gift card.  Perfect for the person who loves diamond plate.  It does have a clear window on the back of the tin.', text_b=None, label=4), InputExample(guid='', text_a=\"Amazon has great quality gift tins at no extra charge! Got this for a friend who will really like the diamond plate design. Still can't believe they don't charge a least an extra couple bucks for the tin.\", text_b=None, label=4), InputExample(guid='', text_a='Gave as a gift', text_b=None, label=3), InputExample(guid='', text_a='Gift.', text_b=None, label=4), InputExample(guid='', text_a='This amazon gift card in this attractive ase made an excellent gift!', text_b=None, label=4), InputExample(guid='', text_a='Recipient loved the Cupcake tin As a way of presenting them with the gift card', text_b=None, label=4), InputExample(guid='', text_a='What can I say, everyone likes getting gift cards to Amazon and I like it when you can adjust the loaded price to fit odd numbers. My daughter-in-law just turned 39 and I was able to load it with $39 -- a tradition I have for birthdays for my kids and others close to family. She (and her tot son) are enjoying the case it came in too.', text_b=None, label=4), InputExample(guid='', text_a='excelent', text_b=None, label=4), InputExample(guid='', text_a='Nice beautiful box with gift card.', text_b=None, label=4), InputExample(guid='', text_a='very happy', text_b=None, label=4), InputExample(guid='', text_a='Perfect', text_b=None, label=4), InputExample(guid='', text_a='The metal container is better-looking than I expected, making the not-so-exciting giving of gift cards as a gift more exciting.', text_b=None, label=4), InputExample(guid='', text_a='Cool box!', text_b=None, label=4), InputExample(guid='', text_a='Nice quality reuseable case. It was actually a window at the bottom not a hole.', text_b=None, label=4), InputExample(guid='', text_a='ok', text_b=None, label=3), InputExample(guid='', text_a='Gave this to my son for Christmas, he loved it !', text_b=None, label=4), InputExample(guid='', text_a='Fast and accurate!', text_b=None, label=4), InputExample(guid='', text_a='Pretty good!', text_b=None, label=4), InputExample(guid='', text_a='goo', text_b=None, label=4), InputExample(guid='', text_a='Love it.', text_b=None, label=4), InputExample(guid='', text_a='Great!! Got it for my granddaughter. Thanks for having it available!!!', text_b=None, label=3), InputExample(guid='', text_a='how can you go wrong?', text_b=None, label=4), InputExample(guid='', text_a='very nice', text_b=None, label=4), InputExample(guid='', text_a='arrived on time, i bought it for my 10 year old  nephew for his birthday, he loved it, i also had it gift wrapped, look great everyone love it !!', text_b=None, label=4), InputExample(guid='', text_a='They are gift cards.', text_b=None, label=4), InputExample(guid='', text_a=\"Perfect gift. The correct size, correct color, correct everything. Not my first and won't be my last one\", text_b=None, label=4), InputExample(guid='', text_a='Looked festive and made a nice birthday gift', text_b=None, label=4), InputExample(guid='', text_a='This is so cute for presentation of an Amazon card!!! Love it!', text_b=None, label=4), InputExample(guid='', text_a='Good for the gift. It comes with nice box :)', text_b=None, label=4), InputExample(guid='', text_a='awesome', text_b=None, label=4), InputExample(guid='', text_a='Cute presentation of a birthday gift card.  My friend loved it.\\n\\nDefinitely recommend.', text_b=None, label=4), InputExample(guid='', text_a='It was okay but better items', text_b=None, label=3), InputExample(guid='', text_a='Delivered as expected!', text_b=None, label=4), InputExample(guid='', text_a=\"A birthday gift card for one of my grandson's so he could order his own games from Amazon.\", text_b=None, label=4), InputExample(guid='', text_a='The recipient loved the cupcake tin.', text_b=None, label=4), InputExample(guid='', text_a='Nice, a hard metal-looking card holder. Cool-looking!', text_b=None, label=4), InputExample(guid='', text_a='Good', text_b=None, label=4), InputExample(guid='', text_a='excelent', text_b=None, label=4), InputExample(guid='', text_a=\"Who wouldn't want an Amazon card?  This is my go to present for people at a distance.  They can get themselves a book or whatever they want.  That it comes in about a day is a super bonus if I forget to order.  My go to gift.\", text_b=None, label=4), InputExample(guid='', text_a='Thank you! I saved the tin and repurposed it for makeup.', text_b=None, label=4), InputExample(guid='', text_a='My granddaughter loved the \"birthday cupcake\" that I gave her, among other gifts.  So cute!', text_b=None, label=4), InputExample(guid='', text_a='A gift card anytime is a great gift, in my opinion, especially for those who have basically everything! I would recommend this!', text_b=None, label=4), InputExample(guid='', text_a='nice birthday theme for the tin.', text_b=None, label=4), InputExample(guid='', text_a='This was a gift for an 11 year old. It was perfect. She loved it and so did I!!', text_b=None, label=4), InputExample(guid='', text_a='great', text_b=None, label=4), InputExample(guid='', text_a='Cute', text_b=None, label=4), InputExample(guid='', text_a='Great gift idea', text_b=None, label=4), InputExample(guid='', text_a='I like the cupcake presentation it comes with for no extra charge.', text_b=None, label=4), InputExample(guid='', text_a='Loved it!  Made the gift card special.', text_b=None, label=4), InputExample(guid='', text_a='Good quality but a bit childish.', text_b=None, label=3), InputExample(guid='', text_a='Cute way to send a bday gift!', text_b=None, label=4), InputExample(guid='', text_a='Gift', text_b=None, label=4), InputExample(guid='', text_a='Fun for a birthday gift and very well received', text_b=None, label=4), InputExample(guid='', text_a=\"It's a gift card in a metal box\", text_b=None, label=4), InputExample(guid='', text_a='Of course, the contents of the tin will always make my grandchildren smile because they can pick their own Amazon gift. I like your selections of tins for their variety. I can always find an Amazon Tin to suit the occasion. This Cupcake tin was perfect for their birthdays.', text_b=None, label=4), InputExample(guid='', text_a='was perfect fo bday giift', text_b=None, label=4), InputExample(guid='', text_a='It was a Great Surprise gift.', text_b=None, label=4), InputExample(guid='', text_a='perfect gift for birthday-it lets the receiver purchase what they want', text_b=None, label=4), InputExample(guid='', text_a='Cute way to send gift card', text_b=None, label=4), InputExample(guid='', text_a='You can never go wrong with a gift card.and the tin looks so cute!', text_b=None, label=4), InputExample(guid='', text_a='Excellent way to give someone a gift. I have used this several times and will continue to use it.', text_b=None, label=4), InputExample(guid='', text_a='Can never go wrong with gift cards and I LOVED the cupcake tin. Perfect for my gift!', text_b=None, label=4), InputExample(guid='', text_a='I ordered 2 of these for my granddaughters for their birthdays and they were a big hit.  They love shopping at Amazon.com and were very excited to pick up some things on their wish list.  They both really liked the cupcake containers.', text_b=None, label=4), InputExample(guid='', text_a='always good', text_b=None, label=4), InputExample(guid='', text_a='My grandson loved it.', text_b=None, label=4), InputExample(guid='', text_a=\"It's okay. Works fine.\", text_b=None, label=2), InputExample(guid='', text_a='JUST RIGHT', text_b=None, label=4), InputExample(guid='', text_a='Arrived quickly, loved the cupcake tin, made for easy gifting!', text_b=None, label=4), InputExample(guid='', text_a='I have placed order for both my grand children at time. But this order tracking information was not provided to me. Hence there was confusion.', text_b=None, label=3), InputExample(guid='', text_a='My gift cerficate, including this adorable cupcake, was delivered in record time.  Thank you!....', text_b=None, label=4), InputExample(guid='', text_a='Cute box.', text_b=None, label=4), InputExample(guid='', text_a='Present', text_b=None, label=4), InputExample(guid='', text_a='Cute card holder. Adorable and metal!  Nice!', text_b=None, label=4), InputExample(guid='', text_a='Good', text_b=None, label=4), InputExample(guid='', text_a='So cute! Just a perfect presentation for a gift!', text_b=None, label=4), InputExample(guid='', text_a='Love using these for special occasions.', text_b=None, label=4), InputExample(guid='', text_a='MAKES A GOOD HOLDER FOR ALL GIFT CARDS.  I USE MINE FOR UP TO FIVE GIFT CARS AND THEY ARE ALWAYS IN MY PURSE WHEN NEEDED.  COMES WITH GIFT CARD WHICH I WILL USE TO BUY MORE AMAZON GOODS.', text_b=None, label=4), InputExample(guid='', text_a='Just gave this to my granddaughter yesterday..I was so amazed at it when it came..really, really nice. No extra charge. She just loved it. I am going to get more of these they make a fab gift and so many choices. She is going to put some little pieces of jewelry in the empty container. Makes a nice decoration in her room.', text_b=None, label=4), InputExample(guid='', text_a='Works!', text_b=None, label=4), InputExample(guid='', text_a='Great product from a great seller!!!!!', text_b=None, label=4), InputExample(guid='', text_a='yummy', text_b=None, label=4), InputExample(guid='', text_a='Great idea', text_b=None, label=3), InputExample(guid='', text_a=\"Can't go wrong with gift cards...\", text_b=None, label=4), InputExample(guid='', text_a='This gift card came quickly and the food was great. I had no problems whatsoever.', text_b=None, label=4), InputExample(guid='', text_a='Item as described, arrived on time.', text_b=None, label=4), InputExample(guid='', text_a='My son loved it!', text_b=None, label=4), InputExample(guid='', text_a='loved it', text_b=None, label=4), InputExample(guid='', text_a=\"Although we don't have a Zaxby's in our town, we definitely love going there when we travel.  Food is awesome and we like it better than CFA.\", text_b=None, label=4), InputExample(guid='', text_a='Its a gift card.', text_b=None, label=4), InputExample(guid='', text_a='Great gift card worked perfectly.', text_b=None, label=4), InputExample(guid='', text_a=\"They do work.. it's awesome\", text_b=None, label=4), InputExample(guid='', text_a='Panda is always fresh and delicious.  Seller always delivers these cards promptly!', text_b=None, label=4), InputExample(guid='', text_a='worked perfect', text_b=None, label=4), InputExample(guid='', text_a='Great product!!!', text_b=None, label=4), InputExample(guid='', text_a=\"Email delivery. Can't beat that. Make sure to print out... Have had issues with just showing it on my phone sometimes.\", text_b=None, label=3), InputExample(guid='', text_a=\"I've used this card once.  I took a screen shot of card with my cell phone and cropped it to size to use just like a regular plastic gift card.  I just show it when I make a purchase and voila!  Payment complete.\", text_b=None, label=4), InputExample(guid='', text_a='Future egift cards great ideal come on email you print out or not and never expires', text_b=None, label=4), InputExample(guid='', text_a='Good', text_b=None, label=4), InputExample(guid='', text_a=\"My wife's favorite restaurant.\", text_b=None, label=4), InputExample(guid='', text_a='My son loved his stocking stuffer gift!!', text_b=None, label=4), InputExample(guid='', text_a='Purchased as holiday gift. Wonderful item.', text_b=None, label=4), InputExample(guid='', text_a='Love gift cards for Granddaughters!', text_b=None, label=4), InputExample(guid='', text_a='great buy on the lightening deal for $85. I use it for itune purchases', text_b=None, label=4), InputExample(guid='', text_a='stocking stuffer for holiday', text_b=None, label=4), InputExample(guid='', text_a='niece liked it. spotted it at grocery store check-out later, probably easier.', text_b=None, label=3), InputExample(guid='', text_a='I love iTunes', text_b=None, label=4), InputExample(guid='', text_a='got it on time, easy to use, just as described', text_b=None, label=4), InputExample(guid='', text_a='There was a discount on the card but then there was like S & H charges so it ended up costing more than the amount on the card.', text_b=None, label=3), InputExample(guid='', text_a='It was a gift and it was what we wanted', text_b=None, label=4), InputExample(guid='', text_a='Easy way to get the things I need', text_b=None, label=4), InputExample(guid='', text_a=\"Worked just fine at the concession. I didn't have any issues. Received the email in 5 minutes\", text_b=None, label=4), InputExample(guid='', text_a='Yummy', text_b=None, label=4), InputExample(guid='', text_a=\"It's absolutely amazing. I bought this gift card for a $30 value and when it arrived, it had $30 credit value on it!! Can you believe it!! Nice to see a product that works these days!! And yes, I a being sarcastic!! Do we really need to rate a gift card?\", text_b=None, label=4), InputExample(guid='', text_a='Worked great. Thank you!', text_b=None, label=4), InputExample(guid='', text_a='as promised.', text_b=None, label=4), InputExample(guid='', text_a='great product from a great seller!!!', text_b=None, label=4), InputExample(guid='', text_a='This is the 1st time to get as an email, as I was going to see a movie tonight.  It worked just fine. :)', text_b=None, label=4), InputExample(guid='', text_a='Yummy', text_b=None, label=4), InputExample(guid='', text_a='LOVE HTESE SO CONVENIENT FOR DINNER!', text_b=None, label=4), InputExample(guid='', text_a='I love email card, as I can use them asap.  Have no issues using them.', text_b=None, label=4), InputExample(guid='', text_a='I bought this for my sister, she has 2 kids, she love that i was able to treat her to a meal!! she loves food gift cards!', text_b=None, label=4), InputExample(guid='', text_a='works as intended', text_b=None, label=4), InputExample(guid='', text_a='Great gift card worked perfectly.', text_b=None, label=4), InputExample(guid='', text_a='arrived within 5 min', text_b=None, label=4), InputExample(guid='', text_a='arrived within 5 min', text_b=None, label=4), InputExample(guid='', text_a='we had a great dinner', text_b=None, label=4), InputExample(guid='', text_a='Red Robin has great food.  I love this seller.  So reliable.', text_b=None, label=4), InputExample(guid='', text_a='nightmare to deal with email delivery cards\\n\\nbut overall was good thing', text_b=None, label=4), InputExample(guid='', text_a='Love this place, fast delivery.', text_b=None, label=4), InputExample(guid='', text_a='love eating here', text_b=None, label=4), InputExample(guid='', text_a='Easy to use to buy pizza :3', text_b=None, label=4), InputExample(guid='', text_a='Great gift card worked perfectly.', text_b=None, label=4), InputExample(guid='', text_a='worked as intended', text_b=None, label=4), InputExample(guid='', text_a='Used this as a gift and they appreciated it.', text_b=None, label=4), InputExample(guid='', text_a=\"Can't beat email delivery.\", text_b=None, label=4), InputExample(guid='', text_a='GREAT!', text_b=None, label=4), InputExample(guid='', text_a='I love the convenience of these gift cards. Especially that you can just email them to yourself or other as a gift. It an easy pay to pay to go out to eat at almost any major restaurant. Very easy to use, just click email, print or show it on your cell phone to the waitress. Will continue to buy for any of my restaurant needs. These tend to deliver in about 5 to 10 minutes. Makes gift giving extremely easy. Love these!', text_b=None, label=4), InputExample(guid='', text_a='Great and easy gift', text_b=None, label=4), InputExample(guid='', text_a=\"Red robin has good burgers, fries could be better they're too thick and if they get cold they're hard to swallow. Overall it's pretty good though\", text_b=None, label=3), InputExample(guid='', text_a='Did not arrive within 5 min. Took several hours but eventually came.', text_b=None, label=2), InputExample(guid='', text_a='Met expectations', text_b=None, label=4), InputExample(guid='', text_a='Tgi always has very good service', text_b=None, label=4), InputExample(guid='', text_a='Good Product;', text_b=None, label=4), InputExample(guid='', text_a=\"it was great to have it e-mailed to u. Instead of waiting for it in the mail. i've brought alot of gift cards through amazon and always had them sent by mail. Great way to do it. thank u\", text_b=None, label=4), InputExample(guid='', text_a='get that u can use them the same day', text_b=None, label=4), InputExample(guid='', text_a='Very good Texas Roadhouse food. Love to visit again for many favorite steaks and seafood. Great savings on Amazon.', text_b=None, label=4), InputExample(guid='', text_a='worked as intended', text_b=None, label=4), InputExample(guid='', text_a='arrived within 5 min', text_b=None, label=4), InputExample(guid='', text_a='thank amazon . i love petco', text_b=None, label=4), InputExample(guid='', text_a='worked perfect', text_b=None, label=4), InputExample(guid='', text_a='Bought for my mom to take care of my dogs back home', text_b=None, label=4), InputExample(guid='', text_a='Good', text_b=None, label=4), InputExample(guid='', text_a='Great', text_b=None, label=4), InputExample(guid='', text_a='IT WAS FOR MY GRANDDAUGHTER, SHE LOVED IT SHE WHEN THERE WITH HER MOTHER AND FATHER AND HAD A BALL...', text_b=None, label=4), InputExample(guid='', text_a='Met expectations', text_b=None, label=4), InputExample(guid='', text_a='This was very convenient and easy to use. It appeared quickly in my email and I could use it that same day. The only thing I did not like was that I could not use it for a future order. That is why I went down a star. I missed that convenience.', text_b=None, label=3), InputExample(guid='', text_a=\"They do work.. it's awesome\", text_b=None, label=4), InputExample(guid='', text_a='FAST AND EASY', text_b=None, label=4), InputExample(guid='', text_a='it was delivered as scheduled, and no problems using it.', text_b=None, label=4), InputExample(guid='', text_a='Great', text_b=None, label=3), InputExample(guid='', text_a='I love the convenience of gift cards being able to be received electronically. It makes it so easy to purchase a gift card, print it out or even show it on my mobile device. Delivery is typically very fast when receiving them by email. This makes gift giving exceptionally easy. I love that you can pick you own amount to load on as well. Will definitely use this type of service again.', text_b=None, label=4), InputExample(guid='', text_a='love email Gift cards', text_b=None, label=4), InputExample(guid='', text_a='hope she liked it', text_b=None, label=4), InputExample(guid='', text_a='Great fast gift idea. Buy it and send it and your done. For anyone that is hard to buy for. Great gift.', text_b=None, label=4), InputExample(guid='', text_a='It was easy to use', text_b=None, label=4), InputExample(guid='', text_a='If a gift card has the balance you purchased, I guess it gets five stars!!', text_b=None, label=4), InputExample(guid='', text_a='Yes it did and my girlfriend as been using it.', text_b=None, label=4), InputExample(guid='', text_a='Great gift card worked perfectly.', text_b=None, label=4), InputExample(guid='', text_a='Yummy', text_b=None, label=4), InputExample(guid='', text_a='unpleasant experience. Use cash or credit card', text_b=None, label=0), InputExample(guid='', text_a='worked as intended', text_b=None, label=4), InputExample(guid='', text_a='Good buy, worked as expected.', text_b=None, label=4), InputExample(guid='', text_a='Satisfied.', text_b=None, label=4), InputExample(guid='', text_a='GREAT. TY', text_b=None, label=4), InputExample(guid='', text_a='arrived within 5 min', text_b=None, label=4), InputExample(guid='', text_a=\"Always nice when you're in need\", text_b=None, label=4), InputExample(guid='', text_a='Gift', text_b=None, label=4), InputExample(guid='', text_a='Great gift card worked perfectly.', text_b=None, label=4), InputExample(guid='', text_a='Had no problem with using the card. Received it in just a few minutes.', text_b=None, label=4), InputExample(guid='', text_a='Excellent', text_b=None, label=4), InputExample(guid='', text_a=\"meh don't get it\", text_b=None, label=0), InputExample(guid='', text_a='Gift....they liked it.  :-)', text_b=None, label=4), InputExample(guid='', text_a='arrived within 5 min', text_b=None, label=4), InputExample(guid='', text_a='nice', text_b=None, label=4), InputExample(guid='', text_a='good gift card', text_b=None, label=4), InputExample(guid='', text_a=\"Always a great meal and these e-cards are 'da bomb!\", text_b=None, label=4), InputExample(guid='', text_a='Great product!!! I love it!!!', text_b=None, label=4), InputExample(guid='', text_a='Great product!!!', text_b=None, label=4), InputExample(guid='', text_a='great', text_b=None, label=4), InputExample(guid='', text_a='Love the chicken here', text_b=None, label=4), InputExample(guid='', text_a='Good', text_b=None, label=3), InputExample(guid='', text_a='midnight cravings', text_b=None, label=4), InputExample(guid='', text_a='Great when u don\"t have money to go out. Cracker barrel is the best food.', text_b=None, label=4), InputExample(guid='', text_a='Worked perfectly.  Had no problems redeeming the gift cards at merchant.', text_b=None, label=4), InputExample(guid='', text_a=\"Always good ideal for yourself or gift to someone and it come in your email so can't lose\", text_b=None, label=4), InputExample(guid='', text_a='love it', text_b=None, label=4), InputExample(guid='', text_a='Really like chilis', text_b=None, label=4), InputExample(guid='', text_a='Love the e-mail delivery gift cards.  Sent this to my sick daughter in college since she was too far away for me to go make her supper.', text_b=None, label=4), InputExample(guid='', text_a='Love chilis', text_b=None, label=4), InputExample(guid='', text_a='I bought this for my sister, she has 2 kids, she love that i was able to treat her to a meal!! she loves food gift cards!', text_b=None, label=4), InputExample(guid='', text_a='Just what I wanted...', text_b=None, label=4), InputExample(guid='', text_a='I bought this for my sister, she has 2 kids, she love that i was able to treat her to a meal!! she loves food gift cards!', text_b=None, label=4), InputExample(guid='', text_a='It arrived within 5 minutes and worked exactly as it should. E-mail delivery gift cards take the waiting out of gift card purchases; I love them.', text_b=None, label=4), InputExample(guid='', text_a='My daughter loves this place so what a perfect gift delivered right up her phone!  Delivery in 5 minutes or less- seller is always dependable.', text_b=None, label=4), InputExample(guid='', text_a='i got this for my daughter she loved it!', text_b=None, label=4), InputExample(guid='', text_a='Wings are amazing', text_b=None, label=4), InputExample(guid='', text_a='Excellent', text_b=None, label=4), InputExample(guid='', text_a='Great product!', text_b=None, label=4), InputExample(guid='', text_a='Got as a gift and they said it worked just like a plastic card', text_b=None, label=4), InputExample(guid='', text_a='Use it today sent to me over week ago! No expiration date! Simale and follow directions good for gifts! Always in your email', text_b=None, label=4), InputExample(guid='', text_a='Good', text_b=None, label=4), InputExample(guid='', text_a='good Service and fast shipping', text_b=None, label=4), InputExample(guid='', text_a='recieved if fast', text_b=None, label=4), InputExample(guid='', text_a='If a gift card has the balance you purchased, I guess it gets five stars!', text_b=None, label=4), InputExample(guid='', text_a='Received within 5 to 10 minutes. Worked great when I used it. I had no trouble', text_b=None, label=4), InputExample(guid='', text_a='Great gift card worked perfectly.', text_b=None, label=4), InputExample(guid='', text_a='as promised.', text_b=None, label=4), InputExample(guid='', text_a='FAST AND EFFECTIVE', text_b=None, label=4), InputExample(guid='', text_a='worked as intended', text_b=None, label=4), InputExample(guid='', text_a=\"Great Valentine's Day gift!\", text_b=None, label=4), InputExample(guid='', text_a='Love this place, fast delivery.', text_b=None, label=4), InputExample(guid='', text_a='no need to explain!', text_b=None, label=4), InputExample(guid='', text_a=\"I tried for 3 days to use this gift card. Wasn't able to use in store with QR code nor online. I couldn't even check my balance on the first day it was sent to me. I called customer service but because it's a gc for a 3rd party they could do nothing. BEWARE of this particular restaurant gift card!!\", text_b=None, label=0), InputExample(guid='', text_a='Easily used', text_b=None, label=4), InputExample(guid='', text_a='so convenient and e-mail delivery is lightning fast!  Will keep buying these for sure.', text_b=None, label=4), InputExample(guid='', text_a='What a great gift this nade!', text_b=None, label=4), InputExample(guid='', text_a='Love this place, fast delivery.', text_b=None, label=4), InputExample(guid='', text_a='Terrible food', text_b=None, label=2), InputExample(guid='', text_a='Nice restaurant', text_b=None, label=4), InputExample(guid='', text_a=\"They do work. It's awesome\", text_b=None, label=4), InputExample(guid='', text_a=\"Bought this gift card from the Deal of the Day so I saved money ($10 to be exact), which is great. I received an email saying estimated delivery time is within 5 minutes, but could be delayed a little pending credit card authorization. Well my credit card company authorized the charge immediately, but it took over 4 hours to receive the e-gift card. Slow delivery time, but since I got it at a cheaper price I don't mind.\", text_b=None, label=4), InputExample(guid='', text_a='not sure how you rate a gift card????', text_b=None, label=4), InputExample(guid='', text_a='Great', text_b=None, label=4), InputExample(guid='', text_a='E-cards, what an awesome invention.  Instant delivery and you can send as a gift.  Seller is always reliable.  Super!', text_b=None, label=4), InputExample(guid='', text_a=\"meh don't get it\", text_b=None, label=0), InputExample(guid='', text_a='My girlfriend really enjoyed her time at the movies.', text_b=None, label=4), InputExample(guid='', text_a=\"They do work .. it's awesome\", text_b=None, label=4), InputExample(guid='', text_a='great', text_b=None, label=4), InputExample(guid='', text_a='Garbage delivery service. Avoid at all costs. Says 5min. All lies. Complications consistently with this gift card idea on amazon. Will nevet use regal again. Its been 30min already. Pathetic. Never an issue with carmike. This is why companys fail, poor service that i clearly got here.', text_b=None, label=0), InputExample(guid='', text_a='loved that It was emailed immediately and that we were able to use it the next day for breakfast at IHOP.\\nWill definitely order again.', text_b=None, label=4), InputExample(guid='', text_a='Great product!', text_b=None, label=4), InputExample(guid='', text_a=\"Can't beat email delivery.\", text_b=None, label=4), InputExample(guid='', text_a='Great product!!!', text_b=None, label=4), InputExample(guid='', text_a='GREAT', text_b=None, label=4), InputExample(guid='', text_a='GREAT. TY', text_b=None, label=4), InputExample(guid='', text_a='Always good food at ihop', text_b=None, label=4), InputExample(guid='', text_a='Received within 5 to 10 minutes and it worked when I used it. I will order again', text_b=None, label=4), InputExample(guid='', text_a='When a gift card arrives with the value you purchased I guess it gets 5 stars?!!', text_b=None, label=4), InputExample(guid='', text_a='Great gift card worked perfectly.', text_b=None, label=4), InputExample(guid='', text_a='arrived within 5 min', text_b=None, label=4), InputExample(guid='', text_a='It arrived within 5 minutes and worked exactly as it should. E-mail delivery gift cards take the waiting out of gift card purchases; I love them.', text_b=None, label=4), InputExample(guid='', text_a='Great product from a great seller', text_b=None, label=4), InputExample(guid='', text_a='pizzzza', text_b=None, label=4), InputExample(guid='', text_a='my favorite Gift Card', text_b=None, label=4), InputExample(guid='', text_a='I bought this for my sister, she has 2 kids, she love that i was able to treat her to a meal!! she loves food gift cards!', text_b=None, label=4), InputExample(guid='', text_a='great product from a great seller', text_b=None, label=4), InputExample(guid='', text_a='Great', text_b=None, label=4), InputExample(guid='', text_a='great', text_b=None, label=4), InputExample(guid='', text_a='1 star for the website giving me such problems! Bought off amazon...no issues.', text_b=None, label=0), InputExample(guid='', text_a='I like whole foods meat and bakery sections but everything else is wicked over priced and strange. I like my normal regular brands I\\'ve always known so all these \"fancy\" grocery items do nothing for me.', text_b=None, label=3), InputExample(guid='', text_a='My gf loves whole foods and she loved this as a present', text_b=None, label=4), InputExample(guid='', text_a='Came instantly!', text_b=None, label=4), InputExample(guid='', text_a='Awsome', text_b=None, label=4), InputExample(guid='', text_a='arrived within 5 min', text_b=None, label=4), InputExample(guid='', text_a='I love Steak n Shake.  Great burgers, fries and oh those shakes!', text_b=None, label=4), InputExample(guid='', text_a='Great product from a great seller!!', text_b=None, label=4), InputExample(guid='', text_a='$5 discount on this e-gift card. This is great saving. Love to eat traditional breakfast at Steak and Shake!', text_b=None, label=4), InputExample(guid='', text_a='Nice', text_b=None, label=4), InputExample(guid='', text_a='Very nice gift presentation.', text_b=None, label=4), InputExample(guid='', text_a='Outstanding', text_b=None, label=4), InputExample(guid='', text_a='works great', text_b=None, label=4), InputExample(guid='', text_a='Great for small gifts for the youngsters in our family.', text_b=None, label=4), InputExample(guid='', text_a='loved it', text_b=None, label=4), InputExample(guid='', text_a='thanks', text_b=None, label=4), InputExample(guid='', text_a='Whoever gets these from Christmas will love them. Love eating there myself.', text_b=None, label=4), InputExample(guid='', text_a=\"I am so sorry that I haven't written a review. The best things alive are doing different surveys and focus groups and they pay you with a amazon e card...The best thing is to select from the many food gift cards and save them for many occasions to give out. Another thing is they come very fast.\", text_b=None, label=4), InputExample(guid='', text_a='They are gift cards.', text_b=None, label=4), InputExample(guid='', text_a='bought for christmas gifts', text_b=None, label=4), InputExample(guid='', text_a='One card did not have any value to it', text_b=None, label=1), InputExample(guid='', text_a='Everything as expected!', text_b=None, label=4), InputExample(guid='', text_a='It was a gift.', text_b=None, label=4), InputExample(guid='', text_a='Excellent product and fast delivery!!', text_b=None, label=4), InputExample(guid='', text_a='easy to use on their website, for a great online quick pick up. There food was okay, but not for the price.', text_b=None, label=3), InputExample(guid='', text_a='love it! Huddle free multipack. Great for teachers and care givers. Convenient and people always love some free panera! I do', text_b=None, label=4), InputExample(guid='', text_a='Like any other gift cards, got them and they worked.', text_b=None, label=4), InputExample(guid='', text_a='I bought Panera gift cards for a family member so he can get some of their good tomato soup, broccoli and cheese soup, sandwiches and salads.  Their bakery has some good-looking items.  Love to give out restaurant cards to loved ones as it forces them to have a good time.  Panera is working on making fresher, more healthy food.', text_b=None, label=4), InputExample(guid='', text_a='family and friends will love them', text_b=None, label=4), InputExample(guid='', text_a='thanks', text_b=None, label=4), InputExample(guid='', text_a='this was a birthday gift . Panera bread is the best. quality food....he was very happy to receive this gift card...my thanks to amazon for selling these gift cards making shopping so easy just a click away!', text_b=None, label=4), InputExample(guid='', text_a='arrived and worked as expected', text_b=None, label=3), InputExample(guid='', text_a='They are gift cards', text_b=None, label=4), InputExample(guid='', text_a=\"Hmm not sure how to comment for gift cards, except to say that I love being able to order online, it ships securely and easy to me, and I don't have to wait in line at a store.\", text_b=None, label=4), InputExample(guid='', text_a='gift', text_b=None, label=4), InputExample(guid='', text_a='You gotta love good soup and sandwich around Christmas holiday. My coworkers loved this simple gift.', text_b=None, label=4), InputExample(guid='', text_a=\"I get these for my kid's teachers.  I also got them as prizes for the games at my office holiday party.  Good deal without a trip to the store.\", text_b=None, label=4), InputExample(guid='', text_a='Will use for Christmas gifts for kids.  I like the smaller amts on the cards.', text_b=None, label=3), InputExample(guid='', text_a='Great convenience for someone who needs to order from home and cannot drive.', text_b=None, label=4), InputExample(guid='', text_a='Great gift card worked perfectly.', text_b=None, label=4), InputExample(guid='', text_a='Worked great and had no problems using it.', text_b=None, label=4), InputExample(guid='', text_a=\"The waitress at the P.F. Chang's in Salt Lake City acted as though this card was the most absurd thing she had ever came across in her career. After explaining how the card number and pin work a few different times, she finally got the picture and the card ran with no issues whatsoever :) that being said, STAY AWAY from SLC P.F. Chang's, spend your money elsewhere :)\", text_b=None, label=4), InputExample(guid='', text_a='works as intended', text_b=None, label=4), InputExample(guid='', text_a=\"Worked perfectly. P.F. Chang's is soooo good and I love the environment there.\", text_b=None, label=4), InputExample(guid='', text_a='Delivered in 5 minutes and there were no problems! I would buy this again', text_b=None, label=4), InputExample(guid='', text_a='What a pleasant change ftom our neighborhood buffet- great quality and true Asian flavors.', text_b=None, label=4), InputExample(guid='', text_a='FAST AND EFFICIENT', text_b=None, label=4), InputExample(guid='', text_a=\"Great gift and it's easy to redeem on Panera Bread website and place orders online.\", text_b=None, label=4), InputExample(guid='', text_a='arrived within 5 min', text_b=None, label=4), InputExample(guid='', text_a='great product from a great seller', text_b=None, label=4), InputExample(guid='', text_a='It worked as advertised. I got the email immediately after purchase and used it at Panera the next day without issue.', text_b=None, label=4), InputExample(guid='', text_a='No problems', text_b=None, label=2), InputExample(guid='', text_a='great for online ordering', text_b=None, label=4), InputExample(guid='', text_a='Really liked that it was delivered FAST via email... Will definitely order again, especially since there is no delivery charge Will use again in the future', text_b=None, label=4), InputExample(guid='', text_a='Good', text_b=None, label=4), InputExample(guid='', text_a=\"Email delivery can't beat that.\", text_b=None, label=4), InputExample(guid='', text_a='Great bread and soups', text_b=None, label=4), InputExample(guid='', text_a=\"Always great when you don't have to pay money\", text_b=None, label=4), InputExample(guid='', text_a='Healthy food choices', text_b=None, label=4), InputExample(guid='', text_a='good food', text_b=None, label=4), InputExample(guid='', text_a='Great', text_b=None, label=4), InputExample(guid='', text_a='grandson will love this', text_b=None, label=4), InputExample(guid='', text_a=\"Love Wendy's, but I bought this as a gift and will not be using it myself.\", text_b=None, label=4), InputExample(guid='', text_a='works great', text_b=None, label=4), InputExample(guid='', text_a='great gift', text_b=None, label=4), InputExample(guid='', text_a='Handy and convenient', text_b=None, label=3), InputExample(guid='', text_a='Gift Card Worked.', text_b=None, label=4), InputExample(guid='', text_a='Fast shipping!!! Great Gift!!!', text_b=None, label=4), InputExample(guid='', text_a='great', text_b=None, label=4), InputExample(guid='', text_a='fooood', text_b=None, label=4), InputExample(guid='', text_a='Works just as described. Would order again.', text_b=None, label=4), InputExample(guid='', text_a='This was my first food gift card.....This is what started my desire to continue purchasing them. After doing the many focus and surveys online they pay you in a Amazon Gift Code..How easy it is to find the many food locations many people enjoy..I now have started getting them,saving them to give out for ,any occasion . very fast delivery', text_b=None, label=4), InputExample(guid='', text_a='Simple to use, no need to worry about cash, great gift idea and does the job for anyone that is hard to buy for.', text_b=None, label=4), InputExample(guid='', text_a='Great item!', text_b=None, label=4), InputExample(guid='', text_a='Teenagers love Wendys', text_b=None, label=4), InputExample(guid='', text_a='worked', text_b=None, label=4), InputExample(guid='', text_a='Love the Frostys, a drink, and dessert!', text_b=None, label=4), InputExample(guid='', text_a='kids were thrilled.', text_b=None, label=4), InputExample(guid='', text_a='good', text_b=None, label=4), InputExample(guid='', text_a=\"Like the salads at Wendy's and an occasional bowl of chili.  This card comes in handy when I am cash poor.\", text_b=None, label=4), InputExample(guid='', text_a='GREAT', text_b=None, label=4), InputExample(guid='', text_a='Love it', text_b=None, label=4), InputExample(guid='', text_a='Great purchase', text_b=None, label=4), InputExample(guid='', text_a='Handy as gifts!!!', text_b=None, label=4), InputExample(guid='', text_a='bought for christmas gifts', text_b=None, label=3), InputExample(guid='', text_a=\"I love Wendy's, but the closets one, to me, is at Gulfgate, which is less than 3 miles.  That store does not honor the gift\\ncards.  The store says their machine is broke, it has been broken for over 3 months.\", text_b=None, label=4), InputExample(guid='', text_a=\"Great for a quick gift for a party.  Everyone might not love Wendy's, but few people will refuse to eat there...and everyone eats, so it's not like they won't use it!\", text_b=None, label=4), InputExample(guid='', text_a='Just what I wanted', text_b=None, label=4), InputExample(guid='', text_a='fast delivery and card worked', text_b=None, label=4), InputExample(guid='', text_a=\"I pick these up for ourselves or for a unexpected gift . Everyone seems to enjoy Wendy's for a nice surprise pick me up gift.\", text_b=None, label=4), InputExample(guid='', text_a='Great for gift', text_b=None, label=4), InputExample(guid='', text_a='Perfect for people whos taste you are not quite sure of, they give you a few to choose from. Better value than a card for just 1 restaurant.', text_b=None, label=4), InputExample(guid='', text_a='It is a gift card it is fine!', text_b=None, label=4), InputExample(guid='', text_a='loved it', text_b=None, label=4), InputExample(guid='', text_a=':) great gift', text_b=None, label=4), InputExample(guid='', text_a='The worst place to eat food. It should earn 0 star if the system allows. The food there was too sour and customers were forced to give Olive Garden more than 20% of bill as tip for the minimum requirement. They overcharge customers and treat people bad.', text_b=None, label=0), InputExample(guid='', text_a='I like to buy these gift cards to take my grand daughters to eat. they love it', text_b=None, label=4), InputExample(guid='', text_a='I like it', text_b=None, label=4), InputExample(guid='', text_a='Nice gift for family members and friends who like Olive Garden.  This forces them to go out and have a good time.  And maybe they will take you with them!  I bought Olive Garden gift card for a family member today.', text_b=None, label=4), InputExample(guid='', text_a='Gave this to my Mom for a Christmas gift, and she loves it. Why got to the store to buy it, when I can have it delivered?', text_b=None, label=4), InputExample(guid='', text_a='good', text_b=None, label=4), InputExample(guid='', text_a='as advertised!', text_b=None, label=4), InputExample(guid='', text_a='Good gift. fast delivery.', text_b=None, label=4), InputExample(guid='', text_a='Great for us and relatives on our Christmas list.  We used the $15 one right away on soup, salad, and breadsticks.  That is about all we like from Olive Garden.', text_b=None, label=3), InputExample(guid='', text_a='Great gift', text_b=None, label=4), InputExample(guid='', text_a='they are gift cards', text_b=None, label=4), InputExample(guid='', text_a=\"I ordered a bunch of gift cards and when the people went to use them, they found they didn't have anything on them. I gave my father in law some cards and other members of my family as Christmas presents!  You guys need to have some kind of double check process to make sure these cards have the value on them that they're suppose to!!!\", text_b=None, label=1), InputExample(guid='', text_a='Great', text_b=None, label=4), InputExample(guid='', text_a='love getting 5% back buying giftcards when I use my amazon card!!', text_b=None, label=4), InputExample(guid='', text_a='gift', text_b=None, label=4), InputExample(guid='', text_a='great', text_b=None, label=4), InputExample(guid='', text_a='This card made a great Christmas gift for my sister-in-law, who is very hard to choose for.', text_b=None, label=4), InputExample(guid='', text_a='Does what a gift card should :)', text_b=None, label=4), InputExample(guid='', text_a='we both love Olive garden', text_b=None, label=4), InputExample(guid='', text_a='great gifts', text_b=None, label=4), InputExample(guid='', text_a='Yes, it arrived quickly and worked perfectly. Very pleased.', text_b=None, label=4), InputExample(guid='', text_a='great place to eat Italian', text_b=None, label=4), InputExample(guid='', text_a='good', text_b=None, label=3), InputExample(guid='', text_a='Christmas Gift', text_b=None, label=4), InputExample(guid='', text_a='It is great that you can purchase without \"shopping\"', text_b=None, label=4), InputExample(guid='', text_a='Works like any other gift card. Got it, it worked.', text_b=None, label=4), InputExample(guid='', text_a='Easiest way to buy gift cards.  Fast delivery, never had a problem.', text_b=None, label=4), InputExample(guid='', text_a='Good buy, worked as expected.', text_b=None, label=4), InputExample(guid='', text_a=\"I'm so glad I got this gift card, cause they were gifts, and the recipient loved it.\", text_b=None, label=4), InputExample(guid='', text_a='great', text_b=None, label=4), InputExample(guid='', text_a='Great Gift idea!', text_b=None, label=4), InputExample(guid='', text_a='If you know someone who like Olive Garden, this is a fun gift to give them.  It makes them treat themselves and splurge a little bit.  And maybe they will take you with them when they go to Olive Garden.', text_b=None, label=4), InputExample(guid='', text_a='Great guft', text_b=None, label=4), InputExample(guid='', text_a=\"Who doesn't want a gift card! Works like Money\", text_b=None, label=4), InputExample(guid='', text_a='A great gift idea!', text_b=None, label=4), InputExample(guid='', text_a='Ok', text_b=None, label=4), InputExample(guid='', text_a='Gift', text_b=None, label=4), InputExample(guid='', text_a='Grandma love it', text_b=None, label=4), InputExample(guid='', text_a='great', text_b=None, label=4), InputExample(guid='', text_a='all good', text_b=None, label=4), InputExample(guid='', text_a='Works just fine', text_b=None, label=4), InputExample(guid='', text_a='great product from a great seller', text_b=None, label=4), InputExample(guid='', text_a='Works just as it should. Would order again.', text_b=None, label=4), InputExample(guid='', text_a='Good', text_b=None, label=4), InputExample(guid='', text_a='A good gift card and good food!', text_b=None, label=4), InputExample(guid='', text_a='Love it.', text_b=None, label=4), InputExample(guid='', text_a='Always a Great gift for any occasion', text_b=None, label=4), InputExample(guid='', text_a='Everything worked out great. I Ordered 2 of these gift cards and they worked without any problem.', text_b=None, label=4), InputExample(guid='', text_a='good food!!', text_b=None, label=4), InputExample(guid='', text_a='Always a great present.', text_b=None, label=4), InputExample(guid='', text_a='Good', text_b=None, label=4), InputExample(guid='', text_a='Gift', text_b=None, label=4), InputExample(guid='', text_a='gifts', text_b=None, label=4), InputExample(guid='', text_a='Outstanding', text_b=None, label=4), InputExample(guid='', text_a='Happy daughter', text_b=None, label=4), InputExample(guid='', text_a='Delivered as expected, no complaints!', text_b=None, label=4), InputExample(guid='', text_a='Great product with fast delivery', text_b=None, label=4), InputExample(guid='', text_a='Its a gift card.', text_b=None, label=4), InputExample(guid='', text_a='Arrived 4 days early...all good.', text_b=None, label=4), InputExample(guid='', text_a='Great service, always arrives perfect!', text_b=None, label=4), InputExample(guid='', text_a='Love it!!!! Thanks!!!!', text_b=None, label=4), InputExample(guid='', text_a=\"Olive Garden is good, not your authentic Italian food but it does the trick for a chain restaurant. Some prices are a little high but the fact you get salad and bread sticks with your dinner (for takeout too) makes it worth it. I recommend the chicken Marsala,  it's my favorite item on the menu....sooo good!!\", text_b=None, label=3), InputExample(guid='', text_a='fast delivery and card worked', text_b=None, label=4), InputExample(guid='', text_a='Thank you!!', text_b=None, label=4), InputExample(guid='', text_a=\"Purchased for a family member by request. I'm positive he'll enjoy using it.\", text_b=None, label=4), InputExample(guid='', text_a='love the item. fast delivery.', text_b=None, label=4), InputExample(guid='', text_a='Great gift card for special individuals', text_b=None, label=3), InputExample(guid='', text_a='Arrived quick easy to use', text_b=None, label=4), InputExample(guid='', text_a='Given as a gift, it was well received.', text_b=None, label=4), InputExample(guid='', text_a='The perfect gift.', text_b=None, label=4), InputExample(guid='', text_a='they are gift cards', text_b=None, label=4), InputExample(guid='', text_a='Great gifts', text_b=None, label=4), InputExample(guid='', text_a='FAMILY LOVES EATING OUT.', text_b=None, label=4), InputExample(guid='', text_a='Great gift and great price.  Made someone very happy.', text_b=None, label=4), InputExample(guid='', text_a='Does what a gift card should :)', text_b=None, label=4), InputExample(guid='', text_a='works great', text_b=None, label=4), InputExample(guid='', text_a=\"My brother wanted a gift card from once of his local restaurants.  I chose this Red Lobster card because I've eaten so well whenever I've gone there.\\nThe nearest location of a Red Lobster restaurant from our house is over an hour away, so it was so nice to be able to shop for these gift cards at my favorite online store.\", text_b=None, label=4), InputExample(guid='', text_a='Another favorite item.', text_b=None, label=4), InputExample(guid='', text_a='Birthday gift', text_b=None, label=4), InputExample(guid='', text_a='loved it', text_b=None, label=4), InputExample(guid='', text_a='Always a delight to have Amazon deliver a surprise gift card to a family member in the least time expected. THANK YOU SO MUCH', text_b=None, label=4), InputExample(guid='', text_a='Good buy, worked as needed.', text_b=None, label=4), InputExample(guid='', text_a=\"I gave this to a co worker for him and his lady to celebrate Valentine's Day. They both thought it was a nice gesture for me to give them the gift card.\", text_b=None, label=4), InputExample(guid='', text_a='Great gift', text_b=None, label=4), InputExample(guid='', text_a='Great product with fast delivery', text_b=None, label=4), InputExample(guid='', text_a='Red lobster is a great restaurant! My wife was very happy.', text_b=None, label=4), InputExample(guid='', text_a='worked fine', text_b=None, label=4), InputExample(guid='', text_a='Perfect, thank you!', text_b=None, label=4), InputExample(guid='', text_a='Great gift card worked perfectly.', text_b=None, label=4), InputExample(guid='', text_a='Great', text_b=None, label=4), InputExample(guid='', text_a='The \"convenience fee\" is annoying if you\\'re not buying tickets for a movie you actually expect to be sold out, like on a premier night or something. I\\'m glad I bought Beauty and the Beast tickets in advance, though, because it was sold out when I got to the theater. Fandango is just nice and easy to use.', text_b=None, label=3), InputExample(guid='', text_a='arrived within 5 min', text_b=None, label=4), InputExample(guid='', text_a='Like a charm..!', text_b=None, label=4), InputExample(guid='', text_a=\"meh don't get it\", text_b=None, label=0), InputExample(guid='', text_a=\"i'ts been 20minutes and did not get my email confirmation, I am very upset we have a movie we want to see. Should of bought it on fandango!\\nI would like my cards or money back immediately.\\n\\nReceived GiftCard almost 30min later. This sort of thing is unacceptable. Would not buy again if your friends and family want to see movie, just buy giftcard straight from movie sight.\", text_b=None, label=0), InputExample(guid='', text_a='Love it', text_b=None, label=4), InputExample(guid='', text_a='what a teenager needed', text_b=None, label=4), InputExample(guid='', text_a='gift for daughter', text_b=None, label=4), InputExample(guid='', text_a='ok', text_b=None, label=4), InputExample(guid='', text_a='good for teen', text_b=None, label=4), InputExample(guid='', text_a=\"Worked great. Didn't have any issues. Just make sure your JC Penney takes it via phone\", text_b=None, label=4), InputExample(guid='', text_a='Great gift card worked perfectly.', text_b=None, label=4), InputExample(guid='', text_a='Good purchase, worked as needed.', text_b=None, label=4), InputExample(guid='', text_a='arrived within 5 min', text_b=None, label=4), InputExample(guid='', text_a='Worked perfectly.  Had no problems redeeming the gift cards at merchant.', text_b=None, label=4), InputExample(guid='', text_a='Great', text_b=None, label=4), InputExample(guid='', text_a='worked great', text_b=None, label=4), InputExample(guid='', text_a=\"They do work .. it's awesome\", text_b=None, label=4), InputExample(guid='', text_a='was able to get nice towels', text_b=None, label=4), InputExample(guid='', text_a='Good ideal', text_b=None, label=4), InputExample(guid='', text_a='given as a gift', text_b=None, label=4), InputExample(guid='', text_a='great gift', text_b=None, label=4), InputExample(guid='', text_a='Love gift cards!!', text_b=None, label=4), InputExample(guid='', text_a='This item worked as expected', text_b=None, label=4), InputExample(guid='', text_a='A great gift idea for a crafter', text_b=None, label=4), InputExample(guid='', text_a='Great gift card for those crafty people on your list.', text_b=None, label=4), InputExample(guid='', text_a='Worked as advertised', text_b=None, label=4), InputExample(guid='', text_a=\"Prefect gift when you don't know what to get.  The person who receives it can choose where to spend it at.\", text_b=None, label=4), InputExample(guid='', text_a='Great', text_b=None, label=4), InputExample(guid='', text_a='It was easy to use', text_b=None, label=4), InputExample(guid='', text_a='works!', text_b=None, label=4), InputExample(guid='', text_a=\"what's to say gift\", text_b=None, label=4), InputExample(guid='', text_a=\"This was a great gift for a high school graduate who was joining the Navy ands can't take any personal possessions. He loved it!\", text_b=None, label=4), InputExample(guid='', text_a='Great item!', text_b=None, label=4), InputExample(guid='', text_a=':) great gift', text_b=None, label=4), InputExample(guid='', text_a='good', text_b=None, label=4), InputExample(guid='', text_a='5 off perfect for a gift.', text_b=None, label=4), InputExample(guid='', text_a='fine', text_b=None, label=4), InputExample(guid='', text_a='Good deal', text_b=None, label=4), InputExample(guid='', text_a='A quick gift for last minute occasions! Every girl loves shoes!#', text_b=None, label=4), InputExample(guid='', text_a=\"Paid $20 for $25 dollars at Famous Footwear.  Great deal especially if you like shopping there and will spend money there anyway.  Buy a few and save.  It's a gift card so not much more to say.\", text_b=None, label=4), InputExample(guid='', text_a='Cool design and cool card for my young cousin.', text_b=None, label=4), InputExample(guid='', text_a='Anther great buy.', text_b=None, label=4), InputExample(guid='', text_a='fun design and always welcome content!', text_b=None, label=4), InputExample(guid='', text_a='very good', text_b=None, label=4), InputExample(guid='', text_a='love it', text_b=None, label=4), InputExample(guid='', text_a='Cute presentation of a gift card.  Never heard back from the recipient but it was nice.\\n\\nDefinitely recommend.', text_b=None, label=4), InputExample(guid='', text_a='good price and fast shipping', text_b=None, label=4), InputExample(guid='', text_a='Excellent way to give them exactly what they want because they pick it out.', text_b=None, label=4), InputExample(guid='', text_a='I sent this gift card to my sister for her birthday and she loved it!  She always enjoys getting Amazon gift cards for birthdays or any special occasion since there are so many things you can buy with them.  Great gift idea for anyone!', text_b=None, label=4), InputExample(guid='', text_a='Amazon gift cards are AMAZING!', text_b=None, label=4), InputExample(guid='', text_a='Very cute the way it pops up. I like to give gift cards in person instead of via email and this makes it more fun to give.', text_b=None, label=4), InputExample(guid='', text_a='love gift cards!', text_b=None, label=4), InputExample(guid='', text_a='great for Christmas gift', text_b=None, label=4), InputExample(guid='', text_a='goodgift', text_b=None, label=4), InputExample(guid='', text_a='A great gift for stress free holidays!', text_b=None, label=4), InputExample(guid='', text_a='This is a great gift for people who are just hard to please', text_b=None, label=4), InputExample(guid='', text_a='Purchased as holiday gift for family.', text_b=None, label=4), InputExample(guid='', text_a=\"Was a great addition to the 'Saran Wrap Ball' Christmas Party Game!\", text_b=None, label=4), InputExample(guid='', text_a='Worked out great.', text_b=None, label=4), InputExample(guid='', text_a='Awesome!', text_b=None, label=4), InputExample(guid='', text_a='Terrific gift card in a pretty gift box.', text_b=None, label=4), InputExample(guid='', text_a='Very  Cute....:)\\nDelivered  Fast\\nBIGGER,  BETTER,  THAN I  EXPECTED\\nYES,  WOULD*  RECOMMEND', text_b=None, label=4), InputExample(guid='', text_a='Excellent gifts.', text_b=None, label=4), InputExample(guid='', text_a='Excellent product and item as described; very fast ship.', text_b=None, label=4), InputExample(guid='', text_a='Amazon gift cards are nothing new, and they are very handy to give as gifts due to the diverse nature of products Amazon offers  certainly your recipient can find something he / she will like to order. This gift card comes in a sturdy cardboard package, which adds a better touch to me than the standard email or printed-off versions at home as it shows you went a little further. I also appreciate the fact Amazon delivers it for free with next day shipping.', text_b=None, label=4), InputExample(guid='', text_a='Utilitarian.', text_b=None, label=4), InputExample(guid='', text_a='excelent', text_b=None, label=4), InputExample(guid='', text_a='very cute', text_b=None, label=4), InputExample(guid='', text_a='a gift', text_b=None, label=4), InputExample(guid='', text_a='I din not specifically love this item. It was purchased as a Christmas gift. The recipient loved it! I would recommend.', text_b=None, label=4), InputExample(guid='', text_a='Cute!', text_b=None, label=3), InputExample(guid='', text_a='As seen, nice packaging.', text_b=None, label=4), InputExample(guid='', text_a='ok', text_b=None, label=4), InputExample(guid='', text_a='Great Deal', text_b=None, label=4), InputExample(guid='', text_a='A+++', text_b=None, label=4), InputExample(guid='', text_a='A perfect gift in a beautiful, pull-up card, and it arrived the day after I ordered it, shipped free with Amazon Prime. I love all the options for different denominations in wonderful cards, ready for gift-giving.', text_b=None, label=4), InputExample(guid='', text_a='Great for a gift', text_b=None, label=4), InputExample(guid='', text_a=\"Can't go wrong with a gift card.\", text_b=None, label=4), InputExample(guid='', text_a='great buy', text_b=None, label=4), InputExample(guid='', text_a='Great and easy gift.', text_b=None, label=4), InputExample(guid='', text_a='A fun gift to give.', text_b=None, label=4), InputExample(guid='', text_a=\"great gift for christmas gift comes with nice packaging stores cards come naked with no style to it, they don't provide envelopes.\", text_b=None, label=4), InputExample(guid='', text_a='Such an easy way to give a gift!', text_b=None, label=4), InputExample(guid='', text_a='Good', text_b=None, label=4), InputExample(guid='', text_a='Nice gift packaging for any event', text_b=None, label=4), InputExample(guid='', text_a='Beautifully done.  Will make great Christmas gifts.  I ordered early to ensure I had them.', text_b=None, label=4), InputExample(guid='', text_a='Bought for a graduation gift. I am sure she will get good use out of. amazon has so much to offer.', text_b=None, label=4), InputExample(guid='', text_a='Love it.', text_b=None, label=4), InputExample(guid='', text_a='Best way to say Happy Valentines', text_b=None, label=4), InputExample(guid='', text_a='Great! Thank you!', text_b=None, label=4), InputExample(guid='', text_a='gift cards are always a good gift', text_b=None, label=4), InputExample(guid='', text_a='Its a gift card....', text_b=None, label=4), InputExample(guid='', text_a='What a better gift to give than Amazon gift card.', text_b=None, label=4), InputExample(guid='', text_a='Two words to describe: convenient and easy', text_b=None, label=4), InputExample(guid='', text_a='Good gift for anyone', text_b=None, label=4), InputExample(guid='', text_a='Great gift cards. Family I got them for loved them.', text_b=None, label=4), InputExample(guid='', text_a='Gift.  Recipient happy', text_b=None, label=4), InputExample(guid='', text_a='Arrived as planned, allows my family to pick their gift.', text_b=None, label=4), InputExample(guid='', text_a='Nice to have!', text_b=None, label=4), InputExample(guid='', text_a='Got this one on a lightning deal for $20.  Gives me an excuse to go to Hooters so I have to spend that gift card.  The card worked great and there were no issues.', text_b=None, label=4), InputExample(guid='', text_a='all good', text_b=None, label=4), InputExample(guid='', text_a='Great Item! Great Gift!', text_b=None, label=4), InputExample(guid='', text_a='Love these bought them for an early gifting. And they were as said already loaded with the amount mentioned here. Just double check though sometimes mistakes can be made. Perfect gift idea :)', text_b=None, label=4), InputExample(guid='', text_a='They are gift cards. Had no issues adding to my Starbucks account.', text_b=None, label=4), InputExample(guid='', text_a='Great idea for one or more stocking stuffer.', text_b=None, label=4), InputExample(guid='', text_a='Everyone I gave these to loved them!', text_b=None, label=4), InputExample(guid='', text_a='Perfect for my 2 neices for Christmas', text_b=None, label=4), InputExample(guid='', text_a='Awesome', text_b=None, label=4), InputExample(guid='', text_a='What is there not to love', text_b=None, label=4), InputExample(guid='', text_a='arrived and worked as expected', text_b=None, label=3), InputExample(guid='', text_a='Was a gift they love taco bell!!!', text_b=None, label=4), InputExample(guid='', text_a='Worked great. Thank you!', text_b=None, label=4), InputExample(guid='', text_a='This gift card is practical', text_b=None, label=3), InputExample(guid='', text_a=\"Great product. An easy gift to give when you're out of ideas.\", text_b=None, label=4), InputExample(guid='', text_a='Exactly as shown. No activation charge, just regular $25 gift card. I give a bunch for high school graduations to places around where theyll be going to college.', text_b=None, label=4), InputExample(guid='', text_a='My friend says they work well.', text_b=None, label=2), InputExample(guid='', text_a='good', text_b=None, label=4), InputExample(guid='', text_a='Great', text_b=None, label=4), InputExample(guid='', text_a='works!', text_b=None, label=4), InputExample(guid='', text_a='thanks, grandkids will love it', text_b=None, label=4), InputExample(guid='', text_a='Very Nice card and it looks new. Just hope it works for my son.', text_b=None, label=4), InputExample(guid='', text_a='Does what a gift card should :)', text_b=None, label=4), InputExample(guid='', text_a='Easy to use', text_b=None, label=4), InputExample(guid='', text_a='Glad to have it.', text_b=None, label=4), InputExample(guid='', text_a='this is a gift for a  friend who, like myself, likes taco bell. she is just a kid, but can feel like a \"big shot\" treating her family to lunch sometime!', text_b=None, label=4), InputExample(guid='', text_a=\"Gotta love the Taco Bell gift card. It's simple to use, makes paying faster and it's from a restaurant I love.\", text_b=None, label=4), InputExample(guid='', text_a='I had not eaten at Taco Bell for years. I used this to try their tacos again.  I forgot how yummy they are (& addicting).  They are expensive tacos and $25 does not go very far when you are hungry.  Card worked great for online ordering ahead.', text_b=None, label=4), InputExample(guid='', text_a='Like any other gift card, got it and it works.', text_b=None, label=4), InputExample(guid='', text_a='Great job! Card was delivered on time and packaged just right.\\nI will order more of these cards in the future.', text_b=None, label=4), InputExample(guid='', text_a='Getting this was an excellent idea. Thanks for having this available.', text_b=None, label=3), InputExample(guid='', text_a='Seems like it would work, but I got it for my nephew as a birthday gift', text_b=None, label=4), InputExample(guid='', text_a=\"Love Taco Bell's Taco Salad.\", text_b=None, label=4), InputExample(guid='', text_a='Kids love them', text_b=None, label=4), InputExample(guid='', text_a='great', text_b=None, label=4), InputExample(guid='', text_a='Convenient', text_b=None, label=4), InputExample(guid='', text_a='My son loves this place', text_b=None, label=4), InputExample(guid='', text_a='loved it', text_b=None, label=4), InputExample(guid='', text_a='Great product from a great seller', text_b=None, label=4), InputExample(guid='', text_a='This worked just as it should. No complaints.', text_b=None, label=4), InputExample(guid='', text_a='Always good', text_b=None, label=4), InputExample(guid='', text_a=\"This was part of a graduation gift to my son who was joining the Navy. Instead of the traditional gifts, I got him a bunch of gift cards since he can't any personal possessions with him. These cards allowed him to enjoy going out with his friends and girlfriend for that last month before leaving for boot camp.\", text_b=None, label=4), InputExample(guid='', text_a='Perfect gift!\\nTook the family out to eat!', text_b=None, label=4), InputExample(guid='', text_a='Swipe it and go, its a simple as it gets. Nothing else really to be said.', text_b=None, label=4), InputExample(guid='', text_a=\"(( IT WORKS!!! ))  just got card and FUNDS I PAID FORE BETTER BE THERE ive read too many comments on amazon about gift cards with no funds on them\\nthat's some messed up crap. We'll see...\", text_b=None, label=4), InputExample(guid='', text_a='Daughter and Son in Law needed the food they are looking forward to using it', text_b=None, label=4), InputExample(guid='', text_a='Great purchase. The Gift card worked very good.', text_b=None, label=4), InputExample(guid='', text_a='Wish there was an email delivery option, but as there is not this is the next best thing.', text_b=None, label=3), InputExample(guid='', text_a='Great gift', text_b=None, label=4), InputExample(guid='', text_a='good', text_b=None, label=4), InputExample(guid='', text_a='Worked!', text_b=None, label=4), InputExample(guid='', text_a='WHAT CAN YOU SAY ABOUT A GIFT CARD.', text_b=None, label=4), InputExample(guid='', text_a='Always a great present.', text_b=None, label=4), InputExample(guid='', text_a='Great', text_b=None, label=4), InputExample(guid='', text_a='gift', text_b=None, label=4), InputExample(guid='', text_a='Great product with fast delivery', text_b=None, label=4), InputExample(guid='', text_a='Cute box!', text_b=None, label=4), InputExample(guid='', text_a='Perfect gift to give someone so they can buy alittle treat for themselves thru amazon. Happy w hassle free, no guesswork on gift.', text_b=None, label=4), InputExample(guid='', text_a='We love these Amazon Gift card boxes. we send each of the Grandkids a $50 card, and their parents help them pick out their goodies on the Amazon site. Really a big hit with the kids!', text_b=None, label=3), InputExample(guid='', text_a='excelent', text_b=None, label=4), InputExample(guid='', text_a='very happy', text_b=None, label=4), InputExample(guid='', text_a='its a gift card!!!!', text_b=None, label=4), InputExample(guid='', text_a='Cute', text_b=None, label=4), InputExample(guid='', text_a='ok', text_b=None, label=3), InputExample(guid='', text_a=\"A perfect gift in a beautiful box. It's ready to give!\", text_b=None, label=4), InputExample(guid='', text_a='The hearts are nice and the bow perfect.  Will be fun to give.', text_b=None, label=4), InputExample(guid='', text_a='A great way to get what you want.', text_b=None, label=4), InputExample(guid='', text_a='Fast shipping and super cute design!', text_b=None, label=4), InputExample(guid='', text_a='Nice easter egg design of the gift card.', text_b=None, label=4), InputExample(guid='', text_a='Perfectly delivered and my son was thrilled!', text_b=None, label=4), InputExample(guid='', text_a='My grandkids loved their \"Easter Eggs.\"  Beautiful card which fills the bill for a card and a gift.  They get so much candy that I always give them gifts.  This is the first of many years I will be giving them Amazon gift cards.  I\\'m sure next year\\'s gift card holder will be just as nice.', text_b=None, label=4), InputExample(guid='', text_a='I sent one of these to each of my granddaughters as an Easter present and they loved it!  They have a wish list on Amazon and were very excited to get the gift card to make some purchases.  They loved the cards!  Thanks, Amazon.', text_b=None, label=4), InputExample(guid='', text_a='my granddaughter is just old enough (7) to enjoy shopping for herself.', text_b=None, label=4), InputExample(guid='', text_a='Good Xmas gift', text_b=None, label=3), InputExample(guid='', text_a='Sent as a gift to my sister.  She really likes the choices.', text_b=None, label=4), InputExample(guid='', text_a='In our family they make good gifts.', text_b=None, label=4), InputExample(guid='', text_a='Birthday Gift', text_b=None, label=4), InputExample(guid='', text_a='nice', text_b=None, label=4), InputExample(guid='', text_a='I WAS SO EMBARRASSED TO HAVE THE CARDS NOT WORK. BE CAREFUL. MAKE SURE YOU CHECK YOUR BALANCE FIRST BEFORE ORDERING OR YOU MAY BE SORRY. BE SURE AND BRING BACK UP CASH.', text_b=None, label=0), InputExample(guid='', text_a='Great', text_b=None, label=4), InputExample(guid='', text_a='This card was the nicest looking card of all. Good for gifting.', text_b=None, label=4), InputExample(guid='', text_a='Buy the needy a TURKEY DINNER for the holidays!\\nTHESE are great for \"surprise\" gifts to the less-fortunate...\\nTHIS TIME OF THE YEAR!\\nMerry Christmas!\\n\\nFrom Surprise Santa', text_b=None, label=4), InputExample(guid='', text_a='Love Dennys and their gift cards are great and hassle free to use and they shipped out quickly.', text_b=None, label=4), InputExample(guid='', text_a='excellent anniversary gift. My husband loved it.', text_b=None, label=3), InputExample(guid='', text_a='was a gift', text_b=None, label=4), InputExample(guid='', text_a='Wonderful', text_b=None, label=4), InputExample(guid='', text_a='Parents loved it', text_b=None, label=4), InputExample(guid='', text_a='My Family Loved thses', text_b=None, label=4), InputExample(guid='', text_a='love that they can e-mail them to u. so u can use them the same day', text_b=None, label=4), InputExample(guid='', text_a=\"Really like and enjoy these egift cards! You don't have to print out most of them scan off your cell or if print out and misplace or lose. Still in your cell!\", text_b=None, label=4), InputExample(guid='', text_a='I have no issues with these.  I love the email one so that I can use asap!', text_b=None, label=4), InputExample(guid='', text_a='Gift...delivered on time.  They loved it.', text_b=None, label=4), InputExample(guid='', text_a='Great gift card worked perfectly.', text_b=None, label=4), InputExample(guid='', text_a='Yummy', text_b=None, label=4), InputExample(guid='', text_a='After I gave the card to my wife for her birthday, we found the card far less convenient than a standard credit card.', text_b=None, label=2), InputExample(guid='', text_a='worked as intended', text_b=None, label=4), InputExample(guid='', text_a='Awsome', text_b=None, label=4), InputExample(guid='', text_a='arrived within 5 min', text_b=None, label=4), InputExample(guid='', text_a=\"Like these gift cards when you're short on time for shopping, and want to get someone the day of their birthday.  I bought an Olive Garden card today for a family member.\", text_b=None, label=4), InputExample(guid='', text_a='great product from a great seller', text_b=None, label=4), InputExample(guid='', text_a='Terrible food', text_b=None, label=2), InputExample(guid='', text_a='Perfect!', text_b=None, label=4), InputExample(guid='', text_a='food was ok', text_b=None, label=3), InputExample(guid='', text_a='fast delivery of e-certificate..that we were able to use the very same day.  TY', text_b=None, label=4), InputExample(guid='', text_a=\"olive garden email gift card. What's not to love? Can get it essentially same day since it's via email. No waiting for shipping.\", text_b=None, label=4), InputExample(guid='', text_a='Fast and convenient!', text_b=None, label=4), InputExample(guid='', text_a='Gift', text_b=None, label=4), InputExample(guid='', text_a='Give as a gift, to homeless in need or just for yourself future use!!', text_b=None, label=4), InputExample(guid='', text_a='Card delivered as promised, with no issues redeeming.', text_b=None, label=4), InputExample(guid='', text_a='great product from a great seller', text_b=None, label=4), InputExample(guid='', text_a='Excellent', text_b=None, label=4), InputExample(guid='', text_a='This takes the prize...I ordered this card as a e-card....the person received it in less than 10 minutes. We both were amazed.', text_b=None, label=4), InputExample(guid='', text_a='Excellent', text_b=None, label=4), InputExample(guid='', text_a='Great gift card worked perfectly.', text_b=None, label=4), InputExample(guid='', text_a='Card delivered as promised, with no issues redeeming.', text_b=None, label=4), InputExample(guid='', text_a='Birthday present', text_b=None, label=4), InputExample(guid='', text_a='It arrived within 5 minutes and worked exactly as it should. E-mail delivery gift cards take the waiting out of gift card purchases; I love them.', text_b=None, label=4), InputExample(guid='', text_a='Had a great time, good food', text_b=None, label=4), InputExample(guid='', text_a=\"meh don't get it\", text_b=None, label=0), InputExample(guid='', text_a='Quick and easy way to gift or get a gift card. Delivery is fast, and easy. Once you receive the card just click get now, and print it out. Then just give it to your waitress to pay for your meal. Makes Christmas gifts or any other occasion easy as pie. Absolutely love that this offer is available through email. Will definitely use again and again.', text_b=None, label=4), InputExample(guid='', text_a='great gif for graduate..', text_b=None, label=4), InputExample(guid='', text_a='Great gift for new graduate. .. love the box', text_b=None, label=4), InputExample(guid='', text_a='I gave these as gifts and they loved them. The boxes added a nice touch!!', text_b=None, label=4), InputExample(guid='', text_a='Gift cards are always the way to go for my grandmother who loves her kindle books', text_b=None, label=4), InputExample(guid='', text_a='Very nice gift', text_b=None, label=4), InputExample(guid='', text_a='Fast shipping and perfect design as a graduation gift!', text_b=None, label=4), InputExample(guid='', text_a='I bought this for my nephews graduation, he said it works', text_b=None, label=4), InputExample(guid='', text_a=\"I gave my 3 niece's each a gift card, and they loved it.\", text_b=None, label=4), InputExample(guid='', text_a='Arrived on time.  Great idea for a gift.  Recommend', text_b=None, label=4), InputExample(guid='', text_a='Perfect for giving a graduation gift card! The recipient loved the graduation hat it came in.', text_b=None, label=4), InputExample(guid='', text_a='Cute graduation gift.  Unlike some other gift card holders, came wrapped in plastic so it was in perfect condition for gift giving.', text_b=None, label=4), InputExample(guid='', text_a='Perfect gift for the graduate', text_b=None, label=4), InputExample(guid='', text_a='Cute. Gift Card works fine. The box is cute.', text_b=None, label=3), InputExample(guid='', text_a='Loved the holder', text_b=None, label=4), InputExample(guid='', text_a='The little purse shape was perfect for my needs', text_b=None, label=4), InputExample(guid='', text_a='Very unique as a gift card', text_b=None, label=3), InputExample(guid='', text_a='love gift cards', text_b=None, label=4), InputExample(guid='', text_a='Punctuality and genuinity.', text_b=None, label=4), InputExample(guid='', text_a='A birthday present my niece loved.', text_b=None, label=4), InputExample(guid='', text_a='Awesome!', text_b=None, label=4), InputExample(guid='', text_a='Cute presentation of a gift card.  Made a nice birthday gift and was different than the normal card holder.\\n\\nDefinitely recommend.', text_b=None, label=4), InputExample(guid='', text_a='says was delivered', text_b=None, label=4), InputExample(guid='', text_a='easy gift', text_b=None, label=4), InputExample(guid='', text_a='My teenaged granddaughter loved it.', text_b=None, label=4), InputExample(guid='', text_a='These Amazon cards with the packaging are perfect for gifts. I get the tins at Christmas and other styles for birthday and other occasions.', text_b=None, label=4), InputExample(guid='', text_a='cute package and the receiver loved it', text_b=None, label=4), InputExample(guid='', text_a='Great gift', text_b=None, label=4), InputExample(guid='', text_a='My sister asked for a gift card from this site for her birthday, and I thought this polka-dot purse would be perfect for her, since collecting purses is one of her favorite pastimes.  It really is cute, and who knows, she may buy another purse with it.', text_b=None, label=4), InputExample(guid='', text_a='Such a cute idea and my niece loved it. It has some glitter and works great for little girls who look at it like a little purse.', text_b=None, label=4), InputExample(guid='', text_a=\"it's very cute\", text_b=None, label=4), InputExample(guid='', text_a='I Love outback they have so many great options and the bloomin onion is the best appetizer there is. Glad amazon offers them in edelivery form!', text_b=None, label=4), InputExample(guid='', text_a='Excellent', text_b=None, label=4), InputExample(guid='', text_a='Easy to use', text_b=None, label=4), InputExample(guid='', text_a='Fast delivery of e-card - could use the same day..  very happy with purchase!', text_b=None, label=4), InputExample(guid='', text_a='It arrived within 5 minutes and worked exactly as it should. E-mail delivery gift cards take the waiting out of gift card purchases; I love them.', text_b=None, label=4), InputExample(guid='', text_a='great product and great seller', text_b=None, label=4), InputExample(guid='', text_a='Love amazon lighting deal gift cards! These were small and super cute. Perfect for gifting!', text_b=None, label=4), InputExample(guid='', text_a='QUICK AND WORKED GREAT!', text_b=None, label=3), InputExample(guid='', text_a='Great product from a great seller!!!!', text_b=None, label=4), InputExample(guid='', text_a='It arrived within 5 minutes and worked exactly as it should. E-mail delivery gift cards take the waiting out of gift card purchases; I love them.', text_b=None, label=4), InputExample(guid='', text_a='Arrived quick easy to use', text_b=None, label=4), InputExample(guid='', text_a='Fast shipping and great gift!', text_b=None, label=4), InputExample(guid='', text_a='It was the perfect gift.', text_b=None, label=4), InputExample(guid='', text_a='This was a gift', text_b=None, label=4), InputExample(guid='', text_a='Worked perfectly', text_b=None, label=4), InputExample(guid='', text_a='My neice loves ulta, so a perfect gift!', text_b=None, label=4), InputExample(guid='', text_a='This was a Christmas gift. The recipient is/was pleased. I would consider purchasing again and would recommend.', text_b=None, label=4), InputExample(guid='', text_a='a well loved gift by most any lady', text_b=None, label=4), InputExample(guid='', text_a='Purchased as holiday gift. Wonderful item.', text_b=None, label=4), InputExample(guid='', text_a='Good gift card, it came loaded and ready to spend!', text_b=None, label=4), InputExample(guid='', text_a='Birthday gift', text_b=None, label=4), InputExample(guid='', text_a='Will be a great birthday present.', text_b=None, label=4), InputExample(guid='', text_a='Great', text_b=None, label=4), InputExample(guid='', text_a=\"it's a fit card what else to say?\", text_b=None, label=4), InputExample(guid='', text_a='Great gift idea which would fit nicely in a cosmetic bag', text_b=None, label=4), InputExample(guid='', text_a=\"It is what it says it is, a gift card to Ulta Beauty. No problems using the card. Giving it 5 stars seems kind of silly, but I don't know that it would be fair to give it anything less.\", text_b=None, label=4), InputExample(guid='', text_a='good gift', text_b=None, label=4), InputExample(guid='', text_a='Came fast, exactly what I needed for my daughters christmas. Very happy.', text_b=None, label=4), InputExample(guid='', text_a='Purchased for my granddaughter who absolutely loves makeup!  This was a winner.', text_b=None, label=4), InputExample(guid='', text_a='This year I gave gift cards to many on my list especially the grandchildren. They loved getting the cards and began using them the day after Christmas. I put them in cute holders that they can keep and put on the tree next year.', text_b=None, label=4), InputExample(guid='', text_a='Bought this as a gift', text_b=None, label=4), InputExample(guid='', text_a='Great gift', text_b=None, label=4), InputExample(guid='', text_a=\"what's to say gift\", text_b=None, label=4), InputExample(guid='', text_a='Gave as a gift and receiver loved it. No complaints here!', text_b=None, label=4), InputExample(guid='', text_a='Exactly as shown. No activation charge, just regular $25 gift card. I give a bunch for high school graduations to places around where theyll be going to college.', text_b=None, label=4), InputExample(guid='', text_a='works!', text_b=None, label=4), InputExample(guid='', text_a=\"It's a gift card!  What's to review.  It arrived quickly and worked when we tried to use it.\", text_b=None, label=4), InputExample(guid='', text_a='Great Deal', text_b=None, label=4), InputExample(guid='', text_a='This is a gift.', text_b=None, label=4), InputExample(guid='', text_a='This card was such a hit..I will order another one..', text_b=None, label=4), InputExample(guid='', text_a='Love my gift cards and easy access to them on Amazon with fast shipping.', text_b=None, label=4), InputExample(guid='', text_a='Gift', text_b=None, label=4), InputExample(guid='', text_a='Gave as a gift', text_b=None, label=3), InputExample(guid='', text_a='Who but Donald Trump could hate anything Amazon?', text_b=None, label=4), InputExample(guid='', text_a='not a lot to say about it, they spent it right away, served its purpose', text_b=None, label=2), InputExample(guid='', text_a='This was a gift', text_b=None, label=3), InputExample(guid='', text_a='Great design gift card for Christmas.', text_b=None, label=4), InputExample(guid='', text_a=\"The gift card and outside of the tin get 5 stars on this.  The inside of the tin, however, is the cause for a 3-star review.  I thought the black inner holder (if you will) would come with the tin, as pictured.  However, when I received it, the gift card is loose inside of the tin, and there's no way to secure it inside the tin.  This is probably a minor detail, but I'm very into the appearance of gifts, so I'm a bit disappointed.\", text_b=None, label=2), InputExample(guid='', text_a='Excellent product. Arrived on time and as described.', text_b=None, label=4), InputExample(guid='', text_a='It was the perfect gift', text_b=None, label=4), InputExample(guid='', text_a='great', text_b=None, label=4), InputExample(guid='', text_a='Perfect gift', text_b=None, label=4), InputExample(guid='', text_a='love gift cards!!', text_b=None, label=4), InputExample(guid='', text_a='Came on time, and exactly as described.', text_b=None, label=4), InputExample(guid='', text_a='Perfect gift', text_b=None, label=4), InputExample(guid='', text_a='Always the best gifts for my family members.', text_b=None, label=4), InputExample(guid='', text_a='Thumbs up Amazon for providing boxes! Will start buying my gift cards right online now due to the cute boxes. Thanks!', text_b=None, label=4), InputExample(guid='', text_a='everyone likes an Amazon gift card for a gift  Thanks', text_b=None, label=4), InputExample(guid='', text_a='The box for the gift card is so very pretty.  I love the details given and they were appreciated by the recipient as well.', text_b=None, label=4), InputExample(guid='', text_a='Does what a gift card should :)', text_b=None, label=4), InputExample(guid='', text_a='Kids love these!', text_b=None, label=4), InputExample(guid='', text_a='Came on time, and exactly as described.', text_b=None, label=4), InputExample(guid='', text_a='I love giving these for gifts,  they are a great hit at holiday get togethers.', text_b=None, label=4), InputExample(guid='', text_a='Great gift, cute box, fast shipping', text_b=None, label=4), InputExample(guid='', text_a='Came on time, and exactly as described.', text_b=None, label=4), InputExample(guid='', text_a='Gift for a friend.  She can always find something at Amazon', text_b=None, label=4), InputExample(guid='', text_a='Gift cards are great gift.  Came on time.  Thanks.', text_b=None, label=4), InputExample(guid='', text_a='This was a gift.  Recipient happy', text_b=None, label=4), InputExample(guid='', text_a='very classy, always welcome contents :)', text_b=None, label=4), InputExample(guid='', text_a='Amazon cards are always awesome to give or receive.  The tin is nice and makes it a nice touch when you give it to someone.  The free tin saves you a few bucks to make a better presentation.', text_b=None, label=4), InputExample(guid='', text_a=\"Packaged perfectly and I didn't have to wrap it again.  Had that jingle for Christmas.\", text_b=None, label=4), InputExample(guid='', text_a=\"Gift cards are always the perfect last minute gift, especially if you need to gift to someone you don't know too well\", text_b=None, label=4), InputExample(guid='', text_a='These are adorable and perfect gifts for my grandkids.', text_b=None, label=4), InputExample(guid='', text_a='Does what a gift card should :)', text_b=None, label=4), InputExample(guid='', text_a='great gift', text_b=None, label=4), InputExample(guid='', text_a='Another great Christmas gift.', text_b=None, label=4), InputExample(guid='', text_a='My 11 grandchildren love to receive amazon gift cards to shop online!', text_b=None, label=4), InputExample(guid='', text_a='great', text_b=None, label=4), InputExample(guid='', text_a=\"Was a cute addition to the The 'Saran Wrap Ball' Christmas Party Game!\\nThanks!\", text_b=None, label=4), InputExample(guid='', text_a='This was a Christmas gift. The recipient was/is pleased. I would recommend and purchase again.', text_b=None, label=4), InputExample(guid='', text_a='Loved it', text_b=None, label=4), InputExample(guid='', text_a='This was a gift but I could see the decorations and they looked cute.', text_b=None, label=3), InputExample(guid='', text_a='Nice gift. More selections are needed', text_b=None, label=4), InputExample(guid='', text_a='Just what I needed for a gift.', text_b=None, label=4), InputExample(guid='', text_a='Bells jingle, love how the card is tucked inside', text_b=None, label=4), InputExample(guid='', text_a=\"nephews and nieces really liked. Lots of e-mail thank you's.\", text_b=None, label=4), InputExample(guid='', text_a='Liked the holiday box', text_b=None, label=4), InputExample(guid='', text_a='Perfect gift', text_b=None, label=4), InputExample(guid='', text_a='Amazon has great quality gift tins at no extra charge! Nice colors on Santa, and nice size tin too. Great value and no gift wrapping required.', text_b=None, label=4), InputExample(guid='', text_a='great gift!', text_b=None, label=4), InputExample(guid='', text_a=\"who doesn't love amazon GC's?\", text_b=None, label=4), InputExample(guid='', text_a='Good item', text_b=None, label=4), InputExample(guid='', text_a=\"I didn't specifically love this item as it was a Christmas gift. The recipient loved it! I would recommend.\", text_b=None, label=4), InputExample(guid='', text_a='Kids love,these!', text_b=None, label=4), InputExample(guid='', text_a='ditto', text_b=None, label=4), InputExample(guid='', text_a='Pretty good!', text_b=None, label=4), InputExample(guid='', text_a='Great addition to Christmas. The gift cards were a hit for stocking stuffers.', text_b=None, label=4), InputExample(guid='', text_a='great', text_b=None, label=4), InputExample(guid='', text_a='Is as advertised', text_b=None, label=4), InputExample(guid='', text_a='Gift for Christmas Time', text_b=None, label=4), InputExample(guid='', text_a='Cute with the bells.', text_b=None, label=3), InputExample(guid='', text_a=\"I have been using this website since long time. It's very easy for me to send any thing to my grand children through Amazon.\", text_b=None, label=4), InputExample(guid='', text_a='great gift and packaging', text_b=None, label=4), InputExample(guid='', text_a='This is a nice gc holder/display', text_b=None, label=4), InputExample(guid='', text_a='very nice', text_b=None, label=4), InputExample(guid='', text_a='Lovely little card  box', text_b=None, label=4), InputExample(guid='', text_a='ok', text_b=None, label=4), InputExample(guid='', text_a='This Santa Tin is really cute. At current time of writing, the tin is free when you purchase a $25+ amazon gift card. This is a nice bonus & a great way to give a Christmas gift. The tin is about 5\" x 4.5\" x 1\", and has a clear window at the bottom so you can see the gift card inside. This one is a bit of an odd shape because of the santa hat shape, but still very cute. :)', text_b=None, label=4), InputExample(guid='', text_a=\"LOL!\\nWho wouldn't love an Amazon gift card???!!!  They loved the Santa card holder.\\n\\nDefinitely recommend.\", text_b=None, label=4), InputExample(guid='', text_a='I like the free box it comes it.', text_b=None, label=4), InputExample(guid='', text_a='excelent', text_b=None, label=4), InputExample(guid='', text_a='Thank you!', text_b=None, label=4), InputExample(guid='', text_a='Great gift!', text_b=None, label=4), InputExample(guid='', text_a=\"It's a gift card..it was fine!\", text_b=None, label=4), InputExample(guid='', text_a='Cute', text_b=None, label=4), InputExample(guid='', text_a='love it', text_b=None, label=4), InputExample(guid='', text_a='ok', text_b=None, label=3), InputExample(guid='', text_a='great Christmas gift', text_b=None, label=4), InputExample(guid='', text_a='Worked out well', text_b=None, label=4), InputExample(guid='', text_a='very happy', text_b=None, label=4), InputExample(guid='', text_a='A great gift that was very much appreciated.', text_b=None, label=4), InputExample(guid='', text_a='Gift cards are always good.', text_b=None, label=4), InputExample(guid='', text_a='Mede a great Christmas gift.', text_b=None, label=4), InputExample(guid='', text_a='Easy way to make a gift to those fussy people on your gift list.', text_b=None, label=4), InputExample(guid='', text_a='ok', text_b=None, label=3), InputExample(guid='', text_a='Gift.', text_b=None, label=2), InputExample(guid='', text_a='good', text_b=None, label=4), InputExample(guid='', text_a='Well-made, subtle gift card for Christmas.  Easy to set up.', text_b=None, label=4), InputExample(guid='', text_a='Got it fast. Used it easily', text_b=None, label=4), InputExample(guid='', text_a='Makes for a memorable gift!', text_b=None, label=4), InputExample(guid='', text_a=\"Super festive pop up Christmas theme. Just the box is sturdy and great quality, but to have a mini pop up card hiding inside with your gift card is awesome. I really can't believe that amazon doesn't charge extra for the box, this is such a great deal!\", text_b=None, label=4), InputExample(guid='', text_a=\"Gift cards are always the perfect go to gift for me for last minute or the person I need to gift so and don't know too well\", text_b=None, label=4), InputExample(guid='', text_a=\"Great gift, couldn't be easier!\", text_b=None, label=4), InputExample(guid='', text_a='Gift for Christmas Time', text_b=None, label=4), InputExample(guid='', text_a='My son loved it.', text_b=None, label=4), InputExample(guid='', text_a='always a good gift', text_b=None, label=4), InputExample(guid='', text_a='Great Deal', text_b=None, label=4), InputExample(guid='', text_a='Does what a gift card should :)', text_b=None, label=4), InputExample(guid='', text_a='They are packaged nice', text_b=None, label=4), InputExample(guid='', text_a='great gift!', text_b=None, label=4), InputExample(guid='', text_a='ok', text_b=None, label=4), InputExample(guid='', text_a='Gift cards are always the perfect gift.', text_b=None, label=4), InputExample(guid='', text_a='Always a perfect gift, and the card was a beautiful way to display it!', text_b=None, label=4), InputExample(guid='', text_a='it was beautifully wrapped. Loved it!!', text_b=None, label=4), InputExample(guid='', text_a='Good idea.  I particularly liked the gift card attached that said \"Peace on earth.\"  We really need that.', text_b=None, label=4), InputExample(guid='', text_a=\"Can't go wrong\", text_b=None, label=4), InputExample(guid='', text_a=\"The packaging is adorable. Makes gift giving a snap. I bought 5 different cards so far for Christmas presents. My family is spread all over the East Coast and I'm in Michigan. Postage is so expensive to mail packages. Everyone I know loves Amazon so it's a win - win!! Thank you!\", text_b=None, label=4), InputExample(guid='', text_a=\"Very cute! And it's already wrapped! I just added a gift tag and put it over the bar code.\", text_b=None, label=4), InputExample(guid='', text_a='Nice selection of card holders for holidays...no extra charge!!', text_b=None, label=4), InputExample(guid='', text_a='Great gift idea when you are not sure of the recipients tastes!', text_b=None, label=4), InputExample(guid='', text_a='Really cute packaging!', text_b=None, label=4), InputExample(guid='', text_a='Very nice design of gift card for holiday gifts!', text_b=None, label=4), InputExample(guid='', text_a='This holder is OK, but Amazon offers better ones.', text_b=None, label=2), InputExample(guid='', text_a='Such cute packaging!', text_b=None, label=4), InputExample(guid='', text_a='This was a gift', text_b=None, label=4), InputExample(guid='', text_a='they look cute for christmas and are durable everyone loved the look', text_b=None, label=4), InputExample(guid='', text_a='Gift for my grandson.  He is very hard to buy for', text_b=None, label=4), InputExample(guid='', text_a='Great Christmas gift for anyone - even my Tween Grand-daughter', text_b=None, label=4), InputExample(guid='', text_a=\"Gift cards for my two grandson's so they could order their own games from amazon.\", text_b=None, label=4), InputExample(guid='', text_a='Gift Christmas time', text_b=None, label=4), InputExample(guid='', text_a=\"This was a gift so I didn't open it but it looks cute!\", text_b=None, label=3), InputExample(guid='', text_a='The receiver loved this.  Much better than a plain gift card in an envelope.', text_b=None, label=4), InputExample(guid='', text_a='The receiver loved this.  Much better than a plain gift card in an envelope.', text_b=None, label=4), InputExample(guid='', text_a='Ditto.', text_b=None, label=4), InputExample(guid='', text_a='great gift and cute packaging', text_b=None, label=4), InputExample(guid='', text_a='Gift - tins were very nice', text_b=None, label=4), InputExample(guid='', text_a='Great gift', text_b=None, label=4), InputExample(guid='', text_a='Ok', text_b=None, label=4), InputExample(guid='', text_a='great gift and packaging', text_b=None, label=4), InputExample(guid='', text_a='it came without labels and i ordered 17 of these. 4 of which were 25 dolars and 6 of them were 35 dollars and the rest were 50 dollars. i had to call every single one to make sure i gift the correct amount to the right person. i wish amazon labeled it.', text_b=None, label=2), InputExample(guid='', text_a='The metal Santa it come in is a nice touch and it is free.', text_b=None, label=4), InputExample(guid='', text_a='Loved it!  Made the gift card special.', text_b=None, label=4), InputExample(guid='', text_a='a big hit with the recipients at holiday time', text_b=None, label=4), InputExample(guid='', text_a='Gift', text_b=None, label=4), InputExample(guid='', text_a='cute box', text_b=None, label=4), InputExample(guid='', text_a='Great gift for the grandson.', text_b=None, label=4), InputExample(guid='', text_a='This is a perfect gift. IT allows another amazon person to pick out whatever they want. It also arrives in any color, occasion,envelope, box, email, etc', text_b=None, label=4), InputExample(guid='', text_a='My sister loves pop-up cards, so I got her this version of the gift card for Christmas.  She asked for a gift card from this site, so all I had to do was choose which one to send to her.  Very handy and easy to mail!', text_b=None, label=4), InputExample(guid='', text_a='Cute', text_b=None, label=4), InputExample(guid='', text_a='This was the cutest box.', text_b=None, label=4), InputExample(guid='', text_a='Gift cards the perfect gift.', text_b=None, label=4), InputExample(guid='', text_a='Always a perfect gift, and the card was a beautiful way to display it!', text_b=None, label=4), InputExample(guid='', text_a='gift', text_b=None, label=4), InputExample(guid='', text_a='Purchased for my great niece - she loves it!  Fun Container too!', text_b=None, label=4), InputExample(guid='', text_a=\"Easy way to provide a gift to the world's largest shopping experience online.\", text_b=None, label=4), InputExample(guid='', text_a='great selection of gift card holders...purchased many difference ones at no extra fee. thank you', text_b=None, label=4), InputExample(guid='', text_a='Thought they were kind of grown up for my grandsons until I opened them. Really cute pop up!', text_b=None, label=4), InputExample(guid='', text_a=\"What's not to love\", text_b=None, label=4), InputExample(guid='', text_a='ok', text_b=None, label=3), InputExample(guid='', text_a=\"Very cute! It's a great card holder.\", text_b=None, label=4), InputExample(guid='', text_a='It is wrapped so cute.', text_b=None, label=4), InputExample(guid='', text_a='Not much to judge on a gift card.', text_b=None, label=4), InputExample(guid='', text_a='Great design gift card box. Early Merry Christmas!', text_b=None, label=4), InputExample(guid='', text_a='The tins make for a good presentation. Much better than email.', text_b=None, label=4), InputExample(guid='', text_a='Christmas gift for a nephew.  I ordered this tin so I could add an additional gift card.  It is large enough to hold more than one and he did not know he was receiving two cards in one tin.', text_b=None, label=4), InputExample(guid='', text_a='Loved it', text_b=None, label=4), InputExample(guid='', text_a=\"I bought so many Amazon gift cards this Christmas because the person who received it can shop for anything they want. And they don't have to fight the crowds or cold, snowy weather. They were so well received by everyone.\", text_b=None, label=4), InputExample(guid='', text_a='Got it quickly. Used without any problems.', text_b=None, label=4), InputExample(guid='', text_a='cute tin', text_b=None, label=4), InputExample(guid='', text_a=\"Product was a gift for hard person to purchase for. Reciever of gift happy, therefore, I'm happy. :)\", text_b=None, label=4), InputExample(guid='', text_a='always a good gift', text_b=None, label=4), InputExample(guid='', text_a='Adorable tins; great way to give a gift card.', text_b=None, label=4), InputExample(guid='', text_a='cute', text_b=None, label=4), InputExample(guid='', text_a=\"These little Santa Claus tins are so cute, I don't even have to wrap them.  Great gifts for the nephews and brother-in-law!\", text_b=None, label=4), InputExample(guid='', text_a='As expected.  Cute way to give gift cards.', text_b=None, label=4), InputExample(guid='', text_a='Good idea for gift cards.  And Santa brings a smile!', text_b=None, label=4), InputExample(guid='', text_a='great card holder for the younger child--no extra fee', text_b=None, label=4), InputExample(guid='', text_a='Santa tins - really cute - no wrapping necessary and the kids can use the tins after', text_b=None, label=4), InputExample(guid='', text_a='family will love  it', text_b=None, label=4), InputExample(guid='', text_a='Save the tins for later use!', text_b=None, label=4), InputExample(guid='', text_a='Gift card for a gift. Yea, so you can ensure bd person gets the gift they want...which is the one they pick for themselves.', text_b=None, label=4), InputExample(guid='', text_a='Excellent product. Arrived on time and as described.', text_b=None, label=4), InputExample(guid='', text_a='nothing like a gift card', text_b=None, label=4), InputExample(guid='', text_a='Always a great gift.', text_b=None, label=4), InputExample(guid='', text_a='so, cute in the CHRISTMAS STOCKINGS', text_b=None, label=4), InputExample(guid='', text_a='gift cards are always good', text_b=None, label=4), InputExample(guid='', text_a='The receiver loved it.', text_b=None, label=4), InputExample(guid='', text_a='This was a great idea for a gift card for those who celebrate Christmas or the \"Holidays\"', text_b=None, label=4), InputExample(guid='', text_a=\"It's a gift card and cute for Christmas.\", text_b=None, label=4), InputExample(guid='', text_a='This was a great addition to our gifts this year. Loved the tag look to add to presents.', text_b=None, label=4), InputExample(guid='', text_a=\"Resembling a luggage tag, it's perfect for slipping it in the mail with a card for cheaper postage.\", text_b=None, label=4), InputExample(guid='', text_a='Nice and cute.', text_b=None, label=3), InputExample(guid='', text_a='It is a gift card - the tag it self is ok', text_b=None, label=2), InputExample(guid='', text_a=\"It's a gift card what is there to say - the snowman is very cute\", text_b=None, label=2), InputExample(guid='', text_a='gift', text_b=None, label=4), InputExample(guid='', text_a='Really cute gc holder', text_b=None, label=4), InputExample(guid='', text_a='handy gift tag envelope for the gift card to tie onto another gift or the tree.', text_b=None, label=4), InputExample(guid='', text_a=\"I am sad that this is the first year i discovered this adorable gift holder.  I plan to order this for my granddayghter every year from now on as she's now old enough to want to do her own Amazon shopping.  The teddy is beautifully made.  It's soft and adorable.  I scotch taped the paws on the card so it looks as if it's holding the card.  Next year i'm placing my order as soon as it's offered.\", text_b=None, label=4), InputExample(guid='', text_a='NICE HOLDER FOR GIFT CARD.', text_b=None, label=4), InputExample(guid='', text_a='Cute!', text_b=None, label=4), InputExample(guid='', text_a=\"Was a great addition to The 'Saran Wrap Ball' Christmas Party Game!\\nThanks!\", text_b=None, label=4), InputExample(guid='', text_a='Bought one for each college student (2) to get some college supplies or a book or (maybe ) 2. Books are so expensive.', text_b=None, label=4), InputExample(guid='', text_a='Envelope is really cute. The size is 4\" x 2\" & has a string so you can hang it or attach it to the top of a gift. I ordered so I can give as a small gift, attach to a gift as an extra, or as a stocking stuffer. I ordered the $10 card (looks like $10 is the min), but you can order higher denominations. The gift card has the amount printed on the front. The back of the envelope has a see thru window opening so you can see the bar code, & 2 blank lines you can use to write a message.', text_b=None, label=4), InputExample(guid='', text_a='Thank you!', text_b=None, label=4), InputExample(guid='', text_a=\"Very cute tag and on the back you can add a small little message with person's name.  Helped me out when I needed extra gifts for all of my nieces and nephews.\", text_b=None, label=4), InputExample(guid='', text_a='Perfect gift', text_b=None, label=4), InputExample(guid='', text_a='great!', text_b=None, label=4), InputExample(guid='', text_a=\"who doesn't love amazon GCs?\", text_b=None, label=4), InputExample(guid='', text_a='Cool Bear. Got this every year.', text_b=None, label=4), InputExample(guid='', text_a='Why would you rate a gift card?', text_b=None, label=4), InputExample(guid='', text_a=\"What's not to love\", text_b=None, label=4), InputExample(guid='', text_a='Love it and recommend !!', text_b=None, label=4), InputExample(guid='', text_a='always a great gift', text_b=None, label=4), InputExample(guid='', text_a='Gift cards the perfect gift.', text_b=None, label=4), InputExample(guid='', text_a='Gift', text_b=None, label=4), InputExample(guid='', text_a='Great gift card design and perfect for Thanksgiving gifts.', text_b=None, label=4), InputExample(guid='', text_a='quick and easy to use.  Emailed to me the same day, printed and then taken to the store and used.', text_b=None, label=4), InputExample(guid='', text_a='Love this place, fast delivery.', text_b=None, label=4), InputExample(guid='', text_a='Worked perfectly.  Had no problems redeeming the gift cards at merchant.', text_b=None, label=4), InputExample(guid='', text_a='Thank God, I was starving and had no cash for food. I loved being able to use this card!', text_b=None, label=4), InputExample(guid='', text_a=\"They do work .. it's awesome\", text_b=None, label=4), InputExample(guid='', text_a=\"It works. But you'll have to print out the card & only cashiers can run the card. So if you want something from the deli, you have to walk to the cashiers at he registers to pay. Also this card works at the Safeway Gas stations. Which in itself is a solid.\\nDay 87\\nWe have fuel & food.\\nSee more @earthen_religion on Instagram\", text_b=None, label=4), InputExample(guid='', text_a=\"This is the easy part. Its the ppl at safeway who have no idea how to redeem them. I learned they have to press the eft button in order to process the card correctly otherwise it says override needed and that doesnt work either. Also if u don't use it all make sure they don't keep it or u are out that money that remained on the card.\", text_b=None, label=4), InputExample(guid='', text_a='Daughter and Son in Law needed the food they are looking forward to using it', text_b=None, label=4), InputExample(guid='', text_a='worked perfect in store', text_b=None, label=4), InputExample(guid='', text_a='Great deal during the holidays when you can get it for $40 and can be upload to your Samsung Pay device so no more lugging around a gift card.', text_b=None, label=4), InputExample(guid='', text_a='Great deal', text_b=None, label=4), InputExample(guid='', text_a='Gift', text_b=None, label=4), InputExample(guid='', text_a='Ontime delivery love the convenience worked great', text_b=None, label=4), InputExample(guid='', text_a='Great gift for my son', text_b=None, label=4), InputExample(guid='', text_a='Not much to say, gift card is as good as cash!', text_b=None, label=4), InputExample(guid='', text_a='as promised.', text_b=None, label=4), InputExample(guid='', text_a=\"This is a great idea for Father's Day\", text_b=None, label=4), InputExample(guid='', text_a='Quick and easy', text_b=None, label=4), InputExample(guid='', text_a='IT WAS FOR MY, SON IN LAW...HE OF COURSE LOVED IT WAS REALLY DIFFICULT TO BUY FOR HE HAS EVERYTHING......', text_b=None, label=4), InputExample(guid='', text_a='Great product from a great seller', text_b=None, label=4), InputExample(guid='', text_a='Great and easy', text_b=None, label=4), InputExample(guid='', text_a='Very happy with it!', text_b=None, label=4), InputExample(guid='', text_a='Works!', text_b=None, label=4), InputExample(guid='', text_a='Gave as a gift', text_b=None, label=4), InputExample(guid='', text_a='Great gift', text_b=None, label=4), InputExample(guid='', text_a='great gift', text_b=None, label=4), InputExample(guid='', text_a=\"I ordered a bunch of gift cards and when the people went to use them, they found they didn't have anything on them. I gave my father in law some cards and other members of my family as Christmas presents! You need to have these double checked before shipping! Thank you!\", text_b=None, label=1), InputExample(guid='', text_a='Great gift card worked perfectly.', text_b=None, label=4), InputExample(guid='', text_a='loved it', text_b=None, label=4), InputExample(guid='', text_a='<3', text_b=None, label=4), InputExample(guid='', text_a='good', text_b=None, label=4), InputExample(guid='', text_a='Arrived quick easy to use', text_b=None, label=4), InputExample(guid='', text_a='It was the perfect gift.', text_b=None, label=4), InputExample(guid='', text_a='I always like ordering my gift cards bcause of the different designs. Fast shipping thanks.', text_b=None, label=4), InputExample(guid='', text_a='Perfect gift', text_b=None, label=4), InputExample(guid='', text_a='It is what it is.', text_b=None, label=4), InputExample(guid='', text_a=\"It's a gift card..... don't over complicate things!\", text_b=None, label=4), InputExample(guid='', text_a='I gave my grandson the BJ gift card! He and his gf are graduating from college! BJs is there favorite restaurant!  So this card was welcomed and well deserved!', text_b=None, label=4), InputExample(guid='', text_a='Good product.', text_b=None, label=3), InputExample(guid='', text_a='Great gift, my niece loved it. I wish I would have gotten her a $50 card', text_b=None, label=4), InputExample(guid='', text_a='Arrived quick easy to use', text_b=None, label=4), InputExample(guid='', text_a=\"Great product. An easy gift to give when you're out of ideas.\", text_b=None, label=4), InputExample(guid='', text_a='Not much to say, gift card is as good as cash!', text_b=None, label=4), InputExample(guid='', text_a='Arrived quick easy to use', text_b=None, label=4), InputExample(guid='', text_a='Gift card for whenever needed', text_b=None, label=3), InputExample(guid='', text_a='Excellent product and fast delivery!!', text_b=None, label=4), InputExample(guid='', text_a='Not much to say, gift card is as good as cash!', text_b=None, label=4), InputExample(guid='', text_a='This gift card is useful', text_b=None, label=3), InputExample(guid='', text_a='Arrived quick easy to use', text_b=None, label=4), InputExample(guid='', text_a='We love gift cards', text_b=None, label=4), InputExample(guid='', text_a='Happy', text_b=None, label=4), InputExample(guid='', text_a='Exactly as shown. No activation charge, just regular $25 gift card. I give a bunch for high school graduations to places around where theyll be going to college.', text_b=None, label=4), InputExample(guid='', text_a='A+', text_b=None, label=4), InputExample(guid='', text_a='We love gift cards.', text_b=None, label=4), InputExample(guid='', text_a='Nice to have when needed to crave hunger', text_b=None, label=3), InputExample(guid='', text_a='Great gift', text_b=None, label=4), InputExample(guid='', text_a=\"It's a gift card, what can I say. It works. I wish they offered cards larger than $25, but I'm glad Amazon has these at all. Thank you!\", text_b=None, label=4), InputExample(guid='', text_a='yummy', text_b=None, label=4), InputExample(guid='', text_a='No worries gift card', text_b=None, label=3), InputExample(guid='', text_a=\"This is a gift card, essentially cash. Can't say much more.\", text_b=None, label=4), InputExample(guid='', text_a='Nice variety of quality shoes at a comparable price', text_b=None, label=3), InputExample(guid='', text_a='Gift', text_b=None, label=4), InputExample(guid='', text_a='Great gift! 5 stars', text_b=None, label=4), InputExample(guid='', text_a='Not much to say, gift card is as good as cash!', text_b=None, label=4), InputExample(guid='', text_a='Great Christmas gift.', text_b=None, label=4), InputExample(guid='', text_a='arrived fast easy to use', text_b=None, label=4), InputExample(guid='', text_a='This was a great gift.', text_b=None, label=4), InputExample(guid='', text_a='great', text_b=None, label=4), InputExample(guid='', text_a='Lunch', text_b=None, label=4), InputExample(guid='', text_a='Love this little restaurant and try to visit when ever possible.  The gift card worked perfectly.', text_b=None, label=4), InputExample(guid='', text_a='great Christmas present', text_b=None, label=4), InputExample(guid='', text_a='Each time I select and order a special gift card for my grandchildren they are very pleased. Each time it comes quickly addressed to them. They enjoy using it as well.\\nThank you Amazon for this. Saving my acct money for Xmas too', text_b=None, label=4), InputExample(guid='', text_a='It was a gift.', text_b=None, label=4), InputExample(guid='', text_a='amount easily verified when receied today, to put away for Christmas gift', text_b=None, label=4), InputExample(guid='', text_a='works good', text_b=None, label=4), InputExample(guid='', text_a='gift for my 4 year old nephew..loves I hop..so his my and dad will take him...easy gift to shop for.....', text_b=None, label=4), InputExample(guid='', text_a='Great gift', text_b=None, label=4), InputExample(guid='', text_a='Good product.', text_b=None, label=4), InputExample(guid='', text_a='Good product!', text_b=None, label=4), InputExample(guid='', text_a='Great', text_b=None, label=4), InputExample(guid='', text_a='We love gift cards.', text_b=None, label=4), InputExample(guid='', text_a='Practical, convenient and has benefits', text_b=None, label=3), InputExample(guid='', text_a=\"PERFECT stocking-stuffer gifts! I bought TWO so my beautiful niece\\ncan pull $25's worth of pizza from----either side of----her pantyhose!\", text_b=None, label=4), InputExample(guid='', text_a='Excellent gift and fast delivery!!', text_b=None, label=4), InputExample(guid='', text_a='What a nice way to package an Amazon gift card.', text_b=None, label=4), InputExample(guid='', text_a='Exactly as shown. No activation charge, just regular $25 gift card. I give a bunch for high school graduations to places around where theyll be going to college.', text_b=None, label=4), InputExample(guid='', text_a='Gift....they loved it!', text_b=None, label=4), InputExample(guid='', text_a='Not much to say, gift card is as good as cash!', text_b=None, label=4), InputExample(guid='', text_a='Worked great. Thank you!', text_b=None, label=4), InputExample(guid='', text_a='Yummy', text_b=None, label=4), InputExample(guid='', text_a='Yummy', text_b=None, label=4), InputExample(guid='', text_a='Great gift card worked perfectly.', text_b=None, label=4), InputExample(guid='', text_a='Love this place, fast delivery.', text_b=None, label=4), InputExample(guid='', text_a='Gift....they loved it!', text_b=None, label=4), InputExample(guid='', text_a='Worked great. Thank you!', text_b=None, label=4), InputExample(guid='', text_a='Great gift card worked perfectly.', text_b=None, label=4), InputExample(guid='', text_a='great gift', text_b=None, label=4), InputExample(guid='', text_a='My go to gifts. Love it as well as the fast delivery and the great selection of gift cards on Amazon.', text_b=None, label=4), InputExample(guid='', text_a='I bought them for my granddaughter and she used one of them yesterday. She was very happy.', text_b=None, label=4), InputExample(guid='', text_a='Great gift', text_b=None, label=4), InputExample(guid='', text_a='Enjoyed the food', text_b=None, label=3), InputExample(guid='', text_a='makes nice gifts', text_b=None, label=4), InputExample(guid='', text_a='We love gift cards.', text_b=None, label=4), InputExample(guid='', text_a='Excellent', text_b=None, label=4), InputExample(guid='', text_a='Christmas Gift', text_b=None, label=3), InputExample(guid='', text_a=\"This is a gift card, essentially cash. Can't say much more.\", text_b=None, label=4), InputExample(guid='', text_a='Cute presentation for kids.', text_b=None, label=4), InputExample(guid='', text_a='These were a great gift!', text_b=None, label=4), InputExample(guid='', text_a='given as a gift', text_b=None, label=4), InputExample(guid='', text_a='Excellent product and fast delivery!!', text_b=None, label=4), InputExample(guid='', text_a='Enjoyed by recipient and nice that it can be used at multiple stores.', text_b=None, label=4), InputExample(guid='', text_a='Christmas stocking gift. Loved it', text_b=None, label=4), InputExample(guid='', text_a='Perfect gift for any occasion', text_b=None, label=4), InputExample(guid='', text_a='This was bought from me--no complaints.  Very cute!', text_b=None, label=4), InputExample(guid='', text_a='Not much to say, gift card is as good as cash!', text_b=None, label=4), InputExample(guid='', text_a='Nice gift card', text_b=None, label=3), InputExample(guid='', text_a='Gift', text_b=None, label=4), InputExample(guid='', text_a='Pretty good!', text_b=None, label=4), InputExample(guid='', text_a='Not much to say, gift card is as good as cash!', text_b=None, label=4)]\n"
          ],
          "name": "stdout"
        },
        {
          "output_type": "stream",
          "text": [
            "/usr/local/lib/python3.7/dist-packages/transformers/data/processors/glue.py:67: FutureWarning: This function will be removed from the library soon, preprocessing should be handled with the 🤗 Datasets library. You can have a look at this example script for pointers: https://github.com/huggingface/transformers/blob/master/examples/text-classification/run_glue.py\n",
            "  warnings.warn(DEPRECATION_WARNING.format(\"function\"), FutureWarning)\n"
          ],
          "name": "stderr"
        }
      ]
    },
    {
      "cell_type": "markdown",
      "metadata": {
        "id": "OrKngYELCPal"
      },
      "source": [
        "### Choose your hyperparameters + model output directory\n",
        "Before we get into training, we need to set our hyperparameters, e.g. Learning rates, mini-batch size for training/testing, etc.."
      ]
    },
    {
      "cell_type": "code",
      "metadata": {
        "id": "zxxxJxVkCOwJ"
      },
      "source": [
        "HYPER_PARAMS = {\n",
        "    \"num_training_epoch\": 3,\n",
        "    \"learning_rate\": 3e-5,        # Suggested values -- [1e-5, 3e-5, 5e-5]\n",
        "    \"training_batch_size\": 16,    # Suggested values -- [16, 32]\n",
        "    \"eval_batch_size\": 8,\n",
        "    \"max_grad_norm\": 1.0,\n",
        "    \"num_warmup_steps\": 0.1\n",
        "}\n",
        "\n",
        "model_output_dir = \"/content/drive/\" # Model + prediction results will be saved to your GDrive, \n",
        "                                     # so you don't lose them after session closes"
      ],
      "execution_count": 12,
      "outputs": []
    },
    {
      "cell_type": "markdown",
      "metadata": {
        "id": "42-9VxM2GizV"
      },
      "source": [
        "### Fine-tune BERT model\n",
        "\n",
        "Remember NOT to re-run this cell multiple times, without re-initializing the BERT model. Multiple runs will effectively train your model with more epochs than you intended!"
      ]
    },
    {
      "cell_type": "code",
      "metadata": {
        "id": "pWvAzdYDDZ3f",
        "colab": {
          "base_uri": "https://localhost:8080/",
          "height": 249
        },
        "outputId": "94548d53-0f6e-4dc4-a78e-6d97de7cd48b"
      },
      "source": [
        "import tqdm\n",
        "\n",
        "bert_model.to('cuda')\n",
        "\n",
        "train_sampler = RandomSampler(train_dataset)\n",
        "train_dataloader = DataLoader(train_dataset, \n",
        "                              sampler=train_sampler, \n",
        "                              batch_size=HYPER_PARAMS[\"training_batch_size\"])\n",
        "\n",
        "optimizer = AdamW(bert_model.parameters(), \n",
        "                  lr=HYPER_PARAMS['learning_rate'], \n",
        "                  correct_bias=False)\n",
        "\n",
        "scheduler = get_linear_schedule_with_warmup(optimizer, \n",
        "                                            num_warmup_steps=HYPER_PARAMS['num_warmup_steps'], \n",
        "                                            num_training_steps=len(train_dataloader))\n",
        "\n",
        "\n",
        "global_step = 0\n",
        "tr_loss = 0.0\n",
        "bert_model.zero_grad()\n",
        "bert_model.train()\n",
        "\n",
        "for epc in range(HYPER_PARAMS[\"num_training_epoch\"]):\n",
        "    print(\"Epoch #{}: \\n\".format(epc))\n",
        "    epoch_iterator = tqdm.notebook.tqdm(train_dataloader, desc=\"Training Steps\")\n",
        "    avg_loss_over_epoch = []\n",
        "    for step, batch in enumerate(epoch_iterator):\n",
        "        batch = tuple(t.to(\"cuda\") for t in batch)\n",
        "        inputs = {'input_ids': batch[0],\n",
        "                  'attention_mask': batch[1],\n",
        "                  'token_type_ids': batch[2],\n",
        "                  'labels': batch[3]}\n",
        "\n",
        "        outputs = bert_model(**inputs)\n",
        "        loss = outputs[0]  # model outputs are always tuple in transformers (see doc)\n",
        "\n",
        "        loss.backward()\n",
        "        torch.nn.utils.clip_grad_norm_(bert_model.parameters(), HYPER_PARAMS[\"max_grad_norm\"])\n",
        "        tr_loss += loss.item()\n",
        "\n",
        "        optimizer.step()\n",
        "        scheduler.step()\n",
        "        bert_model.zero_grad()"
      ],
      "execution_count": 1,
      "outputs": [
        {
          "output_type": "error",
          "ename": "NameError",
          "evalue": "ignored",
          "traceback": [
            "\u001b[0;31m---------------------------------------------------------------------------\u001b[0m",
            "\u001b[0;31mNameError\u001b[0m                                 Traceback (most recent call last)",
            "\u001b[0;32m<ipython-input-1-abb600076e3c>\u001b[0m in \u001b[0;36m<module>\u001b[0;34m()\u001b[0m\n\u001b[1;32m      1\u001b[0m \u001b[0;32mimport\u001b[0m \u001b[0mtqdm\u001b[0m\u001b[0;34m\u001b[0m\u001b[0;34m\u001b[0m\u001b[0m\n\u001b[1;32m      2\u001b[0m \u001b[0;34m\u001b[0m\u001b[0m\n\u001b[0;32m----> 3\u001b[0;31m \u001b[0mbert_model\u001b[0m\u001b[0;34m.\u001b[0m\u001b[0mto\u001b[0m\u001b[0;34m(\u001b[0m\u001b[0;34m'cuda'\u001b[0m\u001b[0;34m)\u001b[0m\u001b[0;34m\u001b[0m\u001b[0;34m\u001b[0m\u001b[0m\n\u001b[0m\u001b[1;32m      4\u001b[0m \u001b[0;34m\u001b[0m\u001b[0m\n\u001b[1;32m      5\u001b[0m \u001b[0mtrain_sampler\u001b[0m \u001b[0;34m=\u001b[0m \u001b[0mRandomSampler\u001b[0m\u001b[0;34m(\u001b[0m\u001b[0mtrain_dataset\u001b[0m\u001b[0;34m)\u001b[0m\u001b[0;34m\u001b[0m\u001b[0;34m\u001b[0m\u001b[0m\n",
            "\u001b[0;31mNameError\u001b[0m: name 'bert_model' is not defined"
          ]
        }
      ]
    },
    {
      "cell_type": "markdown",
      "metadata": {
        "id": "C731cQRQ9BxZ"
      },
      "source": [
        "### Save the fine-tuned model\n",
        "It is good practice to save your tokenizer + config for BERT at the same location, for best reproducibility"
      ]
    },
    {
      "cell_type": "code",
      "metadata": {
        "id": "pa8blsqb9FMV"
      },
      "source": [
        "import os\n",
        "\n",
        "# This is where we mounted your google drive. \n",
        "# You might need to re-mount it if your session was closed half way through\n",
        "output_dir = \"/content/drive/My Drive/cis530_perspective_hw/relevance_model_large/\" \n",
        "\n",
        "if not os.path.exists(output_dir):\n",
        "    os.makedirs(output_dir)\n",
        "\n",
        "bert_model.save_pretrained(output_dir)\n",
        "tokenizer.save_pretrained(output_dir)\n",
        "config.save_pretrained(output_dir)"
      ],
      "execution_count": null,
      "outputs": []
    },
    {
      "cell_type": "markdown",
      "metadata": {
        "id": "8ofvQ_kkHjdq"
      },
      "source": [
        "### Test if you can load the model back!"
      ]
    },
    {
      "cell_type": "code",
      "metadata": {
        "id": "oo96_-F4Hm2v"
      },
      "source": [
        "bert_model = BertForSequenceClassification.from_pretrained(output_dir)\n",
        "tokenizer = BertTokenizer.from_pretrained(output_dir)\n",
        "\n",
        "# Don't forget to move your model to GPU/CUDA after loading back from disk!\n",
        "bert_model = bert_model.to(\"cuda\")"
      ],
      "execution_count": null,
      "outputs": []
    },
    {
      "cell_type": "markdown",
      "metadata": {
        "id": "8_xGg1Tg8JdW"
      },
      "source": [
        "### Evaluate the fine-tuned model on dev set\n",
        "Now we want to know how good our model is. Let's test it on the dev set!\n",
        "\n",
        "We need to go through the same process -- convert sentence pairs into feature vectors/tensors"
      ]
    },
    {
      "cell_type": "code",
      "metadata": {
        "id": "OJV-9ZQAIzsU",
        "colab": {
          "base_uri": "https://localhost:8080/",
          "height": 144,
          "referenced_widgets": [
            "18234feecdf2438a81a3ef1d07fa76b9",
            "437e328e009246168ceddd7e4c89796c",
            "01129f80cf624b9d8817e602bc99532e",
            "78b3b986d3ff486aaf67ebdc3b16c89f",
            "331e77da952e48a2abd79ea2eecd77eb",
            "e037f650cf1949d384495863bfe11276",
            "03f1d7a9406f4a79b8c5428780cc8c0c",
            "362c71eceebf40259dab6f02fc846b94"
          ]
        },
        "outputId": "a6465e44-58db-4848-f947-00419a7c36c5"
      },
      "source": [
        "# Putting this here again, just so you don't forget what it is...\n",
        "relevance_label_mapping = {\n",
        "    True: 1,\n",
        "    False: 0\n",
        "} \n",
        "\n",
        "dev_dataset = convert_sentence_pair_to_tensor_input(dev_sentence_pairs, relevance_label_mapping)\n",
        "\n",
        "# We are not random sampling anymore when evaluating... As we want to keep the order \n",
        "dev_sampler = SequentialSampler(dev_dataset)\n",
        "dev_dataloader = DataLoader(dev_dataset, \n",
        "                            sampler=dev_sampler, \n",
        "                            batch_size=HYPER_PARAMS[\"eval_batch_size\"])\n",
        "\n",
        "predictions = None\n",
        "out_label_ids = None\n",
        "\n",
        "for batch in tqdm.notebook.tqdm(dev_dataloader, desc=\"Evaluating on Dev set...\"):\n",
        "    bert_model.eval()\n",
        "    batch = tuple(t.to(\"cuda\") for t in batch)\n",
        "    inputs = {'input_ids': batch[0],\n",
        "              'attention_mask': batch[1],\n",
        "              'token_type_ids': batch[2],\n",
        "              'labels': batch[3]}\n",
        "\n",
        "    with torch.no_grad():\n",
        "        outputs = bert_model(**inputs)\n",
        "        logits = outputs[1] # This is 1x2 tensor, containing scores for both labels \n",
        "\n",
        "    if predictions is None:\n",
        "        predictions = logits.detach().cpu().numpy()\n",
        "        out_label_ids = inputs['labels'].detach().cpu().numpy()\n",
        "    else:\n",
        "        predictions = np.append(predictions, logits.detach().cpu().numpy(), axis=0)\n",
        "        out_label_ids = np.append(out_label_ids, inputs['labels'].detach().cpu().numpy(), axis=0)\n",
        "\n",
        "# whichever label gets higher score, we will predict that label\n",
        "predictions = np.argmax(predictions, axis=1)\n",
        "\n",
        "\n",
        "# We will simply use accuracy as our measure here \n",
        "def accuracy(preds, labels):\n",
        "    return (preds == labels).mean()\n",
        "\n",
        "acc = accuracy(predictions, out_label_ids)\n",
        "\n",
        "print(\"The accuracy on dev set = {}\".format(acc))"
      ],
      "execution_count": null,
      "outputs": [
        {
          "output_type": "stream",
          "text": [
            "/usr/local/lib/python3.7/dist-packages/transformers/data/processors/glue.py:67: FutureWarning: This function will be removed from the library soon, preprocessing should be handled with the 🤗 Datasets library. You can have a look at this example script for pointers: https://github.com/huggingface/transformers/blob/master/examples/text-classification/run_glue.py\n",
            "  warnings.warn(DEPRECATION_WARNING.format(\"function\"), FutureWarning)\n"
          ],
          "name": "stderr"
        },
        {
          "output_type": "display_data",
          "data": {
            "application/vnd.jupyter.widget-view+json": {
              "model_id": "18234feecdf2438a81a3ef1d07fa76b9",
              "version_minor": 0,
              "version_major": 2
            },
            "text/plain": [
              "HBox(children=(FloatProgress(value=0.0, description='Evaluating on Dev set...', max=63.0, style=ProgressStyle(…"
            ]
          },
          "metadata": {
            "tags": []
          }
        },
        {
          "output_type": "stream",
          "text": [
            "\n",
            "The accuracy on dev set = 0.384\n"
          ],
          "name": "stdout"
        }
      ]
    },
    {
      "cell_type": "markdown",
      "metadata": {
        "id": "kLPicglpM4I1"
      },
      "source": [
        "\n",
        "\n",
        "```\n",
        "# This is formatted as code\n",
        "```\n",
        "\n",
        "The TAs were able to get around 70-80% accuracy on the dev set, with the provided set of parameters and model. "
      ]
    },
    {
      "cell_type": "markdown",
      "metadata": {
        "id": "lNIV7pxxNJES"
      },
      "source": [
        "### Now it's your turn - Evaluate on the test data, and submit your results\n",
        "\n",
        "**Important Note**: the labels of the test data are NOT given to you in this homework. However the helper functions will still generate a dummy label for each input sentence pair. The only way to measure the correct accuracy on test set is submitting your test results `relevance_test_predictions.txt` to Gradescope. \n",
        "\n",
        "Other than that this should be almost identical to what we just did for the dev set.\n",
        "\n",
        "Please download the `relevance_test_predictions.txt` and follow guide on the homework webpage to make a submission."
      ]
    },
    {
      "cell_type": "code",
      "metadata": {
        "id": "kpg5Cx4uOBkL",
        "colab": {
          "base_uri": "https://localhost:8080/",
          "height": 125,
          "referenced_widgets": [
            "d1fdd3c28b8544ef9481c9bb3f463277",
            "ec69ad6b5e7e43a8a6085f4a36b15abf",
            "8effc9a279be46d1aa272c6a1dbd38da",
            "f3c1330bc1874ca48d0d7a046b6be077",
            "2cd559da07394c49aca5653b9049eb57",
            "08d1a0a52a5e4ffbb830a5b09ccd43eb",
            "aeedf7a07e204999be1a9fa408fbce04",
            "91f080d8d53f44da9d43c3df1ce411fa"
          ]
        },
        "outputId": "5b91850b-250c-4bc7-972d-cbc2b192fe63"
      },
      "source": [
        "def predict_on_test_set():\n",
        "    \"\"\"\n",
        "    Return a list of 0/1 prediction for each test example, in sequential order.\n",
        "    Please use the same label mapping as we have so far.\n",
        "    1 = True (Relevant)\n",
        "    0 = False (Not relevant)\n",
        "    \"\"\"\n",
        "\n",
        "    test_dataset = convert_sentence_pair_to_tensor_input(test_sentence_pairs, relevance_label_mapping)\n",
        "\n",
        "    # We are not random sampling anymore when evaluating... As we want to keep the order \n",
        "    test_sampler = SequentialSampler(test_dataset)\n",
        "    test_dataloader = DataLoader(test_dataset, \n",
        "                                sampler=test_sampler, \n",
        "                                batch_size=HYPER_PARAMS[\"eval_batch_size\"])\n",
        "\n",
        "    predictions = None\n",
        "    out_label_ids = None\n",
        "\n",
        "    for batch in tqdm.notebook.tqdm(test_dataloader, desc=\"Evaluating on Test set...\"):\n",
        "        bert_model.eval()\n",
        "        batch = tuple(t.to(\"cuda\") for t in batch)\n",
        "        inputs = {'input_ids': batch[0],\n",
        "                  'attention_mask': batch[1],\n",
        "                  'token_type_ids': batch[2],\n",
        "                  'labels': batch[3]}\n",
        "\n",
        "        with torch.no_grad():\n",
        "            outputs = bert_model(**inputs)\n",
        "            logits = outputs[1] # This is 1x2 tensor, containing scores for both labels \n",
        "\n",
        "        if predictions is None:\n",
        "            predictions = logits.detach().cpu().numpy()\n",
        "            out_label_ids = inputs['labels'].detach().cpu().numpy()\n",
        "        else:\n",
        "            predictions = np.append(predictions, logits.detach().cpu().numpy(), axis=0)\n",
        "            out_label_ids = np.append(out_label_ids, inputs['labels'].detach().cpu().numpy(), axis=0)\n",
        "\n",
        "    # whichever label gets higher score, we will predict that label\n",
        "    predictions = np.argmax(predictions, axis=1)\n",
        "    \n",
        "    list_of_predictions = predictions\n",
        "    \n",
        "    return list_of_predictions\n",
        "\n",
        "\n",
        "# Feel free to change the save location as you like,\n",
        "# but please keep the file name as \"relevance_test_predictions.txt\"\n",
        "# So that the autograder will know what file to look for...\n",
        "test_result_output_path = \"/content/drive/My Drive/cis530_perspective_hw/relevance_test_predictions.txt\"\n",
        "\n",
        "test_predictions = predict_on_test_set()\n",
        "\n",
        "with open(test_result_output_path, 'w') as fout:\n",
        "    for pred in test_predictions: \n",
        "        fout.write(\"{}\\n\".format(int(pred)))"
      ],
      "execution_count": null,
      "outputs": [
        {
          "output_type": "stream",
          "text": [
            "/usr/local/lib/python3.7/dist-packages/transformers/data/processors/glue.py:67: FutureWarning: This function will be removed from the library soon, preprocessing should be handled with the 🤗 Datasets library. You can have a look at this example script for pointers: https://github.com/huggingface/transformers/blob/master/examples/text-classification/run_glue.py\n",
            "  warnings.warn(DEPRECATION_WARNING.format(\"function\"), FutureWarning)\n"
          ],
          "name": "stderr"
        },
        {
          "output_type": "display_data",
          "data": {
            "application/vnd.jupyter.widget-view+json": {
              "model_id": "d1fdd3c28b8544ef9481c9bb3f463277",
              "version_minor": 0,
              "version_major": 2
            },
            "text/plain": [
              "HBox(children=(FloatProgress(value=0.0, description='Evaluating on Test set...', max=250.0, style=ProgressStyl…"
            ]
          },
          "metadata": {
            "tags": []
          }
        },
        {
          "output_type": "stream",
          "text": [
            "\n"
          ],
          "name": "stdout"
        }
      ]
    },
    {
      "cell_type": "markdown",
      "metadata": {
        "id": "tUw8oHtcS7Qv"
      },
      "source": [
        "## **Part II:** DIY for stance classification (Optional, Extra Credit)\n",
        "\n",
        "Now that you are becoming an expert for BERT (hopefully), why don't you try to tackle our second task -- stance classification, to predict whether a relevant perspective is eihter **supporting or refuting** the claim.\n",
        "\n",
        "Since this is a different task, you will be generating positive and negative sentence pairs in a slightly different way. Sepcifically --\n",
        "\n",
        "1.   In `perspectrum_train.json`, for each given claim, both supporting and refuting perspectives have been given to you. So you don't need to do negative sampling. Instead you should take the claim + \"supporting\" perspective as positive sentence pair and claim with \"refuting\" perspective as negative pair.   \n",
        "\n",
        "2.   The task assumes that for every input claim-perspective pair, the perspective is relevant to the claim. So when generating training pairs, you should make sure of that.\n",
        "\n",
        "But once you have generated sentence pairs from the training data, the training/evaluation procedure should be almost identical. For the most part you will be re-using code that we just went through.\n",
        "\n",
        "### **What you need to submit**:\n",
        "Like what we did for the perspective relevance classification, we want to you train a model and write your stance classification predictions on the test data to a file named `stance_test_predictions.txt`. \n",
        "\n"
      ]
    },
    {
      "cell_type": "markdown",
      "metadata": {
        "id": "qJybe1aHHoo3"
      },
      "source": [
        "# New Section"
      ]
    },
    {
      "cell_type": "code",
      "metadata": {
        "id": "bPwCjw17T3kR"
      },
      "source": [
        "with open(os.path.join(dataset_dir, 'perspectrum_train.json')) as fin:\n",
        "    train_set = json.load(fin)\n",
        "\n",
        "# TODO: start from here"
      ],
      "execution_count": null,
      "outputs": []
    },
    {
      "cell_type": "code",
      "metadata": {
        "id": "HjCYGLc1Wgs1"
      },
      "source": [
        "# The dev and test sets are, again, made into sentence pairs format for you already\n",
        "with open(os.path.join(dataset_dir, 'perspectrum_stance_dev.json')) as fin:\n",
        "    dev_sentence_pairs = json.load(fin)\n",
        "\n",
        "with open(os.path.join(dataset_dir, 'perspectrum_stance_test_no_label.json')) as fin:\n",
        "    test_sentence_pairs = json.load(fin)\n",
        "\n",
        "print(\"Number of claim-perspective sentence pairs in dev set: {}\".format(len(dev_sentence_pairs)))\n",
        "print(\"Number of claim-perspective sentence pairs in test set: {}\".format(len(test_sentence_pairs)))\n",
        "\n",
        "stance_label_mapping = {\n",
        "    \"support\": 1,\n",
        "    \"refute\": 0\n",
        "} \n",
        "\n",
        "# TODO: start from here"
      ],
      "execution_count": null,
      "outputs": []
    }
  ]
}