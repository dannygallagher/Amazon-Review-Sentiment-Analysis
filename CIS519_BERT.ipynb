{
  "nbformat": 4,
  "nbformat_minor": 0,
  "metadata": {
    "colab": {
      "name": "CIS519_BERT_pro.ipynb",
      "provenance": [],
      "collapsed_sections": [],
      "toc_visible": true,
      "include_colab_link": true
    },
    "kernelspec": {
      "name": "python3",
      "display_name": "Python 3"
    },
    "widgets": {
      "application/vnd.jupyter.widget-state+json": {
        "cf5878092e1741bb80d1c301539ef6f0": {
          "model_module": "@jupyter-widgets/controls",
          "model_name": "HBoxModel",
          "state": {
            "_view_name": "HBoxView",
            "_dom_classes": [],
            "_model_name": "HBoxModel",
            "_view_module": "@jupyter-widgets/controls",
            "_model_module_version": "1.5.0",
            "_view_count": null,
            "_view_module_version": "1.5.0",
            "box_style": "",
            "layout": "IPY_MODEL_836e65f48d104d26b6f5be9b546364a7",
            "_model_module": "@jupyter-widgets/controls",
            "children": [
              "IPY_MODEL_612b84d385de417bb48045349eb9d02b",
              "IPY_MODEL_ca7c189bd59148d49027ee783831e094"
            ]
          }
        },
        "836e65f48d104d26b6f5be9b546364a7": {
          "model_module": "@jupyter-widgets/base",
          "model_name": "LayoutModel",
          "state": {
            "_view_name": "LayoutView",
            "grid_template_rows": null,
            "right": null,
            "justify_content": null,
            "_view_module": "@jupyter-widgets/base",
            "overflow": null,
            "_model_module_version": "1.2.0",
            "_view_count": null,
            "flex_flow": null,
            "width": null,
            "min_width": null,
            "border": null,
            "align_items": null,
            "bottom": null,
            "_model_module": "@jupyter-widgets/base",
            "top": null,
            "grid_column": null,
            "overflow_y": null,
            "overflow_x": null,
            "grid_auto_flow": null,
            "grid_area": null,
            "grid_template_columns": null,
            "flex": null,
            "_model_name": "LayoutModel",
            "justify_items": null,
            "grid_row": null,
            "max_height": null,
            "align_content": null,
            "visibility": null,
            "align_self": null,
            "height": null,
            "min_height": null,
            "padding": null,
            "grid_auto_rows": null,
            "grid_gap": null,
            "max_width": null,
            "order": null,
            "_view_module_version": "1.2.0",
            "grid_template_areas": null,
            "object_position": null,
            "object_fit": null,
            "grid_auto_columns": null,
            "margin": null,
            "display": null,
            "left": null
          }
        },
        "612b84d385de417bb48045349eb9d02b": {
          "model_module": "@jupyter-widgets/controls",
          "model_name": "FloatProgressModel",
          "state": {
            "_view_name": "ProgressView",
            "style": "IPY_MODEL_8b972eed80f94f42b168f8425152ffc4",
            "_dom_classes": [],
            "description": "Downloading: 100%",
            "_model_name": "FloatProgressModel",
            "bar_style": "success",
            "max": 385,
            "_view_module": "@jupyter-widgets/controls",
            "_model_module_version": "1.5.0",
            "value": 385,
            "_view_count": null,
            "_view_module_version": "1.5.0",
            "orientation": "horizontal",
            "min": 0,
            "description_tooltip": null,
            "_model_module": "@jupyter-widgets/controls",
            "layout": "IPY_MODEL_44d3d233d35c410eae912615dd1a00d3"
          }
        },
        "ca7c189bd59148d49027ee783831e094": {
          "model_module": "@jupyter-widgets/controls",
          "model_name": "HTMLModel",
          "state": {
            "_view_name": "HTMLView",
            "style": "IPY_MODEL_f57f932c2a7b4cdbbdf7aabfd3b48c59",
            "_dom_classes": [],
            "description": "",
            "_model_name": "HTMLModel",
            "placeholder": "​",
            "_view_module": "@jupyter-widgets/controls",
            "_model_module_version": "1.5.0",
            "value": " 385/385 [00:14&lt;00:00, 26.9B/s]",
            "_view_count": null,
            "_view_module_version": "1.5.0",
            "description_tooltip": null,
            "_model_module": "@jupyter-widgets/controls",
            "layout": "IPY_MODEL_795c9ba89cca4878a76b619799d24941"
          }
        },
        "8b972eed80f94f42b168f8425152ffc4": {
          "model_module": "@jupyter-widgets/controls",
          "model_name": "ProgressStyleModel",
          "state": {
            "_view_name": "StyleView",
            "_model_name": "ProgressStyleModel",
            "description_width": "initial",
            "_view_module": "@jupyter-widgets/base",
            "_model_module_version": "1.5.0",
            "_view_count": null,
            "_view_module_version": "1.2.0",
            "bar_color": null,
            "_model_module": "@jupyter-widgets/controls"
          }
        },
        "44d3d233d35c410eae912615dd1a00d3": {
          "model_module": "@jupyter-widgets/base",
          "model_name": "LayoutModel",
          "state": {
            "_view_name": "LayoutView",
            "grid_template_rows": null,
            "right": null,
            "justify_content": null,
            "_view_module": "@jupyter-widgets/base",
            "overflow": null,
            "_model_module_version": "1.2.0",
            "_view_count": null,
            "flex_flow": null,
            "width": null,
            "min_width": null,
            "border": null,
            "align_items": null,
            "bottom": null,
            "_model_module": "@jupyter-widgets/base",
            "top": null,
            "grid_column": null,
            "overflow_y": null,
            "overflow_x": null,
            "grid_auto_flow": null,
            "grid_area": null,
            "grid_template_columns": null,
            "flex": null,
            "_model_name": "LayoutModel",
            "justify_items": null,
            "grid_row": null,
            "max_height": null,
            "align_content": null,
            "visibility": null,
            "align_self": null,
            "height": null,
            "min_height": null,
            "padding": null,
            "grid_auto_rows": null,
            "grid_gap": null,
            "max_width": null,
            "order": null,
            "_view_module_version": "1.2.0",
            "grid_template_areas": null,
            "object_position": null,
            "object_fit": null,
            "grid_auto_columns": null,
            "margin": null,
            "display": null,
            "left": null
          }
        },
        "f57f932c2a7b4cdbbdf7aabfd3b48c59": {
          "model_module": "@jupyter-widgets/controls",
          "model_name": "DescriptionStyleModel",
          "state": {
            "_view_name": "StyleView",
            "_model_name": "DescriptionStyleModel",
            "description_width": "",
            "_view_module": "@jupyter-widgets/base",
            "_model_module_version": "1.5.0",
            "_view_count": null,
            "_view_module_version": "1.2.0",
            "_model_module": "@jupyter-widgets/controls"
          }
        },
        "795c9ba89cca4878a76b619799d24941": {
          "model_module": "@jupyter-widgets/base",
          "model_name": "LayoutModel",
          "state": {
            "_view_name": "LayoutView",
            "grid_template_rows": null,
            "right": null,
            "justify_content": null,
            "_view_module": "@jupyter-widgets/base",
            "overflow": null,
            "_model_module_version": "1.2.0",
            "_view_count": null,
            "flex_flow": null,
            "width": null,
            "min_width": null,
            "border": null,
            "align_items": null,
            "bottom": null,
            "_model_module": "@jupyter-widgets/base",
            "top": null,
            "grid_column": null,
            "overflow_y": null,
            "overflow_x": null,
            "grid_auto_flow": null,
            "grid_area": null,
            "grid_template_columns": null,
            "flex": null,
            "_model_name": "LayoutModel",
            "justify_items": null,
            "grid_row": null,
            "max_height": null,
            "align_content": null,
            "visibility": null,
            "align_self": null,
            "height": null,
            "min_height": null,
            "padding": null,
            "grid_auto_rows": null,
            "grid_gap": null,
            "max_width": null,
            "order": null,
            "_view_module_version": "1.2.0",
            "grid_template_areas": null,
            "object_position": null,
            "object_fit": null,
            "grid_auto_columns": null,
            "margin": null,
            "display": null,
            "left": null
          }
        },
        "7ec68198c41f4bb592831e5a65349155": {
          "model_module": "@jupyter-widgets/controls",
          "model_name": "HBoxModel",
          "state": {
            "_view_name": "HBoxView",
            "_dom_classes": [],
            "_model_name": "HBoxModel",
            "_view_module": "@jupyter-widgets/controls",
            "_model_module_version": "1.5.0",
            "_view_count": null,
            "_view_module_version": "1.5.0",
            "box_style": "",
            "layout": "IPY_MODEL_1c6406bf799b49d7a3abd9d8d859bf95",
            "_model_module": "@jupyter-widgets/controls",
            "children": [
              "IPY_MODEL_517fdeed8d0f47a39fde8e3cb61ecf27",
              "IPY_MODEL_f041eb3ae87a4bd782e2fe75fb0add96"
            ]
          }
        },
        "1c6406bf799b49d7a3abd9d8d859bf95": {
          "model_module": "@jupyter-widgets/base",
          "model_name": "LayoutModel",
          "state": {
            "_view_name": "LayoutView",
            "grid_template_rows": null,
            "right": null,
            "justify_content": null,
            "_view_module": "@jupyter-widgets/base",
            "overflow": null,
            "_model_module_version": "1.2.0",
            "_view_count": null,
            "flex_flow": null,
            "width": null,
            "min_width": null,
            "border": null,
            "align_items": null,
            "bottom": null,
            "_model_module": "@jupyter-widgets/base",
            "top": null,
            "grid_column": null,
            "overflow_y": null,
            "overflow_x": null,
            "grid_auto_flow": null,
            "grid_area": null,
            "grid_template_columns": null,
            "flex": null,
            "_model_name": "LayoutModel",
            "justify_items": null,
            "grid_row": null,
            "max_height": null,
            "align_content": null,
            "visibility": null,
            "align_self": null,
            "height": null,
            "min_height": null,
            "padding": null,
            "grid_auto_rows": null,
            "grid_gap": null,
            "max_width": null,
            "order": null,
            "_view_module_version": "1.2.0",
            "grid_template_areas": null,
            "object_position": null,
            "object_fit": null,
            "grid_auto_columns": null,
            "margin": null,
            "display": null,
            "left": null
          }
        },
        "517fdeed8d0f47a39fde8e3cb61ecf27": {
          "model_module": "@jupyter-widgets/controls",
          "model_name": "FloatProgressModel",
          "state": {
            "_view_name": "ProgressView",
            "style": "IPY_MODEL_c5893af8bd83466f8ec16b16e3dfc211",
            "_dom_classes": [],
            "description": "Downloading: 100%",
            "_model_name": "FloatProgressModel",
            "bar_style": "success",
            "max": 440472395,
            "_view_module": "@jupyter-widgets/controls",
            "_model_module_version": "1.5.0",
            "value": 440472395,
            "_view_count": null,
            "_view_module_version": "1.5.0",
            "orientation": "horizontal",
            "min": 0,
            "description_tooltip": null,
            "_model_module": "@jupyter-widgets/controls",
            "layout": "IPY_MODEL_107d019ab99e415a9fda63edcbff304e"
          }
        },
        "f041eb3ae87a4bd782e2fe75fb0add96": {
          "model_module": "@jupyter-widgets/controls",
          "model_name": "HTMLModel",
          "state": {
            "_view_name": "HTMLView",
            "style": "IPY_MODEL_c976770c4da54424911934f3e92a9dd5",
            "_dom_classes": [],
            "description": "",
            "_model_name": "HTMLModel",
            "placeholder": "​",
            "_view_module": "@jupyter-widgets/controls",
            "_model_module_version": "1.5.0",
            "value": " 440M/440M [00:13&lt;00:00, 31.8MB/s]",
            "_view_count": null,
            "_view_module_version": "1.5.0",
            "description_tooltip": null,
            "_model_module": "@jupyter-widgets/controls",
            "layout": "IPY_MODEL_42273e25c7a14cbcba192c161604c6ea"
          }
        },
        "c5893af8bd83466f8ec16b16e3dfc211": {
          "model_module": "@jupyter-widgets/controls",
          "model_name": "ProgressStyleModel",
          "state": {
            "_view_name": "StyleView",
            "_model_name": "ProgressStyleModel",
            "description_width": "initial",
            "_view_module": "@jupyter-widgets/base",
            "_model_module_version": "1.5.0",
            "_view_count": null,
            "_view_module_version": "1.2.0",
            "bar_color": null,
            "_model_module": "@jupyter-widgets/controls"
          }
        },
        "107d019ab99e415a9fda63edcbff304e": {
          "model_module": "@jupyter-widgets/base",
          "model_name": "LayoutModel",
          "state": {
            "_view_name": "LayoutView",
            "grid_template_rows": null,
            "right": null,
            "justify_content": null,
            "_view_module": "@jupyter-widgets/base",
            "overflow": null,
            "_model_module_version": "1.2.0",
            "_view_count": null,
            "flex_flow": null,
            "width": null,
            "min_width": null,
            "border": null,
            "align_items": null,
            "bottom": null,
            "_model_module": "@jupyter-widgets/base",
            "top": null,
            "grid_column": null,
            "overflow_y": null,
            "overflow_x": null,
            "grid_auto_flow": null,
            "grid_area": null,
            "grid_template_columns": null,
            "flex": null,
            "_model_name": "LayoutModel",
            "justify_items": null,
            "grid_row": null,
            "max_height": null,
            "align_content": null,
            "visibility": null,
            "align_self": null,
            "height": null,
            "min_height": null,
            "padding": null,
            "grid_auto_rows": null,
            "grid_gap": null,
            "max_width": null,
            "order": null,
            "_view_module_version": "1.2.0",
            "grid_template_areas": null,
            "object_position": null,
            "object_fit": null,
            "grid_auto_columns": null,
            "margin": null,
            "display": null,
            "left": null
          }
        },
        "c976770c4da54424911934f3e92a9dd5": {
          "model_module": "@jupyter-widgets/controls",
          "model_name": "DescriptionStyleModel",
          "state": {
            "_view_name": "StyleView",
            "_model_name": "DescriptionStyleModel",
            "description_width": "",
            "_view_module": "@jupyter-widgets/base",
            "_model_module_version": "1.5.0",
            "_view_count": null,
            "_view_module_version": "1.2.0",
            "_model_module": "@jupyter-widgets/controls"
          }
        },
        "42273e25c7a14cbcba192c161604c6ea": {
          "model_module": "@jupyter-widgets/base",
          "model_name": "LayoutModel",
          "state": {
            "_view_name": "LayoutView",
            "grid_template_rows": null,
            "right": null,
            "justify_content": null,
            "_view_module": "@jupyter-widgets/base",
            "overflow": null,
            "_model_module_version": "1.2.0",
            "_view_count": null,
            "flex_flow": null,
            "width": null,
            "min_width": null,
            "border": null,
            "align_items": null,
            "bottom": null,
            "_model_module": "@jupyter-widgets/base",
            "top": null,
            "grid_column": null,
            "overflow_y": null,
            "overflow_x": null,
            "grid_auto_flow": null,
            "grid_area": null,
            "grid_template_columns": null,
            "flex": null,
            "_model_name": "LayoutModel",
            "justify_items": null,
            "grid_row": null,
            "max_height": null,
            "align_content": null,
            "visibility": null,
            "align_self": null,
            "height": null,
            "min_height": null,
            "padding": null,
            "grid_auto_rows": null,
            "grid_gap": null,
            "max_width": null,
            "order": null,
            "_view_module_version": "1.2.0",
            "grid_template_areas": null,
            "object_position": null,
            "object_fit": null,
            "grid_auto_columns": null,
            "margin": null,
            "display": null,
            "left": null
          }
        },
        "6172ce0cbeb04ce6984d7939fb3d8a53": {
          "model_module": "@jupyter-widgets/controls",
          "model_name": "HBoxModel",
          "state": {
            "_view_name": "HBoxView",
            "_dom_classes": [],
            "_model_name": "HBoxModel",
            "_view_module": "@jupyter-widgets/controls",
            "_model_module_version": "1.5.0",
            "_view_count": null,
            "_view_module_version": "1.5.0",
            "box_style": "",
            "layout": "IPY_MODEL_a9ae2639277b4380887f6d8ce6226e35",
            "_model_module": "@jupyter-widgets/controls",
            "children": [
              "IPY_MODEL_cc69c877d7844d1d80724238f31d2b01",
              "IPY_MODEL_cbbe202057904bb895dfd20800a97f6b"
            ]
          }
        },
        "a9ae2639277b4380887f6d8ce6226e35": {
          "model_module": "@jupyter-widgets/base",
          "model_name": "LayoutModel",
          "state": {
            "_view_name": "LayoutView",
            "grid_template_rows": null,
            "right": null,
            "justify_content": null,
            "_view_module": "@jupyter-widgets/base",
            "overflow": null,
            "_model_module_version": "1.2.0",
            "_view_count": null,
            "flex_flow": null,
            "width": null,
            "min_width": null,
            "border": null,
            "align_items": null,
            "bottom": null,
            "_model_module": "@jupyter-widgets/base",
            "top": null,
            "grid_column": null,
            "overflow_y": null,
            "overflow_x": null,
            "grid_auto_flow": null,
            "grid_area": null,
            "grid_template_columns": null,
            "flex": null,
            "_model_name": "LayoutModel",
            "justify_items": null,
            "grid_row": null,
            "max_height": null,
            "align_content": null,
            "visibility": null,
            "align_self": null,
            "height": null,
            "min_height": null,
            "padding": null,
            "grid_auto_rows": null,
            "grid_gap": null,
            "max_width": null,
            "order": null,
            "_view_module_version": "1.2.0",
            "grid_template_areas": null,
            "object_position": null,
            "object_fit": null,
            "grid_auto_columns": null,
            "margin": null,
            "display": null,
            "left": null
          }
        },
        "cc69c877d7844d1d80724238f31d2b01": {
          "model_module": "@jupyter-widgets/controls",
          "model_name": "FloatProgressModel",
          "state": {
            "_view_name": "ProgressView",
            "style": "IPY_MODEL_362dcde88b314312987ad9effee3a7c8",
            "_dom_classes": [],
            "description": "Downloading: 100%",
            "_model_name": "FloatProgressModel",
            "bar_style": "success",
            "max": 231508,
            "_view_module": "@jupyter-widgets/controls",
            "_model_module_version": "1.5.0",
            "value": 231508,
            "_view_count": null,
            "_view_module_version": "1.5.0",
            "orientation": "horizontal",
            "min": 0,
            "description_tooltip": null,
            "_model_module": "@jupyter-widgets/controls",
            "layout": "IPY_MODEL_aad1e6bf8931459e8bbd06aef414fe79"
          }
        },
        "cbbe202057904bb895dfd20800a97f6b": {
          "model_module": "@jupyter-widgets/controls",
          "model_name": "HTMLModel",
          "state": {
            "_view_name": "HTMLView",
            "style": "IPY_MODEL_b394580c3cc043a786f326b4388c4dac",
            "_dom_classes": [],
            "description": "",
            "_model_name": "HTMLModel",
            "placeholder": "​",
            "_view_module": "@jupyter-widgets/controls",
            "_model_module_version": "1.5.0",
            "value": " 232k/232k [00:01&lt;00:00, 209kB/s]",
            "_view_count": null,
            "_view_module_version": "1.5.0",
            "description_tooltip": null,
            "_model_module": "@jupyter-widgets/controls",
            "layout": "IPY_MODEL_b8fa53fcdad74fdbb9b1c4bf57149d5b"
          }
        },
        "362dcde88b314312987ad9effee3a7c8": {
          "model_module": "@jupyter-widgets/controls",
          "model_name": "ProgressStyleModel",
          "state": {
            "_view_name": "StyleView",
            "_model_name": "ProgressStyleModel",
            "description_width": "initial",
            "_view_module": "@jupyter-widgets/base",
            "_model_module_version": "1.5.0",
            "_view_count": null,
            "_view_module_version": "1.2.0",
            "bar_color": null,
            "_model_module": "@jupyter-widgets/controls"
          }
        },
        "aad1e6bf8931459e8bbd06aef414fe79": {
          "model_module": "@jupyter-widgets/base",
          "model_name": "LayoutModel",
          "state": {
            "_view_name": "LayoutView",
            "grid_template_rows": null,
            "right": null,
            "justify_content": null,
            "_view_module": "@jupyter-widgets/base",
            "overflow": null,
            "_model_module_version": "1.2.0",
            "_view_count": null,
            "flex_flow": null,
            "width": null,
            "min_width": null,
            "border": null,
            "align_items": null,
            "bottom": null,
            "_model_module": "@jupyter-widgets/base",
            "top": null,
            "grid_column": null,
            "overflow_y": null,
            "overflow_x": null,
            "grid_auto_flow": null,
            "grid_area": null,
            "grid_template_columns": null,
            "flex": null,
            "_model_name": "LayoutModel",
            "justify_items": null,
            "grid_row": null,
            "max_height": null,
            "align_content": null,
            "visibility": null,
            "align_self": null,
            "height": null,
            "min_height": null,
            "padding": null,
            "grid_auto_rows": null,
            "grid_gap": null,
            "max_width": null,
            "order": null,
            "_view_module_version": "1.2.0",
            "grid_template_areas": null,
            "object_position": null,
            "object_fit": null,
            "grid_auto_columns": null,
            "margin": null,
            "display": null,
            "left": null
          }
        },
        "b394580c3cc043a786f326b4388c4dac": {
          "model_module": "@jupyter-widgets/controls",
          "model_name": "DescriptionStyleModel",
          "state": {
            "_view_name": "StyleView",
            "_model_name": "DescriptionStyleModel",
            "description_width": "",
            "_view_module": "@jupyter-widgets/base",
            "_model_module_version": "1.5.0",
            "_view_count": null,
            "_view_module_version": "1.2.0",
            "_model_module": "@jupyter-widgets/controls"
          }
        },
        "b8fa53fcdad74fdbb9b1c4bf57149d5b": {
          "model_module": "@jupyter-widgets/base",
          "model_name": "LayoutModel",
          "state": {
            "_view_name": "LayoutView",
            "grid_template_rows": null,
            "right": null,
            "justify_content": null,
            "_view_module": "@jupyter-widgets/base",
            "overflow": null,
            "_model_module_version": "1.2.0",
            "_view_count": null,
            "flex_flow": null,
            "width": null,
            "min_width": null,
            "border": null,
            "align_items": null,
            "bottom": null,
            "_model_module": "@jupyter-widgets/base",
            "top": null,
            "grid_column": null,
            "overflow_y": null,
            "overflow_x": null,
            "grid_auto_flow": null,
            "grid_area": null,
            "grid_template_columns": null,
            "flex": null,
            "_model_name": "LayoutModel",
            "justify_items": null,
            "grid_row": null,
            "max_height": null,
            "align_content": null,
            "visibility": null,
            "align_self": null,
            "height": null,
            "min_height": null,
            "padding": null,
            "grid_auto_rows": null,
            "grid_gap": null,
            "max_width": null,
            "order": null,
            "_view_module_version": "1.2.0",
            "grid_template_areas": null,
            "object_position": null,
            "object_fit": null,
            "grid_auto_columns": null,
            "margin": null,
            "display": null,
            "left": null
          }
        },
        "814bf704f6d243baa7671e3e6a7da9a1": {
          "model_module": "@jupyter-widgets/controls",
          "model_name": "HBoxModel",
          "state": {
            "_view_name": "HBoxView",
            "_dom_classes": [],
            "_model_name": "HBoxModel",
            "_view_module": "@jupyter-widgets/controls",
            "_model_module_version": "1.5.0",
            "_view_count": null,
            "_view_module_version": "1.5.0",
            "box_style": "",
            "layout": "IPY_MODEL_3561cdd348b247d1914edcf79207354d",
            "_model_module": "@jupyter-widgets/controls",
            "children": [
              "IPY_MODEL_b4f25e79988e48769a63fec3f27ffaec",
              "IPY_MODEL_1b717617cbd248b9a755a66c7891c446"
            ]
          }
        },
        "3561cdd348b247d1914edcf79207354d": {
          "model_module": "@jupyter-widgets/base",
          "model_name": "LayoutModel",
          "state": {
            "_view_name": "LayoutView",
            "grid_template_rows": null,
            "right": null,
            "justify_content": null,
            "_view_module": "@jupyter-widgets/base",
            "overflow": null,
            "_model_module_version": "1.2.0",
            "_view_count": null,
            "flex_flow": null,
            "width": null,
            "min_width": null,
            "border": null,
            "align_items": null,
            "bottom": null,
            "_model_module": "@jupyter-widgets/base",
            "top": null,
            "grid_column": null,
            "overflow_y": null,
            "overflow_x": null,
            "grid_auto_flow": null,
            "grid_area": null,
            "grid_template_columns": null,
            "flex": null,
            "_model_name": "LayoutModel",
            "justify_items": null,
            "grid_row": null,
            "max_height": null,
            "align_content": null,
            "visibility": null,
            "align_self": null,
            "height": null,
            "min_height": null,
            "padding": null,
            "grid_auto_rows": null,
            "grid_gap": null,
            "max_width": null,
            "order": null,
            "_view_module_version": "1.2.0",
            "grid_template_areas": null,
            "object_position": null,
            "object_fit": null,
            "grid_auto_columns": null,
            "margin": null,
            "display": null,
            "left": null
          }
        },
        "b4f25e79988e48769a63fec3f27ffaec": {
          "model_module": "@jupyter-widgets/controls",
          "model_name": "FloatProgressModel",
          "state": {
            "_view_name": "ProgressView",
            "style": "IPY_MODEL_6fa65c0812204a3782645cd2eaf74cac",
            "_dom_classes": [],
            "description": "Training Steps: 100%",
            "_model_name": "FloatProgressModel",
            "bar_style": "success",
            "max": 73902,
            "_view_module": "@jupyter-widgets/controls",
            "_model_module_version": "1.5.0",
            "value": 73902,
            "_view_count": null,
            "_view_module_version": "1.5.0",
            "orientation": "horizontal",
            "min": 0,
            "description_tooltip": null,
            "_model_module": "@jupyter-widgets/controls",
            "layout": "IPY_MODEL_83004031a033458782bb75832182819a"
          }
        },
        "1b717617cbd248b9a755a66c7891c446": {
          "model_module": "@jupyter-widgets/controls",
          "model_name": "HTMLModel",
          "state": {
            "_view_name": "HTMLView",
            "style": "IPY_MODEL_4aa686e221884049b01e9c909ed1ef1b",
            "_dom_classes": [],
            "description": "",
            "_model_name": "HTMLModel",
            "placeholder": "​",
            "_view_module": "@jupyter-widgets/controls",
            "_model_module_version": "1.5.0",
            "value": " 73902/73902 [13:10:58&lt;00:00,  1.56it/s]",
            "_view_count": null,
            "_view_module_version": "1.5.0",
            "description_tooltip": null,
            "_model_module": "@jupyter-widgets/controls",
            "layout": "IPY_MODEL_509e6f93ddc74f1bb7d435e8b01fd525"
          }
        },
        "6fa65c0812204a3782645cd2eaf74cac": {
          "model_module": "@jupyter-widgets/controls",
          "model_name": "ProgressStyleModel",
          "state": {
            "_view_name": "StyleView",
            "_model_name": "ProgressStyleModel",
            "description_width": "initial",
            "_view_module": "@jupyter-widgets/base",
            "_model_module_version": "1.5.0",
            "_view_count": null,
            "_view_module_version": "1.2.0",
            "bar_color": null,
            "_model_module": "@jupyter-widgets/controls"
          }
        },
        "83004031a033458782bb75832182819a": {
          "model_module": "@jupyter-widgets/base",
          "model_name": "LayoutModel",
          "state": {
            "_view_name": "LayoutView",
            "grid_template_rows": null,
            "right": null,
            "justify_content": null,
            "_view_module": "@jupyter-widgets/base",
            "overflow": null,
            "_model_module_version": "1.2.0",
            "_view_count": null,
            "flex_flow": null,
            "width": null,
            "min_width": null,
            "border": null,
            "align_items": null,
            "bottom": null,
            "_model_module": "@jupyter-widgets/base",
            "top": null,
            "grid_column": null,
            "overflow_y": null,
            "overflow_x": null,
            "grid_auto_flow": null,
            "grid_area": null,
            "grid_template_columns": null,
            "flex": null,
            "_model_name": "LayoutModel",
            "justify_items": null,
            "grid_row": null,
            "max_height": null,
            "align_content": null,
            "visibility": null,
            "align_self": null,
            "height": null,
            "min_height": null,
            "padding": null,
            "grid_auto_rows": null,
            "grid_gap": null,
            "max_width": null,
            "order": null,
            "_view_module_version": "1.2.0",
            "grid_template_areas": null,
            "object_position": null,
            "object_fit": null,
            "grid_auto_columns": null,
            "margin": null,
            "display": null,
            "left": null
          }
        },
        "4aa686e221884049b01e9c909ed1ef1b": {
          "model_module": "@jupyter-widgets/controls",
          "model_name": "DescriptionStyleModel",
          "state": {
            "_view_name": "StyleView",
            "_model_name": "DescriptionStyleModel",
            "description_width": "",
            "_view_module": "@jupyter-widgets/base",
            "_model_module_version": "1.5.0",
            "_view_count": null,
            "_view_module_version": "1.2.0",
            "_model_module": "@jupyter-widgets/controls"
          }
        },
        "509e6f93ddc74f1bb7d435e8b01fd525": {
          "model_module": "@jupyter-widgets/base",
          "model_name": "LayoutModel",
          "state": {
            "_view_name": "LayoutView",
            "grid_template_rows": null,
            "right": null,
            "justify_content": null,
            "_view_module": "@jupyter-widgets/base",
            "overflow": null,
            "_model_module_version": "1.2.0",
            "_view_count": null,
            "flex_flow": null,
            "width": null,
            "min_width": null,
            "border": null,
            "align_items": null,
            "bottom": null,
            "_model_module": "@jupyter-widgets/base",
            "top": null,
            "grid_column": null,
            "overflow_y": null,
            "overflow_x": null,
            "grid_auto_flow": null,
            "grid_area": null,
            "grid_template_columns": null,
            "flex": null,
            "_model_name": "LayoutModel",
            "justify_items": null,
            "grid_row": null,
            "max_height": null,
            "align_content": null,
            "visibility": null,
            "align_self": null,
            "height": null,
            "min_height": null,
            "padding": null,
            "grid_auto_rows": null,
            "grid_gap": null,
            "max_width": null,
            "order": null,
            "_view_module_version": "1.2.0",
            "grid_template_areas": null,
            "object_position": null,
            "object_fit": null,
            "grid_auto_columns": null,
            "margin": null,
            "display": null,
            "left": null
          }
        },
        "ddb3ca837fd1411085569f9b50537d74": {
          "model_module": "@jupyter-widgets/controls",
          "model_name": "HBoxModel",
          "state": {
            "_view_name": "HBoxView",
            "_dom_classes": [],
            "_model_name": "HBoxModel",
            "_view_module": "@jupyter-widgets/controls",
            "_model_module_version": "1.5.0",
            "_view_count": null,
            "_view_module_version": "1.5.0",
            "box_style": "",
            "layout": "IPY_MODEL_4bd058fd1b934e2890b3aaabb361d83c",
            "_model_module": "@jupyter-widgets/controls",
            "children": [
              "IPY_MODEL_a7a71b0052ec405595e608bc048cd5d7",
              "IPY_MODEL_a73112abf750461696f0b3c0e14ac45c"
            ]
          }
        },
        "4bd058fd1b934e2890b3aaabb361d83c": {
          "model_module": "@jupyter-widgets/base",
          "model_name": "LayoutModel",
          "state": {
            "_view_name": "LayoutView",
            "grid_template_rows": null,
            "right": null,
            "justify_content": null,
            "_view_module": "@jupyter-widgets/base",
            "overflow": null,
            "_model_module_version": "1.2.0",
            "_view_count": null,
            "flex_flow": null,
            "width": null,
            "min_width": null,
            "border": null,
            "align_items": null,
            "bottom": null,
            "_model_module": "@jupyter-widgets/base",
            "top": null,
            "grid_column": null,
            "overflow_y": null,
            "overflow_x": null,
            "grid_auto_flow": null,
            "grid_area": null,
            "grid_template_columns": null,
            "flex": null,
            "_model_name": "LayoutModel",
            "justify_items": null,
            "grid_row": null,
            "max_height": null,
            "align_content": null,
            "visibility": null,
            "align_self": null,
            "height": null,
            "min_height": null,
            "padding": null,
            "grid_auto_rows": null,
            "grid_gap": null,
            "max_width": null,
            "order": null,
            "_view_module_version": "1.2.0",
            "grid_template_areas": null,
            "object_position": null,
            "object_fit": null,
            "grid_auto_columns": null,
            "margin": null,
            "display": null,
            "left": null
          }
        },
        "a7a71b0052ec405595e608bc048cd5d7": {
          "model_module": "@jupyter-widgets/controls",
          "model_name": "FloatProgressModel",
          "state": {
            "_view_name": "ProgressView",
            "style": "IPY_MODEL_01ea3b9196b9469fae09c2e53af86622",
            "_dom_classes": [],
            "description": "Training Steps: 100%",
            "_model_name": "FloatProgressModel",
            "bar_style": "success",
            "max": 73902,
            "_view_module": "@jupyter-widgets/controls",
            "_model_module_version": "1.5.0",
            "value": 73902,
            "_view_count": null,
            "_view_module_version": "1.5.0",
            "orientation": "horizontal",
            "min": 0,
            "description_tooltip": null,
            "_model_module": "@jupyter-widgets/controls",
            "layout": "IPY_MODEL_79990c0585e943fd966cc12cf9ba6cfa"
          }
        },
        "a73112abf750461696f0b3c0e14ac45c": {
          "model_module": "@jupyter-widgets/controls",
          "model_name": "HTMLModel",
          "state": {
            "_view_name": "HTMLView",
            "style": "IPY_MODEL_72ab2ad229e749ad8042c7a8995da25e",
            "_dom_classes": [],
            "description": "",
            "_model_name": "HTMLModel",
            "placeholder": "​",
            "_view_module": "@jupyter-widgets/controls",
            "_model_module_version": "1.5.0",
            "value": " 73902/73902 [8:47:15&lt;00:00,  2.34it/s]",
            "_view_count": null,
            "_view_module_version": "1.5.0",
            "description_tooltip": null,
            "_model_module": "@jupyter-widgets/controls",
            "layout": "IPY_MODEL_768714a9a46b47f8bc75a72f50dc7e2e"
          }
        },
        "01ea3b9196b9469fae09c2e53af86622": {
          "model_module": "@jupyter-widgets/controls",
          "model_name": "ProgressStyleModel",
          "state": {
            "_view_name": "StyleView",
            "_model_name": "ProgressStyleModel",
            "description_width": "initial",
            "_view_module": "@jupyter-widgets/base",
            "_model_module_version": "1.5.0",
            "_view_count": null,
            "_view_module_version": "1.2.0",
            "bar_color": null,
            "_model_module": "@jupyter-widgets/controls"
          }
        },
        "79990c0585e943fd966cc12cf9ba6cfa": {
          "model_module": "@jupyter-widgets/base",
          "model_name": "LayoutModel",
          "state": {
            "_view_name": "LayoutView",
            "grid_template_rows": null,
            "right": null,
            "justify_content": null,
            "_view_module": "@jupyter-widgets/base",
            "overflow": null,
            "_model_module_version": "1.2.0",
            "_view_count": null,
            "flex_flow": null,
            "width": null,
            "min_width": null,
            "border": null,
            "align_items": null,
            "bottom": null,
            "_model_module": "@jupyter-widgets/base",
            "top": null,
            "grid_column": null,
            "overflow_y": null,
            "overflow_x": null,
            "grid_auto_flow": null,
            "grid_area": null,
            "grid_template_columns": null,
            "flex": null,
            "_model_name": "LayoutModel",
            "justify_items": null,
            "grid_row": null,
            "max_height": null,
            "align_content": null,
            "visibility": null,
            "align_self": null,
            "height": null,
            "min_height": null,
            "padding": null,
            "grid_auto_rows": null,
            "grid_gap": null,
            "max_width": null,
            "order": null,
            "_view_module_version": "1.2.0",
            "grid_template_areas": null,
            "object_position": null,
            "object_fit": null,
            "grid_auto_columns": null,
            "margin": null,
            "display": null,
            "left": null
          }
        },
        "72ab2ad229e749ad8042c7a8995da25e": {
          "model_module": "@jupyter-widgets/controls",
          "model_name": "DescriptionStyleModel",
          "state": {
            "_view_name": "StyleView",
            "_model_name": "DescriptionStyleModel",
            "description_width": "",
            "_view_module": "@jupyter-widgets/base",
            "_model_module_version": "1.5.0",
            "_view_count": null,
            "_view_module_version": "1.2.0",
            "_model_module": "@jupyter-widgets/controls"
          }
        },
        "768714a9a46b47f8bc75a72f50dc7e2e": {
          "model_module": "@jupyter-widgets/base",
          "model_name": "LayoutModel",
          "state": {
            "_view_name": "LayoutView",
            "grid_template_rows": null,
            "right": null,
            "justify_content": null,
            "_view_module": "@jupyter-widgets/base",
            "overflow": null,
            "_model_module_version": "1.2.0",
            "_view_count": null,
            "flex_flow": null,
            "width": null,
            "min_width": null,
            "border": null,
            "align_items": null,
            "bottom": null,
            "_model_module": "@jupyter-widgets/base",
            "top": null,
            "grid_column": null,
            "overflow_y": null,
            "overflow_x": null,
            "grid_auto_flow": null,
            "grid_area": null,
            "grid_template_columns": null,
            "flex": null,
            "_model_name": "LayoutModel",
            "justify_items": null,
            "grid_row": null,
            "max_height": null,
            "align_content": null,
            "visibility": null,
            "align_self": null,
            "height": null,
            "min_height": null,
            "padding": null,
            "grid_auto_rows": null,
            "grid_gap": null,
            "max_width": null,
            "order": null,
            "_view_module_version": "1.2.0",
            "grid_template_areas": null,
            "object_position": null,
            "object_fit": null,
            "grid_auto_columns": null,
            "margin": null,
            "display": null,
            "left": null
          }
        },
        "498a4e0af4974ea687fbea2a835f55b9": {
          "model_module": "@jupyter-widgets/controls",
          "model_name": "HBoxModel",
          "state": {
            "_view_name": "HBoxView",
            "_dom_classes": [],
            "_model_name": "HBoxModel",
            "_view_module": "@jupyter-widgets/controls",
            "_model_module_version": "1.5.0",
            "_view_count": null,
            "_view_module_version": "1.5.0",
            "box_style": "",
            "layout": "IPY_MODEL_6b6e4d26f6474cbea9bf1064929d619f",
            "_model_module": "@jupyter-widgets/controls",
            "children": [
              "IPY_MODEL_035764d3fe3343dfa09dc551a4025e33",
              "IPY_MODEL_c53e36cf26574981af975c23320db542"
            ]
          }
        },
        "6b6e4d26f6474cbea9bf1064929d619f": {
          "model_module": "@jupyter-widgets/base",
          "model_name": "LayoutModel",
          "state": {
            "_view_name": "LayoutView",
            "grid_template_rows": null,
            "right": null,
            "justify_content": null,
            "_view_module": "@jupyter-widgets/base",
            "overflow": null,
            "_model_module_version": "1.2.0",
            "_view_count": null,
            "flex_flow": null,
            "width": null,
            "min_width": null,
            "border": null,
            "align_items": null,
            "bottom": null,
            "_model_module": "@jupyter-widgets/base",
            "top": null,
            "grid_column": null,
            "overflow_y": null,
            "overflow_x": null,
            "grid_auto_flow": null,
            "grid_area": null,
            "grid_template_columns": null,
            "flex": null,
            "_model_name": "LayoutModel",
            "justify_items": null,
            "grid_row": null,
            "max_height": null,
            "align_content": null,
            "visibility": null,
            "align_self": null,
            "height": null,
            "min_height": null,
            "padding": null,
            "grid_auto_rows": null,
            "grid_gap": null,
            "max_width": null,
            "order": null,
            "_view_module_version": "1.2.0",
            "grid_template_areas": null,
            "object_position": null,
            "object_fit": null,
            "grid_auto_columns": null,
            "margin": null,
            "display": null,
            "left": null
          }
        },
        "035764d3fe3343dfa09dc551a4025e33": {
          "model_module": "@jupyter-widgets/controls",
          "model_name": "FloatProgressModel",
          "state": {
            "_view_name": "ProgressView",
            "style": "IPY_MODEL_d5f79e647a4f439286f132ff7b37a410",
            "_dom_classes": [],
            "description": "Training Steps: 100%",
            "_model_name": "FloatProgressModel",
            "bar_style": "success",
            "max": 73902,
            "_view_module": "@jupyter-widgets/controls",
            "_model_module_version": "1.5.0",
            "value": 73902,
            "_view_count": null,
            "_view_module_version": "1.5.0",
            "orientation": "horizontal",
            "min": 0,
            "description_tooltip": null,
            "_model_module": "@jupyter-widgets/controls",
            "layout": "IPY_MODEL_640d24cab3694afd81b980ea08d63c93"
          }
        },
        "c53e36cf26574981af975c23320db542": {
          "model_module": "@jupyter-widgets/controls",
          "model_name": "HTMLModel",
          "state": {
            "_view_name": "HTMLView",
            "style": "IPY_MODEL_778897f46da24edca186f2fd4f342262",
            "_dom_classes": [],
            "description": "",
            "_model_name": "HTMLModel",
            "placeholder": "​",
            "_view_module": "@jupyter-widgets/controls",
            "_model_module_version": "1.5.0",
            "value": " 73902/73902 [4:23:27&lt;00:00,  4.68it/s]",
            "_view_count": null,
            "_view_module_version": "1.5.0",
            "description_tooltip": null,
            "_model_module": "@jupyter-widgets/controls",
            "layout": "IPY_MODEL_7e8447c2ed7e4fce836d2ecdd56e6388"
          }
        },
        "d5f79e647a4f439286f132ff7b37a410": {
          "model_module": "@jupyter-widgets/controls",
          "model_name": "ProgressStyleModel",
          "state": {
            "_view_name": "StyleView",
            "_model_name": "ProgressStyleModel",
            "description_width": "initial",
            "_view_module": "@jupyter-widgets/base",
            "_model_module_version": "1.5.0",
            "_view_count": null,
            "_view_module_version": "1.2.0",
            "bar_color": null,
            "_model_module": "@jupyter-widgets/controls"
          }
        },
        "640d24cab3694afd81b980ea08d63c93": {
          "model_module": "@jupyter-widgets/base",
          "model_name": "LayoutModel",
          "state": {
            "_view_name": "LayoutView",
            "grid_template_rows": null,
            "right": null,
            "justify_content": null,
            "_view_module": "@jupyter-widgets/base",
            "overflow": null,
            "_model_module_version": "1.2.0",
            "_view_count": null,
            "flex_flow": null,
            "width": null,
            "min_width": null,
            "border": null,
            "align_items": null,
            "bottom": null,
            "_model_module": "@jupyter-widgets/base",
            "top": null,
            "grid_column": null,
            "overflow_y": null,
            "overflow_x": null,
            "grid_auto_flow": null,
            "grid_area": null,
            "grid_template_columns": null,
            "flex": null,
            "_model_name": "LayoutModel",
            "justify_items": null,
            "grid_row": null,
            "max_height": null,
            "align_content": null,
            "visibility": null,
            "align_self": null,
            "height": null,
            "min_height": null,
            "padding": null,
            "grid_auto_rows": null,
            "grid_gap": null,
            "max_width": null,
            "order": null,
            "_view_module_version": "1.2.0",
            "grid_template_areas": null,
            "object_position": null,
            "object_fit": null,
            "grid_auto_columns": null,
            "margin": null,
            "display": null,
            "left": null
          }
        },
        "778897f46da24edca186f2fd4f342262": {
          "model_module": "@jupyter-widgets/controls",
          "model_name": "DescriptionStyleModel",
          "state": {
            "_view_name": "StyleView",
            "_model_name": "DescriptionStyleModel",
            "description_width": "",
            "_view_module": "@jupyter-widgets/base",
            "_model_module_version": "1.5.0",
            "_view_count": null,
            "_view_module_version": "1.2.0",
            "_model_module": "@jupyter-widgets/controls"
          }
        },
        "7e8447c2ed7e4fce836d2ecdd56e6388": {
          "model_module": "@jupyter-widgets/base",
          "model_name": "LayoutModel",
          "state": {
            "_view_name": "LayoutView",
            "grid_template_rows": null,
            "right": null,
            "justify_content": null,
            "_view_module": "@jupyter-widgets/base",
            "overflow": null,
            "_model_module_version": "1.2.0",
            "_view_count": null,
            "flex_flow": null,
            "width": null,
            "min_width": null,
            "border": null,
            "align_items": null,
            "bottom": null,
            "_model_module": "@jupyter-widgets/base",
            "top": null,
            "grid_column": null,
            "overflow_y": null,
            "overflow_x": null,
            "grid_auto_flow": null,
            "grid_area": null,
            "grid_template_columns": null,
            "flex": null,
            "_model_name": "LayoutModel",
            "justify_items": null,
            "grid_row": null,
            "max_height": null,
            "align_content": null,
            "visibility": null,
            "align_self": null,
            "height": null,
            "min_height": null,
            "padding": null,
            "grid_auto_rows": null,
            "grid_gap": null,
            "max_width": null,
            "order": null,
            "_view_module_version": "1.2.0",
            "grid_template_areas": null,
            "object_position": null,
            "object_fit": null,
            "grid_auto_columns": null,
            "margin": null,
            "display": null,
            "left": null
          }
        },
        "ff7149075901481b97538e84d23a8e13": {
          "model_module": "@jupyter-widgets/controls",
          "model_name": "HBoxModel",
          "state": {
            "_view_name": "HBoxView",
            "_dom_classes": [],
            "_model_name": "HBoxModel",
            "_view_module": "@jupyter-widgets/controls",
            "_model_module_version": "1.5.0",
            "_view_count": null,
            "_view_module_version": "1.5.0",
            "box_style": "",
            "layout": "IPY_MODEL_4777d01a599a4e14b88a11655e1c7efa",
            "_model_module": "@jupyter-widgets/controls",
            "children": [
              "IPY_MODEL_cd3abc711f0f42ff87d600be63aeae13",
              "IPY_MODEL_0631c2150b6e43cb98bae1463b90c7ee"
            ]
          }
        },
        "4777d01a599a4e14b88a11655e1c7efa": {
          "model_module": "@jupyter-widgets/base",
          "model_name": "LayoutModel",
          "state": {
            "_view_name": "LayoutView",
            "grid_template_rows": null,
            "right": null,
            "justify_content": null,
            "_view_module": "@jupyter-widgets/base",
            "overflow": null,
            "_model_module_version": "1.2.0",
            "_view_count": null,
            "flex_flow": null,
            "width": null,
            "min_width": null,
            "border": null,
            "align_items": null,
            "bottom": null,
            "_model_module": "@jupyter-widgets/base",
            "top": null,
            "grid_column": null,
            "overflow_y": null,
            "overflow_x": null,
            "grid_auto_flow": null,
            "grid_area": null,
            "grid_template_columns": null,
            "flex": null,
            "_model_name": "LayoutModel",
            "justify_items": null,
            "grid_row": null,
            "max_height": null,
            "align_content": null,
            "visibility": null,
            "align_self": null,
            "height": null,
            "min_height": null,
            "padding": null,
            "grid_auto_rows": null,
            "grid_gap": null,
            "max_width": null,
            "order": null,
            "_view_module_version": "1.2.0",
            "grid_template_areas": null,
            "object_position": null,
            "object_fit": null,
            "grid_auto_columns": null,
            "margin": null,
            "display": null,
            "left": null
          }
        },
        "cd3abc711f0f42ff87d600be63aeae13": {
          "model_module": "@jupyter-widgets/controls",
          "model_name": "FloatProgressModel",
          "state": {
            "_view_name": "ProgressView",
            "style": "IPY_MODEL_c23ea456cb1146d887236f2fbd430913",
            "_dom_classes": [],
            "description": "Evaluating on Dev set...: 100%",
            "_model_name": "FloatProgressModel",
            "bar_style": "success",
            "max": 63345,
            "_view_module": "@jupyter-widgets/controls",
            "_model_module_version": "1.5.0",
            "value": 63345,
            "_view_count": null,
            "_view_module_version": "1.5.0",
            "orientation": "horizontal",
            "min": 0,
            "description_tooltip": null,
            "_model_module": "@jupyter-widgets/controls",
            "layout": "IPY_MODEL_6adb3fbf36d84e99a89584a0e25b716d"
          }
        },
        "0631c2150b6e43cb98bae1463b90c7ee": {
          "model_module": "@jupyter-widgets/controls",
          "model_name": "HTMLModel",
          "state": {
            "_view_name": "HTMLView",
            "style": "IPY_MODEL_dfcb4ca3abd848f38592a7c88aaa5f95",
            "_dom_classes": [],
            "description": "",
            "_model_name": "HTMLModel",
            "placeholder": "​",
            "_view_module": "@jupyter-widgets/controls",
            "_model_module_version": "1.5.0",
            "value": " 63345/63345 [41:23&lt;00:00, 25.50it/s]",
            "_view_count": null,
            "_view_module_version": "1.5.0",
            "description_tooltip": null,
            "_model_module": "@jupyter-widgets/controls",
            "layout": "IPY_MODEL_5ee40df4032f4a2780e7fa7baf15497f"
          }
        },
        "c23ea456cb1146d887236f2fbd430913": {
          "model_module": "@jupyter-widgets/controls",
          "model_name": "ProgressStyleModel",
          "state": {
            "_view_name": "StyleView",
            "_model_name": "ProgressStyleModel",
            "description_width": "initial",
            "_view_module": "@jupyter-widgets/base",
            "_model_module_version": "1.5.0",
            "_view_count": null,
            "_view_module_version": "1.2.0",
            "bar_color": null,
            "_model_module": "@jupyter-widgets/controls"
          }
        },
        "6adb3fbf36d84e99a89584a0e25b716d": {
          "model_module": "@jupyter-widgets/base",
          "model_name": "LayoutModel",
          "state": {
            "_view_name": "LayoutView",
            "grid_template_rows": null,
            "right": null,
            "justify_content": null,
            "_view_module": "@jupyter-widgets/base",
            "overflow": null,
            "_model_module_version": "1.2.0",
            "_view_count": null,
            "flex_flow": null,
            "width": null,
            "min_width": null,
            "border": null,
            "align_items": null,
            "bottom": null,
            "_model_module": "@jupyter-widgets/base",
            "top": null,
            "grid_column": null,
            "overflow_y": null,
            "overflow_x": null,
            "grid_auto_flow": null,
            "grid_area": null,
            "grid_template_columns": null,
            "flex": null,
            "_model_name": "LayoutModel",
            "justify_items": null,
            "grid_row": null,
            "max_height": null,
            "align_content": null,
            "visibility": null,
            "align_self": null,
            "height": null,
            "min_height": null,
            "padding": null,
            "grid_auto_rows": null,
            "grid_gap": null,
            "max_width": null,
            "order": null,
            "_view_module_version": "1.2.0",
            "grid_template_areas": null,
            "object_position": null,
            "object_fit": null,
            "grid_auto_columns": null,
            "margin": null,
            "display": null,
            "left": null
          }
        },
        "dfcb4ca3abd848f38592a7c88aaa5f95": {
          "model_module": "@jupyter-widgets/controls",
          "model_name": "DescriptionStyleModel",
          "state": {
            "_view_name": "StyleView",
            "_model_name": "DescriptionStyleModel",
            "description_width": "",
            "_view_module": "@jupyter-widgets/base",
            "_model_module_version": "1.5.0",
            "_view_count": null,
            "_view_module_version": "1.2.0",
            "_model_module": "@jupyter-widgets/controls"
          }
        },
        "5ee40df4032f4a2780e7fa7baf15497f": {
          "model_module": "@jupyter-widgets/base",
          "model_name": "LayoutModel",
          "state": {
            "_view_name": "LayoutView",
            "grid_template_rows": null,
            "right": null,
            "justify_content": null,
            "_view_module": "@jupyter-widgets/base",
            "overflow": null,
            "_model_module_version": "1.2.0",
            "_view_count": null,
            "flex_flow": null,
            "width": null,
            "min_width": null,
            "border": null,
            "align_items": null,
            "bottom": null,
            "_model_module": "@jupyter-widgets/base",
            "top": null,
            "grid_column": null,
            "overflow_y": null,
            "overflow_x": null,
            "grid_auto_flow": null,
            "grid_area": null,
            "grid_template_columns": null,
            "flex": null,
            "_model_name": "LayoutModel",
            "justify_items": null,
            "grid_row": null,
            "max_height": null,
            "align_content": null,
            "visibility": null,
            "align_self": null,
            "height": null,
            "min_height": null,
            "padding": null,
            "grid_auto_rows": null,
            "grid_gap": null,
            "max_width": null,
            "order": null,
            "_view_module_version": "1.2.0",
            "grid_template_areas": null,
            "object_position": null,
            "object_fit": null,
            "grid_auto_columns": null,
            "margin": null,
            "display": null,
            "left": null
          }
        }
      }
    },
    "accelerator": "GPU"
  },
  "cells": [
    {
      "cell_type": "markdown",
      "metadata": {
        "id": "view-in-github",
        "colab_type": "text"
      },
      "source": [
        "<a href=\"https://colab.research.google.com/github/dannygallagher/CIS519-Project/blob/main/CIS519_BERT.ipynb\" target=\"_parent\"><img src=\"https://colab.research.google.com/assets/colab-badge.svg\" alt=\"Open In Colab\"/></a>"
      ]
    },
    {
      "cell_type": "markdown",
      "metadata": {
        "id": "t-7aBAtpDG6U"
      },
      "source": [
        "# Sentiment Analysis and Stance Classificaiton\n",
        "## Modified from CIS 530 Homework Option 2 - Spring 2021\n",
        "\n",
        "\n"
      ]
    },
    {
      "cell_type": "markdown",
      "metadata": {
        "id": "WisUnpKqPW5x"
      },
      "source": [
        "## **Part I:** Relevance Classification with BERT fine-tuning\n",
        "\n",
        "#### Why do we need to fine-tune BERT?\n",
        "Here is a nice [demo](https://demo.allennlp.org/masked-lm?text=The%20doctor%20ran%20to%20the%20emergency%20room%20to%20see%20%5BMASK%5D%20patient.) \n",
        "\n",
        "\n",
        "\n",
        "We will be using the [transformer](https://github.com/huggingface/transformers) package developed by Huggingface, based on PyTorch. It is the most popular library for BERT and other transformer-based language models like GPT-2. \n"
      ]
    },
    {
      "cell_type": "markdown",
      "metadata": {
        "id": "Nrm0rxUR3MMj"
      },
      "source": [
        "**IMPORTANT: Make sure that you have GPU set as your Hardware Accelerator in Runtime > Change runtime type before running this Colab.**"
      ]
    },
    {
      "cell_type": "markdown",
      "metadata": {
        "id": "emdQC05Z2H8W"
      },
      "source": [
        "### Installing the Huggingface🤗 transformer package"
      ]
    },
    {
      "cell_type": "code",
      "metadata": {
        "id": "N5zqkZYt2Jg-",
        "colab": {
          "base_uri": "https://localhost:8080/"
        },
        "outputId": "c8c5e1e9-8957-4ee4-f9cb-044724b80a21"
      },
      "source": [
        "# os.environ['CUDA_LAUNCH_BLOCKING'] = \"0\"\n",
        "!pip install transformers\n",
        "!pip3 install sentencepiece"
      ],
      "execution_count": null,
      "outputs": [
        {
          "output_type": "stream",
          "text": [
            "Collecting transformers\n",
            "\u001b[?25l  Downloading https://files.pythonhosted.org/packages/d8/b2/57495b5309f09fa501866e225c84532d1fd89536ea62406b2181933fb418/transformers-4.5.1-py3-none-any.whl (2.1MB)\n",
            "\u001b[K     |████████████████████████████████| 2.1MB 9.1MB/s \n",
            "\u001b[?25hRequirement already satisfied: filelock in /usr/local/lib/python3.7/dist-packages (from transformers) (3.0.12)\n",
            "Requirement already satisfied: regex!=2019.12.17 in /usr/local/lib/python3.7/dist-packages (from transformers) (2019.12.20)\n",
            "Requirement already satisfied: requests in /usr/local/lib/python3.7/dist-packages (from transformers) (2.23.0)\n",
            "Collecting sacremoses\n",
            "\u001b[?25l  Downloading https://files.pythonhosted.org/packages/75/ee/67241dc87f266093c533a2d4d3d69438e57d7a90abb216fa076e7d475d4a/sacremoses-0.0.45-py3-none-any.whl (895kB)\n",
            "\u001b[K     |████████████████████████████████| 901kB 38.2MB/s \n",
            "\u001b[?25hRequirement already satisfied: importlib-metadata; python_version < \"3.8\" in /usr/local/lib/python3.7/dist-packages (from transformers) (3.10.1)\n",
            "Requirement already satisfied: tqdm>=4.27 in /usr/local/lib/python3.7/dist-packages (from transformers) (4.41.1)\n",
            "Collecting tokenizers<0.11,>=0.10.1\n",
            "\u001b[?25l  Downloading https://files.pythonhosted.org/packages/ae/04/5b870f26a858552025a62f1649c20d29d2672c02ff3c3fb4c688ca46467a/tokenizers-0.10.2-cp37-cp37m-manylinux2010_x86_64.whl (3.3MB)\n",
            "\u001b[K     |████████████████████████████████| 3.3MB 37.6MB/s \n",
            "\u001b[?25hRequirement already satisfied: numpy>=1.17 in /usr/local/lib/python3.7/dist-packages (from transformers) (1.19.5)\n",
            "Requirement already satisfied: packaging in /usr/local/lib/python3.7/dist-packages (from transformers) (20.9)\n",
            "Requirement already satisfied: idna<3,>=2.5 in /usr/local/lib/python3.7/dist-packages (from requests->transformers) (2.10)\n",
            "Requirement already satisfied: chardet<4,>=3.0.2 in /usr/local/lib/python3.7/dist-packages (from requests->transformers) (3.0.4)\n",
            "Requirement already satisfied: certifi>=2017.4.17 in /usr/local/lib/python3.7/dist-packages (from requests->transformers) (2020.12.5)\n",
            "Requirement already satisfied: urllib3!=1.25.0,!=1.25.1,<1.26,>=1.21.1 in /usr/local/lib/python3.7/dist-packages (from requests->transformers) (1.24.3)\n",
            "Requirement already satisfied: six in /usr/local/lib/python3.7/dist-packages (from sacremoses->transformers) (1.15.0)\n",
            "Requirement already satisfied: joblib in /usr/local/lib/python3.7/dist-packages (from sacremoses->transformers) (1.0.1)\n",
            "Requirement already satisfied: click in /usr/local/lib/python3.7/dist-packages (from sacremoses->transformers) (7.1.2)\n",
            "Requirement already satisfied: typing-extensions>=3.6.4; python_version < \"3.8\" in /usr/local/lib/python3.7/dist-packages (from importlib-metadata; python_version < \"3.8\"->transformers) (3.7.4.3)\n",
            "Requirement already satisfied: zipp>=0.5 in /usr/local/lib/python3.7/dist-packages (from importlib-metadata; python_version < \"3.8\"->transformers) (3.4.1)\n",
            "Requirement already satisfied: pyparsing>=2.0.2 in /usr/local/lib/python3.7/dist-packages (from packaging->transformers) (2.4.7)\n",
            "Installing collected packages: sacremoses, tokenizers, transformers\n",
            "Successfully installed sacremoses-0.0.45 tokenizers-0.10.2 transformers-4.5.1\n",
            "Collecting sentencepiece\n",
            "\u001b[?25l  Downloading https://files.pythonhosted.org/packages/f5/99/e0808cb947ba10f575839c43e8fafc9cc44e4a7a2c8f79c60db48220a577/sentencepiece-0.1.95-cp37-cp37m-manylinux2014_x86_64.whl (1.2MB)\n",
            "\u001b[K     |████████████████████████████████| 1.2MB 7.9MB/s \n",
            "\u001b[?25hInstalling collected packages: sentencepiece\n",
            "Successfully installed sentencepiece-0.1.95\n"
          ],
          "name": "stdout"
        }
      ]
    },
    {
      "cell_type": "markdown",
      "metadata": {
        "id": "OdUHfAX97ARc"
      },
      "source": [
        "### Import the important packages that we need"
      ]
    },
    {
      "cell_type": "code",
      "metadata": {
        "id": "KZo2Ls7I5Dmk"
      },
      "source": [
        "import torch \n",
        "import numpy as np"
      ],
      "execution_count": null,
      "outputs": []
    },
    {
      "cell_type": "markdown",
      "metadata": {
        "id": "FTIMhxNC6aLA"
      },
      "source": [
        "### Mount your google drive \n",
        "\n",
        "We will be saving trained checkpoints on your Google Drive so that they can be accessed even if the Colab session dies. Make sure to login with your UPenn credentials, as you will be saving several gigabytes of data, and Penn gives you unlimited Drive storage."
      ]
    },
    {
      "cell_type": "code",
      "metadata": {
        "id": "MrlKyHzY6zq8",
        "colab": {
          "base_uri": "https://localhost:8080/"
        },
        "outputId": "7db21948-59b3-447b-94e9-cbbb5105856e"
      },
      "source": [
        "from google.colab import drive\n",
        "drive.mount('/content/drive')"
      ],
      "execution_count": null,
      "outputs": [
        {
          "output_type": "stream",
          "text": [
            "Mounted at /content/drive\n"
          ],
          "name": "stdout"
        }
      ]
    },
    {
      "cell_type": "markdown",
      "metadata": {
        "id": "GyvLholz7VHc"
      },
      "source": [
        "### Download the Review Datset\n",
        "\n",
        "Note that with the default code, the files are not saved in your google drive, which means they will get deleted after the session close. You can either re-run this cell for each new colab session, or you can save it to the mounted drive at `/content/drive`"
      ]
    },
    {
      "cell_type": "code",
      "metadata": {
        "id": "-3ytJ_7TN_xo"
      },
      "source": [
        "import json\n",
        "import gzip\n",
        "\n",
        "def parse(path):\n",
        "  true = True\n",
        "  false = False\n",
        "  g = gzip.open(path, 'r')\n",
        "  for l in g:\n",
        "    yield json.dumps(eval(l))\n",
        "\n",
        "def strict(path):\n",
        "  max_reviews = 1689188\n",
        "  iter = 5000\n",
        "  counter = 0 \n",
        "  f_path = path + \".json.gz\"\n",
        "  true = True\n",
        "  false = False\n",
        "  f = open(path+\".json\", 'w')\n",
        "  # f.write(\"[\")\n",
        "  writable = \"[\"\n",
        "  # writable.join\n",
        "\n",
        "  for l in parse(f_path):\n",
        "    writable = writable + l + ',\\n'\n",
        "    counter = counter + 1\n",
        "    if (counter % iter) == 0:\n",
        "      print(f\"On line{counter}, {counter/max_reviews} % done\")\n",
        "  writable = writable[:-2]\n",
        "  writable = writable + \"]\"\n",
        "  f.write(writable)\n",
        "\n",
        "def fast_parse(path):\n",
        "  path = path + \".json.gz\"\n",
        "  print('now')\n",
        "  max_reviews = 1689188\n",
        "  iter = 5000\n",
        "  counter = 0 \n",
        "  all_reviews = []\n",
        "  g = gzip.open(path, 'r')\n",
        "  for line in g:\n",
        "    d = json.loads(line)\n",
        "    all_reviews.append(d)\n",
        "    if (counter % iter) == 0:\n",
        "      print(f\"On line{counter}, {counter/max_reviews} % done\")\n",
        "    counter = counter + 1\n",
        "  return all_reviews"
      ],
      "execution_count": null,
      "outputs": []
    },
    {
      "cell_type": "code",
      "metadata": {
        "id": "FOhxsOGy7cK4",
        "colab": {
          "base_uri": "https://localhost:8080/",
          "height": 211
        },
        "outputId": "f29d6381-a9f3-42fe-c43b-224eed164785"
      },
      "source": [
        "# data_file = 'gift_Cards_5'\n",
        "data_file = 'reviews_Electronics_5'\n",
        "# dataset_dir = '/content/drive/MyDrive/cis519_project'\n",
        "# strict('/content/drive/MyDrive/cis519_project/'+data_file)\n",
        "# train_set = fast_parse('/content/drive/MyDrive/cis519_project/'+data_file)\n",
        "train_set = pd.read()"
      ],
      "execution_count": null,
      "outputs": [
        {
          "output_type": "error",
          "ename": "NameError",
          "evalue": "ignored",
          "traceback": [
            "\u001b[0;31m---------------------------------------------------------------------------\u001b[0m",
            "\u001b[0;31mNameError\u001b[0m                                 Traceback (most recent call last)",
            "\u001b[0;32m<ipython-input-1-a6d226442c0e>\u001b[0m in \u001b[0;36m<module>\u001b[0;34m()\u001b[0m\n\u001b[1;32m      4\u001b[0m \u001b[0;31m# strict('/content/drive/MyDrive/cis519_project/'+data_file)\u001b[0m\u001b[0;34m\u001b[0m\u001b[0;34m\u001b[0m\u001b[0;34m\u001b[0m\u001b[0m\n\u001b[1;32m      5\u001b[0m \u001b[0;31m# train_set = fast_parse('/content/drive/MyDrive/cis519_project/'+data_file)\u001b[0m\u001b[0;34m\u001b[0m\u001b[0;34m\u001b[0m\u001b[0;34m\u001b[0m\u001b[0m\n\u001b[0;32m----> 6\u001b[0;31m \u001b[0mtrain_set\u001b[0m \u001b[0;34m=\u001b[0m \u001b[0mpd\u001b[0m\u001b[0;34m.\u001b[0m\u001b[0mread\u001b[0m\u001b[0;34m(\u001b[0m\u001b[0;34m)\u001b[0m\u001b[0;34m\u001b[0m\u001b[0;34m\u001b[0m\u001b[0m\n\u001b[0m",
            "\u001b[0;31mNameError\u001b[0m: name 'pd' is not defined"
          ]
        }
      ]
    },
    {
      "cell_type": "markdown",
      "metadata": {
        "id": "dGB5MH22B1dH"
      },
      "source": [
        "### Load the dataset and see what it looks like\n",
        "\n",
        "For now let's first load the training dataset and see what it looks like. We will worry about the dev/test sets later...\n"
      ]
    },
    {
      "cell_type": "code",
      "metadata": {
        "id": "xaBayxnYB-7c"
      },
      "source": [
        "# import json\n",
        "# import os\n",
        "# file_name = data_file + \".json\"\n",
        "# with open(os.path.join(dataset_dir, file_name)) as fin:\n",
        "#     train_set = json.load(fin)\n",
        "\n",
        "# print(train_set[0]['reviewText'])\n",
        "# print(\"Number of review in training set: {}\".format(len(train_set)))\n",
        "# print(\"Here's how one of the example looks like: {}\".format(json.dumps(train_set[100])))"
      ],
      "execution_count": null,
      "outputs": []
    },
    {
      "cell_type": "markdown",
      "metadata": {
        "id": "T16oSXXxGInG"
      },
      "source": [
        "Do some sampling TODO"
      ]
    },
    {
      "cell_type": "code",
      "metadata": {
        "id": "thxwPQ84FFrC",
        "colab": {
          "base_uri": "https://localhost:8080/"
        },
        "outputId": "64006e35-4036-4e82-8ea3-97b1a0fdc871"
      },
      "source": [
        "import random\n",
        "\n",
        "# def negative_sample(train_set, claim_id, claim_text, sample_size):\n",
        "#     \"\"\"\n",
        "#     Given a perspective (A dictionnary with keys \"id\" and \"text\"), randomly sample {sample_size} negative examples from the dataset. E.g. get a perspective from a different claim\n",
        "#     \"\"\"\n",
        "#     # Each perspective object in the list should be a dictionary with two keys \"id\", \"text\".\n",
        "#     other_examples = [ex for ex in train_set if ex[\"cid\"] != claim_id]\n",
        "    \n",
        "#     negative_examples = []\n",
        "#     for i in range(sample_size):\n",
        "#         rand_claim = random.choice(other_examples)\n",
        "#         all_persps = rand_claim[\"perspective_for\"] + rand_claim[\"perspective_against\"]\n",
        "#         random_persp = random.choice(all_persps)\n",
        "#         negative_examples.append(random_persp)\n",
        "    \n",
        "#     return negative_examples\n",
        "\n",
        "# training_sentence_pairs = []\n",
        "\n",
        "# for claim in train_set:\n",
        "#     positive_perspectives = claim[\"perspective_for\"] + claim[\"perspective_against\"]\n",
        "    \n",
        "#     # We keep the number of negative examples equal to positive, so that we will have a balanced training set\n",
        "#     negative_perspectives = negative_sample(train_set, claim['cid'], claim['claim_text'], len(positive_perspectives)) \n",
        "    \n",
        "#     for persp in positive_perspectives:\n",
        "#         training_sentence_pairs.append({\n",
        "#             \"claim_id\": claim[\"cid\"],\n",
        "#             \"claim_text\": claim[\"claim_text\"],\n",
        "#             \"perspective_id\": persp[\"id\"],\n",
        "#             \"perspective_text\": persp[\"text\"],\n",
        "#             \"label\": True\n",
        "#         })\n",
        "\n",
        "#     for persp in negative_perspectives:\n",
        "#         training_sentence_pairs.append({\n",
        "#             \"claim_id\": claim[\"cid\"],\n",
        "#             \"claim_text\": claim[\"claim_text\"],\n",
        "#             \"perspective_id\": persp[\"id\"],\n",
        "#             \"perspective_text\": persp[\"text\"],\n",
        "#             \"label\": False\n",
        "#         })\n",
        "all_reviews = []\n",
        "id = 0;\n",
        "max_len = 0 \n",
        "for review in train_set:\n",
        "  #no Review text\n",
        "  if 'reviewText' not in review:\n",
        "    continue\n",
        "  # if len(review['reviewText']) > 120:\n",
        "  #   continue\n",
        "    \n",
        "  all_reviews.append({\n",
        "            \"review_id\": id,\n",
        "            \"review_text\": review['reviewText'],\n",
        "            \"label\": review['overall']\n",
        "        })\n",
        "  \n",
        "    # max_len = len(review['reviewText'])\n",
        "  id = id + 1\n",
        "print(\"Number of reviews for training: {}\".format(len(all_reviews)))\n",
        "print(max_len)"
      ],
      "execution_count": null,
      "outputs": [
        {
          "output_type": "stream",
          "text": [
            "Number of reviews for training: 1689188\n",
            "0\n"
          ],
          "name": "stdout"
        }
      ]
    },
    {
      "cell_type": "code",
      "metadata": {
        "colab": {
          "base_uri": "https://localhost:8080/"
        },
        "id": "pJs4Fd8nS6c9",
        "outputId": "c561c31e-3ed5-4702-bb21-40be358b84ee"
      },
      "source": [
        "import pandas as pd\n",
        "all_df = pd.DataFrame(all_reviews)\n",
        "rating_counts = all_df['label'].value_counts()\n",
        "rating_counts"
      ],
      "execution_count": null,
      "outputs": [
        {
          "output_type": "execute_result",
          "data": {
            "text/plain": [
              "5.0    1009026\n",
              "4.0     347041\n",
              "3.0     142257\n",
              "1.0     108725\n",
              "2.0      82139\n",
              "Name: label, dtype: int64"
            ]
          },
          "metadata": {
            "tags": []
          },
          "execution_count": 9
        }
      ]
    },
    {
      "cell_type": "code",
      "metadata": {
        "id": "HSqlGSPdSpbe"
      },
      "source": [
        "# import imblearn\n",
        "# from collections import Counter\n",
        "# x = all_df\n",
        "# y = all_df['label']\n",
        "# from imblearn.under_sampling import RandomUnderSampler\n",
        "# # Define a randomUnderSampler. Here we set the sampling strategy to downsample until #minority/#class = threshold\n",
        "# # This should help us cut back a bit on removing potentially valuable information (and the distribution)\n",
        "# # while also not affecting the non-5 classes much\n",
        "\n",
        "\n",
        "# def define_sample_counts(rating_counts, threshold):\n",
        "#     min_count = min(rating_counts)\n",
        "#     sample_counts = rating_counts.copy()\n",
        "#     #If class/min_count < threshold, we don't want to downsample (these classes are likely also pseudo minorities)\n",
        "#     sample_counts['sample_target'] = rating_counts.apply(lambda x: int(min_count/threshold) if min_count/x < threshold else int(x))\n",
        "    \n",
        "#     return sample_counts\n",
        "\n",
        "# sample_counts = define_sample_counts(rating_counts, .5)\n",
        "\n",
        "# under = RandomUnderSampler(sampling_strategy={1: sample_counts['sample_target'][1] , 2: sample_counts['sample_target'][2], 3: sample_counts['sample_target'][3], 4: sample_counts['sample_target'][4], 5: sample_counts['sample_target'][5]})\n",
        "# x_under, y_under = under.fit_resample(x, y)\n",
        "# print(x_under)\n",
        "# # print(Counter(y_under))\n",
        "# rating_counts = x_under['label'].value_counts()\n",
        "# print(rating_counts)\n"
      ],
      "execution_count": null,
      "outputs": []
    },
    {
      "cell_type": "code",
      "metadata": {
        "colab": {
          "base_uri": "https://localhost:8080/"
        },
        "id": "iNZHv-WYMzOO",
        "outputId": "02301829-36ec-4557-e274-c805a7c37449"
      },
      "source": [
        "from sklearn.model_selection import train_test_split\n",
        "training_reviews, dev_reviews  = train_test_split(all_reviews, train_size = .7)\n",
        "print(len(training_reviews))\n",
        "print(len(dev_reviews))"
      ],
      "execution_count": null,
      "outputs": [
        {
          "output_type": "stream",
          "text": [
            "1182431\n",
            "506757\n"
          ],
          "name": "stdout"
        }
      ]
    },
    {
      "cell_type": "markdown",
      "metadata": {
        "id": "m7SQ_wPTCvZK"
      },
      "source": [
        "Now it would be a good time to load our dev/test examples, which are already organized in the same sentence pair format as what you just did."
      ]
    },
    {
      "cell_type": "code",
      "metadata": {
        "id": "VY1epL37C1v5"
      },
      "source": [
        "# with open(os.path.join(dataset_dir, 'perspectrum_relevance_dev.json')) as fin:\n",
        "#     dev_sentence_pairs = json.load(fin)\n",
        "\n",
        "# with open(os.path.join(dataset_dir, 'perspectrum_relevance_test_no_label.json')) as fin:\n",
        "#     test_sentence_pairs = json.load(fin)\n",
        "\n",
        "# print(\"Number of claim-perspective sentence pairs in dev set: {}\".format(len(dev_sentence_pairs)))\n",
        "# print(\"Number of claim-perspective sentence pairs in test set: {}\".format(len(test_sentence_pairs)))"
      ],
      "execution_count": null,
      "outputs": []
    },
    {
      "cell_type": "markdown",
      "metadata": {
        "id": "Wcu0HdxgE7i9"
      },
      "source": [
        "### Load Pretrained BERT Model\n",
        " \n",
        "\n",
        "You can search for the available models [here](https://huggingface.co/models?search=bert).\n",
        "\n",
        "You can find more examples of different use cases for BERT in the transformer github repo README -- https://github.com/huggingface/transformers\n"
      ]
    },
    {
      "cell_type": "code",
      "metadata": {
        "id": "P7YkHAIjCu4B",
        "colab": {
          "base_uri": "https://localhost:8080/",
          "height": 283,
          "referenced_widgets": [
            "cf5878092e1741bb80d1c301539ef6f0",
            "836e65f48d104d26b6f5be9b546364a7",
            "612b84d385de417bb48045349eb9d02b",
            "ca7c189bd59148d49027ee783831e094",
            "8b972eed80f94f42b168f8425152ffc4",
            "44d3d233d35c410eae912615dd1a00d3",
            "f57f932c2a7b4cdbbdf7aabfd3b48c59",
            "795c9ba89cca4878a76b619799d24941",
            "7ec68198c41f4bb592831e5a65349155",
            "1c6406bf799b49d7a3abd9d8d859bf95",
            "517fdeed8d0f47a39fde8e3cb61ecf27",
            "f041eb3ae87a4bd782e2fe75fb0add96",
            "c5893af8bd83466f8ec16b16e3dfc211",
            "107d019ab99e415a9fda63edcbff304e",
            "c976770c4da54424911934f3e92a9dd5",
            "42273e25c7a14cbcba192c161604c6ea",
            "6172ce0cbeb04ce6984d7939fb3d8a53",
            "a9ae2639277b4380887f6d8ce6226e35",
            "cc69c877d7844d1d80724238f31d2b01",
            "cbbe202057904bb895dfd20800a97f6b",
            "362dcde88b314312987ad9effee3a7c8",
            "aad1e6bf8931459e8bbd06aef414fe79",
            "b394580c3cc043a786f326b4388c4dac",
            "b8fa53fcdad74fdbb9b1c4bf57149d5b"
          ]
        },
        "outputId": "1542ae49-064f-4de4-98e0-c477fb2e9dd4"
      },
      "source": [
        "from transformers import InputExample\n",
        "from transformers import (WEIGHTS_NAME, BertConfig,\n",
        "                          BertForSequenceClassification, BertTokenizer)\n",
        "from transformers import glue_convert_examples_to_features as convert_examples_to_features\n",
        "from transformers.optimization import AdamW, get_linear_schedule_with_warmup\n",
        "import tqdm\n",
        "\n",
        "from torch.utils.data import (DataLoader, RandomSampler, SequentialSampler,\n",
        "                              TensorDataset)\n",
        "#Bert-mini\n",
        "# bert_model_type = 'google/bert_uncased_L-4_H-256_A-4'  # Specs of BERT models with different sizes can be found at https://github.com/google-research/bert/\n",
        "#Bert-base                                                       # You can experiment models with different sizes, to see how it affects performance. \n",
        "# bert_model_type = \"albert-base-v2\"\n",
        "bert_model_type = 'google/bert_uncased_L-12_H-768_A-12'\n",
        "\n",
        "bert_model = BertForSequenceClassification.from_pretrained(bert_model_type, num_labels = 5)\n",
        "config = BertConfig.from_pretrained(bert_model_type)\n",
        "tokenizer = BertTokenizer.from_pretrained(bert_model_type)\n",
        "# from transformers import AutoTokenizer, AutoModelForPreTraining, AutoConfig\n",
        "# import sentencepiece\n",
        "\n",
        "# tokenizer = AutoTokenizer.from_pretrained(\"google/bigbird-roberta-base\")\n",
        "# config = AutoConfig.from_pretrained(\"google/bigbird-roberta-base\")\n",
        "# model = AutoModelForPreTraining.from_pretrained(\"google/bigbird-roberta-base\")"
      ],
      "execution_count": null,
      "outputs": [
        {
          "output_type": "display_data",
          "data": {
            "application/vnd.jupyter.widget-view+json": {
              "model_id": "cf5878092e1741bb80d1c301539ef6f0",
              "version_minor": 0,
              "version_major": 2
            },
            "text/plain": [
              "HBox(children=(FloatProgress(value=0.0, description='Downloading', max=385.0, style=ProgressStyle(description_…"
            ]
          },
          "metadata": {
            "tags": []
          }
        },
        {
          "output_type": "stream",
          "text": [
            "\n"
          ],
          "name": "stdout"
        },
        {
          "output_type": "display_data",
          "data": {
            "application/vnd.jupyter.widget-view+json": {
              "model_id": "7ec68198c41f4bb592831e5a65349155",
              "version_minor": 0,
              "version_major": 2
            },
            "text/plain": [
              "HBox(children=(FloatProgress(value=0.0, description='Downloading', max=440472395.0, style=ProgressStyle(descri…"
            ]
          },
          "metadata": {
            "tags": []
          }
        },
        {
          "output_type": "stream",
          "text": [
            "\n"
          ],
          "name": "stdout"
        },
        {
          "output_type": "stream",
          "text": [
            "Some weights of the model checkpoint at google/bert_uncased_L-12_H-768_A-12 were not used when initializing BertForSequenceClassification: ['cls.predictions.bias', 'cls.predictions.transform.dense.weight', 'cls.predictions.transform.dense.bias', 'cls.predictions.transform.LayerNorm.weight', 'cls.predictions.transform.LayerNorm.bias', 'cls.predictions.decoder.weight', 'cls.predictions.decoder.bias', 'cls.seq_relationship.weight', 'cls.seq_relationship.bias']\n",
            "- This IS expected if you are initializing BertForSequenceClassification from the checkpoint of a model trained on another task or with another architecture (e.g. initializing a BertForSequenceClassification model from a BertForPreTraining model).\n",
            "- This IS NOT expected if you are initializing BertForSequenceClassification from the checkpoint of a model that you expect to be exactly identical (initializing a BertForSequenceClassification model from a BertForSequenceClassification model).\n",
            "Some weights of BertForSequenceClassification were not initialized from the model checkpoint at google/bert_uncased_L-12_H-768_A-12 and are newly initialized: ['classifier.weight', 'classifier.bias']\n",
            "You should probably TRAIN this model on a down-stream task to be able to use it for predictions and inference.\n"
          ],
          "name": "stderr"
        },
        {
          "output_type": "display_data",
          "data": {
            "application/vnd.jupyter.widget-view+json": {
              "model_id": "6172ce0cbeb04ce6984d7939fb3d8a53",
              "version_minor": 0,
              "version_major": 2
            },
            "text/plain": [
              "HBox(children=(FloatProgress(value=0.0, description='Downloading', max=231508.0, style=ProgressStyle(descripti…"
            ]
          },
          "metadata": {
            "tags": []
          }
        },
        {
          "output_type": "stream",
          "text": [
            "\n"
          ],
          "name": "stdout"
        }
      ]
    },
    {
      "cell_type": "markdown",
      "metadata": {
        "id": "Cs-R81c66DoJ"
      },
      "source": [
        "### Convert examples to BERT input features\n",
        "Much like every other neural network. You need to (1) tokenize your input sentences (2) Have a vocabulary/dictionary and convert each token to a vector/tensor. Luckily BERT offers a very nice set of interfaces, through which you can do these steps easily.\n",
        "\n",
        "In this homework we provide this function to you. However, in case you would like to use BERT in the future, it is really important to understand BERT's input format and the word-piece tokenziation strategy that BERT adopts. Here are a few resources that we suggest -- \n",
        "\n",
        "1. The [\"What is BERT\" section](https://github.com/google-research/bert#what-is-bert) in the official BERT code repo by Google\n",
        "2. Section 3 of the [BERT paper](https://arxiv.org/pdf/1810.04805.pdf)\n"
      ]
    },
    {
      "cell_type": "code",
      "metadata": {
        "id": "0FBUds7v6V9L"
      },
      "source": [
        "# os.environ['CUDA_LAUNCH_BLOCKING'] = \"1\"\n",
        "relevance_label_mapping = {\n",
        "    1.0: 1,\n",
        "    2.0: 2,\n",
        "    3.0: 3,\n",
        "    4.0: 4,\n",
        "    5.0: 5\n",
        "} # If you are working on stance classification, create a different label mapping\n",
        "\n",
        "def convert_sentence_pair_to_tensor_input(sentence_reviews, label_mapping):\n",
        "\n",
        "    # STEP 1: convert each sentence \n",
        "    input_examples = []\n",
        "    for review in sentence_reviews:\n",
        "        current_label = review[\"label\"] if \"label\" in review else 0\n",
        "        input_examples.append(\n",
        "            InputExample(guid=review[\"review_id\"], # We don't really need this\n",
        "                         text_a=review[\"review_text\"], \n",
        "                         label=label_mapping[current_label])\n",
        "        )\n",
        "    # print(input_examples)\n",
        "    label_list = [val for _, val in label_mapping.items()]\n",
        "    # print(label_list)\n",
        "\n",
        "    features = convert_examples_to_features(input_examples,\n",
        "                                                   tokenizer,\n",
        "                                                   label_list=label_list,\n",
        "                                                   max_length=128,  \n",
        "                                                   output_mode=\"classification\")\n",
        "    \n",
        "    input_ids = torch.tensor([f.input_ids for f in features], dtype=torch.long)\n",
        "    attention_mask = torch.tensor([f.attention_mask for f in features], dtype=torch.long)\n",
        "    token_type_ids = torch.tensor([f.token_type_ids for f in features], dtype=torch.long)\n",
        "    labels = torch.tensor([f.label for f in features], dtype=torch.long)\n",
        "    dataset = TensorDataset(input_ids, attention_mask, token_type_ids, labels)\n",
        "\n",
        "    return dataset"
      ],
      "execution_count": null,
      "outputs": []
    },
    {
      "cell_type": "code",
      "metadata": {
        "id": "XQHIh7iDMnEM",
        "colab": {
          "base_uri": "https://localhost:8080/"
        },
        "outputId": "59bd7151-1293-4cac-c3c5-f502a535dc70"
      },
      "source": [
        "train_dataset = convert_sentence_pair_to_tensor_input(training_reviews, relevance_label_mapping)"
      ],
      "execution_count": null,
      "outputs": [
        {
          "output_type": "stream",
          "text": [
            "/usr/local/lib/python3.7/dist-packages/transformers/data/processors/glue.py:67: FutureWarning: This function will be removed from the library soon, preprocessing should be handled with the 🤗 Datasets library. You can have a look at this example script for pointers: https://github.com/huggingface/transformers/blob/master/examples/text-classification/run_glue.py\n",
            "  warnings.warn(DEPRECATION_WARNING.format(\"function\"), FutureWarning)\n"
          ],
          "name": "stderr"
        }
      ]
    },
    {
      "cell_type": "markdown",
      "metadata": {
        "id": "OrKngYELCPal"
      },
      "source": [
        "### Choose your hyperparameters + model output directory\n",
        "Before we get into training, we need to set our hyperparameters, e.g. Learning rates, mini-batch size for training/testing, etc.."
      ]
    },
    {
      "cell_type": "code",
      "metadata": {
        "id": "zxxxJxVkCOwJ"
      },
      "source": [
        "HYPER_PARAMS = {\n",
        "    \"num_training_epoch\": 3,\n",
        "    \"learning_rate\": 3e-5,        # Suggested values -- [1e-5, 3e-5, 5e-5]\n",
        "    \"training_batch_size\": 16,    # Suggested values -- [16, 32]\n",
        "    \"eval_batch_size\": 8,\n",
        "    \"max_grad_norm\": 1.0,\n",
        "    \"num_warmup_steps\": 0.1\n",
        "}\n",
        "\n",
        "model_output_dir = \"/content/drive/\" # Model + prediction results will be saved to your GDrive, \n",
        "                                     # so you don't lose them after session closes"
      ],
      "execution_count": null,
      "outputs": []
    },
    {
      "cell_type": "markdown",
      "metadata": {
        "id": "42-9VxM2GizV"
      },
      "source": [
        "### Fine-tune BERT model\n",
        "\n",
        "Remember NOT to re-run this cell multiple times, without re-initializing the BERT model. Multiple runs will effectively train your model with more epochs than you intended!"
      ]
    },
    {
      "cell_type": "code",
      "metadata": {
        "id": "pWvAzdYDDZ3f",
        "colab": {
          "base_uri": "https://localhost:8080/",
          "height": 281,
          "referenced_widgets": [
            "814bf704f6d243baa7671e3e6a7da9a1",
            "3561cdd348b247d1914edcf79207354d",
            "b4f25e79988e48769a63fec3f27ffaec",
            "1b717617cbd248b9a755a66c7891c446",
            "6fa65c0812204a3782645cd2eaf74cac",
            "83004031a033458782bb75832182819a",
            "4aa686e221884049b01e9c909ed1ef1b",
            "509e6f93ddc74f1bb7d435e8b01fd525",
            "ddb3ca837fd1411085569f9b50537d74",
            "4bd058fd1b934e2890b3aaabb361d83c",
            "a7a71b0052ec405595e608bc048cd5d7",
            "a73112abf750461696f0b3c0e14ac45c",
            "01ea3b9196b9469fae09c2e53af86622",
            "79990c0585e943fd966cc12cf9ba6cfa",
            "72ab2ad229e749ad8042c7a8995da25e",
            "768714a9a46b47f8bc75a72f50dc7e2e",
            "498a4e0af4974ea687fbea2a835f55b9",
            "6b6e4d26f6474cbea9bf1064929d619f",
            "035764d3fe3343dfa09dc551a4025e33",
            "c53e36cf26574981af975c23320db542",
            "d5f79e647a4f439286f132ff7b37a410",
            "640d24cab3694afd81b980ea08d63c93",
            "778897f46da24edca186f2fd4f342262",
            "7e8447c2ed7e4fce836d2ecdd56e6388"
          ]
        },
        "outputId": "06af1e38-06bc-41a5-b8e9-80a039c94374"
      },
      "source": [
        "import tqdm\n",
        "\n",
        "bert_model.to('cuda')\n",
        "\n",
        "\n",
        "train_sampler = RandomSampler(train_dataset)\n",
        "train_dataloader = DataLoader(train_dataset, \n",
        "                              sampler=train_sampler, \n",
        "                              batch_size=HYPER_PARAMS[\"training_batch_size\"])\n",
        "\n",
        "optimizer = AdamW(bert_model.parameters(), \n",
        "                  lr=HYPER_PARAMS['learning_rate'], \n",
        "                  correct_bias=False)\n",
        "\n",
        "scheduler = get_linear_schedule_with_warmup(optimizer, \n",
        "                                            num_warmup_steps=HYPER_PARAMS['num_warmup_steps'], \n",
        "                                            num_training_steps=len(train_dataloader))\n",
        "\n",
        "\n",
        "global_step = 0\n",
        "tr_loss = 0.0\n",
        "bert_model.zero_grad()\n",
        "bert_model.train()\n",
        "\n",
        "for epc in range(HYPER_PARAMS[\"num_training_epoch\"]):\n",
        "    print(\"Epoch #{}: \\n\".format(epc))\n",
        "    epoch_iterator = tqdm.notebook.tqdm(train_dataloader, desc=\"Training Steps\")\n",
        "    avg_loss_over_epoch = []\n",
        "    for step, batch in enumerate(epoch_iterator):\n",
        "        batch = tuple(t.to('cuda') for t in batch)\n",
        "        inputs = {'input_ids': batch[0],\n",
        "                  'attention_mask': batch[1],\n",
        "                  'token_type_ids': batch[2],\n",
        "                  'labels': batch[3]}\n",
        "\n",
        "        outputs = bert_model(**inputs)\n",
        "        loss = outputs[0]  # model outputs are always tuple in transformers (see doc)\n",
        "        loss.backward()\n",
        "        torch.nn.utils.clip_grad_norm_(bert_model.parameters(), HYPER_PARAMS[\"max_grad_norm\"])\n",
        "        tr_loss += loss.item()\n",
        "\n",
        "        optimizer.step()\n",
        "        scheduler.step()\n",
        "        bert_model.zero_grad()"
      ],
      "execution_count": null,
      "outputs": [
        {
          "output_type": "stream",
          "text": [
            "Epoch #0: \n",
            "\n"
          ],
          "name": "stdout"
        },
        {
          "output_type": "display_data",
          "data": {
            "application/vnd.jupyter.widget-view+json": {
              "model_id": "814bf704f6d243baa7671e3e6a7da9a1",
              "version_minor": 0,
              "version_major": 2
            },
            "text/plain": [
              "HBox(children=(FloatProgress(value=0.0, description='Training Steps', max=73902.0, style=ProgressStyle(descrip…"
            ]
          },
          "metadata": {
            "tags": []
          }
        },
        {
          "output_type": "stream",
          "text": [
            "\n",
            "Epoch #1: \n",
            "\n"
          ],
          "name": "stdout"
        },
        {
          "output_type": "display_data",
          "data": {
            "application/vnd.jupyter.widget-view+json": {
              "model_id": "ddb3ca837fd1411085569f9b50537d74",
              "version_minor": 0,
              "version_major": 2
            },
            "text/plain": [
              "HBox(children=(FloatProgress(value=0.0, description='Training Steps', max=73902.0, style=ProgressStyle(descrip…"
            ]
          },
          "metadata": {
            "tags": []
          }
        },
        {
          "output_type": "stream",
          "text": [
            "\n",
            "Epoch #2: \n",
            "\n"
          ],
          "name": "stdout"
        },
        {
          "output_type": "display_data",
          "data": {
            "application/vnd.jupyter.widget-view+json": {
              "model_id": "498a4e0af4974ea687fbea2a835f55b9",
              "version_minor": 0,
              "version_major": 2
            },
            "text/plain": [
              "HBox(children=(FloatProgress(value=0.0, description='Training Steps', max=73902.0, style=ProgressStyle(descrip…"
            ]
          },
          "metadata": {
            "tags": []
          }
        },
        {
          "output_type": "stream",
          "text": [
            "\n"
          ],
          "name": "stdout"
        }
      ]
    },
    {
      "cell_type": "markdown",
      "metadata": {
        "id": "C731cQRQ9BxZ"
      },
      "source": [
        "### Save the fine-tuned model\n",
        "It is good practice to save your tokenizer + config for BERT at the same location, for best reproducibility"
      ]
    },
    {
      "cell_type": "code",
      "metadata": {
        "id": "pa8blsqb9FMV"
      },
      "source": [
        "import os\n",
        "\n",
        "# This is where we mounted your google drive. \n",
        "# You might need to re-mount it if your session was closed half way through\n",
        "output_dir = \"/content/drive/My Drive/cis519_project/review_model_base/\" \n",
        "\n",
        "if not os.path.exists(output_dir):\n",
        "    os.makedirs(output_dir)\n",
        "\n",
        "bert_model.save_pretrained(output_dir)\n",
        "tokenizer.save_pretrained(output_dir)\n",
        "config.save_pretrained(output_dir)"
      ],
      "execution_count": null,
      "outputs": []
    },
    {
      "cell_type": "markdown",
      "metadata": {
        "id": "8ofvQ_kkHjdq"
      },
      "source": [
        "### Test if you can load the model back!"
      ]
    },
    {
      "cell_type": "code",
      "metadata": {
        "id": "oo96_-F4Hm2v"
      },
      "source": [
        "bert_model = BertForSequenceClassification.from_pretrained(output_dir, num_labels = 5)\n",
        "tokenizer = BertTokenizer.from_pretrained(output_dir)\n",
        "\n",
        "# Don't forget to move your model to GPU/CUDA after loading back from disk!\n",
        "bert_model = bert_model.to(\"cuda\")"
      ],
      "execution_count": null,
      "outputs": []
    },
    {
      "cell_type": "markdown",
      "metadata": {
        "id": "8_xGg1Tg8JdW"
      },
      "source": [
        "### Evaluate the fine-tuned model on dev set\n",
        "Now we want to know how good our model is. Let's test it on the dev set!\n",
        "\n",
        "We need to go through the same process -- convert sentence pairs into feature vectors/tensors"
      ]
    },
    {
      "cell_type": "code",
      "metadata": {
        "id": "OJV-9ZQAIzsU",
        "colab": {
          "base_uri": "https://localhost:8080/",
          "height": 144,
          "referenced_widgets": [
            "ff7149075901481b97538e84d23a8e13",
            "4777d01a599a4e14b88a11655e1c7efa",
            "cd3abc711f0f42ff87d600be63aeae13",
            "0631c2150b6e43cb98bae1463b90c7ee",
            "c23ea456cb1146d887236f2fbd430913",
            "6adb3fbf36d84e99a89584a0e25b716d",
            "dfcb4ca3abd848f38592a7c88aaa5f95",
            "5ee40df4032f4a2780e7fa7baf15497f"
          ]
        },
        "outputId": "c0962376-baad-4c19-d4a7-75fe7257e50d"
      },
      "source": [
        "# Putting this here again, just so you don't forget what it is...\n",
        "# relevance_label_mapping = {\n",
        "#     True: 1,\n",
        "#     False: 0\n",
        "# } \n",
        "\n",
        "# dev_dataset = convert_sentence_pair_to_tensor_input(dev_sentence_pairs, relevance_label_mapping)\n",
        "dev_dataset = convert_sentence_pair_to_tensor_input(dev_reviews, relevance_label_mapping)\n",
        "\n",
        "# We are not random sampling anymore when evaluating... As we want to keep the order \n",
        "dev_sampler = SequentialSampler(dev_dataset)\n",
        "dev_dataloader = DataLoader(dev_dataset, \n",
        "                            sampler=dev_sampler, \n",
        "                            batch_size=HYPER_PARAMS[\"eval_batch_size\"])\n",
        "\n",
        "predictions = None\n",
        "out_label_ids = None\n",
        "\n",
        "for batch in tqdm.notebook.tqdm(dev_dataloader, desc=\"Evaluating on Dev set...\"):\n",
        "    bert_model.eval()\n",
        "    batch = tuple(t.to(\"cuda\") for t in batch)\n",
        "    inputs = {'input_ids': batch[0],\n",
        "              'attention_mask': batch[1],\n",
        "              'token_type_ids': batch[2],\n",
        "              'labels': batch[3]}\n",
        "\n",
        "    with torch.no_grad():\n",
        "        outputs = bert_model(**inputs)\n",
        "        logits = outputs[1] # This is 1x2 tensor, containing scores for both labels \n",
        "    if predictions is None:\n",
        "        predictions = logits.detach().cpu().numpy()\n",
        "        out_label_ids = inputs['labels'].detach().cpu().numpy()\n",
        "    else:\n",
        "        predictions = np.append(predictions, logits.detach().cpu().numpy(), axis=0)\n",
        "        out_label_ids = np.append(out_label_ids, inputs['labels'].detach().cpu().numpy(), axis=0)\n",
        "\n",
        "# whichever label gets higher score, we will predict that label\n",
        "predictions = np.argmax(predictions, axis=1)\n",
        "# print(predictions)\n",
        "# print(out_label_ids)\n",
        "\n",
        "\n",
        "# We will simply use accuracy as our measure here \n",
        "def accuracy(preds, labels):\n",
        "    return (preds == labels).mean()\n",
        "\n",
        "acc = accuracy(predictions, out_label_ids)\n",
        "\n",
        "print(\"The accuracy on dev set = {}\".format(acc))"
      ],
      "execution_count": null,
      "outputs": [
        {
          "output_type": "stream",
          "text": [
            "/usr/local/lib/python3.7/dist-packages/transformers/data/processors/glue.py:67: FutureWarning: This function will be removed from the library soon, preprocessing should be handled with the 🤗 Datasets library. You can have a look at this example script for pointers: https://github.com/huggingface/transformers/blob/master/examples/text-classification/run_glue.py\n",
            "  warnings.warn(DEPRECATION_WARNING.format(\"function\"), FutureWarning)\n"
          ],
          "name": "stderr"
        },
        {
          "output_type": "display_data",
          "data": {
            "application/vnd.jupyter.widget-view+json": {
              "model_id": "ff7149075901481b97538e84d23a8e13",
              "version_minor": 0,
              "version_major": 2
            },
            "text/plain": [
              "HBox(children=(FloatProgress(value=0.0, description='Evaluating on Dev set...', max=63345.0, style=ProgressSty…"
            ]
          },
          "metadata": {
            "tags": []
          }
        },
        {
          "output_type": "stream",
          "text": [
            "\n",
            "The accuracy on dev set = 0.6803773800855242\n"
          ],
          "name": "stdout"
        }
      ]
    },
    {
      "cell_type": "markdown",
      "metadata": {
        "id": "kLPicglpM4I1"
      },
      "source": [
        "\n",
        "\n",
        "```\n",
        "# This is formatted as code\n",
        "```\n",
        "\n",
        "The TAs were able to get around 70-80% accuracy on the dev set, with the provided set of parameters and model. "
      ]
    },
    {
      "cell_type": "markdown",
      "metadata": {
        "id": "lNIV7pxxNJES"
      },
      "source": [
        "### Now it's your turn - Evaluate on the test data, and submit your results\n",
        "\n",
        "**Important Note**: the labels of the test data are NOT given to you in this homework. However the helper functions will still generate a dummy label for each input sentence pair. The only way to measure the correct accuracy on test set is submitting your test results `relevance_test_predictions.txt` to Gradescope. \n",
        "\n",
        "Other than that this should be almost identical to what we just did for the dev set.\n",
        "\n",
        "Please download the `relevance_test_predictions.txt` and follow guide on the homework webpage to make a submission."
      ]
    },
    {
      "cell_type": "code",
      "metadata": {
        "id": "kpg5Cx4uOBkL"
      },
      "source": [
        "# def predict_on_test_set():\n",
        "#     \"\"\"\n",
        "#     Return a list of 0/1 prediction for each test example, in sequential order.\n",
        "#     Please use the same label mapping as we have so far.\n",
        "#     1 = True (Relevant)\n",
        "#     0 = False (Not relevant)\n",
        "#     \"\"\"\n",
        "\n",
        "#     test_dataset = convert_sentence_pair_to_tensor_input(test_sentence_pairs, relevance_label_mapping)\n",
        "\n",
        "#     # We are not random sampling anymore when evaluating... As we want to keep the order \n",
        "#     test_sampler = SequentialSampler(test_dataset)\n",
        "#     test_dataloader = DataLoader(test_dataset, \n",
        "#                                 sampler=test_sampler, \n",
        "#                                 batch_size=HYPER_PARAMS[\"eval_batch_size\"])\n",
        "\n",
        "#     predictions = None\n",
        "#     out_label_ids = None\n",
        "\n",
        "#     for batch in tqdm.notebook.tqdm(test_dataloader, desc=\"Evaluating on Test set...\"):\n",
        "#         bert_model.eval()\n",
        "#         batch = tuple(t.to(\"cuda\") for t in batch)\n",
        "#         inputs = {'input_ids': batch[0],\n",
        "#                   'attention_mask': batch[1],\n",
        "#                   'token_type_ids': batch[2],\n",
        "#                   'labels': batch[3]}\n",
        "\n",
        "#         with torch.no_grad():\n",
        "#             outputs = bert_model(**inputs)\n",
        "#             logits = outputs[1] # This is 1x2 tensor, containing scores for both labels \n",
        "\n",
        "#         if predictions is None:\n",
        "#             predictions = logits.detach().cpu().numpy()\n",
        "#             out_label_ids = inputs['labels'].detach().cpu().numpy()\n",
        "#         else:\n",
        "#             predictions = np.append(predictions, logits.detach().cpu().numpy(), axis=0)\n",
        "#             out_label_ids = np.append(out_label_ids, inputs['labels'].detach().cpu().numpy(), axis=0)\n",
        "\n",
        "#     # whichever label gets higher score, we will predict that label\n",
        "#     predictions = np.argmax(predictions, axis=1)\n",
        "    \n",
        "#     list_of_predictions = predictions\n",
        "    \n",
        "#     return list_of_predictions\n",
        "\n",
        "\n",
        "# # Feel free to change the save location as you like,\n",
        "# # but please keep the file name as \"relevance_test_predictions.txt\"\n",
        "# # So that the autograder will know what file to look for...\n",
        "# test_result_output_path = \"/content/drive/My Drive/cis530_perspective_hw/relevance_test_predictions.txt\"\n",
        "\n",
        "# test_predictions = predict_on_test_set()\n",
        "\n",
        "# with open(test_result_output_path, 'w') as fout:\n",
        "#     for pred in test_predictions: \n",
        "#         fout.write(\"{}\\n\".format(int(pred)))"
      ],
      "execution_count": null,
      "outputs": []
    },
    {
      "cell_type": "markdown",
      "metadata": {
        "id": "tUw8oHtcS7Qv"
      },
      "source": [
        ""
      ]
    },
    {
      "cell_type": "markdown",
      "metadata": {
        "id": "qJybe1aHHoo3"
      },
      "source": [
        "# New Section"
      ]
    },
    {
      "cell_type": "code",
      "metadata": {
        "id": "bPwCjw17T3kR"
      },
      "source": [
        "# with open(os.path.join(dataset_dir, 'perspectrum_train.json')) as fin:\n",
        "#     train_set = json.load(fin)\n",
        "\n",
        "# # TODO: start from here"
      ],
      "execution_count": null,
      "outputs": []
    },
    {
      "cell_type": "code",
      "metadata": {
        "id": "HjCYGLc1Wgs1"
      },
      "source": [
        "# # The dev and test sets are, again, made into sentence pairs format for you already\n",
        "# with open(os.path.join(dataset_dir, 'perspectrum_stance_dev.json')) as fin:\n",
        "#     dev_sentence_pairs = json.load(fin)\n",
        "\n",
        "# with open(os.path.join(dataset_dir, 'perspectrum_stance_test_no_label.json')) as fin:\n",
        "#     test_sentence_pairs = json.load(fin)\n",
        "\n",
        "# print(\"Number of claim-perspective sentence pairs in dev set: {}\".format(len(dev_sentence_pairs)))\n",
        "# print(\"Number of claim-perspective sentence pairs in test set: {}\".format(len(test_sentence_pairs)))\n",
        "\n",
        "# stance_label_mapping = {\n",
        "#     \"support\": 1,\n",
        "#     \"refute\": 0\n",
        "# } \n",
        "\n",
        "# # TODO: start from here"
      ],
      "execution_count": null,
      "outputs": []
    }
  ]
}