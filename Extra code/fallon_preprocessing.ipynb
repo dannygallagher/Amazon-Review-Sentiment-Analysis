{
  "nbformat": 4,
  "nbformat_minor": 0,
  "metadata": {
    "kernelspec": {
      "display_name": "Python 3",
      "language": "python",
      "name": "python3"
    },
    "language_info": {
      "codemirror_mode": {
        "name": "ipython",
        "version": 3
      },
      "file_extension": ".py",
      "mimetype": "text/x-python",
      "name": "python",
      "nbconvert_exporter": "python",
      "pygments_lexer": "ipython3",
      "version": "3.7.1"
    },
    "colab": {
      "name": "Preprocessing.ipynb",
      "provenance": [],
      "toc_visible": true
    },
    "widgets": {
      "application/vnd.jupyter.widget-state+json": {
        "6d001ff269b14d168d55b33b3488900d": {
          "model_module": "@jupyter-widgets/controls",
          "model_name": "HBoxModel",
          "state": {
            "_view_name": "HBoxView",
            "_dom_classes": [],
            "_model_name": "HBoxModel",
            "_view_module": "@jupyter-widgets/controls",
            "_model_module_version": "1.5.0",
            "_view_count": null,
            "_view_module_version": "1.5.0",
            "box_style": "",
            "layout": "IPY_MODEL_35a78c89be1a49838b06ce6cc67feb8c",
            "_model_module": "@jupyter-widgets/controls",
            "children": [
              "IPY_MODEL_b65ba1468a454ad3a85833f7230f0b44",
              "IPY_MODEL_88742885d728416283eb84d8c28790df"
            ]
          }
        },
        "35a78c89be1a49838b06ce6cc67feb8c": {
          "model_module": "@jupyter-widgets/base",
          "model_name": "LayoutModel",
          "state": {
            "_view_name": "LayoutView",
            "grid_template_rows": null,
            "right": null,
            "justify_content": null,
            "_view_module": "@jupyter-widgets/base",
            "overflow": null,
            "_model_module_version": "1.2.0",
            "_view_count": null,
            "flex_flow": null,
            "width": null,
            "min_width": null,
            "border": null,
            "align_items": null,
            "bottom": null,
            "_model_module": "@jupyter-widgets/base",
            "top": null,
            "grid_column": null,
            "overflow_y": null,
            "overflow_x": null,
            "grid_auto_flow": null,
            "grid_area": null,
            "grid_template_columns": null,
            "flex": null,
            "_model_name": "LayoutModel",
            "justify_items": null,
            "grid_row": null,
            "max_height": null,
            "align_content": null,
            "visibility": null,
            "align_self": null,
            "height": null,
            "min_height": null,
            "padding": null,
            "grid_auto_rows": null,
            "grid_gap": null,
            "max_width": null,
            "order": null,
            "_view_module_version": "1.2.0",
            "grid_template_areas": null,
            "object_position": null,
            "object_fit": null,
            "grid_auto_columns": null,
            "margin": null,
            "display": null,
            "left": null
          }
        },
        "b65ba1468a454ad3a85833f7230f0b44": {
          "model_module": "@jupyter-widgets/controls",
          "model_name": "FloatProgressModel",
          "state": {
            "_view_name": "ProgressView",
            "style": "IPY_MODEL_589428a6962c4cc08ad4a2d1d8dd28a0",
            "_dom_classes": [],
            "description": "  1%",
            "_model_name": "FloatProgressModel",
            "bar_style": "",
            "max": 20000,
            "_view_module": "@jupyter-widgets/controls",
            "_model_module_version": "1.5.0",
            "value": 195,
            "_view_count": null,
            "_view_module_version": "1.5.0",
            "orientation": "horizontal",
            "min": 0,
            "description_tooltip": null,
            "_model_module": "@jupyter-widgets/controls",
            "layout": "IPY_MODEL_34055b2f32c946c48fdeb86eb8253018"
          }
        },
        "88742885d728416283eb84d8c28790df": {
          "model_module": "@jupyter-widgets/controls",
          "model_name": "HTMLModel",
          "state": {
            "_view_name": "HTMLView",
            "style": "IPY_MODEL_72755253967c425e98cbe76a2442bdb5",
            "_dom_classes": [],
            "description": "",
            "_model_name": "HTMLModel",
            "placeholder": "​",
            "_view_module": "@jupyter-widgets/controls",
            "_model_module_version": "1.5.0",
            "value": " 185/20000 [00:08&lt;32:09, 10.27it/s]",
            "_view_count": null,
            "_view_module_version": "1.5.0",
            "description_tooltip": null,
            "_model_module": "@jupyter-widgets/controls",
            "layout": "IPY_MODEL_b128fead561d4e06a51dd7f6bbcd8533"
          }
        },
        "589428a6962c4cc08ad4a2d1d8dd28a0": {
          "model_module": "@jupyter-widgets/controls",
          "model_name": "ProgressStyleModel",
          "state": {
            "_view_name": "StyleView",
            "_model_name": "ProgressStyleModel",
            "description_width": "initial",
            "_view_module": "@jupyter-widgets/base",
            "_model_module_version": "1.5.0",
            "_view_count": null,
            "_view_module_version": "1.2.0",
            "bar_color": null,
            "_model_module": "@jupyter-widgets/controls"
          }
        },
        "34055b2f32c946c48fdeb86eb8253018": {
          "model_module": "@jupyter-widgets/base",
          "model_name": "LayoutModel",
          "state": {
            "_view_name": "LayoutView",
            "grid_template_rows": null,
            "right": null,
            "justify_content": null,
            "_view_module": "@jupyter-widgets/base",
            "overflow": null,
            "_model_module_version": "1.2.0",
            "_view_count": null,
            "flex_flow": null,
            "width": null,
            "min_width": null,
            "border": null,
            "align_items": null,
            "bottom": null,
            "_model_module": "@jupyter-widgets/base",
            "top": null,
            "grid_column": null,
            "overflow_y": null,
            "overflow_x": null,
            "grid_auto_flow": null,
            "grid_area": null,
            "grid_template_columns": null,
            "flex": null,
            "_model_name": "LayoutModel",
            "justify_items": null,
            "grid_row": null,
            "max_height": null,
            "align_content": null,
            "visibility": null,
            "align_self": null,
            "height": null,
            "min_height": null,
            "padding": null,
            "grid_auto_rows": null,
            "grid_gap": null,
            "max_width": null,
            "order": null,
            "_view_module_version": "1.2.0",
            "grid_template_areas": null,
            "object_position": null,
            "object_fit": null,
            "grid_auto_columns": null,
            "margin": null,
            "display": null,
            "left": null
          }
        },
        "72755253967c425e98cbe76a2442bdb5": {
          "model_module": "@jupyter-widgets/controls",
          "model_name": "DescriptionStyleModel",
          "state": {
            "_view_name": "StyleView",
            "_model_name": "DescriptionStyleModel",
            "description_width": "",
            "_view_module": "@jupyter-widgets/base",
            "_model_module_version": "1.5.0",
            "_view_count": null,
            "_view_module_version": "1.2.0",
            "_model_module": "@jupyter-widgets/controls"
          }
        },
        "b128fead561d4e06a51dd7f6bbcd8533": {
          "model_module": "@jupyter-widgets/base",
          "model_name": "LayoutModel",
          "state": {
            "_view_name": "LayoutView",
            "grid_template_rows": null,
            "right": null,
            "justify_content": null,
            "_view_module": "@jupyter-widgets/base",
            "overflow": null,
            "_model_module_version": "1.2.0",
            "_view_count": null,
            "flex_flow": null,
            "width": null,
            "min_width": null,
            "border": null,
            "align_items": null,
            "bottom": null,
            "_model_module": "@jupyter-widgets/base",
            "top": null,
            "grid_column": null,
            "overflow_y": null,
            "overflow_x": null,
            "grid_auto_flow": null,
            "grid_area": null,
            "grid_template_columns": null,
            "flex": null,
            "_model_name": "LayoutModel",
            "justify_items": null,
            "grid_row": null,
            "max_height": null,
            "align_content": null,
            "visibility": null,
            "align_self": null,
            "height": null,
            "min_height": null,
            "padding": null,
            "grid_auto_rows": null,
            "grid_gap": null,
            "max_width": null,
            "order": null,
            "_view_module_version": "1.2.0",
            "grid_template_areas": null,
            "object_position": null,
            "object_fit": null,
            "grid_auto_columns": null,
            "margin": null,
            "display": null,
            "left": null
          }
        }
      }
    }
  },
  "cells": [
    {
      "cell_type": "code",
      "metadata": {
        "id": "U-fFNS7V4Fnx"
      },
      "source": [
        "!apt install -qq enchant\n",
        "!pip install pyenchant\n",
        "!pip install wordcloud\n",
        "!pip install imblearn\n",
        "!pip install dask[dataframe] --upgrade"
      ],
      "execution_count": null,
      "outputs": []
    },
    {
      "cell_type": "code",
      "metadata": {
        "id": "nfmK3Deh4blq"
      },
      "source": [
        "!pip install unidecode\n",
        "!pip install autocorrect"
      ],
      "execution_count": null,
      "outputs": []
    },
    {
      "cell_type": "code",
      "metadata": {
        "id": "94rlY0oO4Fnz"
      },
      "source": [
        "import pandas as pd\n",
        "import gzip\n",
        "import json\n",
        "import numpy as np\n",
        "import regex as re\n",
        "import matplotlib.pyplot as plt\n",
        "import seaborn as sns\n",
        "#import dask \n",
        "#import dask.dataframe as dd\n",
        "import imblearn\n",
        "from collections import Counter\n",
        "\n",
        "import os\n",
        "import sys\n",
        "import math\n",
        "import time\n",
        "import nltk\n",
        "import torch\n",
        "import random\n",
        "import string\n",
        "import unidecode\n",
        "import collections\n",
        "\n",
        "import numpy as np\n",
        "import pandas as pd\n",
        "import matplotlib.cm as cm\n",
        "import matplotlib.pyplot as plt\n",
        "import matplotlib.ticker as ticker\n",
        "\n",
        "from sklearn.model_selection import train_test_split\n",
        "\n",
        "import imblearn\n",
        "from imblearn.under_sampling import RandomUnderSampler\n",
        "\n",
        "from collections import Counter\n",
        "from sklearn.feature_extraction.text import CountVectorizer\n",
        "from nltk.tokenize import RegexpTokenizer\n",
        "from nltk.corpus import stopwords\n",
        "from nltk.tokenize import word_tokenize\n",
        "\n",
        "import enchant\n",
        "from enchant.checker import SpellChecker\n",
        "\n",
        "from autocorrect import Speller\n",
        "#import dask\n",
        "#import dask.dataframe as dd\n",
        "\n",
        "import time\n",
        "\n",
        "%matplotlib inline"
      ],
      "execution_count": null,
      "outputs": []
    },
    {
      "cell_type": "code",
      "metadata": {
        "colab": {
          "base_uri": "https://localhost:8080/"
        },
        "id": "Qls2G6Ns4ktS",
        "outputId": "95d6f262-457f-44fc-8227-b07c28b583d5"
      },
      "source": [
        "from google.colab import drive\n",
        "drive.mount('/content/drive')\n",
        "path = '/content/drive/Shareddrives/519 Project/Data'"
      ],
      "execution_count": null,
      "outputs": [
        {
          "output_type": "stream",
          "text": [
            "Drive already mounted at /content/drive; to attempt to forcibly remount, call drive.mount(\"/content/drive\", force_remount=True).\n"
          ],
          "name": "stdout"
        }
      ]
    },
    {
      "cell_type": "code",
      "metadata": {
        "id": "H90JCdKZ4Fn0",
        "colab": {
          "base_uri": "https://localhost:8080/"
        },
        "outputId": "be853958-5046-4478-c3ac-4b41919aad2a"
      },
      "source": [
        "# read electronics from json.gz\n",
        "def parse(path):\n",
        "    g = gzip.open(path, 'rb')\n",
        "    for l in g:\n",
        "        yield json.loads(l)\n",
        "\n",
        "def getDF(path):\n",
        "    i = 0\n",
        "    df = {}\n",
        "    for d in parse(path):\n",
        "        df[i] = d\n",
        "        i += 1\n",
        "    return pd.DataFrame.from_dict(df, orient='index')\n",
        "\n",
        "\n",
        "allcats_path = os.path.join(path, 'all_cats.csv')\n",
        "electronics_path = os.path.join(path, 'electronics_downsampled_5_class.csv')\n",
        "\n",
        "allcats_df = pd.read_csv(allcats_path)\n",
        "electronics_df = pd.read_csv(electronics_path)"
      ],
      "execution_count": 104,
      "outputs": [
        {
          "output_type": "stream",
          "text": [
            "/usr/local/lib/python3.7/dist-packages/IPython/core/interactiveshell.py:2718: DtypeWarning: Columns (1,2,3,4,6,9,10) have mixed types.Specify dtype option on import or set low_memory=False.\n",
            "  interactivity=interactivity, compiler=compiler, result=result)\n",
            "/usr/local/lib/python3.7/dist-packages/IPython/core/interactiveshell.py:2718: DtypeWarning: Columns (2) have mixed types.Specify dtype option on import or set low_memory=False.\n",
            "  interactivity=interactivity, compiler=compiler, result=result)\n"
          ],
          "name": "stderr"
        }
      ]
    },
    {
      "cell_type": "code",
      "metadata": {
        "colab": {
          "base_uri": "https://localhost:8080/"
        },
        "id": "HorxfSKvUfrx",
        "outputId": "4abdb01f-93da-4b50-d516-cfeafef1dfea"
      },
      "source": [
        "print(allcats_df['overall'].unique())"
      ],
      "execution_count": 105,
      "outputs": [
        {
          "output_type": "stream",
          "text": [
            "[4.0 5.0 3.0 ... 'A2BSKXNIUI22JN' 'ANA65ILZ2NKZC' 'A2SU2E8BV4R4JO']\n"
          ],
          "name": "stdout"
        }
      ]
    },
    {
      "cell_type": "code",
      "metadata": {
        "id": "FZjGuLJQctib"
      },
      "source": [
        "DOWN_SAMPLE_SIZE = 20000\n",
        "\n",
        "#some non float entries in allcats ratings\n",
        "allcats_df['overall'] = allcats_df['overall'].apply(lambda x: x if isinstance(x, float) else None)\n",
        "\n",
        "allcats_df = allcats_df.dropna(subset = ['reviewText', 'overall'])\n",
        "electronics_df = electronics_df.dropna(subset = ['reviewText', 'overall'])\n",
        "\n",
        "allcats_df = allcats_df.sample(n = DOWN_SAMPLE_SIZE, random_state=42)\n",
        "electronics_df = electronics_df.sample(n = DOWN_SAMPLE_SIZE, random_state=42)"
      ],
      "execution_count": 106,
      "outputs": []
    },
    {
      "cell_type": "code",
      "metadata": {
        "id": "c1aJf4MXTJnE",
        "colab": {
          "base_uri": "https://localhost:8080/"
        },
        "outputId": "e8043425-6176-424f-b521-2ceac8164505"
      },
      "source": [
        "print(allcats_df['overall'].unique())"
      ],
      "execution_count": 107,
      "outputs": [
        {
          "output_type": "stream",
          "text": [
            "[3. 4. 2. 5. 1.]\n"
          ],
          "name": "stdout"
        }
      ]
    },
    {
      "cell_type": "code",
      "metadata": {
        "id": "HWa0kNZm4Fn0"
      },
      "source": [
        "def detect_gib_and_fix_spell(sentence):\n",
        "    len_sent = len(sentence.split())\n",
        "\n",
        "    chkr = SpellChecker(\"en_US\")\n",
        "    chkr.set_text(sentence)\n",
        "    num_errors = 0\n",
        "    for err in chkr:\n",
        "        sug = err.suggest()\n",
        "        if sug is not None and len(sug) != 0:\n",
        "            sug = sug[0]\n",
        "            err.replace(sug)  \n",
        "        num_errors = num_errors + 1\n",
        "    if num_errors > len_sent / 2:\n",
        "        return None\n",
        "    else:\n",
        "        return chkr.get_text()\n",
        "      \n",
        "\n",
        "\n",
        "#spellcheck\n",
        "\n",
        "check = Speller(lang = 'en')\n",
        "\n",
        "def fixSentence(sentence):\n",
        "    return check(sentence)\n",
        "\n",
        "\n",
        "\n",
        "\n",
        "\n",
        "#Create a dictionary of english contractions and their expanded forms.\n",
        "contractions_dict = { \"ain't\": \"are not\",\"'s\":\" is\",\"aren't\": \"are not\",\"can't\": \"can not\",\"can't've\": \"cannot have\",\n",
        "\"'cause\": \"because\",\"could've\": \"could have\",\"couldn't\": \"could not\",\"couldn't've\": \"could not have\",\n",
        "\"didn't\": \"did not\",\"doesn't\": \"does not\",\"don't\": \"do not\",\"hadn't\": \"had not\",\"hadn't've\": \"had not have\",\n",
        "\"hasn't\": \"has not\",\"haven't\": \"have not\",\"he'd\": \"he would\",\"he'd've\": \"he would have\",\"he'll\": \"he will\",\n",
        "\"he'll've\": \"he will have\",\"how'd\": \"how did\",\"how'd'y\": \"how do you\",\"how'll\": \"how will\",\"i'd\": \"i would\",\n",
        "\"i'd've\": \"i would have\",\"i'll\": \"i will\",\"i'll've\": \"i will have\",\"i'm\": \"i am\",\"i've\": \"i have\",\n",
        "\"isn't\": \"is not\",\"it'd\": \"it would\",\"it'd've\": \"it would have\",\"it'll\": \"it will\",\"it'll've\": \"it will have\",\n",
        "\"let's\": \"let us\",\"ma'am\": \"madam\",\"mayn't\": \"may not\",\"might've\": \"might have\",\"mightn't\": \"might not\",\n",
        "\"mightn't've\": \"might not have\",\"must've\": \"must have\",\"mustn't\": \"must not\",\"mustn't've\": \"must not have\",\n",
        "\"needn't\": \"need not\",\"needn't've\": \"need not have\",\"o'clock\": \"of the clock\",\"oughtn't\": \"ought not\",\n",
        "\"oughtn't've\": \"ought not have\",\"shan't\": \"shall not\",\"sha'n't\": \"shall not\",\n",
        "\"shan't've\": \"shall not have\",\"she'd\": \"she would\",\"she'd've\": \"she would have\",\"she'll\": \"she will\",\n",
        "\"she'll've\": \"she will have\",\"should've\": \"should have\",\"shouldn't\": \"should not\",\n",
        "\"shouldn't've\": \"should not have\",\"so've\": \"so have\",\"that'd\": \"that would\",\"that'd've\": \"that would have\",\n",
        "\"there'd\": \"there would\",\"there'd've\": \"there would have\",\n",
        "\"they'd\": \"they would\",\"they'd've\": \"they would have\",\"they'll\": \"they will\",\"they'll've\": \"they will have\",\n",
        "\"they're\": \"they are\",\"they've\": \"they have\",\"to've\": \"to have\",\"wasn't\": \"was not\",\"we'd\": \"we would\",\n",
        "\"we'd've\": \"we would have\",\"we'll\": \"we will\",\"we'll've\": \"we will have\",\"we're\": \"we are\",\"we've\": \"we have\",\n",
        "\"weren't\": \"were not\",\"what'll\": \"what will\",\"what'll've\": \"what will have\",\"what're\": \"what are\",\n",
        "\"what've\": \"what have\",\"when've\": \"when have\",\"where'd\": \"where did\",\n",
        "\"where've\": \"where have\",\"who'll\": \"who will\",\"who'll've\": \"who will have\",\"who've\": \"who have\",\n",
        "\"why've\": \"why have\",\"will've\": \"will have\",\"won't\": \"will not\",\"won't've\": \"will not have\",\n",
        "\"would've\": \"would have\",\"wouldn't\": \"would not\",\"wouldn't've\": \"would not have\",\"y'all\": \"you all\",\n",
        "\"y'all'd\": \"you all would\",\"y'all'd've\": \"you all would have\",\"y'all're\": \"you all are\",\"y'all've\": \"you all have\",\n",
        "\"you'd\": \"you would\",\"you'd've\": \"you would have\",\"you'll\": \"you will\",\"you'll've\": \"you will have\",\n",
        "\"you're\": \"you are\",\"you've\": \"you have\"}\n",
        "\n",
        "# Regular expression for finding contractions\n",
        "contractions_re = re.compile('(%s)' % '|'.join(contractions_dict.keys()))\n",
        "\n",
        "def expand_contraction(text, contractions_dict = contractions_dict):\n",
        "    \n",
        "    #for anything that matches the re we defined earlier for the contraction keys, replace with the value\n",
        "    \n",
        "    def replace(match):\n",
        "        return contractions_dict[match.group(0)]\n",
        "    \n",
        "    return contractions_re.sub(replace, text)\n",
        "\n",
        "def clean_text(text):\n",
        "    \n",
        "    # make sure the text is of type str if not for some weird reason, then set to lowercase. \n",
        "    text = str(text).lower()\n",
        "    \n",
        "    #Spell check\n",
        "    #text = fixSentence(text)\n",
        "    \n",
        "    #Expand contractions\n",
        "    text = expand_contraction(text)\n",
        "    \n",
        "    #Remove links. If any text starts with either http://, https://, or www., replace it with a space\n",
        "    text = re.sub(r'https?://\\S+|www\\.\\S+', '', text)\n",
        "    \n",
        "    #Clear newline chars\n",
        "    text = re.sub('\\n', ' ', text)\n",
        "    \n",
        "    #Add spaces before and after certain punctuation so we can tokenize it. \n",
        "    #We thought about using the + chararcter after everything, but embeddings for sequences like ?! are probably better off split up\n",
        "    #We only included it for periods so we can capture elipses, which have distinct meanings from periods.\n",
        "    text = re.sub(r\"[.]+|[,;!?]\",\" \\g<0> \", text)\n",
        "    \n",
        "    #change & to and\n",
        "    text = re.sub(r\"[&]\",\" and \", text)\n",
        "    \n",
        "    #change _ to a space\n",
        "    text = re.sub(r\"[_]\",\" \", text)\n",
        "    \n",
        "    #get rid of any character not in this list\n",
        "    text = re.sub(r\"[^a-zA-Z0-9.,;!?\\s/]\",\"\", text)\n",
        "    \n",
        "    #When it comes time to vectorize, we'll exclude unwanted symbols by using a regexpTokenizer and whitelisting approved punctuation\n",
        "    #token = RegexpTokenizer(r\"[a-zA-Z0-9.,;!?]+\")\n",
        "    \n",
        "    return text"
      ],
      "execution_count": 108,
      "outputs": []
    },
    {
      "cell_type": "code",
      "metadata": {
        "colab": {
          "base_uri": "https://localhost:8080/"
        },
        "id": "boN53XxBe8Nk",
        "outputId": "f8b12f31-e24b-4743-9bf5-de5ff2c5842e"
      },
      "source": [
        "from tqdm.notebook import tqdm\n",
        "tqdm.pandas()"
      ],
      "execution_count": 109,
      "outputs": [
        {
          "output_type": "stream",
          "text": [
            "/usr/local/lib/python3.7/dist-packages/tqdm/std.py:658: FutureWarning: The Panel class is removed from pandas. Accessing it from the top-level namespace will also be removed in the next version\n",
            "  from pandas import Panel\n"
          ],
          "name": "stderr"
        }
      ]
    },
    {
      "cell_type": "code",
      "metadata": {
        "id": "9Qq9semH4Fn3"
      },
      "source": [
        "def preprocess(df, saved_name):\n",
        "    #get rid of the style and image columns, which are not very useful and rather unwieldy\n",
        "    #df.drop(['style', 'image'], axis=1, inplace =True) \n",
        "    \n",
        "    # create dask df to parallelize\n",
        "    #dask_df = dd.from_pandas(df, npartitions = 16)\n",
        "    dask_df = df\n",
        "\n",
        "    #detect gibberish. Get rid of recors that are half or more gibberish\n",
        "    print('Starting gib and spelling')\n",
        "    dask_df['reviewText'] = dask_df['reviewText'].progress_apply(detect_gib_and_fix_spell)\n",
        "    dask_df = dask_df.dropna(subset = ['reviewText'])\n",
        "    \n",
        "    #spellcheck\n",
        "\n",
        "    #dask_df['reviewText'] = dask_df['reviewText'].progress_apply(fixSentence)\n",
        "    \n",
        "    #clean_text\n",
        "    print('\\nEnding gib/spell, starting clean')\n",
        "    dask_df['reviewText'] = dask_df['reviewText'].progress_apply(lambda x: clean_text(x))\n",
        "\n",
        "    #create target variable groupings\n",
        "    #0 if negative, 1 if positive, 2 if neutral\n",
        "\n",
        "    print('\\nending clean, starting neutrality computation')\n",
        "    dask_df['pos_neg'] = dask_df['overall'].progress_apply(lambda x: 1 if x >3 else (2 if x == 3 else 0))\n",
        "    \n",
        "    #0 if neutral, 1 if extreme, 2 if non-neutral\n",
        "    dask_df['neutrality'] = dask_df['overall'].progress_apply(lambda x: 1 if x == 1 or x == 5 else (0 if x == 3 else 2))\n",
        "    \n",
        "    #get num words\n",
        "    print('\\nending neutrality, starting len')\n",
        "    token = RegexpTokenizer(r'[a-zA-Z0-9]+')\n",
        "    dask_df['num_words'] = dask_df['reviewText'].progress_apply(lambda x: len(token.tokenize(x)))\n",
        "\n",
        "    #combine title and review\n",
        "    dask_df['title_plus_review'] = dask_df['summary'] + ' ' + dask_df['reviewText']\n",
        "    \n",
        "    print('starting writing csv')\n",
        "    dask_df.to_csv(saved_name, index = False)\n",
        "    print('done')"
      ],
      "execution_count": 112,
      "outputs": []
    },
    {
      "cell_type": "code",
      "metadata": {
        "colab": {
          "base_uri": "https://localhost:8080/",
          "height": 66,
          "referenced_widgets": [
            "6d001ff269b14d168d55b33b3488900d",
            "35a78c89be1a49838b06ce6cc67feb8c",
            "b65ba1468a454ad3a85833f7230f0b44",
            "88742885d728416283eb84d8c28790df",
            "589428a6962c4cc08ad4a2d1d8dd28a0",
            "34055b2f32c946c48fdeb86eb8253018",
            "72755253967c425e98cbe76a2442bdb5",
            "b128fead561d4e06a51dd7f6bbcd8533"
          ]
        },
        "id": "YK9onEAt4Fn4",
        "outputId": "e6bf9dfb-18af-430c-f319-2d569a1ec974"
      },
      "source": [
        "preprocess(electronics_df, 'preprocessed_small_electronics.csv')\n",
        "print('electronics preprocessed')\n",
        "preprocess(allcats_df, 'preprocessed_small_allcats.csv')\n",
        "print('allcats preprocessed')"
      ],
      "execution_count": null,
      "outputs": [
        {
          "output_type": "stream",
          "text": [
            "Starting gib and spelling\n"
          ],
          "name": "stdout"
        },
        {
          "output_type": "display_data",
          "data": {
            "application/vnd.jupyter.widget-view+json": {
              "model_id": "6d001ff269b14d168d55b33b3488900d",
              "version_minor": 0,
              "version_major": 2
            },
            "text/plain": [
              "HBox(children=(FloatProgress(value=0.0, max=20000.0), HTML(value='')))"
            ]
          },
          "metadata": {
            "tags": []
          }
        }
      ]
    },
    {
      "cell_type": "code",
      "metadata": {
        "id": "ieUL4O7Zg9TH"
      },
      "source": [
        "#preprocess(allcats_df, 'preprocessed_small_allcats.csv')\n",
        "#print('allcats preprocessed')"
      ],
      "execution_count": null,
      "outputs": []
    },
    {
      "cell_type": "markdown",
      "metadata": {
        "id": "Eh2loEiV4Fn5"
      },
      "source": [
        "### Electronics manual clean"
      ]
    },
    {
      "cell_type": "code",
      "metadata": {
        "id": "9drWEEOO4Fn6"
      },
      "source": [
        "pos_text, neg_text, neut_text = create_wordcloud_text(elec, 1)"
      ],
      "execution_count": null,
      "outputs": []
    },
    {
      "cell_type": "code",
      "metadata": {
        "id": "WDhmW8LG4Fn6"
      },
      "source": [
        "poswordcloud = WordCloud(stopwords=stopwords, max_words=100, background_color=\"white\").generate(pos_text)\n",
        "plt.figure()\n",
        "plt.imshow(poswordcloud, interpolation=\"bilinear\")\n",
        "plt.axis(\"off\")\n",
        "plt.title('Most Frequent Words for Positive Reviews with 1 word')\n",
        "plt.show()"
      ],
      "execution_count": null,
      "outputs": []
    },
    {
      "cell_type": "code",
      "metadata": {
        "id": "gMHHXM_Z4Fn6"
      },
      "source": [
        "negwordcloud = WordCloud(stopwords=stopwords, max_words=100, background_color=\"white\").generate(neg_text)\n",
        "plt.figure()\n",
        "plt.imshow(negwordcloud, interpolation=\"bilinear\")\n",
        "plt.axis(\"off\")\n",
        "plt.title('Most Frequent Words for Negative Reviews with 1 word')\n",
        "plt.show()"
      ],
      "execution_count": null,
      "outputs": []
    },
    {
      "cell_type": "code",
      "metadata": {
        "id": "bqRzh7cL4Fn7"
      },
      "source": [
        "neutwordcloud = WordCloud(stopwords=stopwords, max_words=100, background_color=\"white\").generate(neut_text)\n",
        "plt.figure()\n",
        "plt.imshow(neutwordcloud, interpolation=\"bilinear\")\n",
        "plt.axis(\"off\")\n",
        "plt.title('Most Frequent Words for Neutral Reviews with 1 word')\n",
        "plt.show()"
      ],
      "execution_count": null,
      "outputs": []
    },
    {
      "cell_type": "code",
      "metadata": {
        "id": "uUL-V5Fs4Fn7"
      },
      "source": [
        "drop_indices = elec[(elec['num_words'] == 1) & (elec['reviewText'].str.contains('good')) & (elec['pos_neg'] == 0)].index\n",
        "elec.drop(drop_indices, inplace=True)\n",
        "drop_indices = elec[(elec['num_words'] == 1) & (elec['reviewText'].str.contains('great')) & (elec['pos_neg'] == 0)].index\n",
        "elec.drop(drop_indices, inplace=True)"
      ],
      "execution_count": null,
      "outputs": []
    },
    {
      "cell_type": "code",
      "metadata": {
        "id": "44hgbrp94Fn7"
      },
      "source": [
        "elec.to_csv('electronics_final_allsamples.csv')"
      ],
      "execution_count": null,
      "outputs": []
    },
    {
      "cell_type": "markdown",
      "metadata": {
        "id": "pgr7fZSH4Fn7"
      },
      "source": [
        "### Allcats manual clean"
      ]
    },
    {
      "cell_type": "code",
      "metadata": {
        "id": "1khh6muP4Fn7"
      },
      "source": [
        "pos_text, neg_text, neut_text = create_wordcloud_text(allcats, 1)"
      ],
      "execution_count": null,
      "outputs": []
    },
    {
      "cell_type": "code",
      "metadata": {
        "id": "zOIYiOId4Fn7"
      },
      "source": [
        "poswordcloud = WordCloud(stopwords=stopwords, max_words=100, background_color=\"white\").generate(pos_text)\n",
        "plt.figure()\n",
        "plt.imshow(poswordcloud, interpolation=\"bilinear\")\n",
        "plt.axis(\"off\")\n",
        "plt.title('Most Frequent Words for Positive Reviews with 1 word')\n",
        "plt.show()"
      ],
      "execution_count": null,
      "outputs": []
    },
    {
      "cell_type": "code",
      "metadata": {
        "id": "Y_Q6r2vq4Fn8"
      },
      "source": [
        "negwordcloud = WordCloud(stopwords=stopwords, max_words=100, background_color=\"white\").generate(neg_text)\n",
        "plt.figure()\n",
        "plt.imshow(negwordcloud, interpolation=\"bilinear\")\n",
        "plt.axis(\"off\")\n",
        "plt.title('Most Frequent Words for Negative Reviews with 1 word')\n",
        "plt.show()"
      ],
      "execution_count": null,
      "outputs": []
    },
    {
      "cell_type": "code",
      "metadata": {
        "id": "z7XS3FcP4Fn8"
      },
      "source": [
        "neutwordcloud = WordCloud(stopwords=stopwords, max_words=100, background_color=\"white\").generate(neut_text)\n",
        "plt.figure()\n",
        "plt.imshow(neutwordcloud, interpolation=\"bilinear\")\n",
        "plt.axis(\"off\")\n",
        "plt.title('Most Frequent Words for Neutral Reviews with 1 word')\n",
        "plt.show()"
      ],
      "execution_count": null,
      "outputs": []
    },
    {
      "cell_type": "code",
      "metadata": {
        "id": "jy-QsBuG4Fn8"
      },
      "source": [
        "drop_indices = elec[(elec['num_words'] == 1) & (elec['reviewText'].str.contains('good')) & (elec['pos_neg'] == 0)].index\n",
        "allcats.drop(drop_indices, inplace=True)\n",
        "drop_indices = elec[(elec['num_words'] == 1) & (elec['reviewText'].str.contains('great')) & (elec['pos_neg'] == 0)].index\n",
        "allcats.drop(drop_indices, inplace=True)"
      ],
      "execution_count": null,
      "outputs": []
    },
    {
      "cell_type": "code",
      "metadata": {
        "id": "epNvq7zj4Fn8"
      },
      "source": [
        "allcats.to_csv('allcats_final_allsamples.csv')"
      ],
      "execution_count": null,
      "outputs": []
    },
    {
      "cell_type": "markdown",
      "metadata": {
        "id": "vLBGIZlS4Fn8"
      },
      "source": [
        "# Downsampling"
      ]
    },
    {
      "cell_type": "code",
      "metadata": {
        "id": "p2bDc3HD4Fn8"
      },
      "source": [
        "def downsample_posneg_binary(df, save_path)\n",
        "    drop_indices = df[df['pos_neg'] == 2].index\n",
        "    df_posneg = df.drop(drop_indices, inplace = False)\n",
        "    \n",
        "    under_pn = RandomUnderSampler(sampling_strategy= 1 )\n",
        "    x = df_posneg.drop(['overall', 'pos_neg', 'neutrality'], axis=1)\n",
        "    y = df_posneg['pos_neg']\n",
        "\n",
        "    x_under, y_under = under_pn.fit_resample(x, y)\n",
        "    print(Counter(y_under))\n",
        "\n",
        "    downsampled_pn_bin = x_under.join(y_under)\n",
        "    downsampled_pn_bin.to_csv(save_path)"
      ],
      "execution_count": null,
      "outputs": []
    },
    {
      "cell_type": "code",
      "metadata": {
        "id": "rWpFvhQC4Fn9"
      },
      "source": [
        "downsample_posneg_binary(elec, 'electronics_final_20000samples.csv')\n",
        "downsample_posneg_binary(elec, 'allcats_final_20000samples.csv')"
      ],
      "execution_count": null,
      "outputs": []
    }
  ]
}
