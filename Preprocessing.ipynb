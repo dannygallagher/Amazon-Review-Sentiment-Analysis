{
 "cells": [
  {
   "cell_type": "code",
   "execution_count": null,
   "metadata": {},
   "outputs": [],
   "source": [
    "!apt install -qq enchant\n",
    "!pip install pyenchant\n",
    "!pip install wordcloud\n",
    "!pip install imblearn"
   ]
  },
  {
   "cell_type": "code",
   "execution_count": null,
   "metadata": {},
   "outputs": [],
   "source": [
    "import pandas as pd\n",
    "import gzip\n",
    "import json\n",
    "import numpy as np\n",
    "import regex as re\n",
    "import matplotlib.pyplot as plt\n",
    "import seaborn as sns\n",
    "import dask \n",
    "import dask.dataframe as dd\n",
    "import imblearn\n",
    "from collections import Counter\n",
    "\n",
    "import os\n",
    "import sys\n",
    "import math\n",
    "import time\n",
    "import nltk\n",
    "import torch\n",
    "import random\n",
    "import string\n",
    "import unidecode\n",
    "import collections\n",
    "\n",
    "import numpy as np\n",
    "import pandas as pd\n",
    "import matplotlib.cm as cm\n",
    "import matplotlib.pyplot as plt\n",
    "import matplotlib.ticker as ticker\n",
    "\n",
    "from sklearn.model_selection import train_test_split\n",
    "\n",
    "import imblearn\n",
    "from imblearn.under_sampling import RandomUnderSampler\n",
    "\n",
    "from collections import Counter\n",
    "from sklearn.feature_extraction.text import CountVectorizer\n",
    "from nltk.tokenize import RegexpTokenizer\n",
    "from nltk.corpus import stopwords\n",
    "from nltk.tokenize import word_tokenize\n",
    "\n",
    "import enchant\n",
    "from enchant.checker import SpellChecker\n",
    "\n",
    "from autocorrect import Speller\n",
    "import dask\n",
    "import dask.dataframe as dd\n",
    "\n",
    "import time\n",
    "\n",
    "%matplotlib inline"
   ]
  },
  {
   "cell_type": "code",
   "execution_count": null,
   "metadata": {},
   "outputs": [],
   "source": [
    "# read electronics from json.gz\n",
    "def parse(path):\n",
    "    g = gzip.open(path, 'rb')\n",
    "    for l in g:\n",
    "        yield json.loads(l)\n",
    "\n",
    "def getDF(path):\n",
    "    i = 0\n",
    "    df = {}\n",
    "    for d in parse(path):\n",
    "        df[i] = d\n",
    "        i += 1\n",
    "    return pd.DataFrame.from_dict(df, orient='index')\n",
    "\n",
    "elec = getDF('Electronics_5_2018.json.gz')\n",
    "\n",
    "#We don't have much use for any records without reviews\n",
    "elec = elec[elec['reviewText'].notna()]"
   ]
  },
  {
   "cell_type": "code",
   "execution_count": null,
   "metadata": {},
   "outputs": [],
   "source": [
    "# Read all_category data\n",
    "allcats = pd.read_csv('all_cats.csv')"
   ]
  },
  {
   "cell_type": "code",
   "execution_count": null,
   "metadata": {},
   "outputs": [],
   "source": [
    "def detect_gib(sentence):\n",
    "    len_sent = len(sentence.split())\n",
    "    chkr = SpellChecker(\"en_US\")\n",
    "\n",
    "    chkr.set_text(sentence)\n",
    "    num_errors = 0\n",
    "    for err in chkr:\n",
    "        num_errors = num_errors + 1\n",
    "    if num_errors > len_sent / 2:\n",
    "        return None\n",
    "    else:\n",
    "        return sentence\n",
    "\n",
    "\n",
    "#spellcheck\n",
    "\n",
    "check = Speller(lang = 'en')\n",
    "\n",
    "def fixSentence(sentence):\n",
    "    return check(sentence)\n",
    "\n",
    "\n",
    "\n",
    "\n",
    "\n",
    "#Create a dictionary of english contractions and their expanded forms.\n",
    "contractions_dict = { \"ain't\": \"are not\",\"'s\":\" is\",\"aren't\": \"are not\",\"can't\": \"can not\",\"can't've\": \"cannot have\",\n",
    "\"'cause\": \"because\",\"could've\": \"could have\",\"couldn't\": \"could not\",\"couldn't've\": \"could not have\",\n",
    "\"didn't\": \"did not\",\"doesn't\": \"does not\",\"don't\": \"do not\",\"hadn't\": \"had not\",\"hadn't've\": \"had not have\",\n",
    "\"hasn't\": \"has not\",\"haven't\": \"have not\",\"he'd\": \"he would\",\"he'd've\": \"he would have\",\"he'll\": \"he will\",\n",
    "\"he'll've\": \"he will have\",\"how'd\": \"how did\",\"how'd'y\": \"how do you\",\"how'll\": \"how will\",\"i'd\": \"i would\",\n",
    "\"i'd've\": \"i would have\",\"i'll\": \"i will\",\"i'll've\": \"i will have\",\"i'm\": \"i am\",\"i've\": \"i have\",\n",
    "\"isn't\": \"is not\",\"it'd\": \"it would\",\"it'd've\": \"it would have\",\"it'll\": \"it will\",\"it'll've\": \"it will have\",\n",
    "\"let's\": \"let us\",\"ma'am\": \"madam\",\"mayn't\": \"may not\",\"might've\": \"might have\",\"mightn't\": \"might not\",\n",
    "\"mightn't've\": \"might not have\",\"must've\": \"must have\",\"mustn't\": \"must not\",\"mustn't've\": \"must not have\",\n",
    "\"needn't\": \"need not\",\"needn't've\": \"need not have\",\"o'clock\": \"of the clock\",\"oughtn't\": \"ought not\",\n",
    "\"oughtn't've\": \"ought not have\",\"shan't\": \"shall not\",\"sha'n't\": \"shall not\",\n",
    "\"shan't've\": \"shall not have\",\"she'd\": \"she would\",\"she'd've\": \"she would have\",\"she'll\": \"she will\",\n",
    "\"she'll've\": \"she will have\",\"should've\": \"should have\",\"shouldn't\": \"should not\",\n",
    "\"shouldn't've\": \"should not have\",\"so've\": \"so have\",\"that'd\": \"that would\",\"that'd've\": \"that would have\",\n",
    "\"there'd\": \"there would\",\"there'd've\": \"there would have\",\n",
    "\"they'd\": \"they would\",\"they'd've\": \"they would have\",\"they'll\": \"they will\",\"they'll've\": \"they will have\",\n",
    "\"they're\": \"they are\",\"they've\": \"they have\",\"to've\": \"to have\",\"wasn't\": \"was not\",\"we'd\": \"we would\",\n",
    "\"we'd've\": \"we would have\",\"we'll\": \"we will\",\"we'll've\": \"we will have\",\"we're\": \"we are\",\"we've\": \"we have\",\n",
    "\"weren't\": \"were not\",\"what'll\": \"what will\",\"what'll've\": \"what will have\",\"what're\": \"what are\",\n",
    "\"what've\": \"what have\",\"when've\": \"when have\",\"where'd\": \"where did\",\n",
    "\"where've\": \"where have\",\"who'll\": \"who will\",\"who'll've\": \"who will have\",\"who've\": \"who have\",\n",
    "\"why've\": \"why have\",\"will've\": \"will have\",\"won't\": \"will not\",\"won't've\": \"will not have\",\n",
    "\"would've\": \"would have\",\"wouldn't\": \"would not\",\"wouldn't've\": \"would not have\",\"y'all\": \"you all\",\n",
    "\"y'all'd\": \"you all would\",\"y'all'd've\": \"you all would have\",\"y'all're\": \"you all are\",\"y'all've\": \"you all have\",\n",
    "\"you'd\": \"you would\",\"you'd've\": \"you would have\",\"you'll\": \"you will\",\"you'll've\": \"you will have\",\n",
    "\"you're\": \"you are\",\"you've\": \"you have\"}\n",
    "\n",
    "# Regular expression for finding contractions\n",
    "contractions_re = re.compile('(%s)' % '|'.join(contractions_dict.keys()))\n",
    "\n",
    "def expand_contraction(text, contractions_dict = contractions_dict):\n",
    "    \n",
    "    #for anything that matches the re we defined earlier for the contraction keys, replace with the value\n",
    "    \n",
    "    def replace(match):\n",
    "        return contractions_dict[match.group(0)]\n",
    "    \n",
    "    return contractions_re.sub(replace, text)\n",
    "\n",
    "def clean_text(text):\n",
    "    \n",
    "    # make sure the text is of type str if not for some weird reason, then set to lowercase. \n",
    "    text = str(text).lower()\n",
    "    \n",
    "    #Spell check\n",
    "    #text = fixSentence(text)\n",
    "    \n",
    "    #Expand contractions\n",
    "    text = expand_contraction(text)\n",
    "    \n",
    "    #Remove links. If any text starts with either http://, https://, or www., replace it with a space\n",
    "    text = re.sub(r'https?://\\S+|www\\.\\S+', '', text)\n",
    "    \n",
    "    #Clear newline chars\n",
    "    text = re.sub('\\n', ' ', text)\n",
    "    \n",
    "    #Add spaces before and after certain punctuation so we can tokenize it. \n",
    "    #We thought about using the + chararcter after everything, but embeddings for sequences like ?! are probably better off split up\n",
    "    #We only included it for periods so we can capture elipses, which have distinct meanings from periods.\n",
    "    text = re.sub(r\"[.]+|[,;!?]\",\" \\g<0> \", text)\n",
    "    \n",
    "    #change & to and\n",
    "    text = re.sub(r\"[&]\",\" and \", text)\n",
    "    \n",
    "    #change _ to a space\n",
    "    text = re.sub(r\"[_]\",\" \", text)\n",
    "    \n",
    "    #get rid of any character not in this list\n",
    "    text = re.sub(r\"[^a-zA-Z0-9.,;!?\\s/]\",\"\", text)\n",
    "    \n",
    "    #When it comes time to vectorize, we'll exclude unwanted symbols by using a regexpTokenizer and whitelisting approved punctuation\n",
    "    #token = RegexpTokenizer(r\"[a-zA-Z0-9.,;!?]+\")\n",
    "    \n",
    "    return text"
   ]
  },
  {
   "cell_type": "code",
   "execution_count": null,
   "metadata": {},
   "outputs": [],
   "source": [
    "def preprocess(df, saved_name):\n",
    "    #get rid of the style and image columns, which are not very useful and rather unwieldy\n",
    "    df.drop(['style', 'image'], axis=1, inplace =True) \n",
    "    \n",
    "    # create dask df to parallelize\n",
    "    dask_df = dd.from_pandas(df, npartitions = 16)\n",
    "    \n",
    "    #detect gibberish. Get rid of recors that are half or more gibberish\n",
    "    dask_df['reviewText'] = dask_df['reviewText'].apply(detect_gib, meta = ('reviewText', 'string'))\n",
    "    dask_df = dask_df.dropna(subset ='reviewText')\n",
    "    \n",
    "    #spellcheck\n",
    "    dask_df['reviewText'] = dask_df['reviewText'].apply(fixSentence, meta = ('reviewText', 'string'))\n",
    "    \n",
    "    #clean_text\n",
    "    dask_df['reviewText'] = dask_df['reviewText'].apply(lambda x: clean_text(x))\n",
    "\n",
    "    #create target variable groupings\n",
    "    #0 if negative, 1 if positive, 2 if neutral\n",
    "    dask_df['pos_neg'] = dask_df['overall'].apply(lambda x: 1 if x >3 else (2 if x == 3 else 0))\n",
    "    \n",
    "    #0 if neutral, 1 if extreme, 2 if non-neutral\n",
    "    dask_df['neutrality'] = dask_df['overall'].apply(lambda x: 1 if x == 1 or x == 5 else (0 if x == 3 else 2))\n",
    "    \n",
    "    #get num words\n",
    "    token = RegexpTokenizer(r'[a-zA-Z0-9]+')\n",
    "    dask_df['num_words'] = dask_df['reviewText'].apply(lambda x: len(token.tokenize(x)))\n",
    "\n",
    "    \n",
    "    dask_df = dask_df.compute()\n",
    "    \n",
    "    dd.to_csv(dask_df, saved_name, single_file = True)\n"
   ]
  },
  {
   "cell_type": "code",
   "execution_count": null,
   "metadata": {},
   "outputs": [],
   "source": [
    "preprocess(elec, 'preprocessed_electronics.csv')\n",
    "print('electronics preprocessed')\n",
    "preprocess(allcats, 'preprocessed_allcats.csv')\n",
    "print('allcats preprocessed')"
   ]
  },
  {
   "cell_type": "code",
   "execution_count": null,
   "metadata": {},
   "outputs": [],
   "source": [
    "elec = pd.read_csv('preprocessed_electronics.csv')\n",
    "allcats = pd.read_csv('preprocessed_allcats.csv')"
   ]
  },
  {
   "cell_type": "code",
   "execution_count": null,
   "metadata": {},
   "outputs": [],
   "source": [
    "from PIL import Image\n",
    "from wordcloud import WordCloud, STOPWORDS, ImageColorGenerator"
   ]
  },
  {
   "cell_type": "code",
   "execution_count": null,
   "metadata": {},
   "outputs": [],
   "source": [
    "def create_wordcloud_text(df, num_review_words):\n",
    "    df = df[el_clean['num_words'] <= num_review_words]\n",
    "    \n",
    "    df_positive = df.loc[df['pos_neg'] == 1]\n",
    "    df_negative = df.loc[df['pos_neg'] == 0]\n",
    "    df_neutral = df.loc[df['pos_neg'] == 2]\n",
    "\n",
    "    pos_text = \" \".join(review for review in df_positive['reviewText'].astype(str))\n",
    "    neg_text = \" \".join(review for review in df_negative['reviewText'].astype(str))\n",
    "    neut_text = \" \".join(review for review in df_neutral['reviewText'].astype(str))\n",
    "\n",
    "    return pos_text, neg_text, neut_text\n",
    "    \n",
    "stopwords = set(STOPWORDS)\n"
   ]
  },
  {
   "cell_type": "markdown",
   "metadata": {},
   "source": [
    "### Electronics manual clean"
   ]
  },
  {
   "cell_type": "code",
   "execution_count": null,
   "metadata": {},
   "outputs": [],
   "source": [
    "pos_text, neg_text, neut_text = create_wordcloud_text(elec, 1)"
   ]
  },
  {
   "cell_type": "code",
   "execution_count": null,
   "metadata": {},
   "outputs": [],
   "source": [
    "poswordcloud = WordCloud(stopwords=stopwords, max_words=100, background_color=\"white\").generate(pos_text)\n",
    "plt.figure()\n",
    "plt.imshow(poswordcloud, interpolation=\"bilinear\")\n",
    "plt.axis(\"off\")\n",
    "plt.title('Most Frequent Words for Positive Reviews with 1 word')\n",
    "plt.show()"
   ]
  },
  {
   "cell_type": "code",
   "execution_count": null,
   "metadata": {},
   "outputs": [],
   "source": [
    "negwordcloud = WordCloud(stopwords=stopwords, max_words=100, background_color=\"white\").generate(neg_text)\n",
    "plt.figure()\n",
    "plt.imshow(negwordcloud, interpolation=\"bilinear\")\n",
    "plt.axis(\"off\")\n",
    "plt.title('Most Frequent Words for Negative Reviews with 1 word')\n",
    "plt.show()"
   ]
  },
  {
   "cell_type": "code",
   "execution_count": null,
   "metadata": {},
   "outputs": [],
   "source": [
    "neutwordcloud = WordCloud(stopwords=stopwords, max_words=100, background_color=\"white\").generate(neut_text)\n",
    "plt.figure()\n",
    "plt.imshow(neutwordcloud, interpolation=\"bilinear\")\n",
    "plt.axis(\"off\")\n",
    "plt.title('Most Frequent Words for Neutral Reviews with 1 word')\n",
    "plt.show()"
   ]
  },
  {
   "cell_type": "code",
   "execution_count": null,
   "metadata": {},
   "outputs": [],
   "source": [
    "drop_indices = elec[(elec['num_words'] == 1) & (elec['reviewText'].str.contains('good')) & (elec['pos_neg'] == 0)].index\n",
    "elec.drop(drop_indices, inplace=True)\n",
    "drop_indices = elec[(elec['num_words'] == 1) & (elec['reviewText'].str.contains('great')) & (elec['pos_neg'] == 0)].index\n",
    "elec.drop(drop_indices, inplace=True)"
   ]
  },
  {
   "cell_type": "code",
   "execution_count": null,
   "metadata": {},
   "outputs": [],
   "source": [
    "elec.to_csv('electronics_final_allsamples.csv')"
   ]
  },
  {
   "cell_type": "markdown",
   "metadata": {},
   "source": [
    "### Allcats manual clean"
   ]
  },
  {
   "cell_type": "code",
   "execution_count": null,
   "metadata": {},
   "outputs": [],
   "source": [
    "pos_text, neg_text, neut_text = create_wordcloud_text(allcats, 1)"
   ]
  },
  {
   "cell_type": "code",
   "execution_count": null,
   "metadata": {},
   "outputs": [],
   "source": [
    "poswordcloud = WordCloud(stopwords=stopwords, max_words=100, background_color=\"white\").generate(pos_text)\n",
    "plt.figure()\n",
    "plt.imshow(poswordcloud, interpolation=\"bilinear\")\n",
    "plt.axis(\"off\")\n",
    "plt.title('Most Frequent Words for Positive Reviews with 1 word')\n",
    "plt.show()"
   ]
  },
  {
   "cell_type": "code",
   "execution_count": null,
   "metadata": {},
   "outputs": [],
   "source": [
    "negwordcloud = WordCloud(stopwords=stopwords, max_words=100, background_color=\"white\").generate(neg_text)\n",
    "plt.figure()\n",
    "plt.imshow(negwordcloud, interpolation=\"bilinear\")\n",
    "plt.axis(\"off\")\n",
    "plt.title('Most Frequent Words for Negative Reviews with 1 word')\n",
    "plt.show()"
   ]
  },
  {
   "cell_type": "code",
   "execution_count": null,
   "metadata": {},
   "outputs": [],
   "source": [
    "neutwordcloud = WordCloud(stopwords=stopwords, max_words=100, background_color=\"white\").generate(neut_text)\n",
    "plt.figure()\n",
    "plt.imshow(neutwordcloud, interpolation=\"bilinear\")\n",
    "plt.axis(\"off\")\n",
    "plt.title('Most Frequent Words for Neutral Reviews with 1 word')\n",
    "plt.show()"
   ]
  },
  {
   "cell_type": "code",
   "execution_count": null,
   "metadata": {},
   "outputs": [],
   "source": [
    "drop_indices = elec[(elec['num_words'] == 1) & (elec['reviewText'].str.contains('good')) & (elec['pos_neg'] == 0)].index\n",
    "allcats.drop(drop_indices, inplace=True)\n",
    "drop_indices = elec[(elec['num_words'] == 1) & (elec['reviewText'].str.contains('great')) & (elec['pos_neg'] == 0)].index\n",
    "allcats.drop(drop_indices, inplace=True)"
   ]
  },
  {
   "cell_type": "code",
   "execution_count": null,
   "metadata": {},
   "outputs": [],
   "source": [
    "allcats.to_csv('allcats_final_allsamples.csv')"
   ]
  },
  {
   "cell_type": "markdown",
   "metadata": {},
   "source": [
    "# Downsampling"
   ]
  },
  {
   "cell_type": "code",
   "execution_count": null,
   "metadata": {},
   "outputs": [],
   "source": [
    "def downsample_posneg_binary(df, save_path)\n",
    "    drop_indices = df[df['pos_neg'] == 2].index\n",
    "    df_posneg = df.drop(drop_indices, inplace = False)\n",
    "    \n",
    "    under_pn = RandomUnderSampler(sampling_strategy= 1 )\n",
    "    x = df_posneg.drop(['overall', 'pos_neg', 'neutrality'], axis=1)\n",
    "    y = df_posneg['pos_neg']\n",
    "\n",
    "    x_under, y_under = under_pn.fit_resample(x, y)\n",
    "    print(Counter(y_under))\n",
    "\n",
    "    downsampled_pn_bin = x_under.join(y_under)\n",
    "    downsampled_pn_bin.to_csv(save_path)"
   ]
  },
  {
   "cell_type": "code",
   "execution_count": null,
   "metadata": {},
   "outputs": [],
   "source": [
    "downsample_posneg_binary(elec, 'electronics_final_20000samples.csv')\n",
    "downsample_posneg_binary(elec, 'allcats_final_20000samples.csv')"
   ]
  }
 ],
 "metadata": {
  "kernelspec": {
   "display_name": "Python 3",
   "language": "python",
   "name": "python3"
  },
  "language_info": {
   "codemirror_mode": {
    "name": "ipython",
    "version": 3
   },
   "file_extension": ".py",
   "mimetype": "text/x-python",
   "name": "python",
   "nbconvert_exporter": "python",
   "pygments_lexer": "ipython3",
   "version": "3.7.1"
  }
 },
 "nbformat": 4,
 "nbformat_minor": 4
}
